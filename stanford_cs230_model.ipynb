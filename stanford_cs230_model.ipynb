{
 "cells": [
  {
   "cell_type": "markdown",
   "id": "347520df11b3027e",
   "metadata": {
    "collapsed": false
   },
   "source": []
  },
  {
   "cell_type": "code",
   "execution_count": 1,
   "id": "16fcb8704f34334f",
   "metadata": {
    "ExecuteTime": {
     "end_time": "2023-10-16T14:37:13.923216Z",
     "start_time": "2023-10-16T14:37:13.814857Z"
    },
    "collapsed": false
   },
   "outputs": [],
   "source": [
    "import random\n",
    "import os\n",
    "import numpy as np\n",
    "import torch\n",
    "import torch.nn as nn\n",
    "import torch.nn.functional as F\n",
    "import torch.optim as optim\n",
    "from tqdm import trange\n",
    "from torch.autograd import Variable"
   ]
  },
  {
   "cell_type": "code",
   "execution_count": 2,
   "id": "initial_id",
   "metadata": {
    "ExecuteTime": {
     "end_time": "2023-10-16T14:37:13.990985Z",
     "start_time": "2023-10-16T14:37:13.822618Z"
    },
    "collapsed": true
   },
   "outputs": [
    {
     "data": {
      "text/plain": [
       "{'Thousands': 0,\n",
       " 'of': 1,\n",
       " 'demonstrators': 2,\n",
       " 'have': 3,\n",
       " 'marched': 4,\n",
       " 'through': 5,\n",
       " 'London': 6,\n",
       " 'to': 7,\n",
       " 'protest': 8,\n",
       " 'the': 9,\n",
       " 'war': 10,\n",
       " 'in': 11,\n",
       " 'Iraq': 12,\n",
       " 'and': 13,\n",
       " 'demand': 14,\n",
       " 'withdrawal': 15,\n",
       " 'British': 16,\n",
       " 'troops': 17,\n",
       " 'from': 18,\n",
       " 'that': 19,\n",
       " 'country': 20,\n",
       " '.': 21,\n",
       " 'Families': 22,\n",
       " 'soldiers': 23,\n",
       " 'killed': 24,\n",
       " 'conflict': 25,\n",
       " 'joined': 26,\n",
       " 'protesters': 27,\n",
       " 'who': 28,\n",
       " 'carried': 29,\n",
       " 'banners': 30,\n",
       " 'with': 31,\n",
       " 'such': 32,\n",
       " 'slogans': 33,\n",
       " 'as': 34,\n",
       " '\"': 35,\n",
       " 'Bush': 36,\n",
       " 'Number': 37,\n",
       " 'One': 38,\n",
       " 'Terrorist': 39,\n",
       " 'Stop': 40,\n",
       " 'Bombings': 41,\n",
       " 'They': 42,\n",
       " 'Houses': 43,\n",
       " 'Parliament': 44,\n",
       " 'a': 45,\n",
       " 'rally': 46,\n",
       " 'Hyde': 47,\n",
       " 'Park': 48,\n",
       " 'Police': 49,\n",
       " 'put': 50,\n",
       " 'number': 51,\n",
       " 'marchers': 52,\n",
       " 'at': 53,\n",
       " '10,000': 54,\n",
       " 'while': 55,\n",
       " 'organizers': 56,\n",
       " 'claimed': 57,\n",
       " 'it': 58,\n",
       " 'was': 59,\n",
       " '1,00,000': 60,\n",
       " 'The': 61,\n",
       " 'comes': 62,\n",
       " 'on': 63,\n",
       " 'eve': 64,\n",
       " 'annual': 65,\n",
       " 'conference': 66,\n",
       " 'Britain': 67,\n",
       " \"'s\": 68,\n",
       " 'ruling': 69,\n",
       " 'Labor': 70,\n",
       " 'Party': 71,\n",
       " 'southern': 72,\n",
       " 'English': 73,\n",
       " 'seaside': 74,\n",
       " 'resort': 75,\n",
       " 'Brighton': 76,\n",
       " 'party': 77,\n",
       " 'is': 78,\n",
       " 'divided': 79,\n",
       " 'over': 80,\n",
       " 'participation': 81,\n",
       " 'continued': 82,\n",
       " 'deployment': 83,\n",
       " '8,500': 84,\n",
       " 'march': 85,\n",
       " 'came': 86,\n",
       " 'ahead': 87,\n",
       " 'anti-war': 88,\n",
       " 'protests': 89,\n",
       " 'today': 90,\n",
       " 'other': 91,\n",
       " 'cities': 92,\n",
       " ',': 93,\n",
       " 'including': 94,\n",
       " 'Rome': 95,\n",
       " 'Paris': 96,\n",
       " 'Madrid': 97,\n",
       " 'International': 98,\n",
       " 'Atomic': 99,\n",
       " 'Energy': 100,\n",
       " 'Agency': 101,\n",
       " 'hold': 102,\n",
       " 'second': 103,\n",
       " 'day': 104,\n",
       " 'talks': 105,\n",
       " 'Vienna': 106,\n",
       " 'Wednesday': 107,\n",
       " 'how': 108,\n",
       " 'respond': 109,\n",
       " 'Iran': 110,\n",
       " 'resumption': 111,\n",
       " 'low-level': 112,\n",
       " 'uranium': 113,\n",
       " 'conversion': 114,\n",
       " 'this': 115,\n",
       " 'week': 116,\n",
       " 'restarted': 117,\n",
       " 'parts': 118,\n",
       " 'process': 119,\n",
       " 'its': 120,\n",
       " 'Isfahan': 121,\n",
       " 'nuclear': 122,\n",
       " 'plant': 123,\n",
       " 'Iranian': 124,\n",
       " 'officials': 125,\n",
       " 'say': 126,\n",
       " 'they': 127,\n",
       " 'expect': 128,\n",
       " 'get': 129,\n",
       " 'access': 130,\n",
       " 'sealed': 131,\n",
       " 'sensitive': 132,\n",
       " 'after': 133,\n",
       " 'an': 134,\n",
       " 'IAEA': 135,\n",
       " 'surveillance': 136,\n",
       " 'system': 137,\n",
       " 'begins': 138,\n",
       " 'functioning': 139,\n",
       " 'Mr.': 140,\n",
       " 'Nour': 141,\n",
       " 'arrested': 142,\n",
       " 'January': 143,\n",
       " 'spent': 144,\n",
       " 'six': 145,\n",
       " 'weeks': 146,\n",
       " 'Cairo': 147,\n",
       " 'jail': 148,\n",
       " 'before': 149,\n",
       " 'his': 150,\n",
       " 'release': 151,\n",
       " 'bond': 152,\n",
       " 'last': 153,\n",
       " 'In': 154,\n",
       " 'letter': 155,\n",
       " 'Egyptian': 156,\n",
       " 'President': 157,\n",
       " 'Hosni': 158,\n",
       " 'Mubarak': 159,\n",
       " 'New': 160,\n",
       " 'York-based': 161,\n",
       " 'Human': 162,\n",
       " 'Rights': 163,\n",
       " 'Watch': 164,\n",
       " 'said': 165,\n",
       " 'dismayed': 166,\n",
       " 'by': 167,\n",
       " 'what': 168,\n",
       " 'called': 169,\n",
       " 'radical': 170,\n",
       " 'intolerance': 171,\n",
       " 'toward': 172,\n",
       " 'political': 173,\n",
       " 'dissent': 174,\n",
       " 'U.S.': 175,\n",
       " 'State': 176,\n",
       " 'Department': 177,\n",
       " 'European': 178,\n",
       " 'parliament': 179,\n",
       " 'also': 180,\n",
       " 'voiced': 181,\n",
       " 'concern': 182,\n",
       " 'Pakistani': 183,\n",
       " 'military': 184,\n",
       " '14': 185,\n",
       " 'about': 186,\n",
       " '40': 187,\n",
       " 'went': 188,\n",
       " 'missing': 189,\n",
       " 'following': 190,\n",
       " 'attack': 191,\n",
       " 'security': 192,\n",
       " 'checkpoint': 193,\n",
       " 'been': 194,\n",
       " 'found': 195,\n",
       " 'neighboring': 196,\n",
       " 'Afghanistan': 197,\n",
       " 'Officials': 198,\n",
       " 'Frontier': 199,\n",
       " 'Corps': 200,\n",
       " 'paramilitary': 201,\n",
       " 'disappeared': 202,\n",
       " 'Mohmand': 203,\n",
       " 'tribal': 204,\n",
       " 'region': 205,\n",
       " 'Taliban': 206,\n",
       " 'insurgent': 207,\n",
       " 'along': 208,\n",
       " 'Afghan': 209,\n",
       " 'border': 210,\n",
       " 'earlier': 211,\n",
       " 'Military': 212,\n",
       " 'spokesman': 213,\n",
       " 'Major': 214,\n",
       " 'General': 215,\n",
       " 'Athar': 216,\n",
       " 'Abbas': 217,\n",
       " 'told': 218,\n",
       " 'reporters': 219,\n",
       " 'Thursday': 220,\n",
       " 'authorities': 221,\n",
       " 'handed': 222,\n",
       " 'consulate': 223,\n",
       " 'Jalalabad': 224,\n",
       " 'were': 225,\n",
       " 'being': 226,\n",
       " 'flown': 227,\n",
       " 'back': 228,\n",
       " 'Pakistan': 229,\n",
       " 'militants': 230,\n",
       " 'captured': 231,\n",
       " '10': 232,\n",
       " 'during': 233,\n",
       " 'post': 234,\n",
       " 'but': 235,\n",
       " 'could': 236,\n",
       " 'not': 237,\n",
       " 'verify': 238,\n",
       " 'claim': 239,\n",
       " 'On': 240,\n",
       " 'least': 241,\n",
       " '36': 242,\n",
       " 'fighting': 243,\n",
       " 'Bajaur': 244,\n",
       " 'has': 245,\n",
       " 'twice': 246,\n",
       " 'declared': 247,\n",
       " 'victory': 248,\n",
       " 'there': 249,\n",
       " 'offensives': 250,\n",
       " 'aimed': 251,\n",
       " 'clearing': 252,\n",
       " 'area': 253,\n",
       " 'insurgents': 254,\n",
       " 'linked': 255,\n",
       " 'al-Qaida': 256,\n",
       " 'Thailand': 257,\n",
       " 'named': 258,\n",
       " 'committee': 259,\n",
       " 'begin': 260,\n",
       " 'writing': 261,\n",
       " 'new': 262,\n",
       " 'constitution': 263,\n",
       " 'coup': 264,\n",
       " 'month': 265,\n",
       " 'At': 266,\n",
       " 'Group': 267,\n",
       " 'Eight': 268,\n",
       " 'summit': 269,\n",
       " 'Scotland': 270,\n",
       " 'Japanese': 271,\n",
       " 'Prime': 272,\n",
       " 'Minister': 273,\n",
       " 'Junichiro': 274,\n",
       " 'Koizumi': 275,\n",
       " 'he': 276,\n",
       " 'outraged': 277,\n",
       " 'attacks': 278,\n",
       " 'He': 279,\n",
       " 'noted': 280,\n",
       " 'terrorist': 281,\n",
       " 'acts': 282,\n",
       " 'must': 283,\n",
       " 'be': 284,\n",
       " 'forgivable': 285,\n",
       " 'Sarin': 286,\n",
       " 'gas': 287,\n",
       " 'Tokyo': 288,\n",
       " 'subway': 289,\n",
       " '1995': 290,\n",
       " '12': 291,\n",
       " 'people': 292,\n",
       " 'injured': 293,\n",
       " 'thousands': 294,\n",
       " 'A': 295,\n",
       " 'human': 296,\n",
       " 'rights': 297,\n",
       " 'group': 298,\n",
       " 'Asian': 299,\n",
       " 'leaders': 300,\n",
       " 'increase': 301,\n",
       " 'pressure': 302,\n",
       " 'Burma': 303,\n",
       " 'hasten': 304,\n",
       " 'democratic': 305,\n",
       " 'reforms': 306,\n",
       " 'stop': 307,\n",
       " 'abuses': 308,\n",
       " 'Alternative': 309,\n",
       " 'ASEAN': 310,\n",
       " 'Network': 311,\n",
       " 'for': 312,\n",
       " 'Association': 313,\n",
       " 'Southeast': 314,\n",
       " 'Nations': 315,\n",
       " 'meeting': 316,\n",
       " 'should': 317,\n",
       " 'consider': 318,\n",
       " 'options': 319,\n",
       " 'dealing': 320,\n",
       " 'It': 321,\n",
       " 'supporting': 322,\n",
       " 'possible': 323,\n",
       " 'resolution': 324,\n",
       " 'United': 325,\n",
       " 'Security': 326,\n",
       " 'Council': 327,\n",
       " 'urged': 328,\n",
       " 'acknowledge': 329,\n",
       " 'many': 330,\n",
       " 'problems': 331,\n",
       " 'caused': 332,\n",
       " 'regime': 333,\n",
       " 'accuses': 334,\n",
       " 'government': 335,\n",
       " 'involvement': 336,\n",
       " 'illegal': 337,\n",
       " 'drug': 338,\n",
       " 'trafficking': 339,\n",
       " 'especially': 340,\n",
       " 'against': 341,\n",
       " 'some': 342,\n",
       " 'ethnic': 343,\n",
       " 'groups': 344,\n",
       " 'Iraqi': 345,\n",
       " 'gunmen': 346,\n",
       " 'member': 347,\n",
       " 'secular': 348,\n",
       " 'coalition': 349,\n",
       " 'led': 350,\n",
       " 'former': 351,\n",
       " 'prime': 352,\n",
       " 'minister': 353,\n",
       " 'Ayad': 354,\n",
       " 'Allawi': 355,\n",
       " 'Faras': 356,\n",
       " 'al-Jabouri': 357,\n",
       " 'shot': 358,\n",
       " 'Saturday': 359,\n",
       " 'raided': 360,\n",
       " 'home': 361,\n",
       " 'near': 362,\n",
       " 'northern': 363,\n",
       " 'city': 364,\n",
       " 'Mosul': 365,\n",
       " '<pad>': 366,\n",
       " 'UNK': 367}"
      ]
     },
     "execution_count": 2,
     "metadata": {},
     "output_type": "execute_result"
    }
   ],
   "source": [
    "# words_path = \"stanford_cs230_medium_data/words.txt\"\n",
    "words_path = \"stanford_cs230_small_data/words.txt\"\n",
    "vocab = {}\n",
    "with open(words_path, encoding=\"utf-8\") as f:\n",
    "    for i, l in enumerate(f.read().splitlines()):\n",
    "        vocab[l] = i\n",
    "vocab"
   ]
  },
  {
   "cell_type": "code",
   "execution_count": 3,
   "id": "d8959b6d5bbdcb0e",
   "metadata": {
    "ExecuteTime": {
     "end_time": "2023-10-16T14:37:13.991286Z",
     "start_time": "2023-10-16T14:37:13.838609Z"
    },
    "collapsed": false
   },
   "outputs": [
    {
     "data": {
      "text/plain": [
       "{'O': 0, 'I-geo': 1, 'I-gpe': 2, 'I-per': 3, 'I-org': 4, 'I-tim': 5}"
      ]
     },
     "execution_count": 3,
     "metadata": {},
     "output_type": "execute_result"
    }
   ],
   "source": [
    "# tags_path = \"stanford_cs230_medium_data/tags.txt\"\n",
    "tags_path = \"stanford_cs230_small_data/tags.txt\"\n",
    "tag_map = {}\n",
    "with open(tags_path, encoding=\"utf-8\") as f:\n",
    "    for i, l in enumerate(f.read().splitlines()):\n",
    "        tag_map[l] = i\n",
    "tag_map"
   ]
  },
  {
   "cell_type": "code",
   "execution_count": 4,
   "id": "5cb4a69d3a6f4b99",
   "metadata": {
    "ExecuteTime": {
     "end_time": "2023-10-16T14:37:13.991538Z",
     "start_time": "2023-10-16T14:37:13.847742Z"
    },
    "collapsed": false
   },
   "outputs": [
    {
     "name": "stdout",
     "output_type": "stream",
     "text": [
      "train_sentences: [[266, 9, 267, 1, 268, 269, 11, 270, 93, 271, 272, 273, 274, 275, 165, 276, 78, 277, 167, 9, 6, 278, 21], [279, 280, 281, 282, 283, 237, 284, 285, 21], [286, 287, 278, 63, 9, 288, 289, 137, 11, 290, 24, 291, 292, 13, 293, 294, 21], [295, 296, 297, 298, 245, 169, 63, 299, 300, 7, 301, 302, 63, 303, 7, 304, 305, 306, 13, 307, 296, 297, 308, 21], [61, 309, 310, 311, 312, 303, 165, 125, 18, 9, 313, 1, 314, 299, 315, 316, 115, 116, 317, 318, 262, 319, 11, 320, 31, 303, 21], [321, 165, 300, 317, 318, 322, 45, 323, 324, 63, 303, 167, 9, 325, 315, 326, 327, 21], [61, 298, 180, 328, 310, 300, 7, 329, 9, 330, 192, 331, 332, 167, 303, 68, 184, 333, 21], [61, 297, 298, 334, 303, 68, 335, 1, 336, 11, 337, 338, 339, 13, 296, 297, 308, 93, 340, 341, 342, 343, 344, 11, 303, 21], [345, 125, 126, 346, 3, 24, 45, 347, 1, 9, 348, 349, 350, 167, 351, 345, 352, 353, 354, 355, 21], [198, 126, 356, 357, 59, 358, 359, 133, 346, 360, 150, 361, 362, 9, 363, 364, 1, 365, 21]]\n",
      "train_labels: [[0, 0, 4, 4, 4, 4, 0, 1, 0, 2, 3, 3, 3, 3, 0, 0, 0, 0, 0, 0, 1, 0, 0], [0, 0, 0, 0, 0, 0, 0, 0, 0], [0, 0, 0, 0, 0, 1, 0, 0, 0, 5, 0, 0, 0, 0, 0, 0, 0], [0, 0, 0, 0, 0, 0, 0, 0, 0, 0, 0, 0, 0, 1, 0, 0, 0, 0, 0, 0, 0, 0, 0, 0], [0, 4, 4, 4, 4, 4, 0, 0, 0, 0, 4, 4, 4, 4, 4, 0, 0, 0, 0, 0, 0, 0, 0, 0, 0, 1, 0], [0, 0, 0, 0, 0, 0, 0, 0, 0, 0, 1, 0, 0, 4, 4, 4, 4, 0], [0, 0, 0, 0, 4, 0, 0, 0, 0, 0, 0, 0, 0, 0, 1, 0, 0, 0, 0], [0, 0, 0, 0, 1, 0, 0, 0, 0, 0, 0, 0, 0, 0, 0, 0, 0, 0, 0, 0, 0, 0, 0, 0, 1, 0], [2, 0, 0, 0, 0, 0, 0, 0, 0, 0, 0, 0, 0, 0, 0, 2, 0, 0, 3, 3, 0], [0, 0, 0, 0, 0, 0, 5, 0, 0, 0, 0, 0, 0, 0, 0, 0, 0, 1, 0]]\n"
     ]
    }
   ],
   "source": [
    "# train_sentences_file = \"stanford_cs230_medium_data/train/sentences.txt\"\n",
    "# train_labels_file = \"stanford_cs230_medium_data/train/labels.txt\"\n",
    "train_sentences_file = \"stanford_cs230_small_data/test/sentences.txt\"\n",
    "train_labels_file = \"stanford_cs230_small_data/test/labels.txt\"\n",
    "\n",
    "train_sentences = []\n",
    "train_labels = []\n",
    "\n",
    "with open(train_sentences_file, encoding=\"utf-8\") as f:\n",
    "    for sentence in f.read().splitlines():\n",
    "        #replace each token by its index if it is in vocab\n",
    "        #else use index of UNK\n",
    "        s = [vocab[token] if token in vocab\n",
    "             else vocab['UNK']\n",
    "             for token in sentence.split(' ')]\n",
    "        train_sentences.append(s)\n",
    "\n",
    "with open(train_labels_file) as f:\n",
    "    for sentence in f.read().splitlines():\n",
    "        #replace each label by its index\n",
    "        l = [tag_map[label] for label in sentence.split(' ')]\n",
    "        train_labels.append(l)\n",
    "        \n",
    "print(f\"train_sentences: {train_sentences}\")\n",
    "print(f\"train_labels: {train_labels}\")"
   ]
  },
  {
   "cell_type": "code",
   "execution_count": 5,
   "id": "736b1f18b861288f",
   "metadata": {
    "ExecuteTime": {
     "end_time": "2023-10-16T14:37:13.991974Z",
     "start_time": "2023-10-16T14:37:13.869511Z"
    },
    "collapsed": false
   },
   "outputs": [
    {
     "name": "stdout",
     "output_type": "stream",
     "text": [
      "val_sentences: [[266, 9, 267, 1, 268, 269, 11, 270, 93, 271, 272, 273, 274, 275, 165, 276, 78, 277, 167, 9, 6, 278, 21], [279, 280, 281, 282, 283, 237, 284, 285, 21], [286, 287, 278, 63, 9, 288, 289, 137, 11, 290, 24, 291, 292, 13, 293, 294, 21], [295, 296, 297, 298, 245, 169, 63, 299, 300, 7, 301, 302, 63, 303, 7, 304, 305, 306, 13, 307, 296, 297, 308, 21], [61, 309, 310, 311, 312, 303, 165, 125, 18, 9, 313, 1, 314, 299, 315, 316, 115, 116, 317, 318, 262, 319, 11, 320, 31, 303, 21], [321, 165, 300, 317, 318, 322, 45, 323, 324, 63, 303, 167, 9, 325, 315, 326, 327, 21], [61, 298, 180, 328, 310, 300, 7, 329, 9, 330, 192, 331, 332, 167, 303, 68, 184, 333, 21], [61, 297, 298, 334, 303, 68, 335, 1, 336, 11, 337, 338, 339, 13, 296, 297, 308, 93, 340, 341, 342, 343, 344, 11, 303, 21], [345, 125, 126, 346, 3, 24, 45, 347, 1, 9, 348, 349, 350, 167, 351, 345, 352, 353, 354, 355, 21], [198, 126, 356, 357, 59, 358, 359, 133, 346, 360, 150, 361, 362, 9, 363, 364, 1, 365, 21]]\n",
      "val_labels: [[0, 0, 4, 4, 4, 4, 0, 1, 0, 2, 3, 3, 3, 3, 0, 0, 0, 0, 0, 0, 1, 0, 0], [0, 0, 0, 0, 0, 0, 0, 0, 0], [0, 0, 0, 0, 0, 1, 0, 0, 0, 5, 0, 0, 0, 0, 0, 0, 0], [0, 0, 0, 0, 0, 0, 0, 0, 0, 0, 0, 0, 0, 1, 0, 0, 0, 0, 0, 0, 0, 0, 0, 0], [0, 4, 4, 4, 4, 4, 0, 0, 0, 0, 4, 4, 4, 4, 4, 0, 0, 0, 0, 0, 0, 0, 0, 0, 0, 1, 0], [0, 0, 0, 0, 0, 0, 0, 0, 0, 0, 1, 0, 0, 4, 4, 4, 4, 0], [0, 0, 0, 0, 4, 0, 0, 0, 0, 0, 0, 0, 0, 0, 1, 0, 0, 0, 0], [0, 0, 0, 0, 1, 0, 0, 0, 0, 0, 0, 0, 0, 0, 0, 0, 0, 0, 0, 0, 0, 0, 0, 0, 1, 0], [2, 0, 0, 0, 0, 0, 0, 0, 0, 0, 0, 0, 0, 0, 0, 2, 0, 0, 3, 3, 0], [0, 0, 0, 0, 0, 0, 5, 0, 0, 0, 0, 0, 0, 0, 0, 0, 0, 1, 0]]\n"
     ]
    }
   ],
   "source": [
    "# val_sentences_file = \"stanford_cs230_medium_data/val/sentences.txt\"\n",
    "# val_labels_file = \"stanford_cs230_medium_data/val/labels.txt\"\n",
    "val_sentences_file = \"stanford_cs230_small_data/test/sentences.txt\"\n",
    "val_labels_file = \"stanford_cs230_small_data/test/labels.txt\"\n",
    "\n",
    "val_sentences = []\n",
    "val_labels = []\n",
    "\n",
    "with open(val_sentences_file, encoding=\"utf-8\") as f:\n",
    "    for sentence in f.read().splitlines():\n",
    "        #replace each token by its index if it is in vocab\n",
    "        #else use index of UNK\n",
    "        s = [vocab[token] if token in vocab\n",
    "             else vocab['UNK']\n",
    "             for token in sentence.split(' ')]\n",
    "        val_sentences.append(s)\n",
    "\n",
    "with open(val_labels_file, encoding=\"utf-8\") as f:\n",
    "    for sentence in f.read().splitlines():\n",
    "        #replace each label by its index\n",
    "        l = [tag_map[label] for label in sentence.split(' ')]\n",
    "        val_labels.append(l)\n",
    "\n",
    "print(f\"val_sentences: {val_sentences}\")\n",
    "print(f\"val_labels: {val_labels}\")"
   ]
  },
  {
   "cell_type": "code",
   "execution_count": 6,
   "id": "5800cc7f3fc93583",
   "metadata": {
    "ExecuteTime": {
     "end_time": "2023-10-16T14:37:14.011887Z",
     "start_time": "2023-10-16T14:37:13.882822Z"
    },
    "collapsed": false
   },
   "outputs": [],
   "source": [
    "def data_iterator(sentences, labels, total_size: int, batch_size: int, shuffle: bool=False):\n",
    "    # make a list that decides the order in which we go over the data- this avoids explicit shuffling of data\n",
    "    order = list(range(total_size))\n",
    "    if shuffle:\n",
    "        random.seed(230)\n",
    "        random.shuffle(order)\n",
    "\n",
    "    # one pass over data\n",
    "    for i in range((total_size+1)//batch_size):\n",
    "        # fetch sentences and tags\n",
    "        batch_sentences = [sentences[idx] for idx in order[i*batch_size:(i+1)*batch_size]]\n",
    "        batch_tags = [labels[idx] for idx in order[i*batch_size:(i+1)*batch_size]]\n",
    "\n",
    "        # compute length of longest sentence in batch\n",
    "        batch_max_len = max([len(s) for s in batch_sentences])\n",
    "\n",
    "        # prepare a numpy array with the data, initialising the data with pad_ind and all labels with -1\n",
    "        # initialising labels to -1 differentiates tokens with tags from PADding tokens\n",
    "        batch_data = vocab['<pad>']*np.ones((len(batch_sentences), batch_max_len))\n",
    "        batch_labels = -1*np.ones((len(batch_sentences), batch_max_len))\n",
    "\n",
    "        # copy the data to the numpy array\n",
    "        for j in range(len(batch_sentences)):\n",
    "            cur_len = len(batch_sentences[j])\n",
    "            batch_data[j][:cur_len] = batch_sentences[j]\n",
    "            batch_labels[j][:cur_len] = batch_tags[j]\n",
    "\n",
    "        # since all data are indices, we convert them to torch LongTensors\n",
    "        batch_data, batch_labels = torch.LongTensor(batch_data), torch.LongTensor(batch_labels)\n",
    "\n",
    "        # shift tensors to GPU if available\n",
    "        # if params.cuda:\n",
    "        #     batch_data, batch_labels = batch_data.cuda(), batch_labels.cuda()\n",
    "\n",
    "        # convert them to Variables to record operations in the computational graph\n",
    "        batch_data, batch_labels = Variable(batch_data), Variable(batch_labels)\n",
    "\n",
    "        yield batch_data, batch_labels, batch_sentences"
   ]
  },
  {
   "cell_type": "code",
   "execution_count": 7,
   "id": "d9aa7ca1ef91b423",
   "metadata": {
    "ExecuteTime": {
     "end_time": "2023-10-16T14:37:14.012307Z",
     "start_time": "2023-10-16T14:37:13.894126Z"
    },
    "collapsed": false
   },
   "outputs": [],
   "source": [
    "class Net(nn.Module):\n",
    "    \"\"\"\n",
    "    This is the standard way to define your own network in PyTorch. You typically choose the components\n",
    "    (e.g. LSTMs, linear layers etc.) of your network in the __init__ function. You then apply these layers\n",
    "    on the input step-by-step in the forward function. You can use torch.nn.functional to apply functions\n",
    "    such as F.relu, F.sigmoid, F.softmax. Be careful to ensure your dimensions are correct after each step.\n",
    "\n",
    "    You are encouraged to have a look at the network in pytorch/vision/model/net.py to get a better sense of how\n",
    "    you can go about defining your own network.\n",
    "\n",
    "    The documentation for all the various components available to you is here: http://pytorch.org/docs/master/nn.html\n",
    "    \"\"\"\n",
    "\n",
    "    def __init__(self, vocab_size, embedding_dim, lstm_hidden_dim, number_of_tags):\n",
    "        \"\"\"\n",
    "        We define an recurrent network that predicts the NER tags for each token in the sentence. The components\n",
    "        required are:\n",
    "\n",
    "        - an embedding layer: this layer maps each index in range(params.vocab_size) to a params.embedding_dim vector\n",
    "        - lstm: applying the LSTM on the sequential input returns an output for each token in the sentence\n",
    "        - fc: a fully connected layer that converts the LSTM output for each token to a distribution over NER tags\n",
    "\n",
    "        Args:\n",
    "            params: (Params) contains vocab_size, embedding_dim, lstm_hidden_dim\n",
    "        \"\"\"\n",
    "        super(Net, self).__init__()\n",
    "\n",
    "        # the embedding takes as input the vocab_size and the embedding_dim\n",
    "        self.embedding = nn.Embedding(vocab_size, embedding_dim)\n",
    "\n",
    "        # the LSTM takes as input the size of its input (embedding_dim), its hidden size\n",
    "        # for more details on how to use it, check out the documentation\n",
    "        self.lstm = nn.LSTM(embedding_dim,\n",
    "                            lstm_hidden_dim, batch_first=True)\n",
    "\n",
    "        # the fully connected layer transforms the output to give the final output layer\n",
    "        self.fc = nn.Linear(lstm_hidden_dim, number_of_tags)\n",
    "\n",
    "    def forward(self, s):\n",
    "        \"\"\"\n",
    "        This function defines how we use the components of our network to operate on an input batch.\n",
    "\n",
    "        Args:\n",
    "            s: (Variable) contains a batch of sentences, of dimension batch_size x seq_len, where seq_len is\n",
    "               the length of the longest sentence in the batch. For sentences shorter than seq_len, the remaining\n",
    "               tokens are PADding tokens. Each row is a sentence with each element corresponding to the index of\n",
    "               the token in the vocab.\n",
    "\n",
    "        Returns:\n",
    "            out: (Variable) dimension batch_size*seq_len x num_tags with the log probabilities of tokens for each token\n",
    "                 of each sentence.\n",
    "\n",
    "        Note: the dimensions after each step are provided\n",
    "        \"\"\"\n",
    "        #                                -> batch_size x seq_len\n",
    "        # apply the embedding layer that maps each token to its embedding\n",
    "        # dim: batch_size x seq_len x embedding_dim\n",
    "        s = self.embedding(s)\n",
    "\n",
    "        # run the LSTM along the sentences of length seq_len\n",
    "        # dim: batch_size x seq_len x lstm_hidden_dim\n",
    "        s, _ = self.lstm(s)\n",
    "\n",
    "        # make the Variable contiguous in memory (a PyTorch artefact)\n",
    "        s = s.contiguous()\n",
    "\n",
    "        # reshape the Variable so that each row contains one token\n",
    "        # dim: batch_size*seq_len x lstm_hidden_dim\n",
    "        s = s.view(-1, s.shape[2])\n",
    "\n",
    "        # apply the fully connected layer and obtain the output (before softmax) for each token\n",
    "        s = self.fc(s)                   # dim: batch_size*seq_len x num_tags\n",
    "\n",
    "        # apply log softmax on each token's output (this is recommended over applying softmax\n",
    "        # since it is numerically more stable)\n",
    "        return F.log_softmax(s, dim=1)   # dim: batch_size*seq_len x num_tags"
   ]
  },
  {
   "cell_type": "code",
   "execution_count": 8,
   "id": "ba90bdc3ae13684a",
   "metadata": {
    "ExecuteTime": {
     "end_time": "2023-10-16T14:37:14.012907Z",
     "start_time": "2023-10-16T14:37:13.899592Z"
    },
    "collapsed": false
   },
   "outputs": [],
   "source": [
    "def loss_fn(outputs, labels):\n",
    "    \"\"\"\n",
    "    Compute the cross entropy loss given outputs from the model and labels for all tokens. Exclude loss terms\n",
    "    for PADding tokens.\n",
    "\n",
    "    Args:\n",
    "        outputs: (Variable) dimension batch_size*seq_len x num_tags - log softmax output of the model\n",
    "        labels: (Variable) dimension batch_size x seq_len where each element is either a label in [0, 1, ... num_tag-1],\n",
    "                or -1 in case it is a PADding token.\n",
    "\n",
    "    Returns:\n",
    "        loss: (Variable) cross entropy loss for all tokens in the batch\n",
    "\n",
    "    Note: you may use a standard loss function from http://pytorch.org/docs/master/nn.html#loss-functions. This example\n",
    "          demonstrates how you can easily define a custom loss function.\n",
    "    \"\"\"\n",
    "\n",
    "    # reshape labels to give a flat vector of length batch_size*seq_len\n",
    "    labels = labels.view(-1)\n",
    "\n",
    "    # since PADding tokens have label -1, we can generate a mask to exclude the loss from those terms\n",
    "    mask = (labels >= 0).float()\n",
    "\n",
    "    # indexing with negative values is not supported. Since PADded tokens have label -1, we convert them to a positive\n",
    "    # number. This does not affect training, since we ignore the PADded tokens with the mask.\n",
    "    labels = labels % outputs.shape[1]\n",
    "\n",
    "    num_tokens = int(torch.sum(mask))\n",
    "\n",
    "    # compute cross entropy loss for all tokens (except PADding tokens), by multiplying with mask.\n",
    "    return -torch.sum(outputs[range(outputs.shape[0]), labels]*mask)/num_tokens"
   ]
  },
  {
   "cell_type": "code",
   "execution_count": 9,
   "id": "e07330c216283eda",
   "metadata": {
    "ExecuteTime": {
     "end_time": "2023-10-16T14:37:14.013393Z",
     "start_time": "2023-10-16T14:37:13.913339Z"
    },
    "collapsed": false
   },
   "outputs": [],
   "source": [
    "class RunningAverage:\n",
    "    \"\"\"A simple class that maintains the running average of a quantity\n",
    "\n",
    "    Example:\n",
    "    ```\n",
    "    loss_avg = RunningAverage()\n",
    "    loss_avg.update(2)\n",
    "    loss_avg.update(4)\n",
    "    loss_avg() = 3\n",
    "    ```\n",
    "    \"\"\"\n",
    "\n",
    "    def __init__(self):\n",
    "        self.steps = 0\n",
    "        self.total = 0\n",
    "\n",
    "    def update(self, val):\n",
    "        self.total += val\n",
    "        self.steps += 1\n",
    "\n",
    "    def __call__(self):\n",
    "        return self.total / float(self.steps)"
   ]
  },
  {
   "cell_type": "code",
   "execution_count": 10,
   "id": "84b8f1d154a50053",
   "metadata": {
    "ExecuteTime": {
     "end_time": "2023-10-16T14:37:14.014581Z",
     "start_time": "2023-10-16T14:37:13.927378Z"
    },
    "collapsed": false
   },
   "outputs": [],
   "source": [
    "def train(model, optimizer, loss_fn, data_iterator, metrics, num_steps):\n",
    "    \"\"\"Train the model on `num_steps` batches\n",
    "\n",
    "    Args:\n",
    "        model: (torch.nn.Module) the neural network\n",
    "        optimizer: (torch.optim) optimizer for parameters of model\n",
    "        loss_fn: a function that takes batch_output and batch_labels and computes the loss for the batch\n",
    "        data_iterator: (generator) a generator that generates batches of data and labels\n",
    "        metrics: (dict) a dictionary of functions that compute a metric using the output and labels of each batch\n",
    "        params: (Params) hyperparameters\n",
    "        num_steps: (int) number of batches to train on, each of size params.batch_size\n",
    "    \"\"\"\n",
    "\n",
    "    # set model to training mode\n",
    "    model.train()\n",
    "\n",
    "    # summary for current training loop and a running average object for loss\n",
    "    summ = []\n",
    "    loss_avg = RunningAverage()\n",
    "\n",
    "    # Use tqdm for progress bar\n",
    "    t = trange(num_steps)\n",
    "    for i in t:\n",
    "        # fetch the next training batch\n",
    "        train_batch, labels_batch, _ = next(data_iterator)\n",
    "\n",
    "        # compute model output and loss\n",
    "        output_batch = model(train_batch)\n",
    "        loss = loss_fn(output_batch, labels_batch)\n",
    "\n",
    "        # clear previous gradients, compute gradients of all variables wrt loss\n",
    "        optimizer.zero_grad()\n",
    "        loss.backward()\n",
    "\n",
    "        # performs updates using calculated gradients\n",
    "        optimizer.step()\n",
    "\n",
    "        # Evaluate summaries only once in a while\n",
    "        if i % 10 == 0:\n",
    "            # extract data from torch Variable, move to cpu, convert to numpy arrays\n",
    "            output_batch = output_batch.data.cpu().numpy()\n",
    "            labels_batch = labels_batch.data.cpu().numpy()\n",
    "\n",
    "            # compute all metrics on this batch\n",
    "            summary_batch = {metric: metrics[metric](output_batch, labels_batch)\n",
    "                             for metric in metrics}\n",
    "            summary_batch['loss'] = loss.item()\n",
    "            summ.append(summary_batch)\n",
    "\n",
    "        # update the average loss\n",
    "        loss_avg.update(loss.item())\n",
    "        t.set_postfix(loss='{:05.3f}'.format(loss_avg()))\n",
    "\n",
    "    # compute mean of all metrics in summary\n",
    "    metrics_mean = {metric: np.mean([x[metric]\n",
    "                                     for x in summ]) for metric in summ[0]}\n",
    "    metrics_string = \" ; \".join(\"{}: {:05.3f}\".format(k, v)\n",
    "                                for k, v in metrics_mean.items())\n",
    "    print(\"- Train metrics: \" + metrics_string)"
   ]
  },
  {
   "cell_type": "code",
   "execution_count": 11,
   "id": "a1feee96f562ef39",
   "metadata": {
    "ExecuteTime": {
     "end_time": "2023-10-16T14:37:14.014871Z",
     "start_time": "2023-10-16T14:37:13.939867Z"
    },
    "collapsed": false
   },
   "outputs": [],
   "source": [
    "def evaluate(model, loss_fn, data_iterator, metrics, num_steps):\n",
    "    \"\"\"Evaluate the model on `num_steps` batches.\n",
    "\n",
    "    Args:\n",
    "        model: (torch.nn.Module) the neural network\n",
    "        loss_fn: a function that takes batch_output and batch_labels and computes the loss for the batch\n",
    "        data_iterator: (generator) a generator that generates batches of data and labels\n",
    "        metrics: (dict) a dictionary of functions that compute a metric using the output and labels of each batch\n",
    "        params: (Params) hyperparameters\n",
    "        num_steps: (int) number of batches to train on, each of size params.batch_size\n",
    "    \"\"\"\n",
    "\n",
    "    # set model to evaluation mode\n",
    "    model.eval()\n",
    "\n",
    "    # summary for current eval loop\n",
    "    summ = []\n",
    "\n",
    "    # compute metrics over the dataset\n",
    "    for _ in range(num_steps):\n",
    "        # fetch the next evaluation batch\n",
    "        data_batch, labels_batch, _ = next(data_iterator)\n",
    "\n",
    "        # compute model output\n",
    "        output_batch = model(data_batch)\n",
    "        loss = loss_fn(output_batch, labels_batch)\n",
    "\n",
    "        # extract data from torch Variable, move to cpu, convert to numpy arrays\n",
    "        output_batch = output_batch.data.cpu().numpy()\n",
    "        labels_batch = labels_batch.data.cpu().numpy()\n",
    "\n",
    "        # compute all metrics on this batch\n",
    "        summary_batch = {metric: metrics[metric](output_batch, labels_batch)\n",
    "                         for metric in metrics}\n",
    "        summary_batch['loss'] = loss.item()\n",
    "        summ.append(summary_batch)\n",
    "\n",
    "    # compute mean of all metrics in summary\n",
    "    metrics_mean = {metric:np.mean([x[metric] for x in summ]) for metric in summ[0]}\n",
    "    metrics_string = \" ; \".join(\"{}: {:05.3f}\".format(k, v) for k, v in metrics_mean.items())\n",
    "    print(\"- Eval metrics : \" + metrics_string)\n",
    "    return metrics_mean"
   ]
  },
  {
   "cell_type": "code",
   "execution_count": 12,
   "id": "798027bbaa11f757",
   "metadata": {
    "ExecuteTime": {
     "end_time": "2023-10-16T14:37:14.014985Z",
     "start_time": "2023-10-16T14:37:13.951561Z"
    },
    "collapsed": false
   },
   "outputs": [],
   "source": [
    "def train_and_evaluate(\n",
    "        model,\n",
    "        train_sentences,\n",
    "        train_labels,\n",
    "        val_sentences,\n",
    "        val_labels,\n",
    "        num_epochs: int,\n",
    "        batch_size: int,\n",
    "        optimizer,\n",
    "        loss_fn,\n",
    "        metrics\n",
    "):\n",
    "    for epoch in range(num_epochs):\n",
    "        # Run one epoch\n",
    "        print(\"Epoch {}/{}\".format(epoch + 1, num_epochs))\n",
    "\n",
    "        # compute number of batches in one epoch (one full pass over the training set)\n",
    "        num_steps = (len(train_sentences) + 1) // batch_size\n",
    "        train_data_iterator = data_iterator(\n",
    "            train_sentences, train_labels, len(train_sentences), batch_size, shuffle=True)\n",
    "        train(model, optimizer, loss_fn, train_data_iterator,\n",
    "              metrics, num_steps)\n",
    "\n",
    "        # Evaluate for one epoch on validation set\n",
    "        num_steps = (len(val_sentences) + 1) // batch_size\n",
    "        val_data_iterator = data_iterator(\n",
    "            val_sentences, val_labels, len(val_sentences), batch_size, shuffle=False)\n",
    "        val_metrics = evaluate(\n",
    "            model, loss_fn, val_data_iterator, metrics, num_steps)"
   ]
  },
  {
   "cell_type": "code",
   "execution_count": 13,
   "id": "a981f205b1133b82",
   "metadata": {
    "ExecuteTime": {
     "end_time": "2023-10-16T14:37:14.015072Z",
     "start_time": "2023-10-16T14:37:13.960431Z"
    },
    "collapsed": false
   },
   "outputs": [],
   "source": [
    "def accuracy(outputs, labels):\n",
    "    \"\"\"\n",
    "    Compute the accuracy, given the outputs and labels for all tokens. Exclude PADding terms.\n",
    "\n",
    "    Args:\n",
    "        outputs: (np.ndarray) dimension batch_size*seq_len x num_tags - log softmax output of the model\n",
    "        labels: (np.ndarray) dimension batch_size x seq_len where each element is either a label in\n",
    "                [0, 1, ... num_tag-1], or -1 in case it is a PADding token.\n",
    "\n",
    "    Returns: (float) accuracy in [0,1]\n",
    "    \"\"\"\n",
    "\n",
    "    # reshape labels to give a flat vector of length batch_size*seq_len\n",
    "    labels = labels.ravel()\n",
    "\n",
    "    # since PADding tokens have label -1, we can generate a mask to exclude the loss from those terms\n",
    "    mask = (labels >= 0)\n",
    "\n",
    "    # np.argmax gives us the class predicted for each token by the model\n",
    "    outputs = np.argmax(outputs, axis=1)\n",
    "\n",
    "    # compare outputs with labels and divide by number of tokens (excluding PADding tokens)\n",
    "    return np.sum(outputs == labels)/float(np.sum(mask))\n",
    "\n",
    "\n",
    "metrics = {\n",
    "    'accuracy': accuracy,\n",
    "    # could add more metrics such as accuracy for each token type\n",
    "}"
   ]
  },
  {
   "cell_type": "code",
   "execution_count": 14,
   "id": "aca478d1db5c66ef",
   "metadata": {
    "ExecuteTime": {
     "end_time": "2023-10-16T14:37:14.520501Z",
     "start_time": "2023-10-16T14:37:13.975258Z"
    },
    "collapsed": false
   },
   "outputs": [
    {
     "name": "stdout",
     "output_type": "stream",
     "text": [
      "Epoch 1/100\n"
     ]
    },
    {
     "name": "stderr",
     "output_type": "stream",
     "text": [
      "100%|██████████| 2/2 [00:00<00:00, 60.61it/s, loss=1.835]\n"
     ]
    },
    {
     "name": "stdout",
     "output_type": "stream",
     "text": [
      "- Train metrics: accuracy: 0.053 ; loss: 1.848\n",
      "- Eval metrics : accuracy: 0.084 ; loss: 1.812\n",
      "Epoch 2/100\n"
     ]
    },
    {
     "name": "stderr",
     "output_type": "stream",
     "text": [
      "100%|██████████| 2/2 [00:00<00:00, 111.11it/s, loss=1.806]\n"
     ]
    },
    {
     "name": "stdout",
     "output_type": "stream",
     "text": [
      "- Train metrics: accuracy: 0.096 ; loss: 1.816\n",
      "- Eval metrics : accuracy: 0.103 ; loss: 1.785\n",
      "Epoch 3/100\n"
     ]
    },
    {
     "name": "stderr",
     "output_type": "stream",
     "text": [
      "100%|██████████| 2/2 [00:00<00:00, 117.65it/s, loss=1.779]\n"
     ]
    },
    {
     "name": "stdout",
     "output_type": "stream",
     "text": [
      "- Train metrics: accuracy: 0.117 ; loss: 1.786\n",
      "- Eval metrics : accuracy: 0.177 ; loss: 1.758\n",
      "Epoch 4/100\n"
     ]
    },
    {
     "name": "stderr",
     "output_type": "stream",
     "text": [
      "100%|██████████| 2/2 [00:00<00:00, 117.65it/s, loss=1.752]\n"
     ]
    },
    {
     "name": "stdout",
     "output_type": "stream",
     "text": [
      "- Train metrics: accuracy: 0.202 ; loss: 1.757\n",
      "- Eval metrics : accuracy: 0.251 ; loss: 1.731\n",
      "Epoch 5/100\n"
     ]
    },
    {
     "name": "stderr",
     "output_type": "stream",
     "text": [
      "100%|██████████| 2/2 [00:00<00:00, 111.10it/s, loss=1.725]\n"
     ]
    },
    {
     "name": "stdout",
     "output_type": "stream",
     "text": [
      "- Train metrics: accuracy: 0.245 ; loss: 1.728\n",
      "- Eval metrics : accuracy: 0.404 ; loss: 1.704\n",
      "Epoch 6/100\n"
     ]
    },
    {
     "name": "stderr",
     "output_type": "stream",
     "text": [
      "100%|██████████| 2/2 [00:00<00:00, 117.64it/s, loss=1.697]\n"
     ]
    },
    {
     "name": "stdout",
     "output_type": "stream",
     "text": [
      "- Train metrics: accuracy: 0.457 ; loss: 1.697\n",
      "- Eval metrics : accuracy: 0.497 ; loss: 1.675\n",
      "Epoch 7/100\n"
     ]
    },
    {
     "name": "stderr",
     "output_type": "stream",
     "text": [
      "100%|██████████| 2/2 [00:00<00:00, 111.12it/s, loss=1.667]\n"
     ]
    },
    {
     "name": "stdout",
     "output_type": "stream",
     "text": [
      "- Train metrics: accuracy: 0.564 ; loss: 1.666\n",
      "- Eval metrics : accuracy: 0.601 ; loss: 1.644\n",
      "Epoch 8/100\n"
     ]
    },
    {
     "name": "stderr",
     "output_type": "stream",
     "text": [
      "100%|██████████| 2/2 [00:00<00:00, 117.66it/s, loss=1.636]\n"
     ]
    },
    {
     "name": "stdout",
     "output_type": "stream",
     "text": [
      "- Train metrics: accuracy: 0.660 ; loss: 1.633\n",
      "- Eval metrics : accuracy: 0.664 ; loss: 1.612\n",
      "Epoch 9/100\n"
     ]
    },
    {
     "name": "stderr",
     "output_type": "stream",
     "text": [
      "100%|██████████| 2/2 [00:00<00:00, 117.64it/s, loss=1.603]\n"
     ]
    },
    {
     "name": "stdout",
     "output_type": "stream",
     "text": [
      "- Train metrics: accuracy: 0.755 ; loss: 1.597\n",
      "- Eval metrics : accuracy: 0.714 ; loss: 1.576\n",
      "Epoch 10/100\n"
     ]
    },
    {
     "name": "stderr",
     "output_type": "stream",
     "text": [
      "100%|██████████| 2/2 [00:00<00:00, 111.12it/s, loss=1.566]\n"
     ]
    },
    {
     "name": "stdout",
     "output_type": "stream",
     "text": [
      "- Train metrics: accuracy: 0.787 ; loss: 1.558\n",
      "- Eval metrics : accuracy: 0.768 ; loss: 1.537\n",
      "Epoch 11/100\n"
     ]
    },
    {
     "name": "stderr",
     "output_type": "stream",
     "text": [
      "100%|██████████| 2/2 [00:00<00:00, 113.91it/s, loss=1.526]\n"
     ]
    },
    {
     "name": "stdout",
     "output_type": "stream",
     "text": [
      "- Train metrics: accuracy: 0.819 ; loss: 1.514\n",
      "- Eval metrics : accuracy: 0.793 ; loss: 1.494\n",
      "Epoch 12/100\n"
     ]
    },
    {
     "name": "stderr",
     "output_type": "stream",
     "text": [
      "100%|██████████| 2/2 [00:00<00:00, 100.00it/s, loss=1.481]\n"
     ]
    },
    {
     "name": "stdout",
     "output_type": "stream",
     "text": [
      "- Train metrics: accuracy: 0.862 ; loss: 1.465\n",
      "- Eval metrics : accuracy: 0.807 ; loss: 1.445\n",
      "Epoch 13/100\n"
     ]
    },
    {
     "name": "stderr",
     "output_type": "stream",
     "text": [
      "100%|██████████| 2/2 [00:00<00:00, 100.00it/s, loss=1.430]\n"
     ]
    },
    {
     "name": "stdout",
     "output_type": "stream",
     "text": [
      "- Train metrics: accuracy: 0.872 ; loss: 1.409\n",
      "- Eval metrics : accuracy: 0.822 ; loss: 1.389\n",
      "Epoch 14/100\n"
     ]
    },
    {
     "name": "stderr",
     "output_type": "stream",
     "text": [
      "100%|██████████| 2/2 [00:00<00:00, 105.26it/s, loss=1.372]\n"
     ]
    },
    {
     "name": "stdout",
     "output_type": "stream",
     "text": [
      "- Train metrics: accuracy: 0.883 ; loss: 1.346\n",
      "- Eval metrics : accuracy: 0.822 ; loss: 1.325\n",
      "Epoch 15/100\n"
     ]
    },
    {
     "name": "stderr",
     "output_type": "stream",
     "text": [
      "100%|██████████| 2/2 [00:00<00:00, 105.27it/s, loss=1.306]\n"
     ]
    },
    {
     "name": "stdout",
     "output_type": "stream",
     "text": [
      "- Train metrics: accuracy: 0.883 ; loss: 1.273\n",
      "- Eval metrics : accuracy: 0.817 ; loss: 1.253\n",
      "Epoch 16/100\n"
     ]
    },
    {
     "name": "stderr",
     "output_type": "stream",
     "text": [
      "100%|██████████| 2/2 [00:00<00:00, 105.26it/s, loss=1.232]\n"
     ]
    },
    {
     "name": "stdout",
     "output_type": "stream",
     "text": [
      "- Train metrics: accuracy: 0.894 ; loss: 1.191\n",
      "- Eval metrics : accuracy: 0.807 ; loss: 1.173\n",
      "Epoch 17/100\n"
     ]
    },
    {
     "name": "stderr",
     "output_type": "stream",
     "text": [
      "100%|██████████| 2/2 [00:00<00:00, 105.26it/s, loss=1.148]\n"
     ]
    },
    {
     "name": "stdout",
     "output_type": "stream",
     "text": [
      "- Train metrics: accuracy: 0.894 ; loss: 1.098\n",
      "- Eval metrics : accuracy: 0.802 ; loss: 1.085\n",
      "Epoch 18/100\n"
     ]
    },
    {
     "name": "stderr",
     "output_type": "stream",
     "text": [
      "100%|██████████| 2/2 [00:00<00:00, 105.26it/s, loss=1.059]\n"
     ]
    },
    {
     "name": "stdout",
     "output_type": "stream",
     "text": [
      "- Train metrics: accuracy: 0.883 ; loss: 0.997\n",
      "- Eval metrics : accuracy: 0.797 ; loss: 0.997\n",
      "Epoch 19/100\n"
     ]
    },
    {
     "name": "stderr",
     "output_type": "stream",
     "text": [
      "100%|██████████| 2/2 [00:00<00:00, 105.27it/s, loss=0.972]\n"
     ]
    },
    {
     "name": "stdout",
     "output_type": "stream",
     "text": [
      "- Train metrics: accuracy: 0.883 ; loss: 0.896\n",
      "- Eval metrics : accuracy: 0.802 ; loss: 0.919\n",
      "Epoch 20/100\n"
     ]
    },
    {
     "name": "stderr",
     "output_type": "stream",
     "text": [
      "100%|██████████| 2/2 [00:00<00:00, 111.11it/s, loss=0.897]\n"
     ]
    },
    {
     "name": "stdout",
     "output_type": "stream",
     "text": [
      "- Train metrics: accuracy: 0.894 ; loss: 0.804\n",
      "- Eval metrics : accuracy: 0.802 ; loss: 0.861\n",
      "Epoch 21/100\n"
     ]
    },
    {
     "name": "stderr",
     "output_type": "stream",
     "text": [
      "100%|██████████| 2/2 [00:00<00:00, 111.09it/s, loss=0.845]\n"
     ]
    },
    {
     "name": "stdout",
     "output_type": "stream",
     "text": [
      "- Train metrics: accuracy: 0.894 ; loss: 0.731\n",
      "- Eval metrics : accuracy: 0.802 ; loss: 0.826\n",
      "Epoch 22/100\n"
     ]
    },
    {
     "name": "stderr",
     "output_type": "stream",
     "text": [
      "100%|██████████| 2/2 [00:00<00:00, 117.64it/s, loss=0.814]\n"
     ]
    },
    {
     "name": "stdout",
     "output_type": "stream",
     "text": [
      "- Train metrics: accuracy: 0.894 ; loss: 0.678\n",
      "- Eval metrics : accuracy: 0.802 ; loss: 0.807\n",
      "Epoch 23/100\n"
     ]
    },
    {
     "name": "stderr",
     "output_type": "stream",
     "text": [
      "100%|██████████| 2/2 [00:00<00:00, 111.13it/s, loss=0.794]\n"
     ]
    },
    {
     "name": "stdout",
     "output_type": "stream",
     "text": [
      "- Train metrics: accuracy: 0.894 ; loss: 0.643\n",
      "- Eval metrics : accuracy: 0.802 ; loss: 0.793\n",
      "Epoch 24/100\n"
     ]
    },
    {
     "name": "stderr",
     "output_type": "stream",
     "text": [
      "100%|██████████| 2/2 [00:00<00:00, 125.00it/s, loss=0.778]\n"
     ]
    },
    {
     "name": "stdout",
     "output_type": "stream",
     "text": [
      "- Train metrics: accuracy: 0.894 ; loss: 0.618\n",
      "- Eval metrics : accuracy: 0.802 ; loss: 0.777\n",
      "Epoch 25/100\n"
     ]
    },
    {
     "name": "stderr",
     "output_type": "stream",
     "text": [
      "100%|██████████| 2/2 [00:00<00:00, 117.65it/s, loss=0.760]\n"
     ]
    },
    {
     "name": "stdout",
     "output_type": "stream",
     "text": [
      "- Train metrics: accuracy: 0.894 ; loss: 0.599\n",
      "- Eval metrics : accuracy: 0.807 ; loss: 0.758\n",
      "Epoch 26/100\n"
     ]
    },
    {
     "name": "stderr",
     "output_type": "stream",
     "text": [
      "100%|██████████| 2/2 [00:00<00:00, 117.65it/s, loss=0.738]\n"
     ]
    },
    {
     "name": "stdout",
     "output_type": "stream",
     "text": [
      "- Train metrics: accuracy: 0.894 ; loss: 0.583\n",
      "- Eval metrics : accuracy: 0.807 ; loss: 0.735\n",
      "Epoch 27/100\n"
     ]
    },
    {
     "name": "stderr",
     "output_type": "stream",
     "text": [
      "100%|██████████| 2/2 [00:00<00:00, 117.64it/s, loss=0.715]\n"
     ]
    },
    {
     "name": "stdout",
     "output_type": "stream",
     "text": [
      "- Train metrics: accuracy: 0.894 ; loss: 0.569\n",
      "- Eval metrics : accuracy: 0.812 ; loss: 0.711\n",
      "Epoch 28/100\n"
     ]
    },
    {
     "name": "stderr",
     "output_type": "stream",
     "text": [
      "100%|██████████| 2/2 [00:00<00:00, 111.11it/s, loss=0.691]\n"
     ]
    },
    {
     "name": "stdout",
     "output_type": "stream",
     "text": [
      "- Train metrics: accuracy: 0.894 ; loss: 0.556\n",
      "- Eval metrics : accuracy: 0.817 ; loss: 0.688\n",
      "Epoch 29/100\n"
     ]
    },
    {
     "name": "stderr",
     "output_type": "stream",
     "text": [
      "100%|██████████| 2/2 [00:00<00:00, 111.10it/s, loss=0.671]\n"
     ]
    },
    {
     "name": "stdout",
     "output_type": "stream",
     "text": [
      "- Train metrics: accuracy: 0.894 ; loss: 0.544\n",
      "- Eval metrics : accuracy: 0.817 ; loss: 0.668\n",
      "Epoch 30/100\n"
     ]
    },
    {
     "name": "stderr",
     "output_type": "stream",
     "text": [
      "100%|██████████| 2/2 [00:00<00:00, 117.65it/s, loss=0.652]\n"
     ]
    },
    {
     "name": "stdout",
     "output_type": "stream",
     "text": [
      "- Train metrics: accuracy: 0.894 ; loss: 0.533\n",
      "- Eval metrics : accuracy: 0.847 ; loss: 0.651\n",
      "Epoch 31/100\n"
     ]
    },
    {
     "name": "stderr",
     "output_type": "stream",
     "text": [
      "100%|██████████| 2/2 [00:00<00:00, 108.01it/s, loss=0.636]\n"
     ]
    },
    {
     "name": "stdout",
     "output_type": "stream",
     "text": [
      "- Train metrics: accuracy: 0.894 ; loss: 0.523\n",
      "- Eval metrics : accuracy: 0.847 ; loss: 0.635\n",
      "Epoch 32/100\n"
     ]
    },
    {
     "name": "stderr",
     "output_type": "stream",
     "text": [
      "100%|██████████| 2/2 [00:00<00:00, 111.11it/s, loss=0.621]\n"
     ]
    },
    {
     "name": "stdout",
     "output_type": "stream",
     "text": [
      "- Train metrics: accuracy: 0.894 ; loss: 0.513\n",
      "- Eval metrics : accuracy: 0.852 ; loss: 0.620\n",
      "Epoch 33/100\n"
     ]
    },
    {
     "name": "stderr",
     "output_type": "stream",
     "text": [
      "100%|██████████| 2/2 [00:00<00:00, 111.11it/s, loss=0.607]\n"
     ]
    },
    {
     "name": "stdout",
     "output_type": "stream",
     "text": [
      "- Train metrics: accuracy: 0.894 ; loss: 0.502\n",
      "- Eval metrics : accuracy: 0.852 ; loss: 0.605\n",
      "Epoch 34/100\n"
     ]
    },
    {
     "name": "stderr",
     "output_type": "stream",
     "text": [
      "100%|██████████| 2/2 [00:00<00:00, 111.09it/s, loss=0.592]\n"
     ]
    },
    {
     "name": "stdout",
     "output_type": "stream",
     "text": [
      "- Train metrics: accuracy: 0.894 ; loss: 0.490\n",
      "- Eval metrics : accuracy: 0.852 ; loss: 0.590\n",
      "Epoch 35/100\n"
     ]
    },
    {
     "name": "stderr",
     "output_type": "stream",
     "text": [
      "100%|██████████| 2/2 [00:00<00:00, 111.11it/s, loss=0.577]\n"
     ]
    },
    {
     "name": "stdout",
     "output_type": "stream",
     "text": [
      "- Train metrics: accuracy: 0.894 ; loss: 0.476\n",
      "- Eval metrics : accuracy: 0.852 ; loss: 0.574\n",
      "Epoch 36/100\n"
     ]
    },
    {
     "name": "stderr",
     "output_type": "stream",
     "text": [
      "100%|██████████| 2/2 [00:00<00:00, 111.11it/s, loss=0.562]\n"
     ]
    },
    {
     "name": "stdout",
     "output_type": "stream",
     "text": [
      "- Train metrics: accuracy: 0.894 ; loss: 0.462\n",
      "- Eval metrics : accuracy: 0.852 ; loss: 0.559\n",
      "Epoch 37/100\n"
     ]
    },
    {
     "name": "stderr",
     "output_type": "stream",
     "text": [
      "100%|██████████| 2/2 [00:00<00:00, 111.11it/s, loss=0.547]\n"
     ]
    },
    {
     "name": "stdout",
     "output_type": "stream",
     "text": [
      "- Train metrics: accuracy: 0.894 ; loss: 0.448\n",
      "- Eval metrics : accuracy: 0.852 ; loss: 0.544\n",
      "Epoch 38/100\n"
     ]
    },
    {
     "name": "stderr",
     "output_type": "stream",
     "text": [
      "100%|██████████| 2/2 [00:00<00:00, 117.97it/s, loss=0.532]\n"
     ]
    },
    {
     "name": "stdout",
     "output_type": "stream",
     "text": [
      "- Train metrics: accuracy: 0.894 ; loss: 0.435\n",
      "- Eval metrics : accuracy: 0.852 ; loss: 0.529\n",
      "Epoch 39/100\n"
     ]
    },
    {
     "name": "stderr",
     "output_type": "stream",
     "text": [
      "100%|██████████| 2/2 [00:00<00:00, 117.65it/s, loss=0.517]\n"
     ]
    },
    {
     "name": "stdout",
     "output_type": "stream",
     "text": [
      "- Train metrics: accuracy: 0.894 ; loss: 0.422\n",
      "- Eval metrics : accuracy: 0.852 ; loss: 0.515\n",
      "Epoch 40/100\n"
     ]
    },
    {
     "name": "stderr",
     "output_type": "stream",
     "text": [
      "100%|██████████| 2/2 [00:00<00:00, 111.10it/s, loss=0.503]\n"
     ]
    },
    {
     "name": "stdout",
     "output_type": "stream",
     "text": [
      "- Train metrics: accuracy: 0.894 ; loss: 0.411\n",
      "- Eval metrics : accuracy: 0.857 ; loss: 0.500\n",
      "Epoch 41/100\n"
     ]
    },
    {
     "name": "stderr",
     "output_type": "stream",
     "text": [
      "100%|██████████| 2/2 [00:00<00:00, 112.38it/s, loss=0.488]\n"
     ]
    },
    {
     "name": "stdout",
     "output_type": "stream",
     "text": [
      "- Train metrics: accuracy: 0.894 ; loss: 0.399\n",
      "- Eval metrics : accuracy: 0.857 ; loss: 0.486\n",
      "Epoch 42/100\n"
     ]
    },
    {
     "name": "stderr",
     "output_type": "stream",
     "text": [
      "100%|██████████| 2/2 [00:00<00:00, 111.10it/s, loss=0.475]\n"
     ]
    },
    {
     "name": "stdout",
     "output_type": "stream",
     "text": [
      "- Train metrics: accuracy: 0.894 ; loss: 0.388\n",
      "- Eval metrics : accuracy: 0.862 ; loss: 0.473\n",
      "Epoch 43/100\n"
     ]
    },
    {
     "name": "stderr",
     "output_type": "stream",
     "text": [
      "100%|██████████| 2/2 [00:00<00:00, 117.63it/s, loss=0.461]\n"
     ]
    },
    {
     "name": "stdout",
     "output_type": "stream",
     "text": [
      "- Train metrics: accuracy: 0.894 ; loss: 0.378\n",
      "- Eval metrics : accuracy: 0.867 ; loss: 0.459\n",
      "Epoch 44/100\n"
     ]
    },
    {
     "name": "stderr",
     "output_type": "stream",
     "text": [
      "100%|██████████| 2/2 [00:00<00:00, 117.63it/s, loss=0.449]\n"
     ]
    },
    {
     "name": "stdout",
     "output_type": "stream",
     "text": [
      "- Train metrics: accuracy: 0.894 ; loss: 0.367\n",
      "- Eval metrics : accuracy: 0.872 ; loss: 0.447\n",
      "Epoch 45/100\n"
     ]
    },
    {
     "name": "stderr",
     "output_type": "stream",
     "text": [
      "100%|██████████| 2/2 [00:00<00:00, 125.00it/s, loss=0.436]\n"
     ]
    },
    {
     "name": "stdout",
     "output_type": "stream",
     "text": [
      "- Train metrics: accuracy: 0.894 ; loss: 0.357\n",
      "- Eval metrics : accuracy: 0.872 ; loss: 0.434\n",
      "Epoch 46/100\n"
     ]
    },
    {
     "name": "stderr",
     "output_type": "stream",
     "text": [
      "100%|██████████| 2/2 [00:00<00:00, 124.99it/s, loss=0.424]\n"
     ]
    },
    {
     "name": "stdout",
     "output_type": "stream",
     "text": [
      "- Train metrics: accuracy: 0.894 ; loss: 0.347\n",
      "- Eval metrics : accuracy: 0.872 ; loss: 0.422\n",
      "Epoch 47/100\n"
     ]
    },
    {
     "name": "stderr",
     "output_type": "stream",
     "text": [
      "100%|██████████| 2/2 [00:00<00:00, 117.64it/s, loss=0.412]\n"
     ]
    },
    {
     "name": "stdout",
     "output_type": "stream",
     "text": [
      "- Train metrics: accuracy: 0.894 ; loss: 0.337\n",
      "- Eval metrics : accuracy: 0.872 ; loss: 0.410\n",
      "Epoch 48/100\n"
     ]
    },
    {
     "name": "stderr",
     "output_type": "stream",
     "text": [
      "100%|██████████| 2/2 [00:00<00:00, 117.65it/s, loss=0.400]\n"
     ]
    },
    {
     "name": "stdout",
     "output_type": "stream",
     "text": [
      "- Train metrics: accuracy: 0.894 ; loss: 0.327\n",
      "- Eval metrics : accuracy: 0.877 ; loss: 0.398\n",
      "Epoch 49/100\n"
     ]
    },
    {
     "name": "stderr",
     "output_type": "stream",
     "text": [
      "100%|██████████| 2/2 [00:00<00:00, 111.11it/s, loss=0.389]\n"
     ]
    },
    {
     "name": "stdout",
     "output_type": "stream",
     "text": [
      "- Train metrics: accuracy: 0.894 ; loss: 0.317\n",
      "- Eval metrics : accuracy: 0.877 ; loss: 0.387\n",
      "Epoch 50/100\n"
     ]
    },
    {
     "name": "stderr",
     "output_type": "stream",
     "text": [
      "100%|██████████| 2/2 [00:00<00:00, 117.64it/s, loss=0.378]\n"
     ]
    },
    {
     "name": "stdout",
     "output_type": "stream",
     "text": [
      "- Train metrics: accuracy: 0.894 ; loss: 0.308\n",
      "- Eval metrics : accuracy: 0.877 ; loss: 0.376\n",
      "Epoch 51/100\n"
     ]
    },
    {
     "name": "stderr",
     "output_type": "stream",
     "text": [
      "100%|██████████| 2/2 [00:00<00:00, 117.66it/s, loss=0.367]\n"
     ]
    },
    {
     "name": "stdout",
     "output_type": "stream",
     "text": [
      "- Train metrics: accuracy: 0.894 ; loss: 0.298\n",
      "- Eval metrics : accuracy: 0.882 ; loss: 0.365\n",
      "Epoch 52/100\n"
     ]
    },
    {
     "name": "stderr",
     "output_type": "stream",
     "text": [
      "100%|██████████| 2/2 [00:00<00:00, 124.99it/s, loss=0.356]\n"
     ]
    },
    {
     "name": "stdout",
     "output_type": "stream",
     "text": [
      "- Train metrics: accuracy: 0.894 ; loss: 0.289\n",
      "- Eval metrics : accuracy: 0.887 ; loss: 0.354\n",
      "Epoch 53/100\n"
     ]
    },
    {
     "name": "stderr",
     "output_type": "stream",
     "text": [
      "100%|██████████| 2/2 [00:00<00:00, 117.64it/s, loss=0.345]\n"
     ]
    },
    {
     "name": "stdout",
     "output_type": "stream",
     "text": [
      "- Train metrics: accuracy: 0.894 ; loss: 0.280\n",
      "- Eval metrics : accuracy: 0.887 ; loss: 0.343\n",
      "Epoch 54/100\n"
     ]
    },
    {
     "name": "stderr",
     "output_type": "stream",
     "text": [
      "100%|██████████| 2/2 [00:00<00:00, 124.96it/s, loss=0.335]\n"
     ]
    },
    {
     "name": "stdout",
     "output_type": "stream",
     "text": [
      "- Train metrics: accuracy: 0.894 ; loss: 0.271\n",
      "- Eval metrics : accuracy: 0.887 ; loss: 0.333\n",
      "Epoch 55/100\n"
     ]
    },
    {
     "name": "stderr",
     "output_type": "stream",
     "text": [
      "100%|██████████| 2/2 [00:00<00:00, 95.24it/s, loss=0.325]\n"
     ]
    },
    {
     "name": "stdout",
     "output_type": "stream",
     "text": [
      "- Train metrics: accuracy: 0.894 ; loss: 0.262\n",
      "- Eval metrics : accuracy: 0.901 ; loss: 0.323\n",
      "Epoch 56/100\n"
     ]
    },
    {
     "name": "stderr",
     "output_type": "stream",
     "text": [
      "100%|██████████| 2/2 [00:00<00:00, 100.00it/s, loss=0.315]\n"
     ]
    },
    {
     "name": "stdout",
     "output_type": "stream",
     "text": [
      "- Train metrics: accuracy: 0.904 ; loss: 0.254\n",
      "- Eval metrics : accuracy: 0.906 ; loss: 0.313\n",
      "Epoch 57/100\n"
     ]
    },
    {
     "name": "stderr",
     "output_type": "stream",
     "text": [
      "100%|██████████| 2/2 [00:00<00:00, 105.27it/s, loss=0.305]\n"
     ]
    },
    {
     "name": "stdout",
     "output_type": "stream",
     "text": [
      "- Train metrics: accuracy: 0.915 ; loss: 0.245\n",
      "- Eval metrics : accuracy: 0.916 ; loss: 0.304\n",
      "Epoch 58/100\n"
     ]
    },
    {
     "name": "stderr",
     "output_type": "stream",
     "text": [
      "100%|██████████| 2/2 [00:00<00:00, 117.64it/s, loss=0.296]\n"
     ]
    },
    {
     "name": "stdout",
     "output_type": "stream",
     "text": [
      "- Train metrics: accuracy: 0.926 ; loss: 0.237\n",
      "- Eval metrics : accuracy: 0.916 ; loss: 0.295\n",
      "Epoch 59/100\n"
     ]
    },
    {
     "name": "stderr",
     "output_type": "stream",
     "text": [
      "100%|██████████| 2/2 [00:00<00:00, 111.11it/s, loss=0.287]\n"
     ]
    },
    {
     "name": "stdout",
     "output_type": "stream",
     "text": [
      "- Train metrics: accuracy: 0.926 ; loss: 0.230\n",
      "- Eval metrics : accuracy: 0.921 ; loss: 0.286\n",
      "Epoch 60/100\n"
     ]
    },
    {
     "name": "stderr",
     "output_type": "stream",
     "text": [
      "100%|██████████| 2/2 [00:00<00:00, 117.65it/s, loss=0.278]\n"
     ]
    },
    {
     "name": "stdout",
     "output_type": "stream",
     "text": [
      "- Train metrics: accuracy: 0.936 ; loss: 0.222\n",
      "- Eval metrics : accuracy: 0.921 ; loss: 0.277\n",
      "Epoch 61/100\n"
     ]
    },
    {
     "name": "stderr",
     "output_type": "stream",
     "text": [
      "100%|██████████| 2/2 [00:00<00:00, 111.12it/s, loss=0.270]\n"
     ]
    },
    {
     "name": "stdout",
     "output_type": "stream",
     "text": [
      "- Train metrics: accuracy: 0.936 ; loss: 0.215\n",
      "- Eval metrics : accuracy: 0.926 ; loss: 0.268\n",
      "Epoch 62/100\n"
     ]
    },
    {
     "name": "stderr",
     "output_type": "stream",
     "text": [
      "100%|██████████| 2/2 [00:00<00:00, 111.11it/s, loss=0.261]\n"
     ]
    },
    {
     "name": "stdout",
     "output_type": "stream",
     "text": [
      "- Train metrics: accuracy: 0.936 ; loss: 0.208\n",
      "- Eval metrics : accuracy: 0.931 ; loss: 0.260\n",
      "Epoch 63/100\n"
     ]
    },
    {
     "name": "stderr",
     "output_type": "stream",
     "text": [
      "100%|██████████| 2/2 [00:00<00:00, 117.64it/s, loss=0.253]\n"
     ]
    },
    {
     "name": "stdout",
     "output_type": "stream",
     "text": [
      "- Train metrics: accuracy: 0.947 ; loss: 0.201\n",
      "- Eval metrics : accuracy: 0.931 ; loss: 0.252\n",
      "Epoch 64/100\n"
     ]
    },
    {
     "name": "stderr",
     "output_type": "stream",
     "text": [
      "100%|██████████| 2/2 [00:00<00:00, 124.99it/s, loss=0.245]\n"
     ]
    },
    {
     "name": "stdout",
     "output_type": "stream",
     "text": [
      "- Train metrics: accuracy: 0.947 ; loss: 0.194\n",
      "- Eval metrics : accuracy: 0.936 ; loss: 0.244\n",
      "Epoch 65/100\n"
     ]
    },
    {
     "name": "stderr",
     "output_type": "stream",
     "text": [
      "100%|██████████| 2/2 [00:00<00:00, 111.11it/s, loss=0.238]\n"
     ]
    },
    {
     "name": "stdout",
     "output_type": "stream",
     "text": [
      "- Train metrics: accuracy: 0.947 ; loss: 0.188\n",
      "- Eval metrics : accuracy: 0.946 ; loss: 0.237\n",
      "Epoch 66/100\n"
     ]
    },
    {
     "name": "stderr",
     "output_type": "stream",
     "text": [
      "100%|██████████| 2/2 [00:00<00:00, 111.11it/s, loss=0.230]\n"
     ]
    },
    {
     "name": "stdout",
     "output_type": "stream",
     "text": [
      "- Train metrics: accuracy: 0.957 ; loss: 0.182\n",
      "- Eval metrics : accuracy: 0.946 ; loss: 0.229\n",
      "Epoch 67/100\n"
     ]
    },
    {
     "name": "stderr",
     "output_type": "stream",
     "text": [
      "100%|██████████| 2/2 [00:00<00:00, 111.12it/s, loss=0.223]\n"
     ]
    },
    {
     "name": "stdout",
     "output_type": "stream",
     "text": [
      "- Train metrics: accuracy: 0.957 ; loss: 0.176\n",
      "- Eval metrics : accuracy: 0.951 ; loss: 0.222\n",
      "Epoch 68/100\n"
     ]
    },
    {
     "name": "stderr",
     "output_type": "stream",
     "text": [
      "100%|██████████| 2/2 [00:00<00:00, 111.09it/s, loss=0.216]\n"
     ]
    },
    {
     "name": "stdout",
     "output_type": "stream",
     "text": [
      "- Train metrics: accuracy: 0.957 ; loss: 0.170\n",
      "- Eval metrics : accuracy: 0.951 ; loss: 0.215\n",
      "Epoch 69/100\n"
     ]
    },
    {
     "name": "stderr",
     "output_type": "stream",
     "text": [
      "100%|██████████| 2/2 [00:00<00:00, 111.11it/s, loss=0.209]\n"
     ]
    },
    {
     "name": "stdout",
     "output_type": "stream",
     "text": [
      "- Train metrics: accuracy: 0.957 ; loss: 0.164\n",
      "- Eval metrics : accuracy: 0.951 ; loss: 0.208\n",
      "Epoch 70/100\n"
     ]
    },
    {
     "name": "stderr",
     "output_type": "stream",
     "text": [
      "100%|██████████| 2/2 [00:00<00:00, 117.65it/s, loss=0.202]\n"
     ]
    },
    {
     "name": "stdout",
     "output_type": "stream",
     "text": [
      "- Train metrics: accuracy: 0.957 ; loss: 0.159\n",
      "- Eval metrics : accuracy: 0.951 ; loss: 0.202\n",
      "Epoch 71/100\n"
     ]
    },
    {
     "name": "stderr",
     "output_type": "stream",
     "text": [
      "100%|██████████| 2/2 [00:00<00:00, 124.98it/s, loss=0.196]\n"
     ]
    },
    {
     "name": "stdout",
     "output_type": "stream",
     "text": [
      "- Train metrics: accuracy: 0.957 ; loss: 0.154\n",
      "- Eval metrics : accuracy: 0.951 ; loss: 0.195\n",
      "Epoch 72/100\n"
     ]
    },
    {
     "name": "stderr",
     "output_type": "stream",
     "text": [
      "100%|██████████| 2/2 [00:00<00:00, 111.11it/s, loss=0.190]\n"
     ]
    },
    {
     "name": "stdout",
     "output_type": "stream",
     "text": [
      "- Train metrics: accuracy: 0.957 ; loss: 0.149\n",
      "- Eval metrics : accuracy: 0.951 ; loss: 0.189\n",
      "Epoch 73/100\n"
     ]
    },
    {
     "name": "stderr",
     "output_type": "stream",
     "text": [
      "100%|██████████| 2/2 [00:00<00:00, 133.32it/s, loss=0.184]\n"
     ]
    },
    {
     "name": "stdout",
     "output_type": "stream",
     "text": [
      "- Train metrics: accuracy: 0.957 ; loss: 0.144\n",
      "- Eval metrics : accuracy: 0.951 ; loss: 0.183\n",
      "Epoch 74/100\n"
     ]
    },
    {
     "name": "stderr",
     "output_type": "stream",
     "text": [
      "100%|██████████| 2/2 [00:00<00:00, 111.11it/s, loss=0.178]\n"
     ]
    },
    {
     "name": "stdout",
     "output_type": "stream",
     "text": [
      "- Train metrics: accuracy: 0.957 ; loss: 0.139\n",
      "- Eval metrics : accuracy: 0.951 ; loss: 0.177\n",
      "Epoch 75/100\n"
     ]
    },
    {
     "name": "stderr",
     "output_type": "stream",
     "text": [
      "100%|██████████| 2/2 [00:00<00:00, 111.11it/s, loss=0.172]\n"
     ]
    },
    {
     "name": "stdout",
     "output_type": "stream",
     "text": [
      "- Train metrics: accuracy: 0.957 ; loss: 0.135\n",
      "- Eval metrics : accuracy: 0.955 ; loss: 0.172\n",
      "Epoch 76/100\n"
     ]
    },
    {
     "name": "stderr",
     "output_type": "stream",
     "text": [
      "100%|██████████| 2/2 [00:00<00:00, 112.94it/s, loss=0.167]\n"
     ]
    },
    {
     "name": "stdout",
     "output_type": "stream",
     "text": [
      "- Train metrics: accuracy: 0.968 ; loss: 0.130\n",
      "- Eval metrics : accuracy: 0.960 ; loss: 0.166\n",
      "Epoch 77/100\n"
     ]
    },
    {
     "name": "stderr",
     "output_type": "stream",
     "text": [
      "100%|██████████| 2/2 [00:00<00:00, 117.66it/s, loss=0.162]\n"
     ]
    },
    {
     "name": "stdout",
     "output_type": "stream",
     "text": [
      "- Train metrics: accuracy: 0.979 ; loss: 0.126\n",
      "- Eval metrics : accuracy: 0.960 ; loss: 0.161\n",
      "Epoch 78/100\n"
     ]
    },
    {
     "name": "stderr",
     "output_type": "stream",
     "text": [
      "100%|██████████| 2/2 [00:00<00:00, 117.65it/s, loss=0.156]\n"
     ]
    },
    {
     "name": "stdout",
     "output_type": "stream",
     "text": [
      "- Train metrics: accuracy: 0.979 ; loss: 0.122\n",
      "- Eval metrics : accuracy: 0.970 ; loss: 0.156\n",
      "Epoch 79/100\n"
     ]
    },
    {
     "name": "stderr",
     "output_type": "stream",
     "text": [
      "100%|██████████| 2/2 [00:00<00:00, 117.65it/s, loss=0.152]\n"
     ]
    },
    {
     "name": "stdout",
     "output_type": "stream",
     "text": [
      "- Train metrics: accuracy: 0.979 ; loss: 0.118\n",
      "- Eval metrics : accuracy: 0.970 ; loss: 0.151\n",
      "Epoch 80/100\n"
     ]
    },
    {
     "name": "stderr",
     "output_type": "stream",
     "text": [
      "100%|██████████| 2/2 [00:00<00:00, 111.10it/s, loss=0.147]\n"
     ]
    },
    {
     "name": "stdout",
     "output_type": "stream",
     "text": [
      "- Train metrics: accuracy: 0.979 ; loss: 0.114\n",
      "- Eval metrics : accuracy: 0.980 ; loss: 0.146\n",
      "Epoch 81/100\n"
     ]
    },
    {
     "name": "stderr",
     "output_type": "stream",
     "text": [
      "100%|██████████| 2/2 [00:00<00:00, 117.65it/s, loss=0.142]\n"
     ]
    },
    {
     "name": "stdout",
     "output_type": "stream",
     "text": [
      "- Train metrics: accuracy: 0.989 ; loss: 0.111\n",
      "- Eval metrics : accuracy: 0.980 ; loss: 0.142\n",
      "Epoch 82/100\n"
     ]
    },
    {
     "name": "stderr",
     "output_type": "stream",
     "text": [
      "100%|██████████| 2/2 [00:00<00:00, 111.11it/s, loss=0.138]\n"
     ]
    },
    {
     "name": "stdout",
     "output_type": "stream",
     "text": [
      "- Train metrics: accuracy: 0.989 ; loss: 0.107\n",
      "- Eval metrics : accuracy: 0.985 ; loss: 0.137\n",
      "Epoch 83/100\n"
     ]
    },
    {
     "name": "stderr",
     "output_type": "stream",
     "text": [
      "100%|██████████| 2/2 [00:00<00:00, 117.63it/s, loss=0.134]\n"
     ]
    },
    {
     "name": "stdout",
     "output_type": "stream",
     "text": [
      "- Train metrics: accuracy: 1.000 ; loss: 0.104\n",
      "- Eval metrics : accuracy: 0.985 ; loss: 0.133\n",
      "Epoch 84/100\n"
     ]
    },
    {
     "name": "stderr",
     "output_type": "stream",
     "text": [
      "100%|██████████| 2/2 [00:00<00:00, 105.24it/s, loss=0.129]\n"
     ]
    },
    {
     "name": "stdout",
     "output_type": "stream",
     "text": [
      "- Train metrics: accuracy: 1.000 ; loss: 0.101\n",
      "- Eval metrics : accuracy: 0.985 ; loss: 0.129\n",
      "Epoch 85/100\n"
     ]
    },
    {
     "name": "stderr",
     "output_type": "stream",
     "text": [
      "100%|██████████| 2/2 [00:00<00:00, 111.11it/s, loss=0.125]\n"
     ]
    },
    {
     "name": "stdout",
     "output_type": "stream",
     "text": [
      "- Train metrics: accuracy: 1.000 ; loss: 0.098\n",
      "- Eval metrics : accuracy: 0.990 ; loss: 0.125\n",
      "Epoch 86/100\n"
     ]
    },
    {
     "name": "stderr",
     "output_type": "stream",
     "text": [
      "100%|██████████| 2/2 [00:00<00:00, 117.65it/s, loss=0.122]\n"
     ]
    },
    {
     "name": "stdout",
     "output_type": "stream",
     "text": [
      "- Train metrics: accuracy: 1.000 ; loss: 0.095\n",
      "- Eval metrics : accuracy: 0.995 ; loss: 0.121\n",
      "Epoch 87/100\n"
     ]
    },
    {
     "name": "stderr",
     "output_type": "stream",
     "text": [
      "100%|██████████| 2/2 [00:00<00:00, 117.64it/s, loss=0.118]\n"
     ]
    },
    {
     "name": "stdout",
     "output_type": "stream",
     "text": [
      "- Train metrics: accuracy: 1.000 ; loss: 0.092\n",
      "- Eval metrics : accuracy: 0.995 ; loss: 0.118\n",
      "Epoch 88/100\n"
     ]
    },
    {
     "name": "stderr",
     "output_type": "stream",
     "text": [
      "100%|██████████| 2/2 [00:00<00:00, 117.65it/s, loss=0.114]\n"
     ]
    },
    {
     "name": "stdout",
     "output_type": "stream",
     "text": [
      "- Train metrics: accuracy: 1.000 ; loss: 0.089\n",
      "- Eval metrics : accuracy: 0.995 ; loss: 0.114\n",
      "Epoch 89/100\n"
     ]
    },
    {
     "name": "stderr",
     "output_type": "stream",
     "text": [
      "100%|██████████| 2/2 [00:00<00:00, 117.64it/s, loss=0.111]\n"
     ]
    },
    {
     "name": "stdout",
     "output_type": "stream",
     "text": [
      "- Train metrics: accuracy: 1.000 ; loss: 0.086\n",
      "- Eval metrics : accuracy: 0.995 ; loss: 0.111\n",
      "Epoch 90/100\n"
     ]
    },
    {
     "name": "stderr",
     "output_type": "stream",
     "text": [
      "100%|██████████| 2/2 [00:00<00:00, 117.64it/s, loss=0.108]\n"
     ]
    },
    {
     "name": "stdout",
     "output_type": "stream",
     "text": [
      "- Train metrics: accuracy: 1.000 ; loss: 0.084\n",
      "- Eval metrics : accuracy: 0.995 ; loss: 0.108\n",
      "Epoch 91/100\n"
     ]
    },
    {
     "name": "stderr",
     "output_type": "stream",
     "text": [
      "100%|██████████| 2/2 [00:00<00:00, 111.13it/s, loss=0.105]\n"
     ]
    },
    {
     "name": "stdout",
     "output_type": "stream",
     "text": [
      "- Train metrics: accuracy: 1.000 ; loss: 0.082\n",
      "- Eval metrics : accuracy: 0.995 ; loss: 0.105\n",
      "Epoch 92/100\n"
     ]
    },
    {
     "name": "stderr",
     "output_type": "stream",
     "text": [
      "100%|██████████| 2/2 [00:00<00:00, 117.64it/s, loss=0.102]\n"
     ]
    },
    {
     "name": "stdout",
     "output_type": "stream",
     "text": [
      "- Train metrics: accuracy: 1.000 ; loss: 0.079\n",
      "- Eval metrics : accuracy: 0.995 ; loss: 0.102\n",
      "Epoch 93/100\n"
     ]
    },
    {
     "name": "stderr",
     "output_type": "stream",
     "text": [
      "100%|██████████| 2/2 [00:00<00:00, 117.65it/s, loss=0.099]\n"
     ]
    },
    {
     "name": "stdout",
     "output_type": "stream",
     "text": [
      "- Train metrics: accuracy: 1.000 ; loss: 0.077\n",
      "- Eval metrics : accuracy: 0.995 ; loss: 0.099\n",
      "Epoch 94/100\n"
     ]
    },
    {
     "name": "stderr",
     "output_type": "stream",
     "text": [
      "100%|██████████| 2/2 [00:00<00:00, 117.64it/s, loss=0.096]\n"
     ]
    },
    {
     "name": "stdout",
     "output_type": "stream",
     "text": [
      "- Train metrics: accuracy: 1.000 ; loss: 0.075\n",
      "- Eval metrics : accuracy: 0.995 ; loss: 0.096\n",
      "Epoch 95/100\n"
     ]
    },
    {
     "name": "stderr",
     "output_type": "stream",
     "text": [
      "100%|██████████| 2/2 [00:00<00:00, 117.64it/s, loss=0.093]\n"
     ]
    },
    {
     "name": "stdout",
     "output_type": "stream",
     "text": [
      "- Train metrics: accuracy: 1.000 ; loss: 0.073\n",
      "- Eval metrics : accuracy: 0.995 ; loss: 0.093\n",
      "Epoch 96/100\n"
     ]
    },
    {
     "name": "stderr",
     "output_type": "stream",
     "text": [
      "100%|██████████| 2/2 [00:00<00:00, 111.11it/s, loss=0.091]\n"
     ]
    },
    {
     "name": "stdout",
     "output_type": "stream",
     "text": [
      "- Train metrics: accuracy: 1.000 ; loss: 0.071\n",
      "- Eval metrics : accuracy: 0.995 ; loss: 0.091\n",
      "Epoch 97/100\n"
     ]
    },
    {
     "name": "stderr",
     "output_type": "stream",
     "text": [
      "100%|██████████| 2/2 [00:00<00:00, 117.63it/s, loss=0.088]\n"
     ]
    },
    {
     "name": "stdout",
     "output_type": "stream",
     "text": [
      "- Train metrics: accuracy: 1.000 ; loss: 0.069\n",
      "- Eval metrics : accuracy: 0.995 ; loss: 0.088\n",
      "Epoch 98/100\n"
     ]
    },
    {
     "name": "stderr",
     "output_type": "stream",
     "text": [
      "100%|██████████| 2/2 [00:00<00:00, 117.65it/s, loss=0.086]\n"
     ]
    },
    {
     "name": "stdout",
     "output_type": "stream",
     "text": [
      "- Train metrics: accuracy: 1.000 ; loss: 0.067\n",
      "- Eval metrics : accuracy: 0.995 ; loss: 0.086\n",
      "Epoch 99/100\n"
     ]
    },
    {
     "name": "stderr",
     "output_type": "stream",
     "text": [
      "100%|██████████| 2/2 [00:00<00:00, 117.65it/s, loss=0.083]\n"
     ]
    },
    {
     "name": "stdout",
     "output_type": "stream",
     "text": [
      "- Train metrics: accuracy: 1.000 ; loss: 0.065\n",
      "- Eval metrics : accuracy: 0.995 ; loss: 0.083\n",
      "Epoch 100/100\n"
     ]
    },
    {
     "name": "stderr",
     "output_type": "stream",
     "text": [
      "100%|██████████| 2/2 [00:00<00:00, 117.66it/s, loss=0.081]"
     ]
    },
    {
     "name": "stdout",
     "output_type": "stream",
     "text": [
      "- Train metrics: accuracy: 1.000 ; loss: 0.064\n",
      "- Eval metrics : accuracy: 0.995 ; loss: 0.081\n"
     ]
    },
    {
     "name": "stderr",
     "output_type": "stream",
     "text": [
      "\n"
     ]
    }
   ],
   "source": [
    "# manually change vocab size (unique no. of words) and change label size (unique no. of labels) for now\n",
    "model = Net(35180, 50, 50, 6)\n",
    "optimizer = optim.Adam(model.parameters(), lr=0.001)\n",
    "train_and_evaluate(model, train_sentences, train_labels, val_sentences, val_labels, 100, 5, optimizer, loss_fn, metrics)\n",
    "\n",
    "if (os.path.isfile(\"model_weights.pth\")):\n",
    "    model.load_state_dict(torch.load('model_weights.pth'))\n",
    "else:\n",
    "    torch.save(model.state_dict(), 'model_weights.pth')\n"
   ]
  },
  {
   "cell_type": "code",
   "execution_count": 15,
   "id": "dbc5724d",
   "metadata": {},
   "outputs": [
    {
     "name": "stdout",
     "output_type": "stream",
     "text": [
      "sentences_w_words: ['At the Group of Eight summit in Scotland , Japanese Prime Minister Junichiro Koizumi said he is outraged by the London attacks .', 'He noted terrorist acts must not be forgivable .', 'Sarin gas attacks on the Tokyo subway system in 1995 killed 12 people and injured thousands .', 'A human rights group has called on Asian leaders to increase pressure on Burma to hasten democratic reforms and stop human rights abuses .', 'The Alternative ASEAN Network for Burma said officials from the Association of Southeast Asian Nations meeting this week should consider new options in dealing with Burma .', 'It said leaders should consider supporting a possible resolution on Burma by the United Nations Security Council .', \"The group also urged ASEAN leaders to acknowledge the many security problems caused by Burma 's military regime .\", \"The rights group accuses Burma 's government of involvement in illegal drug trafficking and human rights abuses , especially against some ethnic groups in Burma .\", 'Iraqi officials say gunmen have killed a member of the secular coalition led by former Iraqi prime minister Ayad Allawi .', 'Officials say Faras al-Jabouri was shot Saturday after gunmen raided his home near the northern city of Mosul .']\n",
      "labels: ['O O I-org I-org I-org I-org O I-geo O I-gpe I-per I-per I-per I-per O O O O O O I-geo O O', 'O O O O O O O O O', 'O O O O O I-geo O O O I-tim O O O O O O O', 'O O O O O O O O O O O O O I-geo O O O O O O O O O O', 'O I-org I-org I-org I-org I-org O O O O I-org I-org I-org I-org I-org O O O O O O O O O O I-geo O', 'O O O O O O O O O O I-geo O O I-org I-org I-org I-org O', 'O O O O I-org O O O O O O O O O I-geo O O O O', 'O O O O I-geo O O O O O O O O O O O O O O O O O O O I-geo O', 'I-gpe O O O O O O O O O O O O O O I-gpe O O I-per I-per O', 'O O O O O O I-tim O O O O O O O O O O I-geo O']\n",
      "test_sentences: [[266, 9, 267, 1, 268, 269, 11, 270, 93, 271, 272, 273, 274, 275, 165, 276, 78, 277, 167, 9, 6, 278, 21], [279, 280, 281, 282, 283, 237, 284, 285, 21], [286, 287, 278, 63, 9, 288, 289, 137, 11, 290, 24, 291, 292, 13, 293, 294, 21], [295, 296, 297, 298, 245, 169, 63, 299, 300, 7, 301, 302, 63, 303, 7, 304, 305, 306, 13, 307, 296, 297, 308, 21], [61, 309, 310, 311, 312, 303, 165, 125, 18, 9, 313, 1, 314, 299, 315, 316, 115, 116, 317, 318, 262, 319, 11, 320, 31, 303, 21], [321, 165, 300, 317, 318, 322, 45, 323, 324, 63, 303, 167, 9, 325, 315, 326, 327, 21], [61, 298, 180, 328, 310, 300, 7, 329, 9, 330, 192, 331, 332, 167, 303, 68, 184, 333, 21], [61, 297, 298, 334, 303, 68, 335, 1, 336, 11, 337, 338, 339, 13, 296, 297, 308, 93, 340, 341, 342, 343, 344, 11, 303, 21], [345, 125, 126, 346, 3, 24, 45, 347, 1, 9, 348, 349, 350, 167, 351, 345, 352, 353, 354, 355, 21], [198, 126, 356, 357, 59, 358, 359, 133, 346, 360, 150, 361, 362, 9, 363, 364, 1, 365, 21]]\n",
      "test_labels: [[0, 0, 4, 4, 4, 4, 0, 1, 0, 2, 3, 3, 3, 3, 0, 0, 0, 0, 0, 0, 1, 0, 0], [0, 0, 0, 0, 0, 0, 0, 0, 0], [0, 0, 0, 0, 0, 1, 0, 0, 0, 5, 0, 0, 0, 0, 0, 0, 0], [0, 0, 0, 0, 0, 0, 0, 0, 0, 0, 0, 0, 0, 1, 0, 0, 0, 0, 0, 0, 0, 0, 0, 0], [0, 4, 4, 4, 4, 4, 0, 0, 0, 0, 4, 4, 4, 4, 4, 0, 0, 0, 0, 0, 0, 0, 0, 0, 0, 1, 0], [0, 0, 0, 0, 0, 0, 0, 0, 0, 0, 1, 0, 0, 4, 4, 4, 4, 0], [0, 0, 0, 0, 4, 0, 0, 0, 0, 0, 0, 0, 0, 0, 1, 0, 0, 0, 0], [0, 0, 0, 0, 1, 0, 0, 0, 0, 0, 0, 0, 0, 0, 0, 0, 0, 0, 0, 0, 0, 0, 0, 0, 1, 0], [2, 0, 0, 0, 0, 0, 0, 0, 0, 0, 0, 0, 0, 0, 0, 2, 0, 0, 3, 3, 0], [0, 0, 0, 0, 0, 0, 5, 0, 0, 0, 0, 0, 0, 0, 0, 0, 0, 1, 0]]\n"
     ]
    }
   ],
   "source": [
    "# test_sentences_file = \"stanford_cs230_medium_data/test/sentences.txt\"\n",
    "# test_labels_file = \"stanford_cs230_medium_data/test/labels.txt\"\n",
    "test_sentences_file = \"stanford_cs230_small_data/test/sentences.txt\"\n",
    "test_labels_file = \"stanford_cs230_small_data/test/labels.txt\"\n",
    "\n",
    "sentences_w_words = []\n",
    "labels = []\n",
    "\n",
    "test_sentences = []\n",
    "test_labels = []\n",
    "\n",
    "with open(test_sentences_file) as f:\n",
    "    for sentence_words in f.read().splitlines():\n",
    "        #replace each token by its index if it is in vocab\n",
    "        #else use index of UNK\n",
    "        sentences_w_words.append(sentence_words)\n",
    "        s = [vocab[token] if token in vocab\n",
    "             else vocab['UNK']\n",
    "             for token in sentence_words.split(' ')]\n",
    "        test_sentences.append(s)\n",
    "\n",
    "with open(test_labels_file) as f:\n",
    "    for sentence_labels in f.read().splitlines():\n",
    "        #replace each label by its index\n",
    "        l = [tag_map[label] for label in sentence_labels.split(' ')]\n",
    "        test_labels.append(l)\n",
    "        labels.append(sentence_labels)\n",
    "\n",
    "print(f\"sentences_w_words: {sentences_w_words}\")\n",
    "print(f\"labels: {labels}\")\n",
    "print(f\"test_sentences: {test_sentences}\")\n",
    "print(f\"test_labels: {test_labels}\")"
   ]
  },
  {
   "cell_type": "code",
   "execution_count": 17,
   "id": "9be8268f",
   "metadata": {},
   "outputs": [
    {
     "name": "stdout",
     "output_type": "stream",
     "text": [
      "10\n",
      "tensor([[-1.8132e+00, -1.9280e+00, -8.9868e-01, -2.5352e+00, -2.3676e+00,\n",
      "         -2.1949e+00],\n",
      "        [-1.2220e-01, -3.2846e+00, -3.5433e+00, -4.0057e+00, -4.2641e+00,\n",
      "         -4.1119e+00],\n",
      "        [-4.0444e-02, -4.4689e+00, -4.5258e+00, -5.2178e+00, -5.4095e+00,\n",
      "         -4.8984e+00],\n",
      "        [-4.5349e-03, -6.0764e+00, -7.1475e+00, -7.6917e+00, -7.6807e+00,\n",
      "         -7.5557e+00],\n",
      "        [-1.9955e-03, -6.8850e+00, -7.9396e+00, -8.8087e+00, -8.0985e+00,\n",
      "         -8.7361e+00],\n",
      "        [-7.3620e-04, -7.8187e+00, -9.0646e+00, -1.0066e+01, -8.9823e+00,\n",
      "         -9.9034e+00],\n",
      "        [-9.6977e-04, -7.4756e+00, -8.9121e+00, -9.7030e+00, -8.9185e+00,\n",
      "         -9.5272e+00],\n",
      "        [-1.7570e-03, -6.9633e+00, -8.1412e+00, -8.9016e+00, -8.6728e+00,\n",
      "         -8.4637e+00],\n",
      "        [-3.5990e-03, -6.1261e+00, -7.7328e+00, -8.8569e+00, -7.4574e+00,\n",
      "         -8.2948e+00],\n",
      "        [-2.5095e-03, -6.4901e+00, -8.5183e+00, -9.2971e+00, -7.4076e+00,\n",
      "         -9.3168e+00],\n",
      "        [-1.5276e-03, -7.1009e+00, -8.5277e+00, -9.5207e+00, -7.9419e+00,\n",
      "         -9.4950e+00],\n",
      "        [-1.3875e-03, -7.3845e+00, -8.6316e+00, -9.2877e+00, -7.7658e+00,\n",
      "         -9.5560e+00],\n",
      "        [-3.6525e-03, -6.4928e+00, -6.9977e+00, -8.1155e+00, -7.4390e+00,\n",
      "         -8.0142e+00],\n",
      "        [-2.8402e-03, -6.8716e+00, -7.4430e+00, -7.8073e+00, -7.3067e+00,\n",
      "         -8.9025e+00],\n",
      "        [-3.3149e-02, -4.7150e+00, -4.7847e+00, -5.3839e+00, -4.6917e+00,\n",
      "         -6.4832e+00],\n",
      "        [-1.5223e+00, -2.1462e+00, -6.6597e-01, -2.8485e+00, -3.0036e+00,\n",
      "         -3.1337e+00],\n",
      "        [-4.0773e-02, -5.2259e+00, -4.8524e+00, -4.6671e+00, -4.4318e+00,\n",
      "         -5.2075e+00],\n",
      "        [-8.0548e-02, -6.1343e+00, -4.9299e+00, -2.8723e+00, -5.0189e+00,\n",
      "         -5.3358e+00],\n",
      "        [-2.5618e+00, -4.0122e+00, -2.9470e+00, -2.6314e-01, -3.2238e+00,\n",
      "         -3.1281e+00],\n",
      "        [-1.6840e+00, -3.6447e+00, -2.9319e+00, -4.2864e-01, -3.4501e+00,\n",
      "         -2.9602e+00],\n",
      "        [-8.6046e-02, -4.9523e+00, -4.8338e+00, -3.0693e+00, -4.4472e+00,\n",
      "         -4.6822e+00]], grad_fn=<LogSoftmaxBackward0>)\n",
      "torch.Size([21, 6])\n"
     ]
    }
   ],
   "source": [
    "print(len(test_sentences))\n",
    "test_data_iterator = data_iterator(test_sentences, test_labels, len(test_sentences), 1, shuffle=True)\n",
    "test_batch, labels_batch, abc = next(test_data_iterator)\n",
    "model_output = model(test_batch)\n",
    "print(model_output)\n",
    "print(model_output.size())"
   ]
  },
  {
   "cell_type": "code",
   "execution_count": 18,
   "id": "ff42671f",
   "metadata": {},
   "outputs": [
    {
     "name": "stdout",
     "output_type": "stream",
     "text": [
      "model_output \n",
      " tensor([[-1.8132e+00, -1.9280e+00, -8.9868e-01, -2.5352e+00, -2.3676e+00,\n",
      "         -2.1949e+00],\n",
      "        [-1.2220e-01, -3.2846e+00, -3.5433e+00, -4.0057e+00, -4.2641e+00,\n",
      "         -4.1119e+00],\n",
      "        [-4.0444e-02, -4.4689e+00, -4.5258e+00, -5.2178e+00, -5.4095e+00,\n",
      "         -4.8984e+00],\n",
      "        [-4.5349e-03, -6.0764e+00, -7.1475e+00, -7.6917e+00, -7.6807e+00,\n",
      "         -7.5557e+00],\n",
      "        [-1.9955e-03, -6.8850e+00, -7.9396e+00, -8.8087e+00, -8.0985e+00,\n",
      "         -8.7361e+00],\n",
      "        [-7.3620e-04, -7.8187e+00, -9.0646e+00, -1.0066e+01, -8.9823e+00,\n",
      "         -9.9034e+00],\n",
      "        [-9.6977e-04, -7.4756e+00, -8.9121e+00, -9.7030e+00, -8.9185e+00,\n",
      "         -9.5272e+00],\n",
      "        [-1.7570e-03, -6.9633e+00, -8.1412e+00, -8.9016e+00, -8.6728e+00,\n",
      "         -8.4637e+00],\n",
      "        [-3.5990e-03, -6.1261e+00, -7.7328e+00, -8.8569e+00, -7.4574e+00,\n",
      "         -8.2948e+00],\n",
      "        [-2.5095e-03, -6.4901e+00, -8.5183e+00, -9.2971e+00, -7.4076e+00,\n",
      "         -9.3168e+00],\n",
      "        [-1.5276e-03, -7.1009e+00, -8.5277e+00, -9.5207e+00, -7.9419e+00,\n",
      "         -9.4950e+00],\n",
      "        [-1.3875e-03, -7.3845e+00, -8.6316e+00, -9.2877e+00, -7.7658e+00,\n",
      "         -9.5560e+00],\n",
      "        [-3.6525e-03, -6.4928e+00, -6.9977e+00, -8.1155e+00, -7.4390e+00,\n",
      "         -8.0142e+00],\n",
      "        [-2.8402e-03, -6.8716e+00, -7.4430e+00, -7.8073e+00, -7.3067e+00,\n",
      "         -8.9025e+00],\n",
      "        [-3.3149e-02, -4.7150e+00, -4.7847e+00, -5.3839e+00, -4.6917e+00,\n",
      "         -6.4832e+00],\n",
      "        [-1.5223e+00, -2.1462e+00, -6.6597e-01, -2.8485e+00, -3.0036e+00,\n",
      "         -3.1337e+00],\n",
      "        [-4.0773e-02, -5.2259e+00, -4.8524e+00, -4.6671e+00, -4.4318e+00,\n",
      "         -5.2075e+00],\n",
      "        [-8.0548e-02, -6.1343e+00, -4.9299e+00, -2.8723e+00, -5.0189e+00,\n",
      "         -5.3358e+00],\n",
      "        [-2.5618e+00, -4.0122e+00, -2.9470e+00, -2.6314e-01, -3.2238e+00,\n",
      "         -3.1281e+00],\n",
      "        [-1.6840e+00, -3.6447e+00, -2.9319e+00, -4.2864e-01, -3.4501e+00,\n",
      "         -2.9602e+00],\n",
      "        [-8.6046e-02, -4.9523e+00, -4.8338e+00, -3.0693e+00, -4.4472e+00,\n",
      "         -4.6822e+00]], grad_fn=<LogSoftmaxBackward0>)\n",
      "sentences_w_words \n",
      " [[345, 125, 126, 346, 3, 24, 45, 347, 1, 9, 348, 349, 350, 167, 351, 345, 352, 353, 354, 355, 21]]\n",
      "predicted_labels \n",
      " [2 0 0 0 0 0 0 0 0 0 0 0 0 0 0 2 0 0 3 3 0]\n"
     ]
    }
   ],
   "source": [
    "print(f\"model_output \\n {model_output}\")\n",
    "# predicted_labels = torch.argmax(model_output, dim=1)\n",
    "# print(f\"predicted_labels \\n {predicted_labels}\")\n",
    "# predicted_labels = torch.argmax(torch.abs(model_output), dim=1)\n",
    "# print(f\"predicted_labels \\n {predicted_labels}\")\n",
    "predicted_labels = np.argmax(model_output.detach().numpy(), axis=1)\n",
    "print(f\"sentences_w_words \\n {abc}\")\n",
    "print(f\"predicted_labels \\n {predicted_labels}\")\n",
    "# print(f\"correct_labels \\n {}\")"
   ]
  },
  {
   "cell_type": "code",
   "execution_count": null,
   "id": "b30ad35f",
   "metadata": {},
   "outputs": [],
   "source": []
  }
 ],
 "metadata": {
  "kernelspec": {
   "display_name": "Python 3",
   "language": "python",
   "name": "python3"
  },
  "language_info": {
   "codemirror_mode": {
    "name": "ipython",
    "version": 3
   },
   "file_extension": ".py",
   "mimetype": "text/x-python",
   "name": "python",
   "nbconvert_exporter": "python",
   "pygments_lexer": "ipython3",
   "version": "3.11.4"
  }
 },
 "nbformat": 4,
 "nbformat_minor": 5
}
