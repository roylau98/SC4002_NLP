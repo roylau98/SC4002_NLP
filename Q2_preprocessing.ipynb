{
 "cells": [
  {
   "cell_type": "code",
   "execution_count": 1,
   "id": "initial_id",
   "metadata": {
    "ExecuteTime": {
     "end_time": "2023-10-23T15:05:02.825302500Z",
     "start_time": "2023-10-23T15:05:02.804947800Z"
    }
   },
   "outputs": [],
   "source": [
    "import pandas as pd\n",
    "import random \n",
    "from sklearn.model_selection import train_test_split\n",
    "import numpy as np\n",
    "import torch"
   ]
  },
  {
   "cell_type": "code",
   "execution_count": 2,
   "id": "dcd837ffdc4a812e",
   "metadata": {
    "ExecuteTime": {
     "end_time": "2023-10-23T15:22:30.463818800Z",
     "start_time": "2023-10-23T15:22:30.395748100Z"
    },
    "collapsed": false,
    "jupyter": {
     "outputs_hidden": false
    }
   },
   "outputs": [
    {
     "name": "stdout",
     "output_type": "stream",
     "text": [
      "merged classes: [3, 4]\n"
     ]
    }
   ],
   "source": [
    "# read the csvs\n",
    "training_data = pd.read_csv(filepath_or_buffer=\"TREC_dataset/train.csv\", sep=\",\") \n",
    "test_data = pd.read_csv(filepath_or_buffer=\"TREC_dataset/test.csv\", sep=\",\") \n",
    "\n",
    "# get all coarse labels, they are integers from 0 to 5\n",
    "labels_coarse = list(set([x for x in training_data[\"label-coarse\"]]))\n",
    "\n",
    "# choosing two classes to merge\n",
    "merged_old_labels = random.sample(labels_coarse, k=2)\n",
    "print(f\"merged classes: {merged_old_labels}\")\n",
    "\n",
    "# define the new class mappings old coarse labels (key): new coarse labels (key)\n",
    "# new labels are 0, 1, 2, 3, 4, and 4 is OTHERS\n",
    "old_to_new_labels = {}\n",
    "new_to_old_labels ={}\n",
    "\n",
    "next_new_label = 0\n",
    "\n",
    "for old_label in labels_coarse:\n",
    "    if old_label not in merged_old_labels:\n",
    "        old_to_new_labels[old_label] = next_new_label\n",
    "        new_to_old_labels[next_new_label] = old_label\n",
    "        next_new_label += 1\n",
    "    else:\n",
    "        old_to_new_labels[old_label] = 4\n",
    "        \n",
    "new_to_old_labels[4] = merged_old_labels\n",
    "            \n",
    "# replace all the labels in the training and test dataset\n",
    "for i, row in training_data.iterrows():\n",
    "    training_data.at[i,'label-coarse'] = old_to_new_labels[training_data.at[i,'label-coarse']]\n",
    "    \n",
    "for i, row in test_data.iterrows():\n",
    "    test_data.at[i,'label-coarse'] = old_to_new_labels[test_data.at[i,'label-coarse']]\n",
    "    \n",
    "# save the files\n",
    "training_data.drop(columns=['label-fine'], inplace=True)\n",
    "test_data.drop(columns=['label-fine'], inplace=True)\n",
    "training_data.to_csv(path_or_buf=\"TREC_dataset/modified_training_data.csv\", index=False, sep=',')\n",
    "test_data.to_csv(path_or_buf=\"TREC_dataset/modified_test_data.csv\", index=False, sep=',')"
   ]
  },
  {
   "cell_type": "code",
   "execution_count": 3,
   "id": "a3b129fc-2ca4-464c-b6bf-e5c38b415a56",
   "metadata": {},
   "outputs": [
    {
     "data": {
      "text/plain": [
       "{0: 0, 1: 1, 2: 2, 3: 4, 4: 4, 5: 3}"
      ]
     },
     "execution_count": 3,
     "metadata": {},
     "output_type": "execute_result"
    }
   ],
   "source": [
    "old_to_new_labels"
   ]
  },
  {
   "cell_type": "code",
   "execution_count": 4,
   "id": "588711b6-a368-4472-a5aa-18f93e515e67",
   "metadata": {},
   "outputs": [
    {
     "data": {
      "text/plain": [
       "{0: 0, 1: 1, 2: 2, 3: 5, 4: [3, 4]}"
      ]
     },
     "execution_count": 4,
     "metadata": {},
     "output_type": "execute_result"
    }
   ],
   "source": [
    "new_to_old_labels"
   ]
  }
 ],
 "metadata": {
  "kernelspec": {
   "display_name": "Python 3 (ipykernel)",
   "language": "python",
   "name": "python3"
  },
  "language_info": {
   "codemirror_mode": {
    "name": "ipython",
    "version": 3
   },
   "file_extension": ".py",
   "mimetype": "text/x-python",
   "name": "python",
   "nbconvert_exporter": "python",
   "pygments_lexer": "ipython3",
   "version": "3.11.1"
  }
 },
 "nbformat": 4,
 "nbformat_minor": 5
}
