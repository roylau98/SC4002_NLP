{
 "cells": [
  {
   "cell_type": "code",
   "execution_count": 2,
   "id": "initial_id",
   "metadata": {
    "collapsed": true,
    "ExecuteTime": {
     "end_time": "2023-11-04T07:37:02.631403500Z",
     "start_time": "2023-11-04T07:37:01.855052200Z"
    }
   },
   "outputs": [],
   "source": [
    "import pandas as pd\n",
    "import random"
   ]
  },
  {
   "cell_type": "code",
   "execution_count": 3,
   "id": "dcd837ffdc4a812e",
   "metadata": {
    "collapsed": false,
    "ExecuteTime": {
     "end_time": "2023-11-04T07:37:04.137547500Z",
     "start_time": "2023-11-04T07:37:03.376894100Z"
    }
   },
   "outputs": [
    {
     "name": "stdout",
     "output_type": "stream",
     "text": [
      "Merged classes: [0, 2]\n"
     ]
    }
   ],
   "source": [
    "# read the csvs\n",
    "training_data = pd.read_csv(filepath_or_buffer=\"TREC_dataset/train.csv\", sep=\",\") \n",
    "test_data = pd.read_csv(filepath_or_buffer=\"TREC_dataset/test.csv\", sep=\",\") \n",
    "\n",
    "# get all coarse labels, they are integers from 0 to 5\n",
    "labels_coarse = list(set([x for x in training_data[\"label-coarse\"]]))\n",
    "\n",
    "# choosing two classes to merge\n",
    "choices = random.sample(labels_coarse, k=2)\n",
    "print(f\"Merged classes: {choices}\")\n",
    "            \n",
    "# we create a new class 6 (OTHERS), and convert classes in choices into class 6\n",
    "for i, row in training_data.iterrows():\n",
    "    if training_data.at[i,'label-coarse'] in choices:\n",
    "        training_data.at[i,'label-coarse'] = 6\n",
    "    \n",
    "for i, row in test_data.iterrows():\n",
    "    if test_data.at[i,'label-coarse'] in choices:\n",
    "            test_data.at[i,'label-coarse'] = 6\n",
    "    \n",
    "# save the files\n",
    "training_data.drop(columns=['label-fine'], inplace=True)\n",
    "test_data.drop(columns=['label-fine'], inplace=True)\n",
    "training_data.to_csv(path_or_buf=\"TREC_dataset/modified_training_data.csv\", index=False, sep=',')\n",
    "test_data.to_csv(path_or_buf=\"TREC_dataset/modified_test_data.csv\", index=False, sep=',')"
   ]
  },
  {
   "cell_type": "code",
   "execution_count": 4,
   "outputs": [
    {
     "data": {
      "text/plain": "              text\nlabel-coarse      \n1             1250\n3             1223\n4              896\n5              835\n6             1248",
      "text/html": "<div>\n<style scoped>\n    .dataframe tbody tr th:only-of-type {\n        vertical-align: middle;\n    }\n\n    .dataframe tbody tr th {\n        vertical-align: top;\n    }\n\n    .dataframe thead th {\n        text-align: right;\n    }\n</style>\n<table border=\"1\" class=\"dataframe\">\n  <thead>\n    <tr style=\"text-align: right;\">\n      <th></th>\n      <th>text</th>\n    </tr>\n    <tr>\n      <th>label-coarse</th>\n      <th></th>\n    </tr>\n  </thead>\n  <tbody>\n    <tr>\n      <th>1</th>\n      <td>1250</td>\n    </tr>\n    <tr>\n      <th>3</th>\n      <td>1223</td>\n    </tr>\n    <tr>\n      <th>4</th>\n      <td>896</td>\n    </tr>\n    <tr>\n      <th>5</th>\n      <td>835</td>\n    </tr>\n    <tr>\n      <th>6</th>\n      <td>1248</td>\n    </tr>\n  </tbody>\n</table>\n</div>"
     },
     "execution_count": 4,
     "metadata": {},
     "output_type": "execute_result"
    }
   ],
   "source": [
    "training_data.groupby('label-coarse').count()"
   ],
   "metadata": {
    "collapsed": false,
    "ExecuteTime": {
     "end_time": "2023-11-04T07:37:04.897362Z",
     "start_time": "2023-11-04T07:37:04.807603Z"
    }
   },
   "id": "2c38c7031a294b62"
  },
  {
   "cell_type": "code",
   "execution_count": 5,
   "outputs": [
    {
     "data": {
      "text/plain": "              text\nlabel-coarse      \n1               94\n3               65\n4              113\n5               81\n6              147",
      "text/html": "<div>\n<style scoped>\n    .dataframe tbody tr th:only-of-type {\n        vertical-align: middle;\n    }\n\n    .dataframe tbody tr th {\n        vertical-align: top;\n    }\n\n    .dataframe thead th {\n        text-align: right;\n    }\n</style>\n<table border=\"1\" class=\"dataframe\">\n  <thead>\n    <tr style=\"text-align: right;\">\n      <th></th>\n      <th>text</th>\n    </tr>\n    <tr>\n      <th>label-coarse</th>\n      <th></th>\n    </tr>\n  </thead>\n  <tbody>\n    <tr>\n      <th>1</th>\n      <td>94</td>\n    </tr>\n    <tr>\n      <th>3</th>\n      <td>65</td>\n    </tr>\n    <tr>\n      <th>4</th>\n      <td>113</td>\n    </tr>\n    <tr>\n      <th>5</th>\n      <td>81</td>\n    </tr>\n    <tr>\n      <th>6</th>\n      <td>147</td>\n    </tr>\n  </tbody>\n</table>\n</div>"
     },
     "execution_count": 5,
     "metadata": {},
     "output_type": "execute_result"
    }
   ],
   "source": [
    "test_data.groupby('label-coarse').count()"
   ],
   "metadata": {
    "collapsed": false,
    "ExecuteTime": {
     "end_time": "2023-11-04T07:37:20.248747400Z",
     "start_time": "2023-11-04T07:37:20.093698Z"
    }
   },
   "id": "b1ce779d5f98e5f2"
  }
 ],
 "metadata": {
  "kernelspec": {
   "display_name": "Python 3",
   "language": "python",
   "name": "python3"
  },
  "language_info": {
   "codemirror_mode": {
    "name": "ipython",
    "version": 3
   },
   "file_extension": ".py",
   "mimetype": "text/x-python",
   "name": "python",
   "nbconvert_exporter": "python",
   "pygments_lexer": "ipython3",
   "version": "3.11.4"
  }
 },
 "nbformat": 4,
 "nbformat_minor": 5
}
