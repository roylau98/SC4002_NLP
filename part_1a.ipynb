{
 "cells": [
  {
   "cell_type": "markdown",
   "source": [
    "# Question 1.1\n",
    "Based on word2vec embeddings you have downloaded, use cosine similarity to find the most similar word to each of these words: (a) “student”; (b) “Apple”; (c) “apple”. Report the most similar word and its cosine similarity.\n"
   ],
   "metadata": {
    "collapsed": false,
    "pycharm": {
     "name": "#%% md\n"
    }
   }
  },
  {
   "cell_type": "markdown",
   "source": [
    "Import relevant libraries"
   ],
   "metadata": {
    "collapsed": false,
    "pycharm": {
     "name": "#%% md\n"
    }
   }
  },
  {
   "cell_type": "code",
   "execution_count": 1,
   "outputs": [],
   "source": [
    "import gensim.downloader"
   ],
   "metadata": {
    "collapsed": false,
    "pycharm": {
     "name": "#%%\n"
    }
   }
  },
  {
   "cell_type": "markdown",
   "source": [
    "Use word2vec_model.most_similar function to retrieve similar words via cosine similarity"
   ],
   "metadata": {
    "collapsed": false,
    "pycharm": {
     "name": "#%% md\n"
    }
   }
  },
  {
   "cell_type": "code",
   "execution_count": 2,
   "outputs": [],
   "source": [
    "# Function to find most similar word and its cosine similarity\n",
    "def most_similar_word_and_similarity(word2vec_model, word):\n",
    "    if word in word2vec_model:\n",
    "        similar_words = word2vec_model.most_similar(word)\n",
    "        most_similar_word, cosine_similarity = similar_words[0]\n",
    "        return most_similar_word, cosine_similarity\n",
    "    else:\n",
    "        return \"Word not found in the vocabulary\", None"
   ],
   "metadata": {
    "collapsed": false,
    "pycharm": {
     "name": "#%%\n"
    }
   }
  },
  {
   "cell_type": "code",
   "execution_count": 3,
   "outputs": [
    {
     "name": "stdout",
     "output_type": "stream",
     "text": [
      "(a) Most similar word to 'student': students, Cosine Similarity: 0.7294867038726807\n",
      "(b) Most similar word to 'Apple': Apple_AAPL, Cosine Similarity: 0.7456986308097839\n",
      "(c) Most similar word to 'apple': apples, Cosine Similarity: 0.720359742641449\n"
     ]
    }
   ],
   "source": [
    "# Load the downloaded word2vec model if downloaded, else download\n",
    "word2vec_google_news = gensim.downloader.load('word2vec-google-news-300')\n",
    "\n",
    "# (a) Most similar word to \"student\"\n",
    "similar_word_a, cosine_similarity_a = most_similar_word_and_similarity(word2vec_google_news, \"student\")\n",
    "\n",
    "# (b) Most similar word to \"Apple\"\n",
    "similar_word_b, cosine_similarity_b = most_similar_word_and_similarity(word2vec_google_news, \"Apple\")\n",
    "\n",
    "# (c) Most similar word to \"apple\"\n",
    "similar_word_c, cosine_similarity_c = most_similar_word_and_similarity(word2vec_google_news, \"apple\")\n",
    "\n",
    "# Print the results\n",
    "print(f\"(a) Most similar word to 'student': {similar_word_a}, Cosine Similarity: {cosine_similarity_a}\")\n",
    "print(f\"(b) Most similar word to 'Apple': {similar_word_b}, Cosine Similarity: {cosine_similarity_b}\")\n",
    "print(f\"(c) Most similar word to 'apple': {similar_word_c}, Cosine Similarity: {cosine_similarity_c}\")"
   ],
   "metadata": {
    "collapsed": false,
    "pycharm": {
     "name": "#%%\n"
    }
   }
  }
 ],
 "metadata": {
  "kernelspec": {
   "display_name": "Python 3",
   "language": "python",
   "name": "python3"
  },
  "language_info": {
   "codemirror_mode": {
    "name": "ipython",
    "version": 2
   },
   "file_extension": ".py",
   "mimetype": "text/x-python",
   "name": "python",
   "nbconvert_exporter": "python",
   "pygments_lexer": "ipython2",
   "version": "2.7.6"
  }
 },
 "nbformat": 4,
 "nbformat_minor": 0
}