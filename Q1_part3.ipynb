{
 "cells": [
  {
   "cell_type": "markdown",
   "metadata": {
    "collapsed": false,
    "pycharm": {
     "name": "#%% md\n"
    }
   },
   "source": [
    "# Question 1.3\n",
    "(a) Discuss how you deal with new words in the training set which are not found in the pretrained\n",
    "dictionary. Likewise, how do you deal with new words in the test set which are not found in\n",
    "either the pretrained dictionary or the training set? Show the corresponding code snippet.\n",
    "\n",
    "(b) Describe what neural network you used to produce the final vector representation of each\n",
    "word and what are the mathematical functions used for the forward computation (i.e., from\n",
    "the pretrained word vectors to the final label of each word). Give the detailed setting of the\n",
    "network including which parameters are being updated, what are their sizes, and what is the\n",
    "length of the final vector representation of each word to be fed to the softmax classifier.\n",
    "\n",
    "(c) Report how many epochs you used for training, as well as the running time.\n",
    "\n",
    "(d) Report the f1 score on the test set, as well as the f1 score on the development set for each\n",
    "epoch during training."
   ]
  },
  {
   "cell_type": "code",
   "execution_count": 1,
   "metadata": {
    "collapsed": false,
    "pycharm": {
     "name": "#%%\n"
    }
   },
   "outputs": [],
   "source": [
    "import random\n",
    "import time\n",
    "from tqdm import trange\n",
    "\n",
    "import numpy as np\n",
    "import torch\n",
    "import torch.nn as nn\n",
    "import torch.nn.functional as F\n",
    "import torch.optim as optim\n",
    "from torch.autograd import Variable\n",
    "\n",
    "from seqeval.metrics import f1_score as f1_score_seqeval\n",
    "from seqeval.metrics import classification_report\n",
    "import pickle\n",
    "import os"
   ]
  },
  {
   "cell_type": "code",
   "execution_count": 2,
   "id": "793ed4b1",
   "metadata": {
    "collapsed": false,
    "jupyter": {
     "outputs_hidden": false
    },
    "pycharm": {
     "name": "#%%\n"
    }
   },
   "outputs": [
    {
     "name": "stderr",
     "output_type": "stream",
     "text": [
      "c:\\Users\\Jeremy U Keat\\Desktop\\SC4002_NLP\\venv\\lib\\site-packages\\gensim\\models\\keyedvectors.py:551: UserWarning: Adding single vectors to a KeyedVectors which grows by one each time can be costly. Consider adding in batches or preallocating to the required size.\n",
      "  warnings.warn(\n"
     ]
    }
   ],
   "source": [
    "import gensim.downloader\n",
    "word2vec_goog1e_news: gensim.models.keyedvectors.KeyedVectors = gensim.downloader.load('word2vec-google-news-300')\n",
    "word2vec_goog1e_news.add_vector(\"<pad>\", np.zeros(300))\n",
    "pad_index = word2vec_goog1e_news.key_to_index[\"<pad>\"]\n",
    "embedding_weights = torch.FloatTensor(word2vec_goog1e_news.vectors)\n",
    "vocab = word2vec_goog1e_news.key_to_index"
   ]
  },
  {
   "cell_type": "markdown",
   "metadata": {
    "collapsed": false,
    "pycharm": {
     "name": "#%% md\n"
    }
   },
   "source": [
    "the code below reads and parses a CoNLL-formatted file, extracting sentences and their corresponding NER tags for further processing"
   ]
  },
  {
   "cell_type": "code",
   "execution_count": 3,
   "metadata": {
    "collapsed": false,
    "pycharm": {
     "name": "#%%\n"
    }
   },
   "outputs": [],
   "source": [
    "def read_conll_file(file_path):\n",
    "    sentences = []\n",
    "    sentence = []\n",
    "    tags = []\n",
    "    tag = []\n",
    "\n",
    "    with open(file_path, 'r', encoding='utf-8') as file:\n",
    "        for line in file:\n",
    "            line = line.strip()\n",
    "            if len(line) == 0:  # Empty line indicates the end of a sentence\n",
    "                if sentence:\n",
    "                    sentences.append(sentence)\n",
    "                    tags.append(tag)\n",
    "                sentence = []\n",
    "                tag = []\n",
    "            else:\n",
    "                parts = line.split()\n",
    "                word = parts[0]\n",
    "                if word == '-DOCSTART-':\n",
    "                    continue\n",
    "                ner_tag = parts[-1]\n",
    "                sentence.append(word)\n",
    "                tag.append(ner_tag)\n",
    "        if sentence:\n",
    "            sentences.append(sentence)\n",
    "            tags.append(tag)\n",
    "    return sentences, tags"
   ]
  },
  {
   "cell_type": "code",
   "execution_count": 4,
   "id": "e32fdf6c",
   "metadata": {
    "collapsed": false,
    "jupyter": {
     "outputs_hidden": false
    },
    "pycharm": {
     "name": "#%%\n"
    }
   },
   "outputs": [],
   "source": [
    "train_data, train_tags = read_conll_file('CoNLL2003_dataset/eng.train')\n",
    "val_data, val_tags = read_conll_file('CoNLL2003_dataset/eng.testa')\n",
    "test_data, test_tags = read_conll_file('CoNLL2003_dataset/eng.testb')"
   ]
  },
  {
   "cell_type": "markdown",
   "metadata": {
    "collapsed": false,
    "pycharm": {
     "name": "#%% md\n"
    }
   },
   "source": [
    "The code below extract unique tags given a list of tags extracted from the csv file"
   ]
  },
  {
   "cell_type": "code",
   "execution_count": 5,
   "metadata": {
    "collapsed": false,
    "pycharm": {
     "name": "#%%\n"
    }
   },
   "outputs": [],
   "source": [
    "from itertools import chain\n",
    "\n",
    "def get_unique_tags(allTags):\n",
    "    uniqueTags = []\n",
    "    flatten_sentences = list(chain(*allTags))\n",
    "    for i in flatten_sentences:\n",
    "        if not i in uniqueTags:\n",
    "            uniqueTags.append(i)\n",
    "    return uniqueTags"
   ]
  },
  {
   "cell_type": "code",
   "execution_count": 6,
   "id": "f8474de4",
   "metadata": {
    "collapsed": false,
    "jupyter": {
     "outputs_hidden": false
    },
    "pycharm": {
     "name": "#%%\n"
    }
   },
   "outputs": [],
   "source": [
    "unique_tags = get_unique_tags(train_tags+val_tags+test_tags)"
   ]
  },
  {
   "cell_type": "code",
   "execution_count": 7,
   "id": "38e14aa0",
   "metadata": {
    "collapsed": false,
    "jupyter": {
     "outputs_hidden": false
    },
    "pycharm": {
     "name": "#%%\n"
    }
   },
   "outputs": [
    {
     "data": {
      "text/plain": [
       "{'I-ORG': 0,\n",
       " 'O': 1,\n",
       " 'I-MISC': 2,\n",
       " 'I-PER': 3,\n",
       " 'I-LOC': 4,\n",
       " 'B-LOC': 5,\n",
       " 'B-MISC': 6,\n",
       " 'B-ORG': 7}"
      ]
     },
     "execution_count": 7,
     "metadata": {},
     "output_type": "execute_result"
    }
   ],
   "source": [
    "tag_map = {}\n",
    "for index, tag in enumerate(unique_tags):\n",
    "    tag_map[tag] = index\n",
    "tag_map"
   ]
  },
  {
   "cell_type": "markdown",
   "metadata": {
    "collapsed": false,
    "pycharm": {
     "name": "#%% md\n"
    }
   },
   "source": [
    "'Indexify' function takes data and tags as input and converts them into indexed sentences and labels using vocabularies"
   ]
  },
  {
   "cell_type": "code",
   "execution_count": 8,
   "metadata": {
    "collapsed": false,
    "pycharm": {
     "name": "#%%\n"
    }
   },
   "outputs": [],
   "source": [
    "def indexify(data, tag):\n",
    "    sentences = []\n",
    "    labels = []\n",
    "    for sentence in data:\n",
    "        s = [vocab[token] if token in vocab\n",
    "            else vocab['UNK']\n",
    "            for token in sentence]\n",
    "        sentences.append(s)\n",
    "\n",
    "    for sentence in tag:\n",
    "        l = [tag_map[label] for label in sentence]\n",
    "        labels.append(l)\n",
    "\n",
    "    return sentences, labels\n",
    "\n",
    "train_sentences = []\n",
    "train_labels = []\n",
    "\n",
    "val_sentences = []\n",
    "val_labels = []\n",
    "\n",
    "test_sentences = []\n",
    "test_labels = []\n",
    "\n",
    "train_sentences, train_labels = indexify(train_data, train_tags)\n",
    "val_sentences, val_labels = indexify(val_data, val_tags)\n",
    "test_sentences, test_labels = indexify(test_data, test_tags)"
   ]
  },
  {
   "cell_type": "code",
   "execution_count": 9,
   "id": "08f5939b",
   "metadata": {
    "collapsed": false,
    "jupyter": {
     "outputs_hidden": false
    },
    "pycharm": {
     "name": "#%%\n"
    }
   },
   "outputs": [],
   "source": [
    "def data_iterator(sentences, labels, total_size: int, batch_size: int, shuffle: bool=False, cuda=True):\n",
    "    # make a list that decides the order in which we go over the data- this avoids explicit shuffling of data\n",
    "    order = list(range(total_size))\n",
    "    if shuffle:\n",
    "        random.seed(230)\n",
    "        random.shuffle(order)\n",
    "\n",
    "    # one pass over data\n",
    "    for i in range((total_size+1)//batch_size):\n",
    "        # fetch sentences and tags\n",
    "        batch_sentences = [sentences[idx] for idx in order[i*batch_size:(i+1)*batch_size]]\n",
    "        batch_tags = [labels[idx] for idx in order[i*batch_size:(i+1)*batch_size]]\n",
    "\n",
    "        # compute length of the longest sentence in the batch\n",
    "        batch_max_len = max([len(s) for s in batch_sentences])\n",
    "\n",
    "        # prepare a numpy array with the data, initialising the data with pad_ind and all labels with -1\n",
    "        # initialising labels to -1 differentiates tokens with tags from PADding tokens\n",
    "        batch_data = vocab['<pad>']*np.ones((len(batch_sentences), batch_max_len))\n",
    "        batch_labels = -1*np.ones((len(batch_sentences), batch_max_len))\n",
    "\n",
    "        # copy the data to the numpy array\n",
    "        for j in range(len(batch_sentences)):\n",
    "            cur_len = len(batch_sentences[j])\n",
    "            batch_data[j][:cur_len] = batch_sentences[j]\n",
    "            batch_labels[j][:cur_len] = batch_tags[j]\n",
    "\n",
    "        # since all data are indices, we convert them to torch LongTensors\n",
    "        batch_data, batch_labels = torch.LongTensor(batch_data), torch.LongTensor(batch_labels)\n",
    "\n",
    "        # shift tensors to GPU if available\n",
    "        if cuda:\n",
    "            batch_data, batch_labels = batch_data.cuda(), batch_labels.cuda()\n",
    "\n",
    "        # convert them to Variables to record operations in the computational graph\n",
    "        batch_data, batch_labels = Variable(batch_data), Variable(batch_labels)\n",
    "\n",
    "        yield batch_data, batch_labels, batch_sentences"
   ]
  },
  {
   "cell_type": "markdown",
   "metadata": {
    "collapsed": false,
    "pycharm": {
     "name": "#%% md\n"
    }
   },
   "source": [
    "The neural network used below is an LSTM-based network that predicts named entity recognition (NER) tags for each\n",
    "token in a sentence. It consists of three main components:\n",
    "\n",
    "1. An embedding layer that maps each token to its embedding vector.\n",
    "2. An LSTM layer that processes the embedded tokens and produces LSTM outputs for each token.\n",
    "3. A fully connected layer (fc) that converts the LSTM output for each token to a distribution over NER tags.\n",
    "The forward computation involves the following steps:\n",
    "\n",
    "Embedding: Mapping tokens to their embedding vectors using the embedding layer.\n",
    "LSTM: Applying the LSTM on the embedded tokens, resulting in LSTM outputs for each token.\n",
    "Reshaping: Making the output contiguous in memory and reshaping it for further processing.\n",
    "Fully Connected Layer: Applying the fully connected layer to obtain the output for each token before the softmax.\n",
    "Log Softmax: Applying log softmax to the output for numerical stability.\n",
    "\n",
    "The final vector representation of each word is obtained from the LSTM output, and it is of size lstm_hidden_dim. This representation is then used to compute the distribution over NER tags."
   ]
  },
  {
   "cell_type": "code",
   "execution_count": 10,
   "id": "ab03416b",
   "metadata": {
    "collapsed": false,
    "jupyter": {
     "outputs_hidden": false
    },
    "pycharm": {
     "name": "#%%\n"
    }
   },
   "outputs": [],
   "source": [
    "class Net(nn.Module):\n",
    "\n",
    "    def __init__(self, embedding_weights, embedding_dim, lstm_hidden_dim, number_of_tags):\n",
    "        \"\"\"\n",
    "        We define a recurrent network that predicts the NER tags for each token in the sentence. The components\n",
    "        required are:\n",
    "\n",
    "        - an embedding layer: this layer maps each index in range(params.vocab_size) to a params.embedding_dim vector\n",
    "        - lstm: applying the LSTM on the sequential input returns an output for each token in the sentence\n",
    "        - fc: a fully connected layer that converts the LSTM output for each token to a distribution over NER tags\n",
    "\n",
    "        Args:\n",
    "            params: (Params) contains vocab_size, embedding_dim, lstm_hidden_dim\n",
    "        \"\"\"\n",
    "        super(Net, self).__init__()\n",
    "\n",
    "        # the embedding takes as input the vocab_size and the embedding_dim\n",
    "        # self.embedding = nn.Embedding(vocab_size, embedding_dim)\n",
    "        self.embedding = nn.Embedding.from_pretrained(embedding_weights, padding_idx=pad_index)\n",
    "\n",
    "        # the LSTM takes as input the size of its input (embedding_dim), its hidden size\n",
    "        # for more details on how to use it, check out the documentation\n",
    "        self.lstm = nn.LSTM(embedding_dim,\n",
    "                            lstm_hidden_dim, batch_first=True)\n",
    "\n",
    "        # the fully connected layer transforms the output to give the final output layer\n",
    "        self.fc = nn.Linear(lstm_hidden_dim, number_of_tags)\n",
    "\n",
    "    def forward(self, s):\n",
    "        \"\"\"\n",
    "        This function defines how we use the components of our network to operate on an input batch.\n",
    "\n",
    "        Args:\n",
    "            s: (Variable) contains a batch of sentences, of dimension batch_size x seq_len, where seq_len is\n",
    "               the length of the longest sentence in the batch. For sentences shorter than seq_len, the remaining\n",
    "               tokens are PADding tokens. Each row is a sentence with each element corresponding to the index of\n",
    "               the token in the vocab.\n",
    "\n",
    "        Returns:\n",
    "            out: (Variable) dimension batch_size*seq_len x num_tags with the log probabilities of tokens for each token\n",
    "                 of each sentence.\n",
    "\n",
    "        \"\"\"\n",
    "        # apply the embedding layer that maps each token to its embedding\n",
    "        # dim: batch_size x seq_len x embedding_dim\n",
    "        s = self.embedding(s)\n",
    "\n",
    "        # run the LSTM along the sentences of length seq_len\n",
    "        # dim: batch_size x seq_len x lstm_hidden_dim\n",
    "        s, _ = self.lstm(s)\n",
    "\n",
    "        # make the Variable contiguous in memory (a PyTorch artefact)\n",
    "        s = s.contiguous()\n",
    "\n",
    "        # reshape the Variable so that each row contains one token\n",
    "        # dim: batch_size*seq_len x lstm_hidden_dim\n",
    "        s = s.view(-1, s.shape[2])\n",
    "\n",
    "        # apply the fully connected layer and obtain the output (before softmax) for each token\n",
    "        s = self.fc(s)                   # dim: batch_size*seq_len x num_tags\n",
    "\n",
    "        # apply log softmax on each token's output (this is recommended over applying softmax\n",
    "        # since it is numerically more stable)\n",
    "        return F.log_softmax(s, dim=1)   # dim: batch_size*seq_len x num_tags"
   ]
  },
  {
   "cell_type": "code",
   "execution_count": 11,
   "id": "4ecfde36",
   "metadata": {
    "collapsed": false,
    "jupyter": {
     "outputs_hidden": false
    },
    "pycharm": {
     "name": "#%%\n"
    }
   },
   "outputs": [],
   "source": [
    "def loss_fn(outputs, labels):\n",
    "    \"\"\"\n",
    "    Compute the cross entropy loss given outputs from the model and labels for all tokens. Exclude loss terms\n",
    "    for PADDING tokens.\n",
    "\n",
    "    Args:\n",
    "        outputs: (Variable) dimension batch_size*seq_len x num_tags - log softmax output of the model\n",
    "        labels: (Variable) dimension batch_size x seq_len where each element is either a label in [0, 1, ... num_tag-1],\n",
    "                or -1 in case it is a PADding token.\n",
    "\n",
    "    Returns:\n",
    "        loss: (Variable) cross entropy loss for all tokens in the batch\n",
    "    \"\"\"\n",
    "\n",
    "    # reshape labels to give a flat vector of length batch_size*seq_len\n",
    "    labels = labels.view(-1)\n",
    "\n",
    "    # since PADding tokens have label -1, we can generate a mask to exclude the loss from those terms\n",
    "    mask = (labels >= 0).float()\n",
    "\n",
    "    # indexing with negative values is not supported. Since PADded tokens have label -1, we convert them to a positive\n",
    "    # number. This does not affect training, since we ignore the PADded tokens with the mask.\n",
    "    labels = labels % outputs.shape[1]\n",
    "\n",
    "    num_tokens = int(torch.sum(mask))\n",
    "\n",
    "    # compute cross entropy loss for all tokens (except PADding tokens), by multiplying with mask.\n",
    "    return -torch.sum(outputs[range(outputs.shape[0]), labels]*mask)/num_tokens"
   ]
  },
  {
   "cell_type": "code",
   "execution_count": 12,
   "id": "f9378985",
   "metadata": {
    "collapsed": false,
    "jupyter": {
     "outputs_hidden": false
    },
    "pycharm": {
     "name": "#%%\n"
    }
   },
   "outputs": [],
   "source": [
    "class RunningAverage:\n",
    "    \"\"\"A simple class that maintains the running average of a quantity\n",
    "\n",
    "    Example:\n",
    "    ```\n",
    "    loss_avg = RunningAverage()\n",
    "    loss_avg.update(2)\n",
    "    loss_avg.update(4)\n",
    "    loss_avg() = 3\n",
    "    ```\n",
    "    \"\"\"\n",
    "\n",
    "    def __init__(self):\n",
    "        self.steps = 0\n",
    "        self.total = 0\n",
    "\n",
    "    def update(self, val):\n",
    "        self.total += val\n",
    "        self.steps += 1\n",
    "\n",
    "    def __call__(self):\n",
    "        return self.total / float(self.steps)"
   ]
  },
  {
   "cell_type": "markdown",
   "metadata": {
    "collapsed": false,
    "pycharm": {
     "name": "#%% md\n"
    }
   },
   "source": [
    "Training and Eval code:"
   ]
  },
  {
   "cell_type": "code",
   "execution_count": 13,
   "metadata": {
    "collapsed": false,
    "pycharm": {
     "name": "#%%\n"
    }
   },
   "outputs": [],
   "source": [
    "def train(model, optimizer, loss_fn, data_iterator, metrics, num_steps):\n",
    "    \"\"\"Train the model on `num_steps` batches\n",
    "\n",
    "    Args:\n",
    "        model: (torch.nn.Module) the neural network\n",
    "        optimizer: (torch.optim) optimizer for parameters of model\n",
    "        loss_fn: a function that takes batch_output and batch_labels and computes the loss for the batch\n",
    "        data_iterator: (generator) a generator that generates batches of data and labels\n",
    "        metrics: (dict) a dictionary of functions that compute a metric using the output and labels of each batch\n",
    "        params: (Params) hyperparameters\n",
    "        num_steps: (int) number of batches to train on, each of size params.batch_size\n",
    "    \"\"\"\n",
    "\n",
    "    # set model to training mode\n",
    "    model.train()\n",
    "\n",
    "    # summary for current training loop and a running average object for loss\n",
    "    summ = []\n",
    "    loss_avg = RunningAverage()\n",
    "\n",
    "    # Use tqdm for progress bar\n",
    "    t = trange(num_steps)\n",
    "    for i in t:\n",
    "        # fetch the next training batch\n",
    "        train_batch, labels_batch, _ = next(data_iterator)\n",
    "\n",
    "        # compute model output and loss\n",
    "        output_batch = model(train_batch)\n",
    "        loss = loss_fn(output_batch, labels_batch)\n",
    "\n",
    "        # clear previous gradients, compute gradients of all variables wrt loss\n",
    "        optimizer.zero_grad()\n",
    "        loss.backward()\n",
    "\n",
    "        # performs updates using calculated gradients\n",
    "        optimizer.step()\n",
    "\n",
    "        # Evaluate summaries only once in a while\n",
    "        if i % 10 == 0:\n",
    "            # extract data from torch Variable, move to cpu, convert to numpy arrays\n",
    "            output_batch = output_batch.data.cpu().numpy()\n",
    "            labels_batch = labels_batch.data.cpu().numpy()\n",
    "                \n",
    "\n",
    "            # compute all metrics on this batch\n",
    "            summary_batch = {metric: metrics[metric](output_batch, labels_batch)\n",
    "                             for metric in metrics}\n",
    "            summary_batch['loss'] = loss.item()\n",
    "            summ.append(summary_batch)\n",
    "\n",
    "        # update the average loss\n",
    "        loss_avg.update(loss.item())\n",
    "        t.set_postfix(loss='{:05.3f}'.format(loss_avg()))\n",
    "\n",
    "    # compute mean of all metrics in summary\n",
    "    metrics_mean = {metric: np.mean([x[metric]\n",
    "                                     for x in summ]) for metric in summ[0]}\n",
    "    metrics_string = \" ; \".join(\"{}: {:05.3f}\".format(k, v)\n",
    "                                for k, v in metrics_mean.items())\n",
    "    print(\"- Training f1 score: \" + metrics_string)\n",
    "    return metrics_mean"
   ]
  },
  {
   "cell_type": "code",
   "execution_count": 14,
   "metadata": {
    "collapsed": false,
    "pycharm": {
     "name": "#%%\n"
    }
   },
   "outputs": [],
   "source": [
    "def evaluate(model, loss_fn, data_iterator, metrics, num_steps):\n",
    "    \"\"\"Evaluate the model on `num_steps` batches.\n",
    "\n",
    "    Args:\n",
    "        model: (torch.nn.Module) the neural network\n",
    "        loss_fn: a function that takes batch_output and batch_labels and computes the loss for the batch\n",
    "        data_iterator: (generator) a generator that generates batches of data and labels\n",
    "        metrics: (dict) a dictionary of functions that compute a metric using the output and labels of each batch\n",
    "        params: (Params) hyperparameters\n",
    "        num_steps: (int) number of batches to train on, each of size params.batch_size\n",
    "    \"\"\"\n",
    "\n",
    "    # set model to evaluation mode\n",
    "    model.eval()\n",
    "\n",
    "    # summary for current eval loop\n",
    "    summ = []\n",
    "\n",
    "    # compute metrics over the dataset\n",
    "    for _ in range(num_steps):\n",
    "        # fetch the next evaluation batch\n",
    "        data_batch, labels_batch, _ = next(data_iterator)\n",
    "\n",
    "        # compute model output\n",
    "        output_batch = model(data_batch)\n",
    "        loss = loss_fn(output_batch, labels_batch)\n",
    "\n",
    "        # extract data from torch Variable, move to cpu, convert to numpy arrays\n",
    "        output_batch = output_batch.data.cpu().numpy()\n",
    "        labels_batch = labels_batch.data.cpu().numpy()\n",
    "\n",
    "        # compute all metrics on this batch\n",
    "        summary_batch = {metric: metrics[metric](output_batch, labels_batch)\n",
    "                         for metric in metrics}\n",
    "        summary_batch['loss'] = loss.item()\n",
    "        summ.append(summary_batch)\n",
    "\n",
    "    # compute mean of all metrics in summary\n",
    "    metrics_mean = {metric:np.mean([x[metric] for x in summ]) for metric in summ[0]}\n",
    "    metrics_string = \" ; \".join(\"{}: {:05.3f}\".format(k, v) for k, v in metrics_mean.items())\n",
    "    print(\"- Validation f1 score : \" + metrics_string)\n",
    "    return metrics_mean"
   ]
  },
  {
   "cell_type": "code",
   "execution_count": 15,
   "metadata": {
    "collapsed": false,
    "pycharm": {
     "name": "#%%\n"
    }
   },
   "outputs": [],
   "source": [
    "def train_and_evaluate(\n",
    "        model,\n",
    "        train_sentences,\n",
    "        train_labels,\n",
    "        val_sentences,\n",
    "        val_labels,\n",
    "        num_epochs: int,\n",
    "        batch_size: int,\n",
    "        optimizer,\n",
    "        loss_fn,\n",
    "        metrics\n",
    "):\n",
    "    model=model.to(device)\n",
    "    train_metrics_list = []\n",
    "    val_metrics_list = []\n",
    "    for epoch in range(num_epochs):\n",
    "        # Run one epoch\n",
    "        print(\"Epoch {}/{}\".format(epoch + 1, num_epochs))\n",
    "\n",
    "        # compute number of batches in one epoch (one full pass over the training set)\n",
    "        num_steps = (len(train_sentences) + 1) // batch_size\n",
    "        train_data_iterator = data_iterator(\n",
    "            train_sentences, train_labels, len(train_sentences), batch_size, shuffle=True, cuda=torch.cuda.is_available())\n",
    "        train_metrics = train(model, optimizer, loss_fn, train_data_iterator,\n",
    "              metrics, num_steps)\n",
    "\n",
    "        # Evaluate for one epoch on validation set\n",
    "        num_steps = (len(val_sentences) + 1) // batch_size\n",
    "        val_data_iterator = data_iterator(\n",
    "            val_sentences, val_labels, len(val_sentences), batch_size, shuffle=False, cuda=torch.cuda.is_available())\n",
    "        val_metrics = evaluate(\n",
    "            model, loss_fn, val_data_iterator, metrics, num_steps)\n",
    "\n",
    "        train_metrics_list.append(train_metrics)\n",
    "        val_metrics_list.append(val_metrics)\n",
    "\n",
    "    return train_metrics_list, val_metrics_list\n",
    "   "
   ]
  },
  {
   "cell_type": "code",
   "execution_count": 16,
   "metadata": {
    "collapsed": false,
    "pycharm": {
     "name": "#%%\n"
    }
   },
   "outputs": [],
   "source": [
    "inv_vocab = {v: k for k, v in vocab.items()}\n",
    "inv_tag_map = {v: k for k, v in tag_map.items()}\n",
    "\n",
    "def id_to_words(sentence):\n",
    "    new_sentence = [inv_vocab[i] for i in sentence]\n",
    "    return new_sentence\n",
    "\n",
    "def id_to_labels(labels):\n",
    "    new_sentence = [inv_tag_map[i] for i in labels]\n",
    "    return new_sentence\n"
   ]
  },
  {
   "cell_type": "markdown",
   "metadata": {
    "collapsed": false,
    "pycharm": {
     "name": "#%% md\n"
    }
   },
   "source": [
    "Various function to determine the accuracy/stats of the model:\n",
    "\n",
    "- accuracy(outputs, labels): Computes the accuracy of the model's predictions given the outputs and labels, excluding\n",
    "padding terms.\n",
    "- calculate_multiclass_f1_score(outputs, labels): Calculates the multiclass F1 score for the model's predictions, excluding padding terms. It converts class IDs to labels and returns the F1 score.\n",
    "- classification_report_gen(outputs, labels): Generates a classification report for the model's predictions, excluding padding terms. It converts class IDs to labels and returns the classification report."
   ]
  },
  {
   "cell_type": "code",
   "execution_count": 17,
   "metadata": {
    "collapsed": false,
    "pycharm": {
     "name": "#%%\n"
    }
   },
   "outputs": [],
   "source": [
    "def calculate_multiclass_f1_score(outputs, labels):\n",
    "    \n",
    "    labels = labels.ravel()\n",
    "    mask = (labels >= 0)  \n",
    "    outputs = np.argmax(outputs, axis=1)\n",
    "    outputs = outputs[mask]\n",
    "    labels = labels[mask]\n",
    "    outputs = id_to_labels(outputs)\n",
    "    labels = id_to_labels(labels)\n",
    "    outputs = np.expand_dims(outputs, axis=0)\n",
    "    labels = np.expand_dims(labels, axis=0)\n",
    "    outputs = outputs.tolist()\n",
    "    labels = labels.tolist()\n",
    "    f1= f1_score_seqeval(labels, outputs)\n",
    "    return f1\n",
    "\n",
    "def classification_report_gen(outputs, labels):\n",
    "    labels = labels.ravel()\n",
    "    mask = (labels >= 0)  \n",
    "    outputs = np.argmax(outputs, axis=1)\n",
    "    outputs = outputs[mask]\n",
    "    labels = labels[mask]\n",
    "    outputs = id_to_labels(outputs)\n",
    "    labels = id_to_labels(labels)\n",
    "    outputs = np.expand_dims(outputs, axis=0)\n",
    "    labels = np.expand_dims(labels, axis=0)\n",
    "    outputs = outputs.tolist()\n",
    "    labels = labels.tolist()\n",
    "    # return classification_report(labels, outputs, mode='strict', scheme=IOB1)\n",
    "    return classification_report(labels, outputs)\n",
    "\n",
    "metrics = {\n",
    "    'f1_seqeval': calculate_multiclass_f1_score\n",
    "}"
   ]
  },
  {
   "cell_type": "code",
   "execution_count": 18,
   "metadata": {
    "collapsed": false,
    "pycharm": {
     "name": "#%%\n"
    }
   },
   "outputs": [],
   "source": [
    "import warnings\n",
    "warnings.filterwarnings('ignore')"
   ]
  },
  {
   "cell_type": "code",
   "execution_count": 19,
   "metadata": {
    "collapsed": false,
    "pycharm": {
     "name": "#%%\n"
    }
   },
   "outputs": [
    {
     "name": "stdout",
     "output_type": "stream",
     "text": [
      "device: cuda:0\n"
     ]
    }
   ],
   "source": [
    "# Check if a GPU is available, and if so, use it\n",
    "device = torch.device(\"cuda:0\" if torch.cuda.is_available() else \"cpu\")\n",
    "print(\"device:\", device)"
   ]
  },
  {
   "cell_type": "markdown",
   "metadata": {
    "collapsed": false,
    "pycharm": {
     "name": "#%% md\n"
    }
   },
   "source": [
    "Start the training process"
   ]
  },
  {
   "cell_type": "code",
   "execution_count": 20,
   "metadata": {
    "collapsed": false,
    "pycharm": {
     "name": "#%%\n"
    }
   },
   "outputs": [
    {
     "name": "stdout",
     "output_type": "stream",
     "text": [
      "len(tag_map): 8\n",
      "Epoch 1/100\n"
     ]
    },
    {
     "name": "stderr",
     "output_type": "stream",
     "text": [
      "100%|██████████| 2808/2808 [00:16<00:00, 167.66it/s, loss=0.177]\n"
     ]
    },
    {
     "name": "stdout",
     "output_type": "stream",
     "text": [
      "- Training f1 score: f1_seqeval: 0.697 ; loss: 0.181\n",
      "- Validation f1 score : f1_seqeval: 0.751 ; loss: 0.124\n",
      "Epoch 2/100\n"
     ]
    },
    {
     "name": "stderr",
     "output_type": "stream",
     "text": [
      "100%|██████████| 2808/2808 [00:15<00:00, 175.66it/s, loss=0.102]\n"
     ]
    },
    {
     "name": "stdout",
     "output_type": "stream",
     "text": [
      "- Training f1 score: f1_seqeval: 0.809 ; loss: 0.097\n",
      "- Validation f1 score : f1_seqeval: 0.782 ; loss: 0.108\n",
      "Epoch 3/100\n"
     ]
    },
    {
     "name": "stderr",
     "output_type": "stream",
     "text": [
      "100%|██████████| 2808/2808 [00:16<00:00, 174.47it/s, loss=0.080]\n"
     ]
    },
    {
     "name": "stdout",
     "output_type": "stream",
     "text": [
      "- Training f1 score: f1_seqeval: 0.847 ; loss: 0.077\n",
      "- Validation f1 score : f1_seqeval: 0.789 ; loss: 0.104\n",
      "Epoch 4/100\n"
     ]
    },
    {
     "name": "stderr",
     "output_type": "stream",
     "text": [
      "100%|██████████| 2808/2808 [00:16<00:00, 169.01it/s, loss=0.063]\n"
     ]
    },
    {
     "name": "stdout",
     "output_type": "stream",
     "text": [
      "- Training f1 score: f1_seqeval: 0.879 ; loss: 0.060\n",
      "- Validation f1 score : f1_seqeval: 0.798 ; loss: 0.104\n",
      "Epoch 5/100\n"
     ]
    },
    {
     "name": "stderr",
     "output_type": "stream",
     "text": [
      "100%|██████████| 2808/2808 [00:17<00:00, 160.49it/s, loss=0.049]\n"
     ]
    },
    {
     "name": "stdout",
     "output_type": "stream",
     "text": [
      "- Training f1 score: f1_seqeval: 0.910 ; loss: 0.046\n",
      "- Validation f1 score : f1_seqeval: 0.797 ; loss: 0.111\n",
      "Epoch 6/100\n"
     ]
    },
    {
     "name": "stderr",
     "output_type": "stream",
     "text": [
      "100%|██████████| 2808/2808 [00:17<00:00, 161.43it/s, loss=0.038]\n"
     ]
    },
    {
     "name": "stdout",
     "output_type": "stream",
     "text": [
      "- Training f1 score: f1_seqeval: 0.928 ; loss: 0.035\n",
      "- Validation f1 score : f1_seqeval: 0.786 ; loss: 0.125\n",
      "Epoch 7/100\n"
     ]
    },
    {
     "name": "stderr",
     "output_type": "stream",
     "text": [
      "100%|██████████| 2808/2808 [00:17<00:00, 163.00it/s, loss=0.031]\n"
     ]
    },
    {
     "name": "stdout",
     "output_type": "stream",
     "text": [
      "- Training f1 score: f1_seqeval: 0.944 ; loss: 0.028\n",
      "- Validation f1 score : f1_seqeval: 0.787 ; loss: 0.132\n",
      "Epoch 8/100\n"
     ]
    },
    {
     "name": "stderr",
     "output_type": "stream",
     "text": [
      "100%|██████████| 2808/2808 [00:17<00:00, 162.19it/s, loss=0.027]\n"
     ]
    },
    {
     "name": "stdout",
     "output_type": "stream",
     "text": [
      "- Training f1 score: f1_seqeval: 0.950 ; loss: 0.025\n",
      "- Validation f1 score : f1_seqeval: 0.789 ; loss: 0.139\n",
      "Epoch 9/100\n"
     ]
    },
    {
     "name": "stderr",
     "output_type": "stream",
     "text": [
      "100%|██████████| 2808/2808 [00:17<00:00, 161.31it/s, loss=0.024]\n"
     ]
    },
    {
     "name": "stdout",
     "output_type": "stream",
     "text": [
      "- Training f1 score: f1_seqeval: 0.959 ; loss: 0.022\n",
      "- Validation f1 score : f1_seqeval: 0.796 ; loss: 0.139\n",
      "Epoch 10/100\n"
     ]
    },
    {
     "name": "stderr",
     "output_type": "stream",
     "text": [
      "100%|██████████| 2808/2808 [00:17<00:00, 161.96it/s, loss=0.023]\n"
     ]
    },
    {
     "name": "stdout",
     "output_type": "stream",
     "text": [
      "- Training f1 score: f1_seqeval: 0.962 ; loss: 0.020\n",
      "- Validation f1 score : f1_seqeval: 0.792 ; loss: 0.138\n",
      "Epoch 11/100\n"
     ]
    },
    {
     "name": "stderr",
     "output_type": "stream",
     "text": [
      "100%|██████████| 2808/2808 [00:17<00:00, 162.83it/s, loss=0.021]\n"
     ]
    },
    {
     "name": "stdout",
     "output_type": "stream",
     "text": [
      "- Training f1 score: f1_seqeval: 0.967 ; loss: 0.018\n",
      "- Validation f1 score : f1_seqeval: 0.795 ; loss: 0.142\n",
      "Epoch 12/100\n"
     ]
    },
    {
     "name": "stderr",
     "output_type": "stream",
     "text": [
      "100%|██████████| 2808/2808 [00:18<00:00, 152.49it/s, loss=0.020]\n"
     ]
    },
    {
     "name": "stdout",
     "output_type": "stream",
     "text": [
      "- Training f1 score: f1_seqeval: 0.965 ; loss: 0.018\n",
      "- Validation f1 score : f1_seqeval: 0.785 ; loss: 0.145\n",
      "Epoch 13/100\n"
     ]
    },
    {
     "name": "stderr",
     "output_type": "stream",
     "text": [
      "100%|██████████| 2808/2808 [00:16<00:00, 174.42it/s, loss=0.020]\n"
     ]
    },
    {
     "name": "stdout",
     "output_type": "stream",
     "text": [
      "- Training f1 score: f1_seqeval: 0.968 ; loss: 0.017\n",
      "- Validation f1 score : f1_seqeval: 0.784 ; loss: 0.153\n",
      "Epoch 14/100\n"
     ]
    },
    {
     "name": "stderr",
     "output_type": "stream",
     "text": [
      "100%|██████████| 2808/2808 [00:14<00:00, 188.72it/s, loss=0.019]\n"
     ]
    },
    {
     "name": "stdout",
     "output_type": "stream",
     "text": [
      "- Training f1 score: f1_seqeval: 0.968 ; loss: 0.017\n",
      "- Validation f1 score : f1_seqeval: 0.793 ; loss: 0.155\n",
      "Epoch 15/100\n"
     ]
    },
    {
     "name": "stderr",
     "output_type": "stream",
     "text": [
      "100%|██████████| 2808/2808 [00:18<00:00, 153.41it/s, loss=0.019]\n"
     ]
    },
    {
     "name": "stdout",
     "output_type": "stream",
     "text": [
      "- Training f1 score: f1_seqeval: 0.969 ; loss: 0.016\n",
      "- Validation f1 score : f1_seqeval: 0.787 ; loss: 0.157\n",
      "Epoch 16/100\n"
     ]
    },
    {
     "name": "stderr",
     "output_type": "stream",
     "text": [
      "100%|██████████| 2808/2808 [00:15<00:00, 175.83it/s, loss=0.019]\n"
     ]
    },
    {
     "name": "stdout",
     "output_type": "stream",
     "text": [
      "- Training f1 score: f1_seqeval: 0.969 ; loss: 0.016\n",
      "- Validation f1 score : f1_seqeval: 0.788 ; loss: 0.155\n",
      "Epoch 17/100\n"
     ]
    },
    {
     "name": "stderr",
     "output_type": "stream",
     "text": [
      "100%|██████████| 2808/2808 [00:17<00:00, 162.21it/s, loss=0.018]\n"
     ]
    },
    {
     "name": "stdout",
     "output_type": "stream",
     "text": [
      "- Training f1 score: f1_seqeval: 0.972 ; loss: 0.015\n",
      "- Validation f1 score : f1_seqeval: 0.799 ; loss: 0.160\n",
      "Epoch 18/100\n"
     ]
    },
    {
     "name": "stderr",
     "output_type": "stream",
     "text": [
      "100%|██████████| 2808/2808 [00:18<00:00, 149.32it/s, loss=0.018]\n"
     ]
    },
    {
     "name": "stdout",
     "output_type": "stream",
     "text": [
      "- Training f1 score: f1_seqeval: 0.974 ; loss: 0.015\n",
      "- Validation f1 score : f1_seqeval: 0.794 ; loss: 0.160\n",
      "Epoch 19/100\n"
     ]
    },
    {
     "name": "stderr",
     "output_type": "stream",
     "text": [
      "100%|██████████| 2808/2808 [00:16<00:00, 167.55it/s, loss=0.017]\n"
     ]
    },
    {
     "name": "stdout",
     "output_type": "stream",
     "text": [
      "- Training f1 score: f1_seqeval: 0.973 ; loss: 0.015\n",
      "- Validation f1 score : f1_seqeval: 0.790 ; loss: 0.158\n",
      "Epoch 20/100\n"
     ]
    },
    {
     "name": "stderr",
     "output_type": "stream",
     "text": [
      "100%|██████████| 2808/2808 [00:16<00:00, 168.09it/s, loss=0.018]\n"
     ]
    },
    {
     "name": "stdout",
     "output_type": "stream",
     "text": [
      "- Training f1 score: f1_seqeval: 0.972 ; loss: 0.015\n",
      "- Validation f1 score : f1_seqeval: 0.796 ; loss: 0.155\n",
      "Epoch 21/100\n"
     ]
    },
    {
     "name": "stderr",
     "output_type": "stream",
     "text": [
      "100%|██████████| 2808/2808 [00:17<00:00, 157.57it/s, loss=0.017]\n"
     ]
    },
    {
     "name": "stdout",
     "output_type": "stream",
     "text": [
      "- Training f1 score: f1_seqeval: 0.972 ; loss: 0.014\n",
      "- Validation f1 score : f1_seqeval: 0.795 ; loss: 0.157\n",
      "Epoch 22/100\n"
     ]
    },
    {
     "name": "stderr",
     "output_type": "stream",
     "text": [
      "100%|██████████| 2808/2808 [00:17<00:00, 161.91it/s, loss=0.017]\n"
     ]
    },
    {
     "name": "stdout",
     "output_type": "stream",
     "text": [
      "- Training f1 score: f1_seqeval: 0.973 ; loss: 0.014\n",
      "- Validation f1 score : f1_seqeval: 0.802 ; loss: 0.161\n",
      "Epoch 23/100\n"
     ]
    },
    {
     "name": "stderr",
     "output_type": "stream",
     "text": [
      "100%|██████████| 2808/2808 [00:17<00:00, 157.25it/s, loss=0.017]\n"
     ]
    },
    {
     "name": "stdout",
     "output_type": "stream",
     "text": [
      "- Training f1 score: f1_seqeval: 0.972 ; loss: 0.015\n",
      "- Validation f1 score : f1_seqeval: 0.805 ; loss: 0.156\n",
      "Epoch 24/100\n"
     ]
    },
    {
     "name": "stderr",
     "output_type": "stream",
     "text": [
      "100%|██████████| 2808/2808 [00:17<00:00, 163.94it/s, loss=0.017]\n"
     ]
    },
    {
     "name": "stdout",
     "output_type": "stream",
     "text": [
      "- Training f1 score: f1_seqeval: 0.974 ; loss: 0.015\n",
      "- Validation f1 score : f1_seqeval: 0.810 ; loss: 0.159\n",
      "Epoch 25/100\n"
     ]
    },
    {
     "name": "stderr",
     "output_type": "stream",
     "text": [
      "100%|██████████| 2808/2808 [00:17<00:00, 159.21it/s, loss=0.017]\n"
     ]
    },
    {
     "name": "stdout",
     "output_type": "stream",
     "text": [
      "- Training f1 score: f1_seqeval: 0.975 ; loss: 0.014\n",
      "- Validation f1 score : f1_seqeval: 0.806 ; loss: 0.160\n",
      "Epoch 26/100\n"
     ]
    },
    {
     "name": "stderr",
     "output_type": "stream",
     "text": [
      "100%|██████████| 2808/2808 [00:17<00:00, 163.42it/s, loss=0.016]\n"
     ]
    },
    {
     "name": "stdout",
     "output_type": "stream",
     "text": [
      "- Training f1 score: f1_seqeval: 0.976 ; loss: 0.014\n",
      "- Validation f1 score : f1_seqeval: 0.807 ; loss: 0.160\n",
      "Epoch 27/100\n"
     ]
    },
    {
     "name": "stderr",
     "output_type": "stream",
     "text": [
      "100%|██████████| 2808/2808 [00:16<00:00, 166.13it/s, loss=0.017]\n"
     ]
    },
    {
     "name": "stdout",
     "output_type": "stream",
     "text": [
      "- Training f1 score: f1_seqeval: 0.973 ; loss: 0.014\n",
      "- Validation f1 score : f1_seqeval: 0.804 ; loss: 0.157\n",
      "Epoch 28/100\n"
     ]
    },
    {
     "name": "stderr",
     "output_type": "stream",
     "text": [
      "100%|██████████| 2808/2808 [00:17<00:00, 164.15it/s, loss=0.017]\n"
     ]
    },
    {
     "name": "stdout",
     "output_type": "stream",
     "text": [
      "- Training f1 score: f1_seqeval: 0.977 ; loss: 0.014\n",
      "- Validation f1 score : f1_seqeval: 0.803 ; loss: 0.165\n",
      "Epoch 29/100\n"
     ]
    },
    {
     "name": "stderr",
     "output_type": "stream",
     "text": [
      "100%|██████████| 2808/2808 [00:18<00:00, 155.47it/s, loss=0.016]\n"
     ]
    },
    {
     "name": "stdout",
     "output_type": "stream",
     "text": [
      "- Training f1 score: f1_seqeval: 0.977 ; loss: 0.013\n",
      "- Validation f1 score : f1_seqeval: 0.810 ; loss: 0.169\n",
      "Epoch 30/100\n"
     ]
    },
    {
     "name": "stderr",
     "output_type": "stream",
     "text": [
      "100%|██████████| 2808/2808 [00:18<00:00, 150.71it/s, loss=0.016]\n"
     ]
    },
    {
     "name": "stdout",
     "output_type": "stream",
     "text": [
      "- Training f1 score: f1_seqeval: 0.975 ; loss: 0.014\n",
      "- Validation f1 score : f1_seqeval: 0.805 ; loss: 0.167\n",
      "Epoch 31/100\n"
     ]
    },
    {
     "name": "stderr",
     "output_type": "stream",
     "text": [
      "100%|██████████| 2808/2808 [00:19<00:00, 140.72it/s, loss=0.016]\n"
     ]
    },
    {
     "name": "stdout",
     "output_type": "stream",
     "text": [
      "- Training f1 score: f1_seqeval: 0.974 ; loss: 0.013\n",
      "- Validation f1 score : f1_seqeval: 0.802 ; loss: 0.170\n",
      "Epoch 32/100\n"
     ]
    },
    {
     "name": "stderr",
     "output_type": "stream",
     "text": [
      "100%|██████████| 2808/2808 [00:19<00:00, 142.22it/s, loss=0.016]\n"
     ]
    },
    {
     "name": "stdout",
     "output_type": "stream",
     "text": [
      "- Training f1 score: f1_seqeval: 0.974 ; loss: 0.013\n",
      "- Validation f1 score : f1_seqeval: 0.803 ; loss: 0.169\n",
      "Epoch 33/100\n"
     ]
    },
    {
     "name": "stderr",
     "output_type": "stream",
     "text": [
      "100%|██████████| 2808/2808 [00:18<00:00, 153.30it/s, loss=0.016]\n"
     ]
    },
    {
     "name": "stdout",
     "output_type": "stream",
     "text": [
      "- Training f1 score: f1_seqeval: 0.977 ; loss: 0.013\n",
      "- Validation f1 score : f1_seqeval: 0.805 ; loss: 0.166\n",
      "Epoch 34/100\n"
     ]
    },
    {
     "name": "stderr",
     "output_type": "stream",
     "text": [
      "100%|██████████| 2808/2808 [00:18<00:00, 153.44it/s, loss=0.016]\n"
     ]
    },
    {
     "name": "stdout",
     "output_type": "stream",
     "text": [
      "- Training f1 score: f1_seqeval: 0.976 ; loss: 0.013\n",
      "- Validation f1 score : f1_seqeval: 0.809 ; loss: 0.166\n",
      "Epoch 35/100\n"
     ]
    },
    {
     "name": "stderr",
     "output_type": "stream",
     "text": [
      "100%|██████████| 2808/2808 [00:17<00:00, 160.79it/s, loss=0.016]\n"
     ]
    },
    {
     "name": "stdout",
     "output_type": "stream",
     "text": [
      "- Training f1 score: f1_seqeval: 0.975 ; loss: 0.013\n",
      "- Validation f1 score : f1_seqeval: 0.806 ; loss: 0.168\n",
      "Epoch 36/100\n"
     ]
    },
    {
     "name": "stderr",
     "output_type": "stream",
     "text": [
      "100%|██████████| 2808/2808 [00:18<00:00, 155.67it/s, loss=0.016]\n"
     ]
    },
    {
     "name": "stdout",
     "output_type": "stream",
     "text": [
      "- Training f1 score: f1_seqeval: 0.977 ; loss: 0.013\n",
      "- Validation f1 score : f1_seqeval: 0.804 ; loss: 0.170\n",
      "Epoch 37/100\n"
     ]
    },
    {
     "name": "stderr",
     "output_type": "stream",
     "text": [
      "100%|██████████| 2808/2808 [00:18<00:00, 155.02it/s, loss=0.015]\n"
     ]
    },
    {
     "name": "stdout",
     "output_type": "stream",
     "text": [
      "- Training f1 score: f1_seqeval: 0.976 ; loss: 0.013\n",
      "- Validation f1 score : f1_seqeval: 0.803 ; loss: 0.172\n",
      "Epoch 38/100\n"
     ]
    },
    {
     "name": "stderr",
     "output_type": "stream",
     "text": [
      "100%|██████████| 2808/2808 [00:17<00:00, 159.49it/s, loss=0.016]\n"
     ]
    },
    {
     "name": "stdout",
     "output_type": "stream",
     "text": [
      "- Training f1 score: f1_seqeval: 0.975 ; loss: 0.013\n",
      "- Validation f1 score : f1_seqeval: 0.812 ; loss: 0.172\n",
      "Epoch 39/100\n"
     ]
    },
    {
     "name": "stderr",
     "output_type": "stream",
     "text": [
      "100%|██████████| 2808/2808 [00:17<00:00, 163.61it/s, loss=0.015]\n"
     ]
    },
    {
     "name": "stdout",
     "output_type": "stream",
     "text": [
      "- Training f1 score: f1_seqeval: 0.976 ; loss: 0.013\n",
      "- Validation f1 score : f1_seqeval: 0.812 ; loss: 0.171\n",
      "Epoch 40/100\n"
     ]
    },
    {
     "name": "stderr",
     "output_type": "stream",
     "text": [
      "100%|██████████| 2808/2808 [00:17<00:00, 165.06it/s, loss=0.016]\n"
     ]
    },
    {
     "name": "stdout",
     "output_type": "stream",
     "text": [
      "- Training f1 score: f1_seqeval: 0.975 ; loss: 0.013\n",
      "- Validation f1 score : f1_seqeval: 0.809 ; loss: 0.167\n",
      "Epoch 41/100\n"
     ]
    },
    {
     "name": "stderr",
     "output_type": "stream",
     "text": [
      "100%|██████████| 2808/2808 [00:17<00:00, 158.84it/s, loss=0.015]\n"
     ]
    },
    {
     "name": "stdout",
     "output_type": "stream",
     "text": [
      "- Training f1 score: f1_seqeval: 0.977 ; loss: 0.013\n",
      "- Validation f1 score : f1_seqeval: 0.810 ; loss: 0.175\n",
      "Epoch 42/100\n"
     ]
    },
    {
     "name": "stderr",
     "output_type": "stream",
     "text": [
      "100%|██████████| 2808/2808 [00:15<00:00, 181.17it/s, loss=0.015]\n"
     ]
    },
    {
     "name": "stdout",
     "output_type": "stream",
     "text": [
      "- Training f1 score: f1_seqeval: 0.978 ; loss: 0.012\n",
      "- Validation f1 score : f1_seqeval: 0.810 ; loss: 0.171\n",
      "Epoch 43/100\n"
     ]
    },
    {
     "name": "stderr",
     "output_type": "stream",
     "text": [
      "100%|██████████| 2808/2808 [00:16<00:00, 167.63it/s, loss=0.015]\n"
     ]
    },
    {
     "name": "stdout",
     "output_type": "stream",
     "text": [
      "- Training f1 score: f1_seqeval: 0.979 ; loss: 0.012\n",
      "- Validation f1 score : f1_seqeval: 0.810 ; loss: 0.171\n",
      "Epoch 44/100\n"
     ]
    },
    {
     "name": "stderr",
     "output_type": "stream",
     "text": [
      "100%|██████████| 2808/2808 [00:17<00:00, 157.18it/s, loss=0.016]\n"
     ]
    },
    {
     "name": "stdout",
     "output_type": "stream",
     "text": [
      "- Training f1 score: f1_seqeval: 0.976 ; loss: 0.013\n",
      "- Validation f1 score : f1_seqeval: 0.806 ; loss: 0.167\n",
      "Epoch 45/100\n"
     ]
    },
    {
     "name": "stderr",
     "output_type": "stream",
     "text": [
      "100%|██████████| 2808/2808 [00:18<00:00, 150.66it/s, loss=0.015]\n"
     ]
    },
    {
     "name": "stdout",
     "output_type": "stream",
     "text": [
      "- Training f1 score: f1_seqeval: 0.977 ; loss: 0.013\n",
      "- Validation f1 score : f1_seqeval: 0.813 ; loss: 0.175\n",
      "Epoch 46/100\n"
     ]
    },
    {
     "name": "stderr",
     "output_type": "stream",
     "text": [
      "100%|██████████| 2808/2808 [00:17<00:00, 156.04it/s, loss=0.015]\n"
     ]
    },
    {
     "name": "stdout",
     "output_type": "stream",
     "text": [
      "- Training f1 score: f1_seqeval: 0.976 ; loss: 0.013\n",
      "- Validation f1 score : f1_seqeval: 0.813 ; loss: 0.177\n",
      "Epoch 47/100\n"
     ]
    },
    {
     "name": "stderr",
     "output_type": "stream",
     "text": [
      "100%|██████████| 2808/2808 [00:17<00:00, 158.62it/s, loss=0.015]\n"
     ]
    },
    {
     "name": "stdout",
     "output_type": "stream",
     "text": [
      "- Training f1 score: f1_seqeval: 0.976 ; loss: 0.013\n",
      "- Validation f1 score : f1_seqeval: 0.805 ; loss: 0.174\n",
      "Epoch 48/100\n"
     ]
    },
    {
     "name": "stderr",
     "output_type": "stream",
     "text": [
      "100%|██████████| 2808/2808 [00:17<00:00, 161.98it/s, loss=0.015]\n"
     ]
    },
    {
     "name": "stdout",
     "output_type": "stream",
     "text": [
      "- Training f1 score: f1_seqeval: 0.977 ; loss: 0.013\n",
      "- Validation f1 score : f1_seqeval: 0.808 ; loss: 0.174\n",
      "Epoch 49/100\n"
     ]
    },
    {
     "name": "stderr",
     "output_type": "stream",
     "text": [
      "100%|██████████| 2808/2808 [00:18<00:00, 152.54it/s, loss=0.016]\n"
     ]
    },
    {
     "name": "stdout",
     "output_type": "stream",
     "text": [
      "- Training f1 score: f1_seqeval: 0.974 ; loss: 0.013\n",
      "- Validation f1 score : f1_seqeval: 0.810 ; loss: 0.173\n",
      "Epoch 50/100\n"
     ]
    },
    {
     "name": "stderr",
     "output_type": "stream",
     "text": [
      "100%|██████████| 2808/2808 [00:17<00:00, 158.37it/s, loss=0.015]\n"
     ]
    },
    {
     "name": "stdout",
     "output_type": "stream",
     "text": [
      "- Training f1 score: f1_seqeval: 0.977 ; loss: 0.012\n",
      "- Validation f1 score : f1_seqeval: 0.813 ; loss: 0.179\n",
      "Epoch 51/100\n"
     ]
    },
    {
     "name": "stderr",
     "output_type": "stream",
     "text": [
      "100%|██████████| 2808/2808 [00:15<00:00, 180.02it/s, loss=0.015]\n"
     ]
    },
    {
     "name": "stdout",
     "output_type": "stream",
     "text": [
      "- Training f1 score: f1_seqeval: 0.977 ; loss: 0.012\n",
      "- Validation f1 score : f1_seqeval: 0.814 ; loss: 0.180\n",
      "Epoch 52/100\n"
     ]
    },
    {
     "name": "stderr",
     "output_type": "stream",
     "text": [
      "100%|██████████| 2808/2808 [00:15<00:00, 180.54it/s, loss=0.015]\n"
     ]
    },
    {
     "name": "stdout",
     "output_type": "stream",
     "text": [
      "- Training f1 score: f1_seqeval: 0.977 ; loss: 0.012\n",
      "- Validation f1 score : f1_seqeval: 0.809 ; loss: 0.182\n",
      "Epoch 53/100\n"
     ]
    },
    {
     "name": "stderr",
     "output_type": "stream",
     "text": [
      "100%|██████████| 2808/2808 [00:15<00:00, 182.99it/s, loss=0.015]\n"
     ]
    },
    {
     "name": "stdout",
     "output_type": "stream",
     "text": [
      "- Training f1 score: f1_seqeval: 0.977 ; loss: 0.012\n",
      "- Validation f1 score : f1_seqeval: 0.811 ; loss: 0.180\n",
      "Epoch 54/100\n"
     ]
    },
    {
     "name": "stderr",
     "output_type": "stream",
     "text": [
      "100%|██████████| 2808/2808 [00:15<00:00, 177.41it/s, loss=0.015]\n"
     ]
    },
    {
     "name": "stdout",
     "output_type": "stream",
     "text": [
      "- Training f1 score: f1_seqeval: 0.976 ; loss: 0.013\n",
      "- Validation f1 score : f1_seqeval: 0.815 ; loss: 0.175\n",
      "Epoch 55/100\n"
     ]
    },
    {
     "name": "stderr",
     "output_type": "stream",
     "text": [
      "100%|██████████| 2808/2808 [00:15<00:00, 186.23it/s, loss=0.015]\n"
     ]
    },
    {
     "name": "stdout",
     "output_type": "stream",
     "text": [
      "- Training f1 score: f1_seqeval: 0.975 ; loss: 0.012\n",
      "- Validation f1 score : f1_seqeval: 0.812 ; loss: 0.183\n",
      "Epoch 56/100\n"
     ]
    },
    {
     "name": "stderr",
     "output_type": "stream",
     "text": [
      "100%|██████████| 2808/2808 [00:15<00:00, 186.03it/s, loss=0.015]\n"
     ]
    },
    {
     "name": "stdout",
     "output_type": "stream",
     "text": [
      "- Training f1 score: f1_seqeval: 0.977 ; loss: 0.012\n",
      "- Validation f1 score : f1_seqeval: 0.810 ; loss: 0.180\n",
      "Epoch 57/100\n"
     ]
    },
    {
     "name": "stderr",
     "output_type": "stream",
     "text": [
      "100%|██████████| 2808/2808 [00:15<00:00, 183.33it/s, loss=0.015]\n"
     ]
    },
    {
     "name": "stdout",
     "output_type": "stream",
     "text": [
      "- Training f1 score: f1_seqeval: 0.977 ; loss: 0.012\n",
      "- Validation f1 score : f1_seqeval: 0.807 ; loss: 0.180\n",
      "Epoch 58/100\n"
     ]
    },
    {
     "name": "stderr",
     "output_type": "stream",
     "text": [
      "100%|██████████| 2808/2808 [00:15<00:00, 184.91it/s, loss=0.015]\n"
     ]
    },
    {
     "name": "stdout",
     "output_type": "stream",
     "text": [
      "- Training f1 score: f1_seqeval: 0.978 ; loss: 0.012\n",
      "- Validation f1 score : f1_seqeval: 0.813 ; loss: 0.184\n",
      "Epoch 59/100\n"
     ]
    },
    {
     "name": "stderr",
     "output_type": "stream",
     "text": [
      "100%|██████████| 2808/2808 [00:15<00:00, 181.32it/s, loss=0.015]\n"
     ]
    },
    {
     "name": "stdout",
     "output_type": "stream",
     "text": [
      "- Training f1 score: f1_seqeval: 0.975 ; loss: 0.013\n",
      "- Validation f1 score : f1_seqeval: 0.810 ; loss: 0.177\n",
      "Epoch 60/100\n"
     ]
    },
    {
     "name": "stderr",
     "output_type": "stream",
     "text": [
      "100%|██████████| 2808/2808 [00:15<00:00, 175.69it/s, loss=0.015]\n"
     ]
    },
    {
     "name": "stdout",
     "output_type": "stream",
     "text": [
      "- Training f1 score: f1_seqeval: 0.977 ; loss: 0.012\n",
      "- Validation f1 score : f1_seqeval: 0.806 ; loss: 0.182\n",
      "Epoch 61/100\n"
     ]
    },
    {
     "name": "stderr",
     "output_type": "stream",
     "text": [
      "100%|██████████| 2808/2808 [00:15<00:00, 181.38it/s, loss=0.015]\n"
     ]
    },
    {
     "name": "stdout",
     "output_type": "stream",
     "text": [
      "- Training f1 score: f1_seqeval: 0.977 ; loss: 0.012\n",
      "- Validation f1 score : f1_seqeval: 0.808 ; loss: 0.186\n",
      "Epoch 62/100\n"
     ]
    },
    {
     "name": "stderr",
     "output_type": "stream",
     "text": [
      "100%|██████████| 2808/2808 [00:15<00:00, 178.22it/s, loss=0.015]\n"
     ]
    },
    {
     "name": "stdout",
     "output_type": "stream",
     "text": [
      "- Training f1 score: f1_seqeval: 0.977 ; loss: 0.012\n",
      "- Validation f1 score : f1_seqeval: 0.811 ; loss: 0.183\n",
      "Epoch 63/100\n"
     ]
    },
    {
     "name": "stderr",
     "output_type": "stream",
     "text": [
      "100%|██████████| 2808/2808 [00:15<00:00, 180.30it/s, loss=0.015]\n"
     ]
    },
    {
     "name": "stdout",
     "output_type": "stream",
     "text": [
      "- Training f1 score: f1_seqeval: 0.976 ; loss: 0.012\n",
      "- Validation f1 score : f1_seqeval: 0.811 ; loss: 0.191\n",
      "Epoch 64/100\n"
     ]
    },
    {
     "name": "stderr",
     "output_type": "stream",
     "text": [
      "100%|██████████| 2808/2808 [00:15<00:00, 176.96it/s, loss=0.015]\n"
     ]
    },
    {
     "name": "stdout",
     "output_type": "stream",
     "text": [
      "- Training f1 score: f1_seqeval: 0.978 ; loss: 0.012\n",
      "- Validation f1 score : f1_seqeval: 0.806 ; loss: 0.187\n",
      "Epoch 65/100\n"
     ]
    },
    {
     "name": "stderr",
     "output_type": "stream",
     "text": [
      "100%|██████████| 2808/2808 [00:15<00:00, 185.30it/s, loss=0.015]\n"
     ]
    },
    {
     "name": "stdout",
     "output_type": "stream",
     "text": [
      "- Training f1 score: f1_seqeval: 0.975 ; loss: 0.014\n",
      "- Validation f1 score : f1_seqeval: 0.798 ; loss: 0.181\n",
      "Epoch 66/100\n"
     ]
    },
    {
     "name": "stderr",
     "output_type": "stream",
     "text": [
      "100%|██████████| 2808/2808 [00:15<00:00, 181.86it/s, loss=0.015]\n"
     ]
    },
    {
     "name": "stdout",
     "output_type": "stream",
     "text": [
      "- Training f1 score: f1_seqeval: 0.977 ; loss: 0.012\n",
      "- Validation f1 score : f1_seqeval: 0.809 ; loss: 0.180\n",
      "Epoch 67/100\n"
     ]
    },
    {
     "name": "stderr",
     "output_type": "stream",
     "text": [
      "100%|██████████| 2808/2808 [00:16<00:00, 167.24it/s, loss=0.014]\n"
     ]
    },
    {
     "name": "stdout",
     "output_type": "stream",
     "text": [
      "- Training f1 score: f1_seqeval: 0.978 ; loss: 0.012\n",
      "- Validation f1 score : f1_seqeval: 0.810 ; loss: 0.186\n",
      "Epoch 68/100\n"
     ]
    },
    {
     "name": "stderr",
     "output_type": "stream",
     "text": [
      "100%|██████████| 2808/2808 [00:17<00:00, 159.23it/s, loss=0.015]\n"
     ]
    },
    {
     "name": "stdout",
     "output_type": "stream",
     "text": [
      "- Training f1 score: f1_seqeval: 0.977 ; loss: 0.012\n",
      "- Validation f1 score : f1_seqeval: 0.812 ; loss: 0.185\n",
      "Epoch 69/100\n"
     ]
    },
    {
     "name": "stderr",
     "output_type": "stream",
     "text": [
      "100%|██████████| 2808/2808 [00:17<00:00, 164.09it/s, loss=0.015]\n"
     ]
    },
    {
     "name": "stdout",
     "output_type": "stream",
     "text": [
      "- Training f1 score: f1_seqeval: 0.977 ; loss: 0.012\n",
      "- Validation f1 score : f1_seqeval: 0.813 ; loss: 0.184\n",
      "Epoch 70/100\n"
     ]
    },
    {
     "name": "stderr",
     "output_type": "stream",
     "text": [
      "100%|██████████| 2808/2808 [00:16<00:00, 166.76it/s, loss=0.015]\n"
     ]
    },
    {
     "name": "stdout",
     "output_type": "stream",
     "text": [
      "- Training f1 score: f1_seqeval: 0.976 ; loss: 0.012\n",
      "- Validation f1 score : f1_seqeval: 0.814 ; loss: 0.187\n",
      "Epoch 71/100\n"
     ]
    },
    {
     "name": "stderr",
     "output_type": "stream",
     "text": [
      "100%|██████████| 2808/2808 [00:16<00:00, 166.38it/s, loss=0.015]\n"
     ]
    },
    {
     "name": "stdout",
     "output_type": "stream",
     "text": [
      "- Training f1 score: f1_seqeval: 0.976 ; loss: 0.012\n",
      "- Validation f1 score : f1_seqeval: 0.810 ; loss: 0.186\n",
      "Epoch 72/100\n"
     ]
    },
    {
     "name": "stderr",
     "output_type": "stream",
     "text": [
      "100%|██████████| 2808/2808 [00:17<00:00, 164.25it/s, loss=0.015]\n"
     ]
    },
    {
     "name": "stdout",
     "output_type": "stream",
     "text": [
      "- Training f1 score: f1_seqeval: 0.975 ; loss: 0.013\n",
      "- Validation f1 score : f1_seqeval: 0.810 ; loss: 0.190\n",
      "Epoch 73/100\n"
     ]
    },
    {
     "name": "stderr",
     "output_type": "stream",
     "text": [
      "100%|██████████| 2808/2808 [00:17<00:00, 156.08it/s, loss=0.015]\n"
     ]
    },
    {
     "name": "stdout",
     "output_type": "stream",
     "text": [
      "- Training f1 score: f1_seqeval: 0.975 ; loss: 0.012\n",
      "- Validation f1 score : f1_seqeval: 0.811 ; loss: 0.183\n",
      "Epoch 74/100\n"
     ]
    },
    {
     "name": "stderr",
     "output_type": "stream",
     "text": [
      "100%|██████████| 2808/2808 [00:17<00:00, 159.86it/s, loss=0.015]\n"
     ]
    },
    {
     "name": "stdout",
     "output_type": "stream",
     "text": [
      "- Training f1 score: f1_seqeval: 0.976 ; loss: 0.012\n",
      "- Validation f1 score : f1_seqeval: 0.811 ; loss: 0.188\n",
      "Epoch 75/100\n"
     ]
    },
    {
     "name": "stderr",
     "output_type": "stream",
     "text": [
      "100%|██████████| 2808/2808 [00:17<00:00, 159.28it/s, loss=0.014]\n"
     ]
    },
    {
     "name": "stdout",
     "output_type": "stream",
     "text": [
      "- Training f1 score: f1_seqeval: 0.976 ; loss: 0.012\n",
      "- Validation f1 score : f1_seqeval: 0.813 ; loss: 0.187\n",
      "Epoch 76/100\n"
     ]
    },
    {
     "name": "stderr",
     "output_type": "stream",
     "text": [
      "100%|██████████| 2808/2808 [00:18<00:00, 155.05it/s, loss=0.015]\n"
     ]
    },
    {
     "name": "stdout",
     "output_type": "stream",
     "text": [
      "- Training f1 score: f1_seqeval: 0.976 ; loss: 0.013\n",
      "- Validation f1 score : f1_seqeval: 0.812 ; loss: 0.189\n",
      "Epoch 77/100\n"
     ]
    },
    {
     "name": "stderr",
     "output_type": "stream",
     "text": [
      "100%|██████████| 2808/2808 [00:18<00:00, 148.47it/s, loss=0.015]\n"
     ]
    },
    {
     "name": "stdout",
     "output_type": "stream",
     "text": [
      "- Training f1 score: f1_seqeval: 0.976 ; loss: 0.012\n",
      "- Validation f1 score : f1_seqeval: 0.816 ; loss: 0.189\n",
      "Epoch 78/100\n"
     ]
    },
    {
     "name": "stderr",
     "output_type": "stream",
     "text": [
      "100%|██████████| 2808/2808 [00:18<00:00, 154.82it/s, loss=0.014]\n"
     ]
    },
    {
     "name": "stdout",
     "output_type": "stream",
     "text": [
      "- Training f1 score: f1_seqeval: 0.979 ; loss: 0.012\n",
      "- Validation f1 score : f1_seqeval: 0.813 ; loss: 0.184\n",
      "Epoch 79/100\n"
     ]
    },
    {
     "name": "stderr",
     "output_type": "stream",
     "text": [
      "100%|██████████| 2808/2808 [00:18<00:00, 154.52it/s, loss=0.014]\n"
     ]
    },
    {
     "name": "stdout",
     "output_type": "stream",
     "text": [
      "- Training f1 score: f1_seqeval: 0.977 ; loss: 0.012\n",
      "- Validation f1 score : f1_seqeval: 0.811 ; loss: 0.192\n",
      "Epoch 80/100\n"
     ]
    },
    {
     "name": "stderr",
     "output_type": "stream",
     "text": [
      "100%|██████████| 2808/2808 [00:18<00:00, 154.28it/s, loss=0.015]\n"
     ]
    },
    {
     "name": "stdout",
     "output_type": "stream",
     "text": [
      "- Training f1 score: f1_seqeval: 0.975 ; loss: 0.012\n",
      "- Validation f1 score : f1_seqeval: 0.817 ; loss: 0.196\n",
      "Epoch 81/100\n"
     ]
    },
    {
     "name": "stderr",
     "output_type": "stream",
     "text": [
      "100%|██████████| 2808/2808 [00:17<00:00, 157.05it/s, loss=0.015]\n"
     ]
    },
    {
     "name": "stdout",
     "output_type": "stream",
     "text": [
      "- Training f1 score: f1_seqeval: 0.978 ; loss: 0.012\n",
      "- Validation f1 score : f1_seqeval: 0.813 ; loss: 0.194\n",
      "Epoch 82/100\n"
     ]
    },
    {
     "name": "stderr",
     "output_type": "stream",
     "text": [
      "100%|██████████| 2808/2808 [00:18<00:00, 153.22it/s, loss=0.014]\n"
     ]
    },
    {
     "name": "stdout",
     "output_type": "stream",
     "text": [
      "- Training f1 score: f1_seqeval: 0.977 ; loss: 0.012\n",
      "- Validation f1 score : f1_seqeval: 0.816 ; loss: 0.191\n",
      "Epoch 83/100\n"
     ]
    },
    {
     "name": "stderr",
     "output_type": "stream",
     "text": [
      "100%|██████████| 2808/2808 [00:17<00:00, 158.30it/s, loss=0.014]\n"
     ]
    },
    {
     "name": "stdout",
     "output_type": "stream",
     "text": [
      "- Training f1 score: f1_seqeval: 0.979 ; loss: 0.012\n",
      "- Validation f1 score : f1_seqeval: 0.811 ; loss: 0.189\n",
      "Epoch 84/100\n"
     ]
    },
    {
     "name": "stderr",
     "output_type": "stream",
     "text": [
      "100%|██████████| 2808/2808 [00:17<00:00, 156.44it/s, loss=0.015]\n"
     ]
    },
    {
     "name": "stdout",
     "output_type": "stream",
     "text": [
      "- Training f1 score: f1_seqeval: 0.978 ; loss: 0.012\n",
      "- Validation f1 score : f1_seqeval: 0.814 ; loss: 0.199\n",
      "Epoch 85/100\n"
     ]
    },
    {
     "name": "stderr",
     "output_type": "stream",
     "text": [
      "100%|██████████| 2808/2808 [00:18<00:00, 150.11it/s, loss=0.014]\n"
     ]
    },
    {
     "name": "stdout",
     "output_type": "stream",
     "text": [
      "- Training f1 score: f1_seqeval: 0.977 ; loss: 0.012\n",
      "- Validation f1 score : f1_seqeval: 0.808 ; loss: 0.193\n",
      "Epoch 86/100\n"
     ]
    },
    {
     "name": "stderr",
     "output_type": "stream",
     "text": [
      "100%|██████████| 2808/2808 [00:18<00:00, 151.91it/s, loss=0.015]\n"
     ]
    },
    {
     "name": "stdout",
     "output_type": "stream",
     "text": [
      "- Training f1 score: f1_seqeval: 0.978 ; loss: 0.012\n",
      "- Validation f1 score : f1_seqeval: 0.813 ; loss: 0.194\n",
      "Epoch 87/100\n"
     ]
    },
    {
     "name": "stderr",
     "output_type": "stream",
     "text": [
      "100%|██████████| 2808/2808 [00:18<00:00, 154.64it/s, loss=0.015]\n"
     ]
    },
    {
     "name": "stdout",
     "output_type": "stream",
     "text": [
      "- Training f1 score: f1_seqeval: 0.978 ; loss: 0.012\n",
      "- Validation f1 score : f1_seqeval: 0.807 ; loss: 0.194\n",
      "Epoch 88/100\n"
     ]
    },
    {
     "name": "stderr",
     "output_type": "stream",
     "text": [
      "100%|██████████| 2808/2808 [00:18<00:00, 154.01it/s, loss=0.015]\n"
     ]
    },
    {
     "name": "stdout",
     "output_type": "stream",
     "text": [
      "- Training f1 score: f1_seqeval: 0.977 ; loss: 0.012\n",
      "- Validation f1 score : f1_seqeval: 0.806 ; loss: 0.189\n",
      "Epoch 89/100\n"
     ]
    },
    {
     "name": "stderr",
     "output_type": "stream",
     "text": [
      "100%|██████████| 2808/2808 [00:18<00:00, 155.18it/s, loss=0.015]\n"
     ]
    },
    {
     "name": "stdout",
     "output_type": "stream",
     "text": [
      "- Training f1 score: f1_seqeval: 0.978 ; loss: 0.012\n",
      "- Validation f1 score : f1_seqeval: 0.812 ; loss: 0.189\n",
      "Epoch 90/100\n"
     ]
    },
    {
     "name": "stderr",
     "output_type": "stream",
     "text": [
      "100%|██████████| 2808/2808 [00:18<00:00, 151.26it/s, loss=0.014]\n"
     ]
    },
    {
     "name": "stdout",
     "output_type": "stream",
     "text": [
      "- Training f1 score: f1_seqeval: 0.979 ; loss: 0.012\n",
      "- Validation f1 score : f1_seqeval: 0.811 ; loss: 0.189\n",
      "Epoch 91/100\n"
     ]
    },
    {
     "name": "stderr",
     "output_type": "stream",
     "text": [
      "100%|██████████| 2808/2808 [00:19<00:00, 146.76it/s, loss=0.014]\n"
     ]
    },
    {
     "name": "stdout",
     "output_type": "stream",
     "text": [
      "- Training f1 score: f1_seqeval: 0.977 ; loss: 0.012\n",
      "- Validation f1 score : f1_seqeval: 0.810 ; loss: 0.192\n",
      "Epoch 92/100\n"
     ]
    },
    {
     "name": "stderr",
     "output_type": "stream",
     "text": [
      "100%|██████████| 2808/2808 [00:17<00:00, 157.94it/s, loss=0.015]\n"
     ]
    },
    {
     "name": "stdout",
     "output_type": "stream",
     "text": [
      "- Training f1 score: f1_seqeval: 0.978 ; loss: 0.012\n",
      "- Validation f1 score : f1_seqeval: 0.813 ; loss: 0.187\n",
      "Epoch 93/100\n"
     ]
    },
    {
     "name": "stderr",
     "output_type": "stream",
     "text": [
      "100%|██████████| 2808/2808 [00:17<00:00, 156.99it/s, loss=0.015]\n"
     ]
    },
    {
     "name": "stdout",
     "output_type": "stream",
     "text": [
      "- Training f1 score: f1_seqeval: 0.977 ; loss: 0.012\n",
      "- Validation f1 score : f1_seqeval: 0.810 ; loss: 0.193\n",
      "Epoch 94/100\n"
     ]
    },
    {
     "name": "stderr",
     "output_type": "stream",
     "text": [
      "100%|██████████| 2808/2808 [00:17<00:00, 156.22it/s, loss=0.014]\n"
     ]
    },
    {
     "name": "stdout",
     "output_type": "stream",
     "text": [
      "- Training f1 score: f1_seqeval: 0.979 ; loss: 0.012\n",
      "- Validation f1 score : f1_seqeval: 0.812 ; loss: 0.193\n",
      "Epoch 95/100\n"
     ]
    },
    {
     "name": "stderr",
     "output_type": "stream",
     "text": [
      "100%|██████████| 2808/2808 [00:17<00:00, 158.20it/s, loss=0.014]\n"
     ]
    },
    {
     "name": "stdout",
     "output_type": "stream",
     "text": [
      "- Training f1 score: f1_seqeval: 0.977 ; loss: 0.012\n",
      "- Validation f1 score : f1_seqeval: 0.813 ; loss: 0.198\n",
      "Epoch 96/100\n"
     ]
    },
    {
     "name": "stderr",
     "output_type": "stream",
     "text": [
      "100%|██████████| 2808/2808 [00:17<00:00, 156.51it/s, loss=0.014]\n"
     ]
    },
    {
     "name": "stdout",
     "output_type": "stream",
     "text": [
      "- Training f1 score: f1_seqeval: 0.976 ; loss: 0.012\n",
      "- Validation f1 score : f1_seqeval: 0.812 ; loss: 0.196\n",
      "Epoch 97/100\n"
     ]
    },
    {
     "name": "stderr",
     "output_type": "stream",
     "text": [
      "100%|██████████| 2808/2808 [00:17<00:00, 160.62it/s, loss=0.015]\n"
     ]
    },
    {
     "name": "stdout",
     "output_type": "stream",
     "text": [
      "- Training f1 score: f1_seqeval: 0.976 ; loss: 0.012\n",
      "- Validation f1 score : f1_seqeval: 0.810 ; loss: 0.193\n",
      "Epoch 98/100\n"
     ]
    },
    {
     "name": "stderr",
     "output_type": "stream",
     "text": [
      "100%|██████████| 2808/2808 [00:18<00:00, 150.48it/s, loss=0.014]\n"
     ]
    },
    {
     "name": "stdout",
     "output_type": "stream",
     "text": [
      "- Training f1 score: f1_seqeval: 0.977 ; loss: 0.012\n",
      "- Validation f1 score : f1_seqeval: 0.810 ; loss: 0.194\n",
      "Epoch 99/100\n"
     ]
    },
    {
     "name": "stderr",
     "output_type": "stream",
     "text": [
      "100%|██████████| 2808/2808 [00:18<00:00, 154.41it/s, loss=0.014]\n"
     ]
    },
    {
     "name": "stdout",
     "output_type": "stream",
     "text": [
      "- Training f1 score: f1_seqeval: 0.978 ; loss: 0.012\n",
      "- Validation f1 score : f1_seqeval: 0.809 ; loss: 0.195\n",
      "Epoch 100/100\n"
     ]
    },
    {
     "name": "stderr",
     "output_type": "stream",
     "text": [
      "100%|██████████| 2808/2808 [00:18<00:00, 152.82it/s, loss=0.014]\n"
     ]
    },
    {
     "name": "stdout",
     "output_type": "stream",
     "text": [
      "- Training f1 score: f1_seqeval: 0.977 ; loss: 0.012\n",
      "- Validation f1 score : f1_seqeval: 0.804 ; loss: 0.196\n",
      "total training time taken: 1898.5079956054688\n"
     ]
    }
   ],
   "source": [
    "# manually change vocab size (unique no. of words) and change label size (unique no. of labels) for now\n",
    "model = Net(embedding_weights, 300, 300, len(tag_map))\n",
    "# Move the model to the GPU\n",
    "model.to(device)\n",
    "\n",
    "# Q1.3b\n",
    "print(\"len(tag_map):\", len(tag_map))\n",
    "optimizer = optim.Adam(model.parameters(), lr=0.001)\n",
    "\n",
    "if os.path.isfile(\"model_weights_q1_part3.pth\"):\n",
    "    model.load_state_dict(torch.load('model_weights_q1_part3.pth'))\n",
    "    \n",
    "else:\n",
    "    start_time = time.time()\n",
    "    train_metrics_list, val_metrics_list = train_and_evaluate(model, train_sentences, train_labels, val_sentences,\n",
    "                                                            val_labels, 100, 5, optimizer, loss_fn, metrics)\n",
    "    end_time = time.time()\n",
    "    total_time = end_time - start_time\n",
    "    print(\"total training time taken:\", total_time)\n",
    "    torch.save(model.state_dict(), 'model_weights_q1_part3.pth')\n",
    "    with open(\"training_information/Q1_part3/train_metrics_list.pkl\", 'wb') as file:\n",
    "        pickle.dump(train_metrics_list, file)\n",
    "\n",
    "    # Save the dictionary to a file\n",
    "    with open(\"training_information/Q1_part3/val_metrics_list.pkl\", 'wb') as file:\n",
    "        pickle.dump(val_metrics_list, file)"
   ]
  },
  {
   "cell_type": "markdown",
   "metadata": {
    "collapsed": false,
    "pycharm": {
     "name": "#%% md\n"
    }
   },
   "source": [
    "Coallate the data and plot the graph"
   ]
  },
  {
   "cell_type": "code",
   "execution_count": 21,
   "metadata": {
    "collapsed": false,
    "pycharm": {
     "name": "#%%\n"
    }
   },
   "outputs": [],
   "source": [
    "# Process metrics for plot\n",
    "train_f1_list = []\n",
    "val_f1_list = []\n",
    "for i in train_metrics_list:\n",
    "    train_f1_list.append(i[\"f1_seqeval\"])\n",
    "for i in val_metrics_list:\n",
    "    val_f1_list.append(i[\"f1_seqeval\"])"
   ]
  },
  {
   "cell_type": "code",
   "execution_count": 22,
   "metadata": {
    "collapsed": false,
    "pycharm": {
     "name": "#%%\n"
    }
   },
   "outputs": [
    {
     "name": "stdout",
     "output_type": "stream",
     "text": [
      "Epoch 1 - Training F1: 0.6966, Validation F1: 0.7512\n",
      "Epoch 2 - Training F1: 0.8086, Validation F1: 0.7822\n",
      "Epoch 3 - Training F1: 0.8473, Validation F1: 0.7893\n",
      "Epoch 4 - Training F1: 0.8790, Validation F1: 0.7984\n",
      "Epoch 5 - Training F1: 0.9099, Validation F1: 0.7972\n",
      "Epoch 6 - Training F1: 0.9279, Validation F1: 0.7859\n",
      "Epoch 7 - Training F1: 0.9439, Validation F1: 0.7873\n",
      "Epoch 8 - Training F1: 0.9502, Validation F1: 0.7886\n",
      "Epoch 9 - Training F1: 0.9586, Validation F1: 0.7956\n",
      "Epoch 10 - Training F1: 0.9617, Validation F1: 0.7922\n",
      "Epoch 11 - Training F1: 0.9672, Validation F1: 0.7952\n",
      "Epoch 12 - Training F1: 0.9651, Validation F1: 0.7848\n",
      "Epoch 13 - Training F1: 0.9683, Validation F1: 0.7838\n",
      "Epoch 14 - Training F1: 0.9680, Validation F1: 0.7927\n",
      "Epoch 15 - Training F1: 0.9693, Validation F1: 0.7874\n",
      "Epoch 16 - Training F1: 0.9694, Validation F1: 0.7877\n",
      "Epoch 17 - Training F1: 0.9721, Validation F1: 0.7991\n",
      "Epoch 18 - Training F1: 0.9738, Validation F1: 0.7942\n",
      "Epoch 19 - Training F1: 0.9729, Validation F1: 0.7898\n",
      "Epoch 20 - Training F1: 0.9715, Validation F1: 0.7957\n",
      "Epoch 21 - Training F1: 0.9725, Validation F1: 0.7947\n",
      "Epoch 22 - Training F1: 0.9731, Validation F1: 0.8024\n",
      "Epoch 23 - Training F1: 0.9723, Validation F1: 0.8051\n",
      "Epoch 24 - Training F1: 0.9742, Validation F1: 0.8096\n",
      "Epoch 25 - Training F1: 0.9754, Validation F1: 0.8056\n",
      "Epoch 26 - Training F1: 0.9757, Validation F1: 0.8075\n",
      "Epoch 27 - Training F1: 0.9732, Validation F1: 0.8040\n",
      "Epoch 28 - Training F1: 0.9770, Validation F1: 0.8031\n",
      "Epoch 29 - Training F1: 0.9769, Validation F1: 0.8100\n",
      "Epoch 30 - Training F1: 0.9746, Validation F1: 0.8053\n",
      "Epoch 31 - Training F1: 0.9742, Validation F1: 0.8023\n",
      "Epoch 32 - Training F1: 0.9736, Validation F1: 0.8028\n",
      "Epoch 33 - Training F1: 0.9772, Validation F1: 0.8050\n",
      "Epoch 34 - Training F1: 0.9761, Validation F1: 0.8094\n",
      "Epoch 35 - Training F1: 0.9753, Validation F1: 0.8064\n",
      "Epoch 36 - Training F1: 0.9770, Validation F1: 0.8038\n",
      "Epoch 37 - Training F1: 0.9759, Validation F1: 0.8029\n",
      "Epoch 38 - Training F1: 0.9754, Validation F1: 0.8116\n",
      "Epoch 39 - Training F1: 0.9765, Validation F1: 0.8122\n",
      "Epoch 40 - Training F1: 0.9755, Validation F1: 0.8093\n",
      "Epoch 41 - Training F1: 0.9765, Validation F1: 0.8099\n",
      "Epoch 42 - Training F1: 0.9778, Validation F1: 0.8102\n",
      "Epoch 43 - Training F1: 0.9793, Validation F1: 0.8099\n",
      "Epoch 44 - Training F1: 0.9763, Validation F1: 0.8059\n",
      "Epoch 45 - Training F1: 0.9773, Validation F1: 0.8130\n",
      "Epoch 46 - Training F1: 0.9763, Validation F1: 0.8131\n",
      "Epoch 47 - Training F1: 0.9763, Validation F1: 0.8050\n",
      "Epoch 48 - Training F1: 0.9774, Validation F1: 0.8085\n",
      "Epoch 49 - Training F1: 0.9740, Validation F1: 0.8100\n",
      "Epoch 50 - Training F1: 0.9773, Validation F1: 0.8129\n",
      "Epoch 51 - Training F1: 0.9772, Validation F1: 0.8144\n",
      "Epoch 52 - Training F1: 0.9767, Validation F1: 0.8090\n",
      "Epoch 53 - Training F1: 0.9773, Validation F1: 0.8109\n",
      "Epoch 54 - Training F1: 0.9763, Validation F1: 0.8147\n",
      "Epoch 55 - Training F1: 0.9746, Validation F1: 0.8116\n",
      "Epoch 56 - Training F1: 0.9770, Validation F1: 0.8102\n",
      "Epoch 57 - Training F1: 0.9772, Validation F1: 0.8068\n",
      "Epoch 58 - Training F1: 0.9781, Validation F1: 0.8126\n",
      "Epoch 59 - Training F1: 0.9754, Validation F1: 0.8097\n",
      "Epoch 60 - Training F1: 0.9772, Validation F1: 0.8060\n",
      "Epoch 61 - Training F1: 0.9772, Validation F1: 0.8083\n",
      "Epoch 62 - Training F1: 0.9769, Validation F1: 0.8113\n",
      "Epoch 63 - Training F1: 0.9764, Validation F1: 0.8110\n",
      "Epoch 64 - Training F1: 0.9775, Validation F1: 0.8065\n",
      "Epoch 65 - Training F1: 0.9745, Validation F1: 0.7975\n",
      "Epoch 66 - Training F1: 0.9774, Validation F1: 0.8093\n",
      "Epoch 67 - Training F1: 0.9775, Validation F1: 0.8104\n",
      "Epoch 68 - Training F1: 0.9770, Validation F1: 0.8121\n",
      "Epoch 69 - Training F1: 0.9770, Validation F1: 0.8134\n",
      "Epoch 70 - Training F1: 0.9761, Validation F1: 0.8141\n",
      "Epoch 71 - Training F1: 0.9763, Validation F1: 0.8105\n",
      "Epoch 72 - Training F1: 0.9752, Validation F1: 0.8098\n",
      "Epoch 73 - Training F1: 0.9750, Validation F1: 0.8114\n",
      "Epoch 74 - Training F1: 0.9764, Validation F1: 0.8110\n",
      "Epoch 75 - Training F1: 0.9762, Validation F1: 0.8129\n",
      "Epoch 76 - Training F1: 0.9760, Validation F1: 0.8116\n",
      "Epoch 77 - Training F1: 0.9756, Validation F1: 0.8159\n",
      "Epoch 78 - Training F1: 0.9786, Validation F1: 0.8126\n",
      "Epoch 79 - Training F1: 0.9769, Validation F1: 0.8113\n",
      "Epoch 80 - Training F1: 0.9751, Validation F1: 0.8171\n",
      "Epoch 81 - Training F1: 0.9781, Validation F1: 0.8128\n",
      "Epoch 82 - Training F1: 0.9770, Validation F1: 0.8161\n",
      "Epoch 83 - Training F1: 0.9786, Validation F1: 0.8108\n",
      "Epoch 84 - Training F1: 0.9780, Validation F1: 0.8145\n",
      "Epoch 85 - Training F1: 0.9775, Validation F1: 0.8076\n",
      "Epoch 86 - Training F1: 0.9777, Validation F1: 0.8129\n",
      "Epoch 87 - Training F1: 0.9776, Validation F1: 0.8074\n",
      "Epoch 88 - Training F1: 0.9765, Validation F1: 0.8061\n",
      "Epoch 89 - Training F1: 0.9781, Validation F1: 0.8119\n",
      "Epoch 90 - Training F1: 0.9788, Validation F1: 0.8113\n",
      "Epoch 91 - Training F1: 0.9768, Validation F1: 0.8098\n",
      "Epoch 92 - Training F1: 0.9776, Validation F1: 0.8126\n",
      "Epoch 93 - Training F1: 0.9774, Validation F1: 0.8097\n",
      "Epoch 94 - Training F1: 0.9793, Validation F1: 0.8120\n",
      "Epoch 95 - Training F1: 0.9765, Validation F1: 0.8131\n",
      "Epoch 96 - Training F1: 0.9759, Validation F1: 0.8116\n",
      "Epoch 97 - Training F1: 0.9762, Validation F1: 0.8100\n",
      "Epoch 98 - Training F1: 0.9768, Validation F1: 0.8101\n",
      "Epoch 99 - Training F1: 0.9775, Validation F1: 0.8086\n",
      "Epoch 100 - Training F1: 0.9772, Validation F1: 0.8038\n",
      "Best Training F1 Score: 0.9793 (Epoch 94)\n",
      "Best Validation F1 Score: 0.8171 (Epoch 80)\n"
     ]
    }
   ],
   "source": [
    "best_train_f1 = 0\n",
    "best_val_f1 = 0\n",
    "best_train_epoch = 0\n",
    "best_val_epoch = 0\n",
    "\n",
    "for epoch, (train_f1, val_f1) in enumerate(zip(train_f1_list, val_f1_list), start=1):\n",
    "    print(f\"Epoch {epoch} - Training F1: {train_f1:.4f}, Validation F1: {val_f1:.4f}\")\n",
    "\n",
    "    # Check for the best F1 score on both training and validation sets\n",
    "    if train_f1 > best_train_f1:\n",
    "        best_train_f1 = train_f1\n",
    "        best_train_epoch = epoch\n",
    "    if val_f1 > best_val_f1:\n",
    "        best_val_f1 = val_f1\n",
    "        best_val_epoch = epoch\n",
    "\n",
    "# Print the best F1 scores and corresponding epochs\n",
    "print(f\"Best Training F1 Score: {best_train_f1:.4f} (Epoch {best_train_epoch})\")\n",
    "print(f\"Best Validation F1 Score: {best_val_f1:.4f} (Epoch {best_val_epoch})\")\n"
   ]
  },
  {
   "cell_type": "code",
   "execution_count": 23,
   "metadata": {
    "collapsed": false,
    "pycharm": {
     "name": "#%%\n"
    }
   },
   "outputs": [
    {
     "data": {
      "image/png": "[encoded data removed]",
      "text/plain": [
       "<Figure size 600x400 with 1 Axes>"
      ]
     },
     "metadata": {},
     "output_type": "display_data"
    }
   ],
   "source": [
    "import matplotlib.pyplot as plt\n",
    "fig = plt.figure(figsize=(6,4))\n",
    "plt.plot(range(1,len(train_metrics_list)+1),train_f1_list, label='Training f1-score')\n",
    "plt.plot(range(1,len(val_metrics_list)+1),val_f1_list,label='Test f1-score')\n",
    "plt.legend()\n",
    "plt.show()"
   ]
  },
  {
   "cell_type": "code",
   "execution_count": 24,
   "metadata": {
    "collapsed": false,
    "pycharm": {
     "name": "#%%\n"
    }
   },
   "outputs": [],
   "source": [
    "#Get test data and labels through data iterator\n",
    "'''Test batch- tensor of n_sentences x max_len_sentence\n",
    "   Labels_batch- tensor of n_sentences x max_len_sentence\n",
    "   Test sentences- list of n_sentences x sentence_length(no padding)'''\n",
    "test_data_iterator = data_iterator(test_sentences, test_labels, len(test_sentences), len(test_sentences),\n",
    "                                   shuffle=True, cuda=torch.cuda.is_available())\n",
    "test_batch, labels_batch, test_sentences = next(test_data_iterator)\n"
   ]
  },
  {
   "cell_type": "code",
   "execution_count": 25,
   "metadata": {
    "collapsed": false,
    "pycharm": {
     "name": "#%%\n"
    }
   },
   "outputs": [],
   "source": [
    "model_output = model(test_batch)\n",
    "model_output_numpy = model_output.cpu().detach().numpy()\n",
    "labels_batch_numpy = labels_batch.cpu().detach().numpy()"
   ]
  },
  {
   "cell_type": "code",
   "execution_count": 26,
   "metadata": {},
   "outputs": [
    {
     "name": "stdout",
     "output_type": "stream",
     "text": [
      "Number of sentences: \n",
      " 3453\n",
      "Number of predicted word labels \n",
      " 428172\n"
     ]
    }
   ],
   "source": [
    "predicted_labels = np.argmax(model_output.cpu().detach().numpy(), axis=1)\n",
    "print(f\"Number of sentences: \\n {len(test_sentences)}\")\n",
    "print(f\"Number of predicted word labels \\n {len(predicted_labels)}\")"
   ]
  },
  {
   "cell_type": "code",
   "execution_count": 27,
   "metadata": {},
   "outputs": [
    {
     "name": "stdout",
     "output_type": "stream",
     "text": [
      "sample_label_predict: ['I-PER', 'I-PER', 'O', 'I-LOC', 'O', 'O', 'I-PER', 'I-PER', 'O', 'I-LOC', 'O', 'O', 'O', 'O']\n",
      "sample_label_true: ['I-PER', 'I-PER', 'O', 'I-LOC', 'O', 'O', 'I-PER', 'I-PER', 'O', 'I-LOC', 'O', 'O', 'O', 'O']\n"
     ]
    }
   ],
   "source": [
    "#Show model output on sample from test set\n",
    "sample_output = model(test_batch[10].unsqueeze(0)).cpu()\n",
    "id_to_words(test_sentences[10])\n",
    "sample_mask = (labels_batch[10] >= 0).cpu()\n",
    "sample_label_predict = np.argmax(sample_output.detach().numpy(), axis=1)[sample_mask]\n",
    "sample_label_true = labels_batch[10][sample_mask]\n",
    "print(f\"sample_label_predict: {id_to_labels(sample_label_predict)}\")\n",
    "print(f\"sample_label_true: {id_to_labels(sample_label_true.cpu().numpy())}\")"
   ]
  },
  {
   "cell_type": "code",
   "execution_count": 28,
   "metadata": {
    "collapsed": false,
    "pycharm": {
     "name": "#%%\n"
    }
   },
   "outputs": [
    {
     "name": "stdout",
     "output_type": "stream",
     "text": [
      "Test set f1 score: 0.7704246228965037\n"
     ]
    }
   ],
   "source": [
    "#compute f1 score for test set\n",
    "f1_score_seqeval = calculate_multiclass_f1_score(model_output_numpy, labels_batch_numpy)\n",
    "print(f\"Test set f1 score: {f1_score_seqeval}\")"
   ]
  },
  {
   "cell_type": "code",
   "execution_count": 29,
   "metadata": {
    "collapsed": false,
    "pycharm": {
     "name": "#%%\n"
    }
   },
   "outputs": [
    {
     "name": "stdout",
     "output_type": "stream",
     "text": [
      "model_class_report: \n",
      "              precision    recall  f1-score   support\n",
      "\n",
      "         LOC       0.79      0.86      0.82      1661\n",
      "        MISC       0.64      0.66      0.65       702\n",
      "         ORG       0.68      0.71      0.70      1655\n",
      "         PER       0.85      0.84      0.85      1611\n",
      "\n",
      "   micro avg       0.76      0.78      0.77      5629\n",
      "   macro avg       0.74      0.77      0.75      5629\n",
      "weighted avg       0.76      0.78      0.77      5629\n",
      "\n"
     ]
    }
   ],
   "source": [
    "model_class_report = classification_report_gen(model_output_numpy, labels_batch_numpy)\n",
    "print(f\"model_class_report: \\n{model_class_report}\")"
   ]
  }
 ],
 "metadata": {
  "kernelspec": {
   "display_name": "venv",
   "language": "python",
   "name": "python3"
  },
  "language_info": {
   "codemirror_mode": {
    "name": "ipython",
    "version": 3
   },
   "file_extension": ".py",
   "mimetype": "text/x-python",
   "name": "python",
   "nbconvert_exporter": "python",
   "pygments_lexer": "ipython3",
   "version": "3.10.11"
  },
  "widgets": {
   "application/vnd.jupyter.widget-state+json": {
    "state": {},
    "version_major": 2,
    "version_minor": 0
   }
  }
 },
 "nbformat": 4,
 "nbformat_minor": 5
}
