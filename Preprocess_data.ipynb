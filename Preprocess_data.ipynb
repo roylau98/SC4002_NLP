{
 "cells": [
  {
   "cell_type": "code",
   "execution_count": 13,
   "id": "initial_id",
   "metadata": {
    "collapsed": true,
    "ExecuteTime": {
     "end_time": "2023-10-23T15:05:02.825302500Z",
     "start_time": "2023-10-23T15:05:02.804947800Z"
    }
   },
   "outputs": [],
   "source": [
    "import pandas as pd\n",
    "import random "
   ]
  },
  {
   "cell_type": "code",
   "execution_count": 24,
   "outputs": [],
   "source": [
    "def preprocessing():\n",
    "    # read the csvs\n",
    "    training_data = pd.read_csv(filepath_or_buffer=\"TREC_dataset/train.csv\", sep=\",\")\n",
    "    test_data = pd.read_csv(filepath_or_buffer=\"TREC_dataset/test.csv\", sep=\",\") \n",
    "    \n",
    "    # get all coarse labels, they are integers from 0 to 5\n",
    "    labels_coarse = list(set([x for x in training_data[\"label-coarse\"]]))\n",
    "    \n",
    "    # choosing two classes to merge\n",
    "    choices = random.sample(labels_coarse, k=2)\n",
    "    \n",
    "    # define the new class mappings old coarse labels (key): new coarse labels (key)\n",
    "    # new labels are 0, 1, 2, 3, 4, and 4 is OTHERS\n",
    "    new_labels = {}\n",
    "    \n",
    "    curr = 0\n",
    "    for i in labels_coarse:\n",
    "        if i not in new_labels:\n",
    "            if i not in choices:\n",
    "                new_labels[i] = curr\n",
    "                curr += 1\n",
    "            else:\n",
    "                new_labels[i] = 4\n",
    "                \n",
    "    # replace all the labels in the training and test dataset\n",
    "    for i, row in training_data.iterrows():\n",
    "        training_data.at[i,'label-coarse'] = new_labels[training_data.at[i,'label-coarse']]\n",
    "        \n",
    "    for i, row in test_data.iterrows():\n",
    "        test_data.at[i,'label-coarse'] = new_labels[training_data.at[i,'label-coarse']]\n",
    "        \n",
    "    # save the files\n",
    "    training_data.to_csv(path_or_buf=\"TREC_dataset/modified_training_data.csv\", index=False, sep=',')\n",
    "    test_data.to_csv(path_or_buf=\"TREC_dataset/modified_test_data.csv\", index=False, sep=',')"
   ],
   "metadata": {
    "collapsed": false,
    "ExecuteTime": {
     "end_time": "2023-10-23T15:22:30.463818800Z",
     "start_time": "2023-10-23T15:22:30.395748100Z"
    }
   },
   "id": "dcd837ffdc4a812e"
  },
  {
   "cell_type": "code",
   "execution_count": 25,
   "outputs": [],
   "source": [
    "preprocessing()"
   ],
   "metadata": {
    "collapsed": false,
    "ExecuteTime": {
     "end_time": "2023-10-23T15:22:38.280564Z",
     "start_time": "2023-10-23T15:22:37.475011400Z"
    }
   },
   "id": "96752014ca37dd11"
  }
 ],
 "metadata": {
  "kernelspec": {
   "display_name": "Python 3",
   "language": "python",
   "name": "python3"
  },
  "language_info": {
   "codemirror_mode": {
    "name": "ipython",
    "version": 2
   },
   "file_extension": ".py",
   "mimetype": "text/x-python",
   "name": "python",
   "nbconvert_exporter": "python",
   "pygments_lexer": "ipython2",
   "version": "2.7.6"
  }
 },
 "nbformat": 4,
 "nbformat_minor": 5
}
