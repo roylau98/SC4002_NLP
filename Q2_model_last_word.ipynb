{
 "cells": [
  {
   "cell_type": "markdown",
   "id": "347520df11b3027e",
   "metadata": {
    "collapsed": false
   },
   "source": []
  },
  {
   "cell_type": "code",
   "execution_count": 38,
   "id": "16fcb8704f34334f",
   "metadata": {
    "ExecuteTime": {
     "end_time": "2023-10-16T14:37:13.923216Z",
     "start_time": "2023-10-16T14:37:13.814857Z"
    },
    "collapsed": false
   },
   "outputs": [],
   "source": [
    "import random\n",
    "import os\n",
    "import numpy as np\n",
    "import torch\n",
    "import torch.nn as nn\n",
    "import torch.nn.functional as F\n",
    "import torch.optim as optim\n",
    "from tqdm import trange\n",
    "from torch.autograd import Variable\n",
    "import numpy as np\n",
    "from sklearn.metrics import f1_score\n",
    "from seqeval.metrics import f1_score as f1_score_seqeval\n",
    "from seqeval.metrics import classification_report\n",
    "from seqeval.scheme import IOB1\n",
    "from sklearn.model_selection import train_test_split\n",
    "import pandas as pd"
   ]
  },
  {
   "cell_type": "code",
   "execution_count": 39,
   "id": "0e4d9acf",
   "metadata": {},
   "outputs": [],
   "source": [
    "import gensim.downloader\n",
    "word2vec_goog1e_news: gensim.models.keyedvectors.KeyedVectors = gensim.downloader.load('word2vec-google-news-300')\n",
    "word2vec_goog1e_news.add_vector(\"<pad>\", np.zeros(300))\n",
    "pad_index = word2vec_goog1e_news.key_to_index[\"<pad>\"]\n",
    "embedding_weights = torch.FloatTensor(word2vec_goog1e_news.vectors)\n",
    "vocab = word2vec_goog1e_news.key_to_index"
   ]
  },
  {
   "cell_type": "code",
   "execution_count": 40,
   "id": "9e894b3f",
   "metadata": {},
   "outputs": [],
   "source": [
    "# train_data, train_tags = read_conll_file('CoNLL2003_dataset/eng.train')\n",
    "# val_data, val_tags = read_conll_file('CoNLL2003_dataset/eng.testa')\n",
    "# test_data, test_tags = read_conll_file('CoNLL2003_dataset/eng.testb')\n",
    "\n",
    "training_data = pd.read_csv(filepath_or_buffer=\"TREC_dataset/modified_training_data.csv\", sep=\",\") \n",
    "test_data = pd.read_csv(filepath_or_buffer=\"TREC_dataset/modified_test_data.csv\", sep=\",\")\n",
    "\n",
    "X = training_data[\"text\"]\n",
    "y = training_data[\"label-coarse\"]\n",
    "X_train, X_val, y_train, y_val = train_test_split(X, y, test_size=500)\n",
    "\n",
    "X_test = test_data[\"text\"]\n",
    "y_test = test_data[\"label-coarse\"]\n",
    "\n",
    "from nltk.tokenize import word_tokenize\n",
    "\n",
    "X_train_lst = X_train.to_list()\n",
    "X_val_lst = X_val.to_list()\n",
    "X_test_lst = X_test.to_list()\n",
    "\n",
    "def tokenize_pd_series_to_lsit(list_of_text):\n",
    "    tokenized = []\n",
    "    for sentence in list_of_text:\n",
    "        tokenized.append(word_tokenize(sentence.lower()))\n",
    "    return tokenized\n",
    "X_train_tokenized = tokenize_pd_series_to_lsit(X_train_lst)\n",
    "X_val_tokenized = tokenize_pd_series_to_lsit(X_val_lst)\n",
    "X_test_tokenized = tokenize_pd_series_to_lsit(X_test_lst)\n",
    "\n",
    "no_of_labels = max(y_train.to_list()) + 1\n",
    "\n",
    "def format_label(label):\n",
    "    return torch.unsqueeze(torch.tensor(label.to_list()), axis=1).tolist()\n",
    "\n",
    "y_train_formatted = format_label(y_train)\n",
    "y_val_formatted = format_label(y_val)\n",
    "y_test_formatted = format_label(y_test)\n",
    "\n",
    "def indexify(data):\n",
    "    setences = []\n",
    "    for sentence in data:\n",
    "        s = [vocab[token] if token in vocab\n",
    "            else vocab['UNK']\n",
    "            for token in sentence]\n",
    "        setences.append(s)\n",
    "    return setences"
   ]
  },
  {
   "cell_type": "code",
   "execution_count": 41,
   "id": "5cb4a69d3a6f4b99",
   "metadata": {
    "ExecuteTime": {
     "end_time": "2023-10-16T14:37:13.991538Z",
     "start_time": "2023-10-16T14:37:13.847742Z"
    },
    "collapsed": false
   },
   "outputs": [],
   "source": [
    "X_val_tokenized_indexified = indexify(X_val_tokenized)\n",
    "X_test_tokenized_indexified = indexify(X_test_tokenized)\n",
    "X_train_tokenized_indexified = indexify(X_train_tokenized)"
   ]
  },
  {
   "cell_type": "code",
   "execution_count": 42,
   "id": "5800cc7f3fc93583",
   "metadata": {
    "ExecuteTime": {
     "end_time": "2023-10-16T14:37:14.011887Z",
     "start_time": "2023-10-16T14:37:13.882822Z"
    },
    "collapsed": false
   },
   "outputs": [],
   "source": [
    "def data_iterator(sentences, labels, total_size: int, batch_size: int, shuffle: bool=False):\n",
    "    # make a list that decides the order in which we go over the data- this avoids explicit shuffling of data\n",
    "    order = list(range(total_size))\n",
    "    if shuffle:\n",
    "        random.seed(230)\n",
    "        random.shuffle(order)\n",
    "\n",
    "    # one pass over data\n",
    "    for i in range((total_size+1)//batch_size):\n",
    "        # fetch sentences and tags\n",
    "        batch_sentences = [sentences[idx] for idx in order[i*batch_size:(i+1)*batch_size]]\n",
    "        batch_tags = [labels[idx] for idx in order[i*batch_size:(i+1)*batch_size]]\n",
    "\n",
    "        # compute length of longest sentence in batch\n",
    "        batch_max_len = max([len(s) for s in batch_sentences])\n",
    "\n",
    "        # prepare a numpy array with the data, initialising the data with pad_ind and all labels with -1\n",
    "        # initialising labels to -1 differentiates tokens with tags from PADding tokens\n",
    "        batch_data = vocab['<pad>']*np.ones((len(batch_sentences), batch_max_len))\n",
    "        # batch_labels = -1*np.ones((len(batch_sentences), batch_max_len))\n",
    "        batch_labels = -1*np.ones(len(batch_sentences))\n",
    "        batch_labels = batch_labels.reshape(-1, 1)\n",
    "\n",
    "        # print(f\"batch_data.shape = {batch_data.shape}\")\n",
    "        # print(f\"batch_labels.shape = {batch_labels.shape}\")\n",
    "\n",
    "        # copy the data to the numpy array\n",
    "        for j in range(len(batch_sentences)):\n",
    "            cur_len = len(batch_sentences[j])\n",
    "            batch_data[j][:cur_len] = batch_sentences[j]\n",
    "            batch_labels[j][:cur_len] = batch_tags[j]\n",
    "\n",
    "        # since all data are indices, we convert them to torch LongTensors\n",
    "        batch_data, batch_labels = torch.LongTensor(batch_data), torch.LongTensor(batch_labels)\n",
    "        \n",
    "        # convert them to Variables to record operations in the computational graph\n",
    "        batch_data, batch_labels = Variable(batch_data), Variable(batch_labels)\n",
    "\n",
    "        yield batch_data, batch_labels, batch_sentences"
   ]
  },
  {
   "cell_type": "code",
   "execution_count": 43,
   "id": "d9aa7ca1ef91b423",
   "metadata": {
    "ExecuteTime": {
     "end_time": "2023-10-16T14:37:14.012307Z",
     "start_time": "2023-10-16T14:37:13.894126Z"
    },
    "collapsed": false
   },
   "outputs": [],
   "source": [
    "class Net(nn.Module):\n",
    "    \"\"\"\n",
    "    This is the standard way to define your own network in PyTorch. You typically choose the components\n",
    "    (e.g. LSTMs, linear layers etc.) of your network in the __init__ function. You then apply these layers\n",
    "    on the input step-by-step in the forward function. You can use torch.nn.functional to apply functions\n",
    "    such as F.relu, F.sigmoid, F.softmax. Be careful to ensure your dimensions are correct after each step.\n",
    "\n",
    "    You are encouraged to have a look at the network in pytorch/vision/model/net.py to get a better sense of how\n",
    "    you can go about defining your own network.\n",
    "\n",
    "    The documentation for all the various components available to you is here: http://pytorch.org/docs/master/nn.html\n",
    "    \"\"\"\n",
    "\n",
    "    def __init__(self, embedding_weights, embedding_dim, lstm_hidden_dim, number_of_tags):\n",
    "        \"\"\"\n",
    "        We define an recurrent network that predicts the NER tags for each token in the sentence. The components\n",
    "        required are:\n",
    "\n",
    "        - an embedding layer: this layer maps each index in range(params.vocab_size) to a params.embedding_dim vector\n",
    "        - lstm: applying the LSTM on the sequential input returns an output for each token in the sentence\n",
    "        - fc: a fully connected layer that converts the LSTM output for each token to a distribution over NER tags\n",
    "\n",
    "        Args:\n",
    "            params: (Params) contains vocab_size, embedding_dim, lstm_hidden_dim\n",
    "        \"\"\"\n",
    "        super(Net, self).__init__()\n",
    "\n",
    "        # the embedding takes as input the vocab_size and the embedding_dim\n",
    "        # self.embedding = nn.Embedding(vocab_size, embedding_dim)\n",
    "        self.embedding = nn.Embedding.from_pretrained(embedding_weights, padding_idx=pad_index)\n",
    "\n",
    "        # the LSTM takes as input the size of its input (embedding_dim), its hidden size\n",
    "        # for more details on how to use it, check out the documentation\n",
    "        self.lstm = nn.LSTM(embedding_dim,\n",
    "                            lstm_hidden_dim, batch_first=True)\n",
    "\n",
    "        # the fully connected layer transforms the output to give the final output layer\n",
    "        self.fc = nn.Linear(lstm_hidden_dim, number_of_tags)\n",
    "\n",
    "    def forward(self, s):\n",
    "        \"\"\"\n",
    "        This function defines how we use the components of our network to operate on an input batch.\n",
    "\n",
    "        Args:\n",
    "            s: (Variable) contains a batch of sentences, of dimension batch_size x seq_len, where seq_len is\n",
    "               the length of the longest sentence in the batch. For sentences shorter than seq_len, the remaining\n",
    "               tokens are PADding tokens. Each row is a sentence with each element corresponding to the index of\n",
    "               the token in the vocab.\n",
    "\n",
    "        Returns:\n",
    "            out: (Variable) dimension batch_size*seq_len x num_tags with the log probabilities of tokens for each token\n",
    "                 of each sentence.\n",
    "\n",
    "        Note: the dimensions after each step are provided\n",
    "        \"\"\"\n",
    "        #                                -> batch_size x seq_len\n",
    "        # apply the embedding layer that maps each token to its embedding\n",
    "        # dim: batch_size x seq_len x embedding_dim\n",
    "        s = self.embedding(s)\n",
    "\n",
    "        # run the LSTM along the sentences of length seq_len\n",
    "        # dim: batch_size x seq_len x lstm_hidden_dim\n",
    "        s, _ = self.lstm(s)\n",
    "        # make the Variable contiguous in memory (a PyTorch artefact)\n",
    "        # s = s.contiguous()\n",
    "        # reshape the Variable so that each row contains one token\n",
    "        # dim: batch_size*seq_len x lstm_hidden_dim\n",
    "        # s = s.view(-1, s.shape[2])\n",
    "\n",
    "        # Changed\n",
    "        s = s[:, -1, :] # last word \n",
    "        \n",
    "        # apply the fully connected layer and obtain the output (before softmax) for each token\n",
    "        s = self.fc(s)                   # dim: batch_size*seq_len x num_tags\n",
    "\n",
    "        # apply log softmax on each token's output (this is recommended over applying softmax\n",
    "        # since it is numerically more stable)\n",
    "        # return F.log_softmax(s, dim=1)   # dim: batch_size*seq_len x num_tags\n",
    "        return F.softmax(s, dim=1)   # dim: batch_size*seq_len x num_tags"
   ]
  },
  {
   "cell_type": "code",
   "execution_count": 44,
   "id": "ba90bdc3ae13684a",
   "metadata": {
    "ExecuteTime": {
     "end_time": "2023-10-16T14:37:14.012907Z",
     "start_time": "2023-10-16T14:37:13.899592Z"
    },
    "collapsed": false
   },
   "outputs": [],
   "source": [
    "def loss_fn(outputs, labels):\n",
    "    \"\"\"\n",
    "    Compute the cross entropy loss given outputs from the model and labels for all tokens. Exclude loss terms\n",
    "    for PADding tokens.\n",
    "\n",
    "    Args:\n",
    "        outputs: (Variable) dimension batch_size*seq_len x num_tags - log softmax output of the model\n",
    "        labels: (Variable) dimension batch_size x seq_len where each element is either a label in [0, 1, ... num_tag-1],\n",
    "                or -1 in case it is a PADding token.\n",
    "\n",
    "    Returns:\n",
    "        loss: (Variable) cross entropy loss for all tokens in the batch\n",
    "\n",
    "    Note: you may use a standard loss function from http://pytorch.org/docs/master/nn.html#loss-functions. This example\n",
    "          demonstrates how you can easily define a custom loss function.\n",
    "    \"\"\"\n",
    "\n",
    "    # reshape labels to give a flat vector of length batch_size*seq_len\n",
    "    labels = labels.view(-1)\n",
    "\n",
    "    # since PADding tokens have label -1, we can generate a mask to exclude the loss from those terms\n",
    "    mask = (labels >= 0).float()\n",
    "\n",
    "    # indexing with negative values is not supported. Since PADded tokens have label -1, we convert them to a positive\n",
    "    # number. This does not affect training, since we ignore the PADded tokens with the mask.\n",
    "    labels = labels % outputs.shape[1]\n",
    "    num_tokens = int(torch.sum(mask))\n",
    "\n",
    "    # compute cross entropy loss for all tokens (except PADding tokens), by multiplying with mask.\n",
    "    \n",
    "    # return -torch.sum(outputs[range(outputs.shape[0]), labels]*mask)/ torch.sum(num_tokens)\n",
    "    a = outputs[range(outputs.shape[0]), labels]*mask\n",
    "    b = -torch.sum(a)\n",
    "    c = num_tokens\n",
    "    return b/c"
   ]
  },
  {
   "cell_type": "code",
   "execution_count": 45,
   "id": "e07330c216283eda",
   "metadata": {
    "ExecuteTime": {
     "end_time": "2023-10-16T14:37:14.013393Z",
     "start_time": "2023-10-16T14:37:13.913339Z"
    },
    "collapsed": false
   },
   "outputs": [],
   "source": [
    "class RunningAverage:\n",
    "    \"\"\"A simple class that maintains the running average of a quantity\n",
    "\n",
    "    Example:\n",
    "    ```\n",
    "    loss_avg = RunningAverage()\n",
    "    loss_avg.update(2)\n",
    "    loss_avg.update(4)\n",
    "    loss_avg() = 3\n",
    "    ```\n",
    "    \"\"\"\n",
    "\n",
    "    def __init__(self):\n",
    "        self.steps = 0\n",
    "        self.total = 0\n",
    "\n",
    "    def update(self, val):\n",
    "        self.total += val\n",
    "        self.steps += 1\n",
    "\n",
    "    def __call__(self):\n",
    "        return self.total / float(self.steps)"
   ]
  },
  {
   "cell_type": "code",
   "execution_count": 46,
   "id": "84b8f1d154a50053",
   "metadata": {
    "ExecuteTime": {
     "end_time": "2023-10-16T14:37:14.014581Z",
     "start_time": "2023-10-16T14:37:13.927378Z"
    },
    "collapsed": false
   },
   "outputs": [],
   "source": [
    "def train(model, optimizer, loss_fn, data_iterator, metrics, num_steps):\n",
    "    \"\"\"Train the model on `num_steps` batches\n",
    "\n",
    "    Args:\n",
    "        model: (torch.nn.Module) the neural network\n",
    "        optimizer: (torch.optim) optimizer for parameters of model\n",
    "        loss_fn: a function that takes batch_output and batch_labels and computes the loss for the batch\n",
    "        data_iterator: (generator) a generator that generates batches of data and labels\n",
    "        metrics: (dict) a dictionary of functions that compute a metric using the output and labels of each batch\n",
    "        params: (Params) hyperparameters\n",
    "        num_steps: (int) number of batches to train on, each of size params.batch_size\n",
    "    \"\"\"\n",
    "\n",
    "    # set model to training mode\n",
    "    model.train()\n",
    "\n",
    "    # summary for current training loop and a running average object for loss\n",
    "    summ = []\n",
    "    loss_avg = RunningAverage()\n",
    "\n",
    "    # Use tqdm for progress bar\n",
    "    t = trange(num_steps)\n",
    "    for i in t:\n",
    "        # fetch the next training batch\n",
    "        train_batch, labels_batch, _ = next(data_iterator)\n",
    "\n",
    "        # compute model output and loss\n",
    "        output_batch = model(train_batch)\n",
    "        loss = loss_fn(output_batch, labels_batch)\n",
    "\n",
    "        # clear previous gradients, compute gradients of all variables wrt loss\n",
    "        optimizer.zero_grad()\n",
    "        loss.backward()\n",
    "\n",
    "        # performs updates using calculated gradients\n",
    "        optimizer.step()\n",
    "\n",
    "        # Evaluate summaries only once in a while\n",
    "        if i % 10 == 0:\n",
    "            # extract data from torch Variable, move to cpu, convert to numpy arrays\n",
    "            output_batch = output_batch.data.cpu().numpy()\n",
    "            labels_batch = labels_batch.data.cpu().numpy()\n",
    "\n",
    "            # compute all metrics on this batch\n",
    "            summary_batch = {metric: metrics[metric](output_batch, labels_batch)\n",
    "                             for metric in metrics}\n",
    "            summary_batch['loss'] = loss.item()\n",
    "            summ.append(summary_batch)\n",
    "\n",
    "        # update the average loss\n",
    "        loss_avg.update(loss.item())\n",
    "        t.set_postfix(loss='{:05.3f}'.format(loss_avg()))\n",
    "\n",
    "    # compute mean of all metrics in summary\n",
    "    metrics_mean = {metric: np.mean([x[metric]\n",
    "                                     for x in summ]) for metric in summ[0]}\n",
    "    metrics_string = \" ; \".join(\"{}: {:05.3f}\".format(k, v)\n",
    "                                for k, v in metrics_mean.items())\n",
    "    print(\"- Train metrics: \" + metrics_string)"
   ]
  },
  {
   "cell_type": "code",
   "execution_count": 47,
   "id": "a1feee96f562ef39",
   "metadata": {
    "ExecuteTime": {
     "end_time": "2023-10-16T14:37:14.014871Z",
     "start_time": "2023-10-16T14:37:13.939867Z"
    },
    "collapsed": false
   },
   "outputs": [],
   "source": [
    "def evaluate(model, loss_fn, data_iterator, metrics, num_steps):\n",
    "    \"\"\"Evaluate the model on `num_steps` batches.\n",
    "\n",
    "    Args:\n",
    "        model: (torch.nn.Module) the neural network\n",
    "        loss_fn: a function that takes batch_output and batch_labels and computes the loss for the batch\n",
    "        data_iterator: (generator) a generator that generates batches of data and labels\n",
    "        metrics: (dict) a dictionary of functions that compute a metric using the output and labels of each batch\n",
    "        params: (Params) hyperparameters\n",
    "        num_steps: (int) number of batches to train on, each of size params.batch_size\n",
    "    \"\"\"\n",
    "\n",
    "    # set model to evaluation mode\n",
    "    model.eval()\n",
    "\n",
    "    # summary for current eval loop\n",
    "    summ = []\n",
    "\n",
    "    # compute metrics over the dataset\n",
    "    for _ in range(num_steps):\n",
    "        # fetch the next evaluation batch\n",
    "        data_batch, labels_batch, _ = next(data_iterator)\n",
    "\n",
    "        # compute model output\n",
    "        output_batch = model(data_batch)\n",
    "        loss = loss_fn(output_batch, labels_batch)\n",
    "\n",
    "        # extract data from torch Variable, move to cpu, convert to numpy arrays\n",
    "        output_batch = output_batch.data.cpu().numpy()\n",
    "        labels_batch = labels_batch.data.cpu().numpy()\n",
    "\n",
    "        # compute all metrics on this batch\n",
    "        summary_batch = {metric: metrics[metric](output_batch, labels_batch)\n",
    "                         for metric in metrics}\n",
    "        summary_batch['loss'] = loss.item()\n",
    "        summ.append(summary_batch)\n",
    "\n",
    "    # compute mean of all metrics in summary\n",
    "    print(f\"summ: {summ}\")\n",
    "    metrics_mean = {metric:np.mean([x[metric] for x in summ]) for metric in summ[0]}\n",
    "    metrics_string = \" ; \".join(\"{}: {:05.3f}\".format(k, v) for k, v in metrics_mean.items())\n",
    "    print(\"- Eval metrics : \" + metrics_string)\n",
    "    return metrics_mean"
   ]
  },
  {
   "cell_type": "code",
   "execution_count": 48,
   "id": "798027bbaa11f757",
   "metadata": {
    "ExecuteTime": {
     "end_time": "2023-10-16T14:37:14.014985Z",
     "start_time": "2023-10-16T14:37:13.951561Z"
    },
    "collapsed": false
   },
   "outputs": [],
   "source": [
    "def train_and_evaluate(\n",
    "        model,\n",
    "        train_sentences,\n",
    "        train_labels,\n",
    "        val_sentences,\n",
    "        val_labels,\n",
    "        num_epochs: int,\n",
    "        batch_size: int,\n",
    "        optimizer,\n",
    "        loss_fn,\n",
    "        metrics\n",
    "):\n",
    "    for epoch in range(num_epochs):\n",
    "        # Run one epoch\n",
    "        print(\"Epoch {}/{}\".format(epoch + 1, num_epochs))\n",
    "\n",
    "        # compute number of batches in one epoch (one full pass over the training set)\n",
    "        num_steps = (len(train_sentences) + 1) // batch_size\n",
    "        train_data_iterator = data_iterator(\n",
    "            train_sentences, train_labels, len(train_sentences), batch_size, shuffle=True)\n",
    "        train(model, optimizer, loss_fn, train_data_iterator,\n",
    "              metrics, num_steps)\n",
    "\n",
    "        # Evaluate for one epoch on validation set\n",
    "        num_steps = (len(val_sentences) + 1) // batch_size\n",
    "        val_data_iterator = data_iterator(\n",
    "            val_sentences, val_labels, len(val_sentences), batch_size, shuffle=False)\n",
    "        val_metrics = evaluate(\n",
    "            model, loss_fn, val_data_iterator, metrics, num_steps)\n",
    "   "
   ]
  },
  {
   "cell_type": "code",
   "execution_count": 49,
   "id": "a538da78",
   "metadata": {},
   "outputs": [],
   "source": [
    "inv_vocab = {v: k for k, v in vocab.items()}\n",
    "inv_tag_map = {v: k for k, v in tag_map.items()}\n",
    "\n",
    "def id_to_words(sentence):\n",
    "    new_sentence = [inv_vocab[i] for i in sentence]\n",
    "    return new_sentence\n",
    "\n",
    "def id_to_labels(labels):\n",
    "    new_sentence = [inv_tag_map[i] for i in labels]\n",
    "    return new_sentence"
   ]
  },
  {
   "cell_type": "code",
   "execution_count": 50,
   "id": "a981f205b1133b82",
   "metadata": {
    "ExecuteTime": {
     "end_time": "2023-10-16T14:37:14.015072Z",
     "start_time": "2023-10-16T14:37:13.960431Z"
    },
    "collapsed": false
   },
   "outputs": [],
   "source": [
    "def accuracy(outputs, labels):\n",
    "    \"\"\"\n",
    "    Compute the accuracy, given the outputs and labels for all tokens. Exclude PADding terms.\n",
    "\n",
    "    Args:\n",
    "        outputs: (np.ndarray) dimension batch_size*seq_len x num_tags - log softmax output of the model\n",
    "        labels: (np.ndarray) dimension batch_size x seq_len where each element is either a label in\n",
    "                [0, 1, ... num_tag-1], or -1 in case it is a PADding token.\n",
    "\n",
    "    Returns: (float) accuracy in [0,1]\n",
    "    \"\"\"\n",
    "\n",
    "    # reshape labels to give a flat vector of length batch_size*seq_len\n",
    "    labels = labels.ravel()\n",
    "\n",
    "    # since PADding tokens have label -1, we can generate a mask to exclude the loss from those terms\n",
    "    mask = (labels >= 0)\n",
    "\n",
    "    # np.argmax gives us the class predicted for each token by the model\n",
    "    outputs = np.argmax(outputs, axis=1)\n",
    "\n",
    "\n",
    "    # compare outputs with labels and divide by number of tokens (excluding PADding tokens)\n",
    "    return np.sum(outputs == labels)/float(np.sum(mask))\n",
    "\n",
    "\n",
    "\n",
    "def calculate_multiclass_f1_score(outputs, labels):\n",
    "    \n",
    "    labels = labels.ravel()\n",
    "    mask = (labels >= 0)  \n",
    "    outputs = np.argmax(outputs, axis=1)\n",
    "    outputs = outputs[mask]\n",
    "    labels = labels[mask]\n",
    "    outputs = id_to_labels(outputs)\n",
    "    labels = id_to_labels(labels)\n",
    "    outputs = np.expand_dims(outputs, axis=0)\n",
    "    labels = np.expand_dims(labels, axis=0)\n",
    "    outputs = outputs.tolist()\n",
    "    labels = labels.tolist()\n",
    "    f1= f1_score_seqeval(labels, outputs, mode='strict', scheme=IOB1)\n",
    "    return f1\n",
    "\n",
    "def classification_report_gen(outputs, labels):\n",
    "    labels = labels.ravel()\n",
    "    mask = (labels >= 0)  \n",
    "    outputs = np.argmax(outputs, axis=1)\n",
    "    outputs = outputs[mask]\n",
    "    labels = labels[mask]\n",
    "    outputs = id_to_labels(outputs)\n",
    "    labels = id_to_labels(labels)\n",
    "    outputs = np.expand_dims(outputs, axis=0)\n",
    "    labels = np.expand_dims(labels, axis=0)\n",
    "    outputs = outputs.tolist()\n",
    "    labels = labels.tolist()\n",
    "    return classification_report(labels, outputs, mode='strict', scheme=IOB1)\n",
    "    \n",
    "def calculate_multiclass_f1_score2(outputs, labels):\n",
    "    \n",
    "    labels = labels.ravel()\n",
    "    mask = (labels >= 0)  \n",
    "    outputs = np.argmax(outputs, axis=1)\n",
    "    outputs = outputs[mask]\n",
    "    labels = labels[mask]\n",
    "    f1= f1_score(labels, outputs, average='macro')\n",
    "    return f1\n",
    "\n",
    "def calculate_multiclass_f1_score3(outputs, labels):\n",
    "    \n",
    "    labels = labels.ravel()\n",
    "    mask = (labels >= 0)  \n",
    "    outputs = np.argmax(outputs, axis=1)\n",
    "    outputs = outputs[mask]\n",
    "    labels = labels[mask]\n",
    "    f1= f1_score(labels, outputs, average='micro')\n",
    "    return f1\n",
    "\n",
    "\n",
    "metrics = {\n",
    "    'f1_seqeval': calculate_multiclass_f1_score,\n",
    "    'f1_micro': calculate_multiclass_f1_score3,\n",
    "    'f1 macro': calculate_multiclass_f1_score2,\n",
    "    'accuracy': accuracy\n",
    "    # could add more metrics such as accuracy for each token type\n",
    "}"
   ]
  },
  {
   "cell_type": "code",
   "execution_count": 51,
   "id": "69f91f3b",
   "metadata": {},
   "outputs": [],
   "source": [
    "import warnings\n",
    "warnings.filterwarnings('ignore')"
   ]
  },
  {
   "cell_type": "code",
   "execution_count": 52,
   "id": "aca478d1db5c66ef",
   "metadata": {
    "ExecuteTime": {
     "end_time": "2023-10-16T14:37:14.520501Z",
     "start_time": "2023-10-16T14:37:13.975258Z"
    },
    "collapsed": false
   },
   "outputs": [
    {
     "name": "stdout",
     "output_type": "stream",
     "text": [
      "Epoch 1/10\n"
     ]
    },
    {
     "name": "stderr",
     "output_type": "stream",
     "text": [
      "100%|██████████| 990/990 [00:06<00:00, 164.30it/s, loss=-0.433]\n"
     ]
    },
    {
     "name": "stdout",
     "output_type": "stream",
     "text": [
      "- Train metrics: f1_seqeval: 0.023 ; f1_micro: 0.438 ; f1 macro: 0.224 ; accuracy: 0.438 ; loss: -0.437\n",
      "summ: [{'f1_seqeval': 0.0, 'f1_micro': 0.6, 'f1 macro': 0.24999999999999997, 'accuracy': 0.6, 'loss': -0.5999951958656311}, {'f1_seqeval': 0.0, 'f1_micro': 0.4000000000000001, 'f1 macro': 0.28571428571428575, 'accuracy': 0.4, 'loss': -0.39999955892562866}, {'f1_seqeval': 0.0, 'f1_micro': 0.20000000000000004, 'f1 macro': 0.11111111111111112, 'accuracy': 0.2, 'loss': -0.20000021159648895}, {'f1_seqeval': 0.0, 'f1_micro': 0.4000000000000001, 'f1 macro': 0.1904761904761905, 'accuracy': 0.4, 'loss': -0.39999938011169434}, {'f1_seqeval': 0.0, 'f1_micro': 0.20000000000000004, 'f1 macro': 0.11111111111111112, 'accuracy': 0.2, 'loss': -0.20000135898590088}, {'f1_seqeval': 0.0, 'f1_micro': 0.4000000000000001, 'f1 macro': 0.1904761904761905, 'accuracy': 0.4, 'loss': -0.3999987244606018}, {'f1_seqeval': 0.0, 'f1_micro': 0.8000000000000002, 'f1 macro': 0.4444444444444445, 'accuracy': 0.8, 'loss': -0.7999953031539917}, {'f1_seqeval': 0.0, 'f1_micro': 0.20000000000000004, 'f1 macro': 0.08333333333333334, 'accuracy': 0.2, 'loss': -0.20000028610229492}, {'f1_seqeval': 0.0, 'f1_micro': 0.4000000000000001, 'f1 macro': 0.1904761904761905, 'accuracy': 0.4, 'loss': -0.3999995291233063}, {'f1_seqeval': 0.0, 'f1_micro': 0.0, 'f1 macro': 0.0, 'accuracy': 0.0, 'loss': -2.749592340478557e-06}, {'f1_seqeval': 0.0, 'f1_micro': 0.8000000000000002, 'f1 macro': 0.4444444444444445, 'accuracy': 0.8, 'loss': -0.7999958395957947}, {'f1_seqeval': 0.0, 'f1_micro': 0.6, 'f1 macro': 0.24999999999999997, 'accuracy': 0.6, 'loss': -0.5999929308891296}, {'f1_seqeval': 1.0, 'f1_micro': 1.0, 'f1 macro': 1.0, 'accuracy': 1.0, 'loss': -0.9999968409538269}, {'f1_seqeval': 1.0, 'f1_micro': 1.0, 'f1 macro': 1.0, 'accuracy': 1.0, 'loss': -0.9999945759773254}, {'f1_seqeval': 0.0, 'f1_micro': 0.6, 'f1 macro': 0.24999999999999997, 'accuracy': 0.6, 'loss': -0.5999945402145386}, {'f1_seqeval': 0.0, 'f1_micro': 0.20000000000000004, 'f1 macro': 0.06666666666666668, 'accuracy': 0.2, 'loss': -0.2000006139278412}, {'f1_seqeval': 0.0, 'f1_micro': 0.6, 'f1 macro': 0.37499999999999994, 'accuracy': 0.6, 'loss': -0.599995493888855}, {'f1_seqeval': 0.0, 'f1_micro': 0.20000000000000004, 'f1 macro': 0.08333333333333334, 'accuracy': 0.2, 'loss': -0.20000091195106506}, {'f1_seqeval': 0.0, 'f1_micro': 0.6, 'f1 macro': 0.24999999999999997, 'accuracy': 0.6, 'loss': -0.5999985933303833}, {'f1_seqeval': 0.0, 'f1_micro': 0.8000000000000002, 'f1 macro': 0.4444444444444445, 'accuracy': 0.8, 'loss': -0.7999914288520813}, {'f1_seqeval': 0.0, 'f1_micro': 0.6, 'f1 macro': 0.37499999999999994, 'accuracy': 0.6, 'loss': -0.5999975204467773}, {'f1_seqeval': 0.0, 'f1_micro': 0.6, 'f1 macro': 0.24999999999999997, 'accuracy': 0.6, 'loss': -0.5999981164932251}, {'f1_seqeval': 0.0, 'f1_micro': 0.20000000000000004, 'f1 macro': 0.08333333333333334, 'accuracy': 0.2, 'loss': -0.20000071823596954}, {'f1_seqeval': 0.0, 'f1_micro': 0.4000000000000001, 'f1 macro': 0.1904761904761905, 'accuracy': 0.4, 'loss': -0.39999958872795105}, {'f1_seqeval': 0.0, 'f1_micro': 0.20000000000000004, 'f1 macro': 0.08333333333333334, 'accuracy': 0.2, 'loss': -0.20000013709068298}, {'f1_seqeval': 0.0, 'f1_micro': 0.20000000000000004, 'f1 macro': 0.11111111111111112, 'accuracy': 0.2, 'loss': -0.19999977946281433}, {'f1_seqeval': 0.0, 'f1_micro': 0.20000000000000004, 'f1 macro': 0.11111111111111112, 'accuracy': 0.2, 'loss': -0.19999991357326508}, {'f1_seqeval': 0.0, 'f1_micro': 0.6, 'f1 macro': 0.37499999999999994, 'accuracy': 0.6, 'loss': -0.5999914407730103}, {'f1_seqeval': 0.0, 'f1_micro': 0.4000000000000001, 'f1 macro': 0.1904761904761905, 'accuracy': 0.4, 'loss': -0.39999860525131226}, {'f1_seqeval': 0.0, 'f1_micro': 0.8000000000000002, 'f1 macro': 0.4444444444444445, 'accuracy': 0.8, 'loss': -0.7999892830848694}, {'f1_seqeval': 0.0, 'f1_micro': 0.20000000000000004, 'f1 macro': 0.08333333333333334, 'accuracy': 0.2, 'loss': -0.20000067353248596}, {'f1_seqeval': 0.0, 'f1_micro': 0.6, 'f1 macro': 0.24999999999999997, 'accuracy': 0.6, 'loss': -0.5999968647956848}, {'f1_seqeval': 0.0, 'f1_micro': 0.20000000000000004, 'f1 macro': 0.08333333333333334, 'accuracy': 0.2, 'loss': -0.19999960064888}, {'f1_seqeval': 0.0, 'f1_micro': 0.8000000000000002, 'f1 macro': 0.4444444444444445, 'accuracy': 0.8, 'loss': -0.7999981641769409}, {'f1_seqeval': 0.0, 'f1_micro': 0.0, 'f1 macro': 0.0, 'accuracy': 0.0, 'loss': -8.118369805742987e-06}, {'f1_seqeval': 0.0, 'f1_micro': 0.4000000000000001, 'f1 macro': 0.14285714285714288, 'accuracy': 0.4, 'loss': -0.3999975025653839}, {'f1_seqeval': 0.0, 'f1_micro': 0.6, 'f1 macro': 0.24999999999999997, 'accuracy': 0.6, 'loss': -0.5999900698661804}, {'f1_seqeval': 0.0, 'f1_micro': 0.4000000000000001, 'f1 macro': 0.14285714285714288, 'accuracy': 0.4, 'loss': -0.3999972939491272}, {'f1_seqeval': 0.0, 'f1_micro': 0.20000000000000004, 'f1 macro': 0.06666666666666668, 'accuracy': 0.2, 'loss': -0.19999179244041443}, {'f1_seqeval': 0.0, 'f1_micro': 0.20000000000000004, 'f1 macro': 0.08333333333333334, 'accuracy': 0.2, 'loss': -0.20000013709068298}, {'f1_seqeval': 0.0, 'f1_micro': 0.4000000000000001, 'f1 macro': 0.14285714285714288, 'accuracy': 0.4, 'loss': -0.3999984860420227}, {'f1_seqeval': 0.0, 'f1_micro': 0.4000000000000001, 'f1 macro': 0.14285714285714288, 'accuracy': 0.4, 'loss': -0.39999890327453613}, {'f1_seqeval': 0.0, 'f1_micro': 0.8000000000000002, 'f1 macro': 0.4444444444444445, 'accuracy': 0.8, 'loss': -0.7999981641769409}, {'f1_seqeval': 0.0, 'f1_micro': 0.8000000000000002, 'f1 macro': 0.4444444444444445, 'accuracy': 0.8, 'loss': -0.7999946475028992}, {'f1_seqeval': 0.0, 'f1_micro': 0.6, 'f1 macro': 0.24999999999999997, 'accuracy': 0.6, 'loss': -0.5999952554702759}, {'f1_seqeval': 0.0, 'f1_micro': 0.4000000000000001, 'f1 macro': 0.28571428571428575, 'accuracy': 0.4, 'loss': -0.39999479055404663}, {'f1_seqeval': 0.0, 'f1_micro': 0.4000000000000001, 'f1 macro': 0.14285714285714288, 'accuracy': 0.4, 'loss': -0.3999989628791809}, {'f1_seqeval': 0.0, 'f1_micro': 0.6, 'f1 macro': 0.24999999999999997, 'accuracy': 0.6, 'loss': -0.5999985933303833}, {'f1_seqeval': 0.0, 'f1_micro': 0.4000000000000001, 'f1 macro': 0.14285714285714288, 'accuracy': 0.4, 'loss': -0.3999989926815033}, {'f1_seqeval': 0.0, 'f1_micro': 0.4000000000000001, 'f1 macro': 0.1904761904761905, 'accuracy': 0.4, 'loss': -0.3999984860420227}, {'f1_seqeval': 0.0, 'f1_micro': 0.4000000000000001, 'f1 macro': 0.1904761904761905, 'accuracy': 0.4, 'loss': -0.39999866485595703}, {'f1_seqeval': 0.0, 'f1_micro': 0.20000000000000004, 'f1 macro': 0.08333333333333334, 'accuracy': 0.2, 'loss': -0.2000015676021576}, {'f1_seqeval': 0.0, 'f1_micro': 0.8000000000000002, 'f1 macro': 0.4444444444444445, 'accuracy': 0.8, 'loss': -0.7999953031539917}, {'f1_seqeval': 0.0, 'f1_micro': 0.8000000000000002, 'f1 macro': 0.4444444444444445, 'accuracy': 0.8, 'loss': -0.7999910116195679}, {'f1_seqeval': 0.0, 'f1_micro': 0.6, 'f1 macro': 0.37499999999999994, 'accuracy': 0.6, 'loss': -0.5999983549118042}, {'f1_seqeval': 0.0, 'f1_micro': 0.4000000000000001, 'f1 macro': 0.1904761904761905, 'accuracy': 0.4, 'loss': -0.3999989926815033}, {'f1_seqeval': 0.0, 'f1_micro': 0.8000000000000002, 'f1 macro': 0.4444444444444445, 'accuracy': 0.8, 'loss': -0.7999756932258606}, {'f1_seqeval': 0.0, 'f1_micro': 0.4000000000000001, 'f1 macro': 0.1904761904761905, 'accuracy': 0.4, 'loss': -0.3999972939491272}, {'f1_seqeval': 0.0, 'f1_micro': 0.6, 'f1 macro': 0.37499999999999994, 'accuracy': 0.6, 'loss': -0.5999852418899536}, {'f1_seqeval': 0.0, 'f1_micro': 0.6, 'f1 macro': 0.37499999999999994, 'accuracy': 0.6, 'loss': -0.5999974012374878}, {'f1_seqeval': 0.0, 'f1_micro': 0.4000000000000001, 'f1 macro': 0.1904761904761905, 'accuracy': 0.4, 'loss': -0.3999987244606018}, {'f1_seqeval': 0.0, 'f1_micro': 0.6, 'f1 macro': 0.24999999999999997, 'accuracy': 0.6, 'loss': -0.5999956130981445}, {'f1_seqeval': 0.0, 'f1_micro': 0.8000000000000002, 'f1 macro': 0.4444444444444445, 'accuracy': 0.8, 'loss': -0.7999848127365112}, {'f1_seqeval': 0.0, 'f1_micro': 0.8000000000000002, 'f1 macro': 0.4444444444444445, 'accuracy': 0.8, 'loss': -0.7999919652938843}, {'f1_seqeval': 0.0, 'f1_micro': 0.20000000000000004, 'f1 macro': 0.08333333333333334, 'accuracy': 0.2, 'loss': -0.20000019669532776}, {'f1_seqeval': 0.0, 'f1_micro': 0.4000000000000001, 'f1 macro': 0.14285714285714288, 'accuracy': 0.4, 'loss': -0.39999741315841675}, {'f1_seqeval': 0.0, 'f1_micro': 0.8000000000000002, 'f1 macro': 0.4444444444444445, 'accuracy': 0.8, 'loss': -0.7999922037124634}, {'f1_seqeval': 0.0, 'f1_micro': 0.6, 'f1 macro': 0.24999999999999997, 'accuracy': 0.6, 'loss': -0.5999971628189087}, {'f1_seqeval': 0.0, 'f1_micro': 0.4000000000000001, 'f1 macro': 0.14285714285714288, 'accuracy': 0.4, 'loss': -0.3999994397163391}, {'f1_seqeval': 0.0, 'f1_micro': 0.20000000000000004, 'f1 macro': 0.08333333333333334, 'accuracy': 0.2, 'loss': -0.200002521276474}, {'f1_seqeval': 0.0, 'f1_micro': 0.4000000000000001, 'f1 macro': 0.1904761904761905, 'accuracy': 0.4, 'loss': -0.39999741315841675}, {'f1_seqeval': 0.0, 'f1_micro': 0.4000000000000001, 'f1 macro': 0.14285714285714288, 'accuracy': 0.4, 'loss': -0.399998277425766}, {'f1_seqeval': 0.0, 'f1_micro': 0.20000000000000004, 'f1 macro': 0.11111111111111112, 'accuracy': 0.2, 'loss': -0.20000019669532776}, {'f1_seqeval': 0.0, 'f1_micro': 0.6, 'f1 macro': 0.24999999999999997, 'accuracy': 0.6, 'loss': -0.5999969244003296}, {'f1_seqeval': 0.0, 'f1_micro': 0.0, 'f1 macro': 0.0, 'accuracy': 0.0, 'loss': -4.080682174389949e-06}, {'f1_seqeval': 0.0, 'f1_micro': 0.4000000000000001, 'f1 macro': 0.1904761904761905, 'accuracy': 0.4, 'loss': -0.39999884366989136}, {'f1_seqeval': 0.0, 'f1_micro': 0.4000000000000001, 'f1 macro': 0.14285714285714288, 'accuracy': 0.4, 'loss': -0.39999836683273315}, {'f1_seqeval': 0.0, 'f1_micro': 0.20000000000000004, 'f1 macro': 0.08333333333333334, 'accuracy': 0.2, 'loss': -0.20000138878822327}, {'f1_seqeval': 0.0, 'f1_micro': 0.6, 'f1 macro': 0.24999999999999997, 'accuracy': 0.6, 'loss': -0.599997878074646}, {'f1_seqeval': 0.0, 'f1_micro': 0.6, 'f1 macro': 0.24999999999999997, 'accuracy': 0.6, 'loss': -0.5999903678894043}, {'f1_seqeval': 0.0, 'f1_micro': 0.4000000000000001, 'f1 macro': 0.14285714285714288, 'accuracy': 0.4, 'loss': -0.39999625086784363}, {'f1_seqeval': 0.0, 'f1_micro': 0.4000000000000001, 'f1 macro': 0.14285714285714288, 'accuracy': 0.4, 'loss': -0.3999989628791809}, {'f1_seqeval': 0.0, 'f1_micro': 0.4000000000000001, 'f1 macro': 0.14285714285714288, 'accuracy': 0.4, 'loss': -0.39999955892562866}, {'f1_seqeval': 0.0, 'f1_micro': 0.20000000000000004, 'f1 macro': 0.08333333333333334, 'accuracy': 0.2, 'loss': -0.2000020444393158}, {'f1_seqeval': 0.0, 'f1_micro': 0.4000000000000001, 'f1 macro': 0.28571428571428575, 'accuracy': 0.4, 'loss': -0.39999452233314514}, {'f1_seqeval': 0.0, 'f1_micro': 0.20000000000000004, 'f1 macro': 0.11111111111111112, 'accuracy': 0.2, 'loss': -0.20000059902668}, {'f1_seqeval': 0.0, 'f1_micro': 0.6, 'f1 macro': 0.37499999999999994, 'accuracy': 0.6, 'loss': -0.5999972224235535}, {'f1_seqeval': 0.0, 'f1_micro': 0.4000000000000001, 'f1 macro': 0.14285714285714288, 'accuracy': 0.4, 'loss': -0.3999997079372406}, {'f1_seqeval': 0.0, 'f1_micro': 0.4000000000000001, 'f1 macro': 0.1904761904761905, 'accuracy': 0.4, 'loss': -0.39999842643737793}, {'f1_seqeval': 0.0, 'f1_micro': 0.6, 'f1 macro': 0.37499999999999994, 'accuracy': 0.6, 'loss': -0.5999909043312073}, {'f1_seqeval': 0.0, 'f1_micro': 0.6, 'f1 macro': 0.37499999999999994, 'accuracy': 0.6, 'loss': -0.5999981164932251}, {'f1_seqeval': 0.0, 'f1_micro': 0.4000000000000001, 'f1 macro': 0.1904761904761905, 'accuracy': 0.4, 'loss': -0.39999672770500183}, {'f1_seqeval': 0.0, 'f1_micro': 0.20000000000000004, 'f1 macro': 0.08333333333333334, 'accuracy': 0.2, 'loss': -0.20000335574150085}, {'f1_seqeval': 0.0, 'f1_micro': 0.4000000000000001, 'f1 macro': 0.1904761904761905, 'accuracy': 0.4, 'loss': -0.3999994695186615}, {'f1_seqeval': 0.0, 'f1_micro': 0.4000000000000001, 'f1 macro': 0.1904761904761905, 'accuracy': 0.4, 'loss': -0.3999994099140167}, {'f1_seqeval': 0.0, 'f1_micro': 0.4000000000000001, 'f1 macro': 0.1904761904761905, 'accuracy': 0.4, 'loss': -0.3999980688095093}, {'f1_seqeval': 0.0, 'f1_micro': 0.4000000000000001, 'f1 macro': 0.1904761904761905, 'accuracy': 0.4, 'loss': -0.3999982476234436}, {'f1_seqeval': 0.0, 'f1_micro': 0.4000000000000001, 'f1 macro': 0.28571428571428575, 'accuracy': 0.4, 'loss': -0.39999955892562866}, {'f1_seqeval': 0.0, 'f1_micro': 0.6, 'f1 macro': 0.37499999999999994, 'accuracy': 0.6, 'loss': -0.5999960899353027}, {'f1_seqeval': 0.0, 'f1_micro': 0.4000000000000001, 'f1 macro': 0.1904761904761905, 'accuracy': 0.4, 'loss': -0.3999994397163391}]\n",
      "- Eval metrics : f1_seqeval: 0.020 ; f1_micro: 0.458 ; f1 macro: 0.237 ; accuracy: 0.458 ; loss: -0.458\n",
      "Epoch 2/10\n"
     ]
    },
    {
     "name": "stderr",
     "output_type": "stream",
     "text": [
      "100%|██████████| 990/990 [00:06<00:00, 164.23it/s, loss=-0.435]\n"
     ]
    },
    {
     "name": "stdout",
     "output_type": "stream",
     "text": [
      "- Train metrics: f1_seqeval: 0.020 ; f1_micro: 0.440 ; f1 macro: 0.224 ; accuracy: 0.440 ; loss: -0.440\n",
      "summ: [{'f1_seqeval': 0.0, 'f1_micro': 0.6, 'f1 macro': 0.24999999999999997, 'accuracy': 0.6, 'loss': -0.5999985933303833}, {'f1_seqeval': 0.0, 'f1_micro': 0.4000000000000001, 'f1 macro': 0.28571428571428575, 'accuracy': 0.4, 'loss': -0.3999999165534973}, {'f1_seqeval': 0.0, 'f1_micro': 0.20000000000000004, 'f1 macro': 0.11111111111111112, 'accuracy': 0.2, 'loss': -0.20000004768371582}, {'f1_seqeval': 0.0, 'f1_micro': 0.4000000000000001, 'f1 macro': 0.1904761904761905, 'accuracy': 0.4, 'loss': -0.39999985694885254}, {'f1_seqeval': 0.0, 'f1_micro': 0.20000000000000004, 'f1 macro': 0.11111111111111112, 'accuracy': 0.2, 'loss': -0.20000047981739044}, {'f1_seqeval': 0.0, 'f1_micro': 0.4000000000000001, 'f1 macro': 0.1904761904761905, 'accuracy': 0.4, 'loss': -0.3999996483325958}, {'f1_seqeval': 0.0, 'f1_micro': 0.8000000000000002, 'f1 macro': 0.4444444444444445, 'accuracy': 0.8, 'loss': -0.7999986410140991}, {'f1_seqeval': 0.0, 'f1_micro': 0.20000000000000004, 'f1 macro': 0.08333333333333334, 'accuracy': 0.2, 'loss': -0.2000000774860382}, {'f1_seqeval': 0.0, 'f1_micro': 0.4000000000000001, 'f1 macro': 0.1904761904761905, 'accuracy': 0.4, 'loss': -0.39999982714653015}, {'f1_seqeval': 0.0, 'f1_micro': 0.0, 'f1 macro': 0.0, 'accuracy': 0.0, 'loss': -8.090892151813023e-07}, {'f1_seqeval': 0.0, 'f1_micro': 0.8000000000000002, 'f1 macro': 0.4444444444444445, 'accuracy': 0.8, 'loss': -0.7999988198280334}, {'f1_seqeval': 0.0, 'f1_micro': 0.6, 'f1 macro': 0.24999999999999997, 'accuracy': 0.6, 'loss': -0.599997878074646}, {'f1_seqeval': 1.0, 'f1_micro': 1.0, 'f1 macro': 1.0, 'accuracy': 1.0, 'loss': -0.9999991655349731}, {'f1_seqeval': 1.0, 'f1_micro': 1.0, 'f1 macro': 1.0, 'accuracy': 1.0, 'loss': -0.9999984502792358}, {'f1_seqeval': 0.0, 'f1_micro': 0.6, 'f1 macro': 0.24999999999999997, 'accuracy': 0.6, 'loss': -0.5999982953071594}, {'f1_seqeval': 0.0, 'f1_micro': 0.20000000000000004, 'f1 macro': 0.06666666666666668, 'accuracy': 0.2, 'loss': -0.20000019669532776}, {'f1_seqeval': 0.0, 'f1_micro': 0.6, 'f1 macro': 0.37499999999999994, 'accuracy': 0.6, 'loss': -0.5999985933303833}, {'f1_seqeval': 0.0, 'f1_micro': 0.20000000000000004, 'f1 macro': 0.08333333333333334, 'accuracy': 0.2, 'loss': -0.2000003159046173}, {'f1_seqeval': 0.0, 'f1_micro': 0.6, 'f1 macro': 0.24999999999999997, 'accuracy': 0.6, 'loss': -0.5999996066093445}, {'f1_seqeval': 0.0, 'f1_micro': 0.8000000000000002, 'f1 macro': 0.4444444444444445, 'accuracy': 0.8, 'loss': -0.7999974489212036}, {'f1_seqeval': 0.0, 'f1_micro': 0.6, 'f1 macro': 0.37499999999999994, 'accuracy': 0.6, 'loss': -0.5999993085861206}, {'f1_seqeval': 0.0, 'f1_micro': 0.6, 'f1 macro': 0.24999999999999997, 'accuracy': 0.6, 'loss': -0.5999994874000549}, {'f1_seqeval': 0.0, 'f1_micro': 0.20000000000000004, 'f1 macro': 0.08333333333333334, 'accuracy': 0.2, 'loss': -0.20000021159648895}, {'f1_seqeval': 0.0, 'f1_micro': 0.4000000000000001, 'f1 macro': 0.1904761904761905, 'accuracy': 0.4, 'loss': -0.3999998867511749}, {'f1_seqeval': 0.0, 'f1_micro': 0.20000000000000004, 'f1 macro': 0.08333333333333334, 'accuracy': 0.2, 'loss': -0.20000001788139343}, {'f1_seqeval': 0.0, 'f1_micro': 0.20000000000000004, 'f1 macro': 0.11111111111111112, 'accuracy': 0.2, 'loss': -0.19999989867210388}, {'f1_seqeval': 0.0, 'f1_micro': 0.20000000000000004, 'f1 macro': 0.11111111111111112, 'accuracy': 0.2, 'loss': -0.19999995827674866}, {'f1_seqeval': 0.0, 'f1_micro': 0.6, 'f1 macro': 0.37499999999999994, 'accuracy': 0.6, 'loss': -0.5999974012374878}, {'f1_seqeval': 0.0, 'f1_micro': 0.4000000000000001, 'f1 macro': 0.1904761904761905, 'accuracy': 0.4, 'loss': -0.39999961853027344}, {'f1_seqeval': 0.0, 'f1_micro': 0.8000000000000002, 'f1 macro': 0.4444444444444445, 'accuracy': 0.8, 'loss': -0.7999966740608215}, {'f1_seqeval': 0.0, 'f1_micro': 0.20000000000000004, 'f1 macro': 0.08333333333333334, 'accuracy': 0.2, 'loss': -0.20000019669532776}, {'f1_seqeval': 0.0, 'f1_micro': 0.6, 'f1 macro': 0.24999999999999997, 'accuracy': 0.6, 'loss': -0.5999990701675415}, {'f1_seqeval': 0.0, 'f1_micro': 0.20000000000000004, 'f1 macro': 0.08333333333333334, 'accuracy': 0.2, 'loss': -0.1999998241662979}, {'f1_seqeval': 0.0, 'f1_micro': 0.8000000000000002, 'f1 macro': 0.4444444444444445, 'accuracy': 0.8, 'loss': -0.7999995350837708}, {'f1_seqeval': 0.0, 'f1_micro': 0.0, 'f1 macro': 0.0, 'accuracy': 0.0, 'loss': -2.618378175611724e-06}, {'f1_seqeval': 0.0, 'f1_micro': 0.4000000000000001, 'f1 macro': 0.14285714285714288, 'accuracy': 0.4, 'loss': -0.3999992311000824}, {'f1_seqeval': 0.0, 'f1_micro': 0.6, 'f1 macro': 0.24999999999999997, 'accuracy': 0.6, 'loss': -0.5999969244003296}, {'f1_seqeval': 0.0, 'f1_micro': 0.4000000000000001, 'f1 macro': 0.14285714285714288, 'accuracy': 0.4, 'loss': -0.39999914169311523}, {'f1_seqeval': 0.0, 'f1_micro': 0.20000000000000004, 'f1 macro': 0.06666666666666668, 'accuracy': 0.2, 'loss': -0.19999723136425018}, {'f1_seqeval': 0.0, 'f1_micro': 0.20000000000000004, 'f1 macro': 0.08333333333333334, 'accuracy': 0.2, 'loss': -0.20000004768371582}, {'f1_seqeval': 0.0, 'f1_micro': 0.4000000000000001, 'f1 macro': 0.14285714285714288, 'accuracy': 0.4, 'loss': -0.39999958872795105}, {'f1_seqeval': 0.0, 'f1_micro': 0.4000000000000001, 'f1 macro': 0.14285714285714288, 'accuracy': 0.4, 'loss': -0.3999996781349182}, {'f1_seqeval': 0.0, 'f1_micro': 0.8000000000000002, 'f1 macro': 0.4444444444444445, 'accuracy': 0.8, 'loss': -0.799999475479126}, {'f1_seqeval': 0.0, 'f1_micro': 0.8000000000000002, 'f1 macro': 0.4444444444444445, 'accuracy': 0.8, 'loss': -0.7999984622001648}, {'f1_seqeval': 0.0, 'f1_micro': 0.6, 'f1 macro': 0.24999999999999997, 'accuracy': 0.6, 'loss': -0.5999985933303833}, {'f1_seqeval': 0.0, 'f1_micro': 0.4000000000000001, 'f1 macro': 0.28571428571428575, 'accuracy': 0.4, 'loss': -0.39999842643737793}, {'f1_seqeval': 0.0, 'f1_micro': 0.4000000000000001, 'f1 macro': 0.14285714285714288, 'accuracy': 0.4, 'loss': -0.3999996781349182}, {'f1_seqeval': 0.0, 'f1_micro': 0.6, 'f1 macro': 0.24999999999999997, 'accuracy': 0.6, 'loss': -0.5999995470046997}, {'f1_seqeval': 0.0, 'f1_micro': 0.4000000000000001, 'f1 macro': 0.14285714285714288, 'accuracy': 0.4, 'loss': -0.3999997079372406}, {'f1_seqeval': 0.0, 'f1_micro': 0.4000000000000001, 'f1 macro': 0.1904761904761905, 'accuracy': 0.4, 'loss': -0.39999955892562866}, {'f1_seqeval': 0.0, 'f1_micro': 0.4000000000000001, 'f1 macro': 0.1904761904761905, 'accuracy': 0.4, 'loss': -0.39999961853027344}, {'f1_seqeval': 0.0, 'f1_micro': 0.20000000000000004, 'f1 macro': 0.08333333333333334, 'accuracy': 0.2, 'loss': -0.20000045001506805}, {'f1_seqeval': 0.0, 'f1_micro': 0.8000000000000002, 'f1 macro': 0.4444444444444445, 'accuracy': 0.8, 'loss': -0.7999986410140991}, {'f1_seqeval': 0.0, 'f1_micro': 0.8000000000000002, 'f1 macro': 0.4444444444444445, 'accuracy': 0.8, 'loss': -0.7999972105026245}, {'f1_seqeval': 0.0, 'f1_micro': 0.6, 'f1 macro': 0.37499999999999994, 'accuracy': 0.6, 'loss': -0.5999995470046997}, {'f1_seqeval': 0.0, 'f1_micro': 0.4000000000000001, 'f1 macro': 0.1904761904761905, 'accuracy': 0.4, 'loss': -0.3999997079372406}, {'f1_seqeval': 0.0, 'f1_micro': 0.8000000000000002, 'f1 macro': 0.4444444444444445, 'accuracy': 0.8, 'loss': -0.7999922633171082}, {'f1_seqeval': 0.0, 'f1_micro': 0.4000000000000001, 'f1 macro': 0.1904761904761905, 'accuracy': 0.4, 'loss': -0.39999920129776}, {'f1_seqeval': 0.0, 'f1_micro': 0.6, 'f1 macro': 0.37499999999999994, 'accuracy': 0.6, 'loss': -0.5999953150749207}, {'f1_seqeval': 0.0, 'f1_micro': 0.6, 'f1 macro': 0.37499999999999994, 'accuracy': 0.6, 'loss': -0.5999992489814758}, {'f1_seqeval': 0.0, 'f1_micro': 0.4000000000000001, 'f1 macro': 0.1904761904761905, 'accuracy': 0.4, 'loss': -0.3999996781349182}, {'f1_seqeval': 0.0, 'f1_micro': 0.6, 'f1 macro': 0.24999999999999997, 'accuracy': 0.6, 'loss': -0.5999987125396729}, {'f1_seqeval': 0.0, 'f1_micro': 0.8000000000000002, 'f1 macro': 0.4444444444444445, 'accuracy': 0.8, 'loss': -0.7999953031539917}, {'f1_seqeval': 0.0, 'f1_micro': 0.8000000000000002, 'f1 macro': 0.4444444444444445, 'accuracy': 0.8, 'loss': -0.7999975085258484}, {'f1_seqeval': 0.0, 'f1_micro': 0.20000000000000004, 'f1 macro': 0.08333333333333334, 'accuracy': 0.2, 'loss': -0.20000004768371582}, {'f1_seqeval': 0.0, 'f1_micro': 0.4000000000000001, 'f1 macro': 0.14285714285714288, 'accuracy': 0.4, 'loss': -0.3999992311000824}, {'f1_seqeval': 0.0, 'f1_micro': 0.8000000000000002, 'f1 macro': 0.4444444444444445, 'accuracy': 0.8, 'loss': -0.7999976873397827}, {'f1_seqeval': 0.0, 'f1_micro': 0.6, 'f1 macro': 0.24999999999999997, 'accuracy': 0.6, 'loss': -0.599999189376831}, {'f1_seqeval': 0.0, 'f1_micro': 0.4000000000000001, 'f1 macro': 0.14285714285714288, 'accuracy': 0.4, 'loss': -0.39999985694885254}, {'f1_seqeval': 0.0, 'f1_micro': 0.20000000000000004, 'f1 macro': 0.08333333333333334, 'accuracy': 0.2, 'loss': -0.2000007927417755}, {'f1_seqeval': 0.0, 'f1_micro': 0.4000000000000001, 'f1 macro': 0.1904761904761905, 'accuracy': 0.4, 'loss': -0.3999992311000824}, {'f1_seqeval': 0.0, 'f1_micro': 0.4000000000000001, 'f1 macro': 0.14285714285714288, 'accuracy': 0.4, 'loss': -0.3999994993209839}, {'f1_seqeval': 0.0, 'f1_micro': 0.20000000000000004, 'f1 macro': 0.11111111111111112, 'accuracy': 0.2, 'loss': -0.20000004768371582}, {'f1_seqeval': 0.0, 'f1_micro': 0.6, 'f1 macro': 0.24999999999999997, 'accuracy': 0.6, 'loss': -0.5999990701675415}, {'f1_seqeval': 0.0, 'f1_micro': 0.0, 'f1 macro': 0.0, 'accuracy': 0.0, 'loss': -1.203864712806535e-06}, {'f1_seqeval': 0.0, 'f1_micro': 0.4000000000000001, 'f1 macro': 0.1904761904761905, 'accuracy': 0.4, 'loss': -0.3999996781349182}, {'f1_seqeval': 0.0, 'f1_micro': 0.4000000000000001, 'f1 macro': 0.14285714285714288, 'accuracy': 0.4, 'loss': -0.3999994993209839}, {'f1_seqeval': 0.0, 'f1_micro': 0.20000000000000004, 'f1 macro': 0.08333333333333334, 'accuracy': 0.2, 'loss': -0.20000037550926208}, {'f1_seqeval': 0.0, 'f1_micro': 0.6, 'f1 macro': 0.24999999999999997, 'accuracy': 0.6, 'loss': -0.5999993085861206}, {'f1_seqeval': 0.0, 'f1_micro': 0.6, 'f1 macro': 0.24999999999999997, 'accuracy': 0.6, 'loss': -0.5999969244003296}, {'f1_seqeval': 0.0, 'f1_micro': 0.4000000000000001, 'f1 macro': 0.14285714285714288, 'accuracy': 0.4, 'loss': -0.39999884366989136}, {'f1_seqeval': 0.0, 'f1_micro': 0.4000000000000001, 'f1 macro': 0.14285714285714288, 'accuracy': 0.4, 'loss': -0.3999996781349182}, {'f1_seqeval': 0.0, 'f1_micro': 0.4000000000000001, 'f1 macro': 0.14285714285714288, 'accuracy': 0.4, 'loss': -0.3999999165534973}, {'f1_seqeval': 0.0, 'f1_micro': 0.20000000000000004, 'f1 macro': 0.08333333333333334, 'accuracy': 0.2, 'loss': -0.20000059902668}, {'f1_seqeval': 0.0, 'f1_micro': 0.4000000000000001, 'f1 macro': 0.28571428571428575, 'accuracy': 0.4, 'loss': -0.3999980390071869}, {'f1_seqeval': 0.0, 'f1_micro': 0.20000000000000004, 'f1 macro': 0.11111111111111112, 'accuracy': 0.2, 'loss': -0.20000019669532776}, {'f1_seqeval': 0.0, 'f1_micro': 0.6, 'f1 macro': 0.37499999999999994, 'accuracy': 0.6, 'loss': -0.599999189376831}, {'f1_seqeval': 0.0, 'f1_micro': 0.4000000000000001, 'f1 macro': 0.14285714285714288, 'accuracy': 0.4, 'loss': -0.3999999165534973}, {'f1_seqeval': 0.0, 'f1_micro': 0.4000000000000001, 'f1 macro': 0.1904761904761905, 'accuracy': 0.4, 'loss': -0.39999955892562866}, {'f1_seqeval': 0.0, 'f1_micro': 0.6, 'f1 macro': 0.37499999999999994, 'accuracy': 0.6, 'loss': -0.5999971628189087}, {'f1_seqeval': 0.0, 'f1_micro': 0.6, 'f1 macro': 0.37499999999999994, 'accuracy': 0.6, 'loss': -0.5999994277954102}, {'f1_seqeval': 0.0, 'f1_micro': 0.4000000000000001, 'f1 macro': 0.1904761904761905, 'accuracy': 0.4, 'loss': -0.3999990224838257}, {'f1_seqeval': 0.0, 'f1_micro': 0.20000000000000004, 'f1 macro': 0.08333333333333334, 'accuracy': 0.2, 'loss': -0.2000010758638382}, {'f1_seqeval': 0.0, 'f1_micro': 0.4000000000000001, 'f1 macro': 0.1904761904761905, 'accuracy': 0.4, 'loss': -0.39999985694885254}, {'f1_seqeval': 0.0, 'f1_micro': 0.4000000000000001, 'f1 macro': 0.1904761904761905, 'accuracy': 0.4, 'loss': -0.39999982714653015}, {'f1_seqeval': 0.0, 'f1_micro': 0.4000000000000001, 'f1 macro': 0.1904761904761905, 'accuracy': 0.4, 'loss': -0.3999994695186615}, {'f1_seqeval': 0.0, 'f1_micro': 0.4000000000000001, 'f1 macro': 0.1904761904761905, 'accuracy': 0.4, 'loss': -0.3999994993209839}, {'f1_seqeval': 0.0, 'f1_micro': 0.4000000000000001, 'f1 macro': 0.28571428571428575, 'accuracy': 0.4, 'loss': -0.39999985694885254}, {'f1_seqeval': 0.0, 'f1_micro': 0.6, 'f1 macro': 0.37499999999999994, 'accuracy': 0.6, 'loss': -0.5999988317489624}, {'f1_seqeval': 0.0, 'f1_micro': 0.4000000000000001, 'f1 macro': 0.1904761904761905, 'accuracy': 0.4, 'loss': -0.39999985694885254}]\n",
      "- Eval metrics : f1_seqeval: 0.020 ; f1_micro: 0.458 ; f1 macro: 0.237 ; accuracy: 0.458 ; loss: -0.458\n",
      "Epoch 3/10\n"
     ]
    },
    {
     "name": "stderr",
     "output_type": "stream",
     "text": [
      "100%|██████████| 990/990 [00:06<00:00, 157.79it/s, loss=-0.435]\n"
     ]
    },
    {
     "name": "stdout",
     "output_type": "stream",
     "text": [
      "- Train metrics: f1_seqeval: 0.020 ; f1_micro: 0.440 ; f1 macro: 0.224 ; accuracy: 0.440 ; loss: -0.440\n",
      "summ: [{'f1_seqeval': 0.0, 'f1_micro': 0.6, 'f1 macro': 0.24999999999999997, 'accuracy': 0.6, 'loss': -0.5999993681907654}, {'f1_seqeval': 0.0, 'f1_micro': 0.4000000000000001, 'f1 macro': 0.28571428571428575, 'accuracy': 0.4, 'loss': -0.3999999761581421}, {'f1_seqeval': 0.0, 'f1_micro': 0.20000000000000004, 'f1 macro': 0.11111111111111112, 'accuracy': 0.2, 'loss': -0.20000001788139343}, {'f1_seqeval': 0.0, 'f1_micro': 0.4000000000000001, 'f1 macro': 0.1904761904761905, 'accuracy': 0.4, 'loss': -0.3999999463558197}, {'f1_seqeval': 0.0, 'f1_micro': 0.20000000000000004, 'f1 macro': 0.11111111111111112, 'accuracy': 0.2, 'loss': -0.20000024139881134}, {'f1_seqeval': 0.0, 'f1_micro': 0.4000000000000001, 'f1 macro': 0.1904761904761905, 'accuracy': 0.4, 'loss': -0.39999985694885254}, {'f1_seqeval': 0.0, 'f1_micro': 0.8000000000000002, 'f1 macro': 0.4444444444444445, 'accuracy': 0.8, 'loss': -0.7999993562698364}, {'f1_seqeval': 0.0, 'f1_micro': 0.20000000000000004, 'f1 macro': 0.08333333333333334, 'accuracy': 0.2, 'loss': -0.20000001788139343}, {'f1_seqeval': 0.0, 'f1_micro': 0.4000000000000001, 'f1 macro': 0.1904761904761905, 'accuracy': 0.4, 'loss': -0.3999999165534973}, {'f1_seqeval': 0.0, 'f1_micro': 0.0, 'f1 macro': 0.0, 'accuracy': 0.0, 'loss': -3.49635939755899e-07}, {'f1_seqeval': 0.0, 'f1_micro': 0.8000000000000002, 'f1 macro': 0.4444444444444445, 'accuracy': 0.8, 'loss': -0.799999475479126}, {'f1_seqeval': 0.0, 'f1_micro': 0.6, 'f1 macro': 0.24999999999999997, 'accuracy': 0.6, 'loss': -0.5999990701675415}, {'f1_seqeval': 1.0, 'f1_micro': 1.0, 'f1 macro': 1.0, 'accuracy': 1.0, 'loss': -0.9999996423721313}, {'f1_seqeval': 1.0, 'f1_micro': 1.0, 'f1 macro': 1.0, 'accuracy': 1.0, 'loss': -0.9999994039535522}, {'f1_seqeval': 0.0, 'f1_micro': 0.6, 'f1 macro': 0.24999999999999997, 'accuracy': 0.6, 'loss': -0.5999993085861206}, {'f1_seqeval': 0.0, 'f1_micro': 0.20000000000000004, 'f1 macro': 0.06666666666666668, 'accuracy': 0.2, 'loss': -0.2000000774860382}, {'f1_seqeval': 0.0, 'f1_micro': 0.6, 'f1 macro': 0.37499999999999994, 'accuracy': 0.6, 'loss': -0.5999994277954102}, {'f1_seqeval': 0.0, 'f1_micro': 0.20000000000000004, 'f1 macro': 0.08333333333333334, 'accuracy': 0.2, 'loss': -0.20000013709068298}, {'f1_seqeval': 0.0, 'f1_micro': 0.6, 'f1 macro': 0.24999999999999997, 'accuracy': 0.6, 'loss': -0.5999997854232788}, {'f1_seqeval': 0.0, 'f1_micro': 0.8000000000000002, 'f1 macro': 0.4444444444444445, 'accuracy': 0.8, 'loss': -0.7999988794326782}, {'f1_seqeval': 0.0, 'f1_micro': 0.6, 'f1 macro': 0.37499999999999994, 'accuracy': 0.6, 'loss': -0.5999996662139893}, {'f1_seqeval': 0.0, 'f1_micro': 0.6, 'f1 macro': 0.24999999999999997, 'accuracy': 0.6, 'loss': -0.5999997854232788}, {'f1_seqeval': 0.0, 'f1_micro': 0.20000000000000004, 'f1 macro': 0.08333333333333334, 'accuracy': 0.2, 'loss': -0.2000000923871994}, {'f1_seqeval': 0.0, 'f1_micro': 0.4000000000000001, 'f1 macro': 0.1904761904761905, 'accuracy': 0.4, 'loss': -0.3999999761581421}, {'f1_seqeval': 0.0, 'f1_micro': 0.20000000000000004, 'f1 macro': 0.08333333333333334, 'accuracy': 0.2, 'loss': -0.20000000298023224}, {'f1_seqeval': 0.0, 'f1_micro': 0.20000000000000004, 'f1 macro': 0.11111111111111112, 'accuracy': 0.2, 'loss': -0.19999994337558746}, {'f1_seqeval': 0.0, 'f1_micro': 0.20000000000000004, 'f1 macro': 0.11111111111111112, 'accuracy': 0.2, 'loss': -0.19999997317790985}, {'f1_seqeval': 0.0, 'f1_micro': 0.6, 'f1 macro': 0.37499999999999994, 'accuracy': 0.6, 'loss': -0.5999988317489624}, {'f1_seqeval': 0.0, 'f1_micro': 0.4000000000000001, 'f1 macro': 0.1904761904761905, 'accuracy': 0.4, 'loss': -0.39999982714653015}, {'f1_seqeval': 0.0, 'f1_micro': 0.8000000000000002, 'f1 macro': 0.4444444444444445, 'accuracy': 0.8, 'loss': -0.7999985814094543}, {'f1_seqeval': 0.0, 'f1_micro': 0.20000000000000004, 'f1 macro': 0.08333333333333334, 'accuracy': 0.2, 'loss': -0.2000000774860382}, {'f1_seqeval': 0.0, 'f1_micro': 0.6, 'f1 macro': 0.24999999999999997, 'accuracy': 0.6, 'loss': -0.5999996066093445}, {'f1_seqeval': 0.0, 'f1_micro': 0.20000000000000004, 'f1 macro': 0.08333333333333334, 'accuracy': 0.2, 'loss': -0.19999989867210388}, {'f1_seqeval': 0.0, 'f1_micro': 0.8000000000000002, 'f1 macro': 0.4444444444444445, 'accuracy': 0.8, 'loss': -0.7999998331069946}, {'f1_seqeval': 0.0, 'f1_micro': 0.0, 'f1 macro': 0.0, 'accuracy': 0.0, 'loss': -1.1914122524103732e-06}, {'f1_seqeval': 0.0, 'f1_micro': 0.4000000000000001, 'f1 macro': 0.14285714285714288, 'accuracy': 0.4, 'loss': -0.3999996781349182}, {'f1_seqeval': 0.0, 'f1_micro': 0.6, 'f1 macro': 0.24999999999999997, 'accuracy': 0.6, 'loss': -0.5999985933303833}, {'f1_seqeval': 0.0, 'f1_micro': 0.4000000000000001, 'f1 macro': 0.14285714285714288, 'accuracy': 0.4, 'loss': -0.39999961853027344}, {'f1_seqeval': 0.0, 'f1_micro': 0.20000000000000004, 'f1 macro': 0.06666666666666668, 'accuracy': 0.2, 'loss': -0.19999870657920837}, {'f1_seqeval': 0.0, 'f1_micro': 0.20000000000000004, 'f1 macro': 0.08333333333333334, 'accuracy': 0.2, 'loss': -0.20000001788139343}, {'f1_seqeval': 0.0, 'f1_micro': 0.4000000000000001, 'f1 macro': 0.14285714285714288, 'accuracy': 0.4, 'loss': -0.39999982714653015}, {'f1_seqeval': 0.0, 'f1_micro': 0.4000000000000001, 'f1 macro': 0.14285714285714288, 'accuracy': 0.4, 'loss': -0.39999985694885254}, {'f1_seqeval': 0.0, 'f1_micro': 0.8000000000000002, 'f1 macro': 0.4444444444444445, 'accuracy': 0.8, 'loss': -0.7999998331069946}, {'f1_seqeval': 0.0, 'f1_micro': 0.8000000000000002, 'f1 macro': 0.4444444444444445, 'accuracy': 0.8, 'loss': -0.7999993562698364}, {'f1_seqeval': 0.0, 'f1_micro': 0.6, 'f1 macro': 0.24999999999999997, 'accuracy': 0.6, 'loss': -0.5999993681907654}, {'f1_seqeval': 0.0, 'f1_micro': 0.4000000000000001, 'f1 macro': 0.28571428571428575, 'accuracy': 0.4, 'loss': -0.39999932050704956}, {'f1_seqeval': 0.0, 'f1_micro': 0.4000000000000001, 'f1 macro': 0.14285714285714288, 'accuracy': 0.4, 'loss': -0.39999985694885254}, {'f1_seqeval': 0.0, 'f1_micro': 0.6, 'f1 macro': 0.24999999999999997, 'accuracy': 0.6, 'loss': -0.5999998450279236}, {'f1_seqeval': 0.0, 'f1_micro': 0.4000000000000001, 'f1 macro': 0.14285714285714288, 'accuracy': 0.4, 'loss': -0.3999998867511749}, {'f1_seqeval': 0.0, 'f1_micro': 0.4000000000000001, 'f1 macro': 0.1904761904761905, 'accuracy': 0.4, 'loss': -0.39999979734420776}, {'f1_seqeval': 0.0, 'f1_micro': 0.4000000000000001, 'f1 macro': 0.1904761904761905, 'accuracy': 0.4, 'loss': -0.39999982714653015}, {'f1_seqeval': 0.0, 'f1_micro': 0.20000000000000004, 'f1 macro': 0.08333333333333334, 'accuracy': 0.2, 'loss': -0.20000019669532776}, {'f1_seqeval': 0.0, 'f1_micro': 0.8000000000000002, 'f1 macro': 0.4444444444444445, 'accuracy': 0.8, 'loss': -0.7999994158744812}, {'f1_seqeval': 0.0, 'f1_micro': 0.8000000000000002, 'f1 macro': 0.4444444444444445, 'accuracy': 0.8, 'loss': -0.7999987602233887}, {'f1_seqeval': 0.0, 'f1_micro': 0.6, 'f1 macro': 0.37499999999999994, 'accuracy': 0.6, 'loss': -0.5999997854232788}, {'f1_seqeval': 0.0, 'f1_micro': 0.4000000000000001, 'f1 macro': 0.1904761904761905, 'accuracy': 0.4, 'loss': -0.3999998867511749}, {'f1_seqeval': 0.0, 'f1_micro': 0.8000000000000002, 'f1 macro': 0.4444444444444445, 'accuracy': 0.8, 'loss': -0.7999964952468872}, {'f1_seqeval': 0.0, 'f1_micro': 0.4000000000000001, 'f1 macro': 0.1904761904761905, 'accuracy': 0.4, 'loss': -0.3999996781349182}, {'f1_seqeval': 0.0, 'f1_micro': 0.6, 'f1 macro': 0.37499999999999994, 'accuracy': 0.6, 'loss': -0.599997878074646}, {'f1_seqeval': 0.0, 'f1_micro': 0.6, 'f1 macro': 0.37499999999999994, 'accuracy': 0.6, 'loss': -0.5999996662139893}, {'f1_seqeval': 0.0, 'f1_micro': 0.4000000000000001, 'f1 macro': 0.1904761904761905, 'accuracy': 0.4, 'loss': -0.39999985694885254}, {'f1_seqeval': 0.0, 'f1_micro': 0.6, 'f1 macro': 0.24999999999999997, 'accuracy': 0.6, 'loss': -0.5999994277954102}, {'f1_seqeval': 0.0, 'f1_micro': 0.8000000000000002, 'f1 macro': 0.4444444444444445, 'accuracy': 0.8, 'loss': -0.7999979257583618}, {'f1_seqeval': 0.0, 'f1_micro': 0.8000000000000002, 'f1 macro': 0.4444444444444445, 'accuracy': 0.8, 'loss': -0.7999988794326782}, {'f1_seqeval': 0.0, 'f1_micro': 0.20000000000000004, 'f1 macro': 0.08333333333333334, 'accuracy': 0.2, 'loss': -0.20000001788139343}, {'f1_seqeval': 0.0, 'f1_micro': 0.4000000000000001, 'f1 macro': 0.14285714285714288, 'accuracy': 0.4, 'loss': -0.3999996781349182}, {'f1_seqeval': 0.0, 'f1_micro': 0.8000000000000002, 'f1 macro': 0.4444444444444445, 'accuracy': 0.8, 'loss': -0.7999989986419678}, {'f1_seqeval': 0.0, 'f1_micro': 0.6, 'f1 macro': 0.24999999999999997, 'accuracy': 0.6, 'loss': -0.5999996066093445}, {'f1_seqeval': 0.0, 'f1_micro': 0.4000000000000001, 'f1 macro': 0.14285714285714288, 'accuracy': 0.4, 'loss': -0.3999999165534973}, {'f1_seqeval': 0.0, 'f1_micro': 0.20000000000000004, 'f1 macro': 0.08333333333333334, 'accuracy': 0.2, 'loss': -0.2000003308057785}, {'f1_seqeval': 0.0, 'f1_micro': 0.4000000000000001, 'f1 macro': 0.1904761904761905, 'accuracy': 0.4, 'loss': -0.3999996781349182}, {'f1_seqeval': 0.0, 'f1_micro': 0.4000000000000001, 'f1 macro': 0.14285714285714288, 'accuracy': 0.4, 'loss': -0.39999979734420776}, {'f1_seqeval': 0.0, 'f1_micro': 0.20000000000000004, 'f1 macro': 0.11111111111111112, 'accuracy': 0.2, 'loss': -0.20000001788139343}, {'f1_seqeval': 0.0, 'f1_micro': 0.6, 'f1 macro': 0.24999999999999997, 'accuracy': 0.6, 'loss': -0.5999996066093445}, {'f1_seqeval': 0.0, 'f1_micro': 0.0, 'f1 macro': 0.0, 'accuracy': 0.0, 'loss': -5.181709639145993e-07}, {'f1_seqeval': 0.0, 'f1_micro': 0.4000000000000001, 'f1 macro': 0.1904761904761905, 'accuracy': 0.4, 'loss': -0.39999982714653015}, {'f1_seqeval': 0.0, 'f1_micro': 0.4000000000000001, 'f1 macro': 0.14285714285714288, 'accuracy': 0.4, 'loss': -0.39999979734420776}, {'f1_seqeval': 0.0, 'f1_micro': 0.20000000000000004, 'f1 macro': 0.08333333333333334, 'accuracy': 0.2, 'loss': -0.20000016689300537}, {'f1_seqeval': 0.0, 'f1_micro': 0.6, 'f1 macro': 0.24999999999999997, 'accuracy': 0.6, 'loss': -0.5999997854232788}, {'f1_seqeval': 0.0, 'f1_micro': 0.6, 'f1 macro': 0.24999999999999997, 'accuracy': 0.6, 'loss': -0.5999986529350281}, {'f1_seqeval': 0.0, 'f1_micro': 0.4000000000000001, 'f1 macro': 0.14285714285714288, 'accuracy': 0.4, 'loss': -0.3999994993209839}, {'f1_seqeval': 0.0, 'f1_micro': 0.4000000000000001, 'f1 macro': 0.14285714285714288, 'accuracy': 0.4, 'loss': -0.3999998867511749}, {'f1_seqeval': 0.0, 'f1_micro': 0.4000000000000001, 'f1 macro': 0.14285714285714288, 'accuracy': 0.4, 'loss': -0.3999999463558197}, {'f1_seqeval': 0.0, 'f1_micro': 0.20000000000000004, 'f1 macro': 0.08333333333333334, 'accuracy': 0.2, 'loss': -0.20000028610229492}, {'f1_seqeval': 0.0, 'f1_micro': 0.4000000000000001, 'f1 macro': 0.28571428571428575, 'accuracy': 0.4, 'loss': -0.39999908208847046}, {'f1_seqeval': 0.0, 'f1_micro': 0.20000000000000004, 'f1 macro': 0.11111111111111112, 'accuracy': 0.2, 'loss': -0.2000000774860382}, {'f1_seqeval': 0.0, 'f1_micro': 0.6, 'f1 macro': 0.37499999999999994, 'accuracy': 0.6, 'loss': -0.5999996662139893}, {'f1_seqeval': 0.0, 'f1_micro': 0.4000000000000001, 'f1 macro': 0.14285714285714288, 'accuracy': 0.4, 'loss': -0.3999999463558197}, {'f1_seqeval': 0.0, 'f1_micro': 0.4000000000000001, 'f1 macro': 0.1904761904761905, 'accuracy': 0.4, 'loss': -0.39999979734420776}, {'f1_seqeval': 0.0, 'f1_micro': 0.6, 'f1 macro': 0.37499999999999994, 'accuracy': 0.6, 'loss': -0.5999987721443176}, {'f1_seqeval': 0.0, 'f1_micro': 0.6, 'f1 macro': 0.37499999999999994, 'accuracy': 0.6, 'loss': -0.599999725818634}, {'f1_seqeval': 0.0, 'f1_micro': 0.4000000000000001, 'f1 macro': 0.1904761904761905, 'accuracy': 0.4, 'loss': -0.39999955892562866}, {'f1_seqeval': 0.0, 'f1_micro': 0.20000000000000004, 'f1 macro': 0.08333333333333334, 'accuracy': 0.2, 'loss': -0.20000049471855164}, {'f1_seqeval': 0.0, 'f1_micro': 0.4000000000000001, 'f1 macro': 0.1904761904761905, 'accuracy': 0.4, 'loss': -0.3999999165534973}, {'f1_seqeval': 0.0, 'f1_micro': 0.4000000000000001, 'f1 macro': 0.1904761904761905, 'accuracy': 0.4, 'loss': -0.3999999463558197}, {'f1_seqeval': 0.0, 'f1_micro': 0.4000000000000001, 'f1 macro': 0.1904761904761905, 'accuracy': 0.4, 'loss': -0.3999997675418854}, {'f1_seqeval': 0.0, 'f1_micro': 0.4000000000000001, 'f1 macro': 0.1904761904761905, 'accuracy': 0.4, 'loss': -0.39999979734420776}, {'f1_seqeval': 0.0, 'f1_micro': 0.4000000000000001, 'f1 macro': 0.28571428571428575, 'accuracy': 0.4, 'loss': -0.3999999165534973}, {'f1_seqeval': 0.0, 'f1_micro': 0.6, 'f1 macro': 0.37499999999999994, 'accuracy': 0.6, 'loss': -0.5999995470046997}, {'f1_seqeval': 0.0, 'f1_micro': 0.4000000000000001, 'f1 macro': 0.1904761904761905, 'accuracy': 0.4, 'loss': -0.3999999165534973}]\n",
      "- Eval metrics : f1_seqeval: 0.020 ; f1_micro: 0.458 ; f1 macro: 0.237 ; accuracy: 0.458 ; loss: -0.458\n",
      "Epoch 4/10\n"
     ]
    },
    {
     "name": "stderr",
     "output_type": "stream",
     "text": [
      "100%|██████████| 990/990 [00:06<00:00, 159.48it/s, loss=-0.435]\n"
     ]
    },
    {
     "name": "stdout",
     "output_type": "stream",
     "text": [
      "- Train metrics: f1_seqeval: 0.020 ; f1_micro: 0.440 ; f1 macro: 0.224 ; accuracy: 0.440 ; loss: -0.440\n",
      "summ: [{'f1_seqeval': 0.0, 'f1_micro': 0.6, 'f1 macro': 0.24999999999999997, 'accuracy': 0.6, 'loss': -0.599999725818634}, {'f1_seqeval': 0.0, 'f1_micro': 0.4000000000000001, 'f1 macro': 0.28571428571428575, 'accuracy': 0.4, 'loss': -0.3999999761581421}, {'f1_seqeval': 0.0, 'f1_micro': 0.20000000000000004, 'f1 macro': 0.11111111111111112, 'accuracy': 0.2, 'loss': -0.20000001788139343}, {'f1_seqeval': 0.0, 'f1_micro': 0.4000000000000001, 'f1 macro': 0.1904761904761905, 'accuracy': 0.4, 'loss': -0.3999999463558197}, {'f1_seqeval': 0.0, 'f1_micro': 0.20000000000000004, 'f1 macro': 0.11111111111111112, 'accuracy': 0.2, 'loss': -0.2000001221895218}, {'f1_seqeval': 0.0, 'f1_micro': 0.4000000000000001, 'f1 macro': 0.1904761904761905, 'accuracy': 0.4, 'loss': -0.3999999165534973}, {'f1_seqeval': 0.0, 'f1_micro': 0.8000000000000002, 'f1 macro': 0.4444444444444445, 'accuracy': 0.8, 'loss': -0.7999997735023499}, {'f1_seqeval': 0.0, 'f1_micro': 0.20000000000000004, 'f1 macro': 0.08333333333333334, 'accuracy': 0.2, 'loss': -0.20000001788139343}, {'f1_seqeval': 0.0, 'f1_micro': 0.4000000000000001, 'f1 macro': 0.1904761904761905, 'accuracy': 0.4, 'loss': -0.3999999761581421}, {'f1_seqeval': 0.0, 'f1_micro': 0.0, 'f1 macro': 0.0, 'accuracy': 0.0, 'loss': -1.7645541561250866e-07}, {'f1_seqeval': 0.0, 'f1_micro': 0.8000000000000002, 'f1 macro': 0.4444444444444445, 'accuracy': 0.8, 'loss': -0.7999997735023499}, {'f1_seqeval': 0.0, 'f1_micro': 0.6, 'f1 macro': 0.24999999999999997, 'accuracy': 0.6, 'loss': -0.5999995470046997}, {'f1_seqeval': 1.0, 'f1_micro': 1.0, 'f1 macro': 1.0, 'accuracy': 1.0, 'loss': -0.9999998211860657}, {'f1_seqeval': 1.0, 'f1_micro': 1.0, 'f1 macro': 1.0, 'accuracy': 1.0, 'loss': -0.9999996423721313}, {'f1_seqeval': 0.0, 'f1_micro': 0.6, 'f1 macro': 0.24999999999999997, 'accuracy': 0.6, 'loss': -0.5999996066093445}, {'f1_seqeval': 0.0, 'f1_micro': 0.20000000000000004, 'f1 macro': 0.06666666666666668, 'accuracy': 0.2, 'loss': -0.2000000774860382}, {'f1_seqeval': 0.0, 'f1_micro': 0.6, 'f1 macro': 0.37499999999999994, 'accuracy': 0.6, 'loss': -0.599999725818634}, {'f1_seqeval': 0.0, 'f1_micro': 0.20000000000000004, 'f1 macro': 0.08333333333333334, 'accuracy': 0.2, 'loss': -0.2000000923871994}, {'f1_seqeval': 0.0, 'f1_micro': 0.6, 'f1 macro': 0.24999999999999997, 'accuracy': 0.6, 'loss': -0.5999999046325684}, {'f1_seqeval': 0.0, 'f1_micro': 0.8000000000000002, 'f1 macro': 0.4444444444444445, 'accuracy': 0.8, 'loss': -0.7999994158744812}, {'f1_seqeval': 0.0, 'f1_micro': 0.6, 'f1 macro': 0.37499999999999994, 'accuracy': 0.6, 'loss': -0.5999998450279236}, {'f1_seqeval': 0.0, 'f1_micro': 0.6, 'f1 macro': 0.24999999999999997, 'accuracy': 0.6, 'loss': -0.5999999046325684}, {'f1_seqeval': 0.0, 'f1_micro': 0.20000000000000004, 'f1 macro': 0.08333333333333334, 'accuracy': 0.2, 'loss': -0.20000004768371582}, {'f1_seqeval': 0.0, 'f1_micro': 0.4000000000000001, 'f1 macro': 0.1904761904761905, 'accuracy': 0.4, 'loss': -0.4000000059604645}, {'f1_seqeval': 0.0, 'f1_micro': 0.20000000000000004, 'f1 macro': 0.08333333333333334, 'accuracy': 0.2, 'loss': -0.20000000298023224}, {'f1_seqeval': 0.0, 'f1_micro': 0.20000000000000004, 'f1 macro': 0.11111111111111112, 'accuracy': 0.2, 'loss': -0.19999995827674866}, {'f1_seqeval': 0.0, 'f1_micro': 0.20000000000000004, 'f1 macro': 0.11111111111111112, 'accuracy': 0.2, 'loss': -0.19999998807907104}, {'f1_seqeval': 0.0, 'f1_micro': 0.6, 'f1 macro': 0.37499999999999994, 'accuracy': 0.6, 'loss': -0.5999993681907654}, {'f1_seqeval': 0.0, 'f1_micro': 0.4000000000000001, 'f1 macro': 0.1904761904761905, 'accuracy': 0.4, 'loss': -0.3999999165534973}, {'f1_seqeval': 0.0, 'f1_micro': 0.8000000000000002, 'f1 macro': 0.4444444444444445, 'accuracy': 0.8, 'loss': -0.7999992370605469}, {'f1_seqeval': 0.0, 'f1_micro': 0.20000000000000004, 'f1 macro': 0.08333333333333334, 'accuracy': 0.2, 'loss': -0.20000001788139343}, {'f1_seqeval': 0.0, 'f1_micro': 0.6, 'f1 macro': 0.24999999999999997, 'accuracy': 0.6, 'loss': -0.5999997854232788}, {'f1_seqeval': 0.0, 'f1_micro': 0.20000000000000004, 'f1 macro': 0.08333333333333334, 'accuracy': 0.2, 'loss': -0.19999994337558746}, {'f1_seqeval': 0.0, 'f1_micro': 0.8000000000000002, 'f1 macro': 0.4444444444444445, 'accuracy': 0.8, 'loss': -0.7999998927116394}, {'f1_seqeval': 0.0, 'f1_micro': 0.0, 'f1 macro': 0.0, 'accuracy': 0.0, 'loss': -6.237746674742084e-07}, {'f1_seqeval': 0.0, 'f1_micro': 0.4000000000000001, 'f1 macro': 0.14285714285714288, 'accuracy': 0.4, 'loss': -0.39999982714653015}, {'f1_seqeval': 0.0, 'f1_micro': 0.6, 'f1 macro': 0.24999999999999997, 'accuracy': 0.6, 'loss': -0.5999993085861206}, {'f1_seqeval': 0.0, 'f1_micro': 0.4000000000000001, 'f1 macro': 0.14285714285714288, 'accuracy': 0.4, 'loss': -0.39999979734420776}, {'f1_seqeval': 0.0, 'f1_micro': 0.20000000000000004, 'f1 macro': 0.06666666666666668, 'accuracy': 0.2, 'loss': -0.19999930262565613}, {'f1_seqeval': 0.0, 'f1_micro': 0.20000000000000004, 'f1 macro': 0.08333333333333334, 'accuracy': 0.2, 'loss': -0.20000000298023224}, {'f1_seqeval': 0.0, 'f1_micro': 0.4000000000000001, 'f1 macro': 0.14285714285714288, 'accuracy': 0.4, 'loss': -0.3999999463558197}, {'f1_seqeval': 0.0, 'f1_micro': 0.4000000000000001, 'f1 macro': 0.14285714285714288, 'accuracy': 0.4, 'loss': -0.3999999165534973}, {'f1_seqeval': 0.0, 'f1_micro': 0.8000000000000002, 'f1 macro': 0.4444444444444445, 'accuracy': 0.8, 'loss': -0.7999998927116394}, {'f1_seqeval': 0.0, 'f1_micro': 0.8000000000000002, 'f1 macro': 0.4444444444444445, 'accuracy': 0.8, 'loss': -0.7999996542930603}, {'f1_seqeval': 0.0, 'f1_micro': 0.6, 'f1 macro': 0.24999999999999997, 'accuracy': 0.6, 'loss': -0.599999725818634}, {'f1_seqeval': 0.0, 'f1_micro': 0.4000000000000001, 'f1 macro': 0.28571428571428575, 'accuracy': 0.4, 'loss': -0.39999961853027344}, {'f1_seqeval': 0.0, 'f1_micro': 0.4000000000000001, 'f1 macro': 0.14285714285714288, 'accuracy': 0.4, 'loss': -0.3999999165534973}, {'f1_seqeval': 0.0, 'f1_micro': 0.6, 'f1 macro': 0.24999999999999997, 'accuracy': 0.6, 'loss': -0.5999999046325684}, {'f1_seqeval': 0.0, 'f1_micro': 0.4000000000000001, 'f1 macro': 0.14285714285714288, 'accuracy': 0.4, 'loss': -0.3999999463558197}, {'f1_seqeval': 0.0, 'f1_micro': 0.4000000000000001, 'f1 macro': 0.1904761904761905, 'accuracy': 0.4, 'loss': -0.3999999165534973}, {'f1_seqeval': 0.0, 'f1_micro': 0.4000000000000001, 'f1 macro': 0.1904761904761905, 'accuracy': 0.4, 'loss': -0.3999999165534973}, {'f1_seqeval': 0.0, 'f1_micro': 0.20000000000000004, 'f1 macro': 0.08333333333333334, 'accuracy': 0.2, 'loss': -0.2000000923871994}, {'f1_seqeval': 0.0, 'f1_micro': 0.8000000000000002, 'f1 macro': 0.4444444444444445, 'accuracy': 0.8, 'loss': -0.7999995946884155}, {'f1_seqeval': 0.0, 'f1_micro': 0.8000000000000002, 'f1 macro': 0.4444444444444445, 'accuracy': 0.8, 'loss': -0.7999993562698364}, {'f1_seqeval': 0.0, 'f1_micro': 0.6, 'f1 macro': 0.37499999999999994, 'accuracy': 0.6, 'loss': -0.5999999046325684}, {'f1_seqeval': 0.0, 'f1_micro': 0.4000000000000001, 'f1 macro': 0.1904761904761905, 'accuracy': 0.4, 'loss': -0.3999999463558197}, {'f1_seqeval': 0.0, 'f1_micro': 0.8000000000000002, 'f1 macro': 0.4444444444444445, 'accuracy': 0.8, 'loss': -0.7999981641769409}, {'f1_seqeval': 0.0, 'f1_micro': 0.4000000000000001, 'f1 macro': 0.1904761904761905, 'accuracy': 0.4, 'loss': -0.39999979734420776}, {'f1_seqeval': 0.0, 'f1_micro': 0.6, 'f1 macro': 0.37499999999999994, 'accuracy': 0.6, 'loss': -0.5999988317489624}, {'f1_seqeval': 0.0, 'f1_micro': 0.6, 'f1 macro': 0.37499999999999994, 'accuracy': 0.6, 'loss': -0.5999997854232788}, {'f1_seqeval': 0.0, 'f1_micro': 0.4000000000000001, 'f1 macro': 0.1904761904761905, 'accuracy': 0.4, 'loss': -0.3999999165534973}, {'f1_seqeval': 0.0, 'f1_micro': 0.6, 'f1 macro': 0.24999999999999997, 'accuracy': 0.6, 'loss': -0.599999725818634}, {'f1_seqeval': 0.0, 'f1_micro': 0.8000000000000002, 'f1 macro': 0.4444444444444445, 'accuracy': 0.8, 'loss': -0.799998939037323}, {'f1_seqeval': 0.0, 'f1_micro': 0.8000000000000002, 'f1 macro': 0.4444444444444445, 'accuracy': 0.8, 'loss': -0.7999994158744812}, {'f1_seqeval': 0.0, 'f1_micro': 0.20000000000000004, 'f1 macro': 0.08333333333333334, 'accuracy': 0.2, 'loss': -0.20000000298023224}, {'f1_seqeval': 0.0, 'f1_micro': 0.4000000000000001, 'f1 macro': 0.14285714285714288, 'accuracy': 0.4, 'loss': -0.39999985694885254}, {'f1_seqeval': 0.0, 'f1_micro': 0.8000000000000002, 'f1 macro': 0.4444444444444445, 'accuracy': 0.8, 'loss': -0.7999995350837708}, {'f1_seqeval': 0.0, 'f1_micro': 0.6, 'f1 macro': 0.24999999999999997, 'accuracy': 0.6, 'loss': -0.5999998450279236}, {'f1_seqeval': 0.0, 'f1_micro': 0.4000000000000001, 'f1 macro': 0.14285714285714288, 'accuracy': 0.4, 'loss': -0.3999999463558197}, {'f1_seqeval': 0.0, 'f1_micro': 0.20000000000000004, 'f1 macro': 0.08333333333333334, 'accuracy': 0.2, 'loss': -0.20000019669532776}, {'f1_seqeval': 0.0, 'f1_micro': 0.4000000000000001, 'f1 macro': 0.1904761904761905, 'accuracy': 0.4, 'loss': -0.39999982714653015}, {'f1_seqeval': 0.0, 'f1_micro': 0.4000000000000001, 'f1 macro': 0.14285714285714288, 'accuracy': 0.4, 'loss': -0.3999998867511749}, {'f1_seqeval': 0.0, 'f1_micro': 0.20000000000000004, 'f1 macro': 0.11111111111111112, 'accuracy': 0.2, 'loss': -0.20000000298023224}, {'f1_seqeval': 0.0, 'f1_micro': 0.6, 'f1 macro': 0.24999999999999997, 'accuracy': 0.6, 'loss': -0.5999997854232788}, {'f1_seqeval': 0.0, 'f1_micro': 0.0, 'f1 macro': 0.0, 'accuracy': 0.0, 'loss': -2.615468872591009e-07}, {'f1_seqeval': 0.0, 'f1_micro': 0.4000000000000001, 'f1 macro': 0.1904761904761905, 'accuracy': 0.4, 'loss': -0.3999999165534973}, {'f1_seqeval': 0.0, 'f1_micro': 0.4000000000000001, 'f1 macro': 0.14285714285714288, 'accuracy': 0.4, 'loss': -0.3999998867511749}, {'f1_seqeval': 0.0, 'f1_micro': 0.20000000000000004, 'f1 macro': 0.08333333333333334, 'accuracy': 0.2, 'loss': -0.2000000774860382}, {'f1_seqeval': 0.0, 'f1_micro': 0.6, 'f1 macro': 0.24999999999999997, 'accuracy': 0.6, 'loss': -0.5999998450279236}, {'f1_seqeval': 0.0, 'f1_micro': 0.6, 'f1 macro': 0.24999999999999997, 'accuracy': 0.6, 'loss': -0.5999993085861206}, {'f1_seqeval': 0.0, 'f1_micro': 0.4000000000000001, 'f1 macro': 0.14285714285714288, 'accuracy': 0.4, 'loss': -0.3999997079372406}, {'f1_seqeval': 0.0, 'f1_micro': 0.4000000000000001, 'f1 macro': 0.14285714285714288, 'accuracy': 0.4, 'loss': -0.3999999165534973}, {'f1_seqeval': 0.0, 'f1_micro': 0.4000000000000001, 'f1 macro': 0.14285714285714288, 'accuracy': 0.4, 'loss': -0.4000000059604645}, {'f1_seqeval': 0.0, 'f1_micro': 0.20000000000000004, 'f1 macro': 0.08333333333333334, 'accuracy': 0.2, 'loss': -0.20000013709068298}, {'f1_seqeval': 0.0, 'f1_micro': 0.4000000000000001, 'f1 macro': 0.28571428571428575, 'accuracy': 0.4, 'loss': -0.3999994993209839}, {'f1_seqeval': 0.0, 'f1_micro': 0.20000000000000004, 'f1 macro': 0.11111111111111112, 'accuracy': 0.2, 'loss': -0.20000004768371582}, {'f1_seqeval': 0.0, 'f1_micro': 0.6, 'f1 macro': 0.37499999999999994, 'accuracy': 0.6, 'loss': -0.5999997854232788}, {'f1_seqeval': 0.0, 'f1_micro': 0.4000000000000001, 'f1 macro': 0.14285714285714288, 'accuracy': 0.4, 'loss': -0.3999999761581421}, {'f1_seqeval': 0.0, 'f1_micro': 0.4000000000000001, 'f1 macro': 0.1904761904761905, 'accuracy': 0.4, 'loss': -0.3999999165534973}, {'f1_seqeval': 0.0, 'f1_micro': 0.6, 'f1 macro': 0.37499999999999994, 'accuracy': 0.6, 'loss': -0.5999993085861206}, {'f1_seqeval': 0.0, 'f1_micro': 0.6, 'f1 macro': 0.37499999999999994, 'accuracy': 0.6, 'loss': -0.5999999046325684}, {'f1_seqeval': 0.0, 'f1_micro': 0.4000000000000001, 'f1 macro': 0.1904761904761905, 'accuracy': 0.4, 'loss': -0.39999979734420776}, {'f1_seqeval': 0.0, 'f1_micro': 0.20000000000000004, 'f1 macro': 0.08333333333333334, 'accuracy': 0.2, 'loss': -0.20000025629997253}, {'f1_seqeval': 0.0, 'f1_micro': 0.4000000000000001, 'f1 macro': 0.1904761904761905, 'accuracy': 0.4, 'loss': -0.3999999761581421}, {'f1_seqeval': 0.0, 'f1_micro': 0.4000000000000001, 'f1 macro': 0.1904761904761905, 'accuracy': 0.4, 'loss': -0.3999999463558197}, {'f1_seqeval': 0.0, 'f1_micro': 0.4000000000000001, 'f1 macro': 0.1904761904761905, 'accuracy': 0.4, 'loss': -0.3999999165534973}, {'f1_seqeval': 0.0, 'f1_micro': 0.4000000000000001, 'f1 macro': 0.1904761904761905, 'accuracy': 0.4, 'loss': -0.3999998867511749}, {'f1_seqeval': 0.0, 'f1_micro': 0.4000000000000001, 'f1 macro': 0.28571428571428575, 'accuracy': 0.4, 'loss': -0.3999999761581421}, {'f1_seqeval': 0.0, 'f1_micro': 0.6, 'f1 macro': 0.37499999999999994, 'accuracy': 0.6, 'loss': -0.5999997854232788}, {'f1_seqeval': 0.0, 'f1_micro': 0.4000000000000001, 'f1 macro': 0.1904761904761905, 'accuracy': 0.4, 'loss': -0.3999999463558197}]\n",
      "- Eval metrics : f1_seqeval: 0.020 ; f1_micro: 0.458 ; f1 macro: 0.237 ; accuracy: 0.458 ; loss: -0.458\n",
      "Epoch 5/10\n"
     ]
    },
    {
     "name": "stderr",
     "output_type": "stream",
     "text": [
      "100%|██████████| 990/990 [00:06<00:00, 158.59it/s, loss=-0.435]\n"
     ]
    },
    {
     "name": "stdout",
     "output_type": "stream",
     "text": [
      "- Train metrics: f1_seqeval: 0.020 ; f1_micro: 0.440 ; f1 macro: 0.224 ; accuracy: 0.440 ; loss: -0.440\n",
      "summ: [{'f1_seqeval': 0.0, 'f1_micro': 0.6, 'f1 macro': 0.24999999999999997, 'accuracy': 0.6, 'loss': -0.5999998450279236}, {'f1_seqeval': 0.0, 'f1_micro': 0.4000000000000001, 'f1 macro': 0.28571428571428575, 'accuracy': 0.4, 'loss': -0.3999999463558197}, {'f1_seqeval': 0.0, 'f1_micro': 0.20000000000000004, 'f1 macro': 0.11111111111111112, 'accuracy': 0.2, 'loss': -0.20000000298023224}, {'f1_seqeval': 0.0, 'f1_micro': 0.4000000000000001, 'f1 macro': 0.1904761904761905, 'accuracy': 0.4, 'loss': -0.3999999463558197}, {'f1_seqeval': 0.0, 'f1_micro': 0.20000000000000004, 'f1 macro': 0.11111111111111112, 'accuracy': 0.2, 'loss': -0.2000000774860382}, {'f1_seqeval': 0.0, 'f1_micro': 0.4000000000000001, 'f1 macro': 0.1904761904761905, 'accuracy': 0.4, 'loss': -0.3999999761581421}, {'f1_seqeval': 0.0, 'f1_micro': 0.8000000000000002, 'f1 macro': 0.4444444444444445, 'accuracy': 0.8, 'loss': -0.7999998331069946}, {'f1_seqeval': 0.0, 'f1_micro': 0.20000000000000004, 'f1 macro': 0.08333333333333334, 'accuracy': 0.2, 'loss': -0.20000001788139343}, {'f1_seqeval': 0.0, 'f1_micro': 0.4000000000000001, 'f1 macro': 0.1904761904761905, 'accuracy': 0.4, 'loss': -0.3999999761581421}, {'f1_seqeval': 0.0, 'f1_micro': 0.0, 'f1 macro': 0.0, 'accuracy': 0.0, 'loss': -9.566825553974923e-08}, {'f1_seqeval': 0.0, 'f1_micro': 0.8000000000000002, 'f1 macro': 0.4444444444444445, 'accuracy': 0.8, 'loss': -0.7999998331069946}, {'f1_seqeval': 0.0, 'f1_micro': 0.6, 'f1 macro': 0.24999999999999997, 'accuracy': 0.6, 'loss': -0.599999725818634}, {'f1_seqeval': 1.0, 'f1_micro': 1.0, 'f1 macro': 1.0, 'accuracy': 1.0, 'loss': -0.9999998807907104}, {'f1_seqeval': 1.0, 'f1_micro': 1.0, 'f1 macro': 1.0, 'accuracy': 1.0, 'loss': -0.9999998807907104}, {'f1_seqeval': 0.0, 'f1_micro': 0.6, 'f1 macro': 0.24999999999999997, 'accuracy': 0.6, 'loss': -0.5999997854232788}, {'f1_seqeval': 0.0, 'f1_micro': 0.20000000000000004, 'f1 macro': 0.06666666666666668, 'accuracy': 0.2, 'loss': -0.20000001788139343}, {'f1_seqeval': 0.0, 'f1_micro': 0.6, 'f1 macro': 0.37499999999999994, 'accuracy': 0.6, 'loss': -0.5999998450279236}, {'f1_seqeval': 0.0, 'f1_micro': 0.20000000000000004, 'f1 macro': 0.08333333333333334, 'accuracy': 0.2, 'loss': -0.20000001788139343}, {'f1_seqeval': 0.0, 'f1_micro': 0.6, 'f1 macro': 0.24999999999999997, 'accuracy': 0.6, 'loss': -0.5999999046325684}, {'f1_seqeval': 0.0, 'f1_micro': 0.8000000000000002, 'f1 macro': 0.4444444444444445, 'accuracy': 0.8, 'loss': -0.7999997138977051}, {'f1_seqeval': 0.0, 'f1_micro': 0.6, 'f1 macro': 0.37499999999999994, 'accuracy': 0.6, 'loss': -0.5999999046325684}, {'f1_seqeval': 0.0, 'f1_micro': 0.6, 'f1 macro': 0.24999999999999997, 'accuracy': 0.6, 'loss': -0.5999999046325684}, {'f1_seqeval': 0.0, 'f1_micro': 0.20000000000000004, 'f1 macro': 0.08333333333333334, 'accuracy': 0.2, 'loss': -0.20000001788139343}, {'f1_seqeval': 0.0, 'f1_micro': 0.4000000000000001, 'f1 macro': 0.1904761904761905, 'accuracy': 0.4, 'loss': -0.3999999463558197}, {'f1_seqeval': 0.0, 'f1_micro': 0.20000000000000004, 'f1 macro': 0.08333333333333334, 'accuracy': 0.2, 'loss': -0.20000000298023224}, {'f1_seqeval': 0.0, 'f1_micro': 0.20000000000000004, 'f1 macro': 0.11111111111111112, 'accuracy': 0.2, 'loss': -0.19999997317790985}, {'f1_seqeval': 0.0, 'f1_micro': 0.20000000000000004, 'f1 macro': 0.11111111111111112, 'accuracy': 0.2, 'loss': -0.20000000298023224}, {'f1_seqeval': 0.0, 'f1_micro': 0.6, 'f1 macro': 0.37499999999999994, 'accuracy': 0.6, 'loss': -0.5999996662139893}, {'f1_seqeval': 0.0, 'f1_micro': 0.4000000000000001, 'f1 macro': 0.1904761904761905, 'accuracy': 0.4, 'loss': -0.3999999463558197}, {'f1_seqeval': 0.0, 'f1_micro': 0.8000000000000002, 'f1 macro': 0.4444444444444445, 'accuracy': 0.8, 'loss': -0.7999995946884155}, {'f1_seqeval': 0.0, 'f1_micro': 0.20000000000000004, 'f1 macro': 0.08333333333333334, 'accuracy': 0.2, 'loss': -0.20000001788139343}, {'f1_seqeval': 0.0, 'f1_micro': 0.6, 'f1 macro': 0.24999999999999997, 'accuracy': 0.6, 'loss': -0.5999999046325684}, {'f1_seqeval': 0.0, 'f1_micro': 0.20000000000000004, 'f1 macro': 0.08333333333333334, 'accuracy': 0.2, 'loss': -0.19999997317790985}, {'f1_seqeval': 0.0, 'f1_micro': 0.8000000000000002, 'f1 macro': 0.4444444444444445, 'accuracy': 0.8, 'loss': -0.7999998927116394}, {'f1_seqeval': 0.0, 'f1_micro': 0.0, 'f1 macro': 0.0, 'accuracy': 0.0, 'loss': -3.478714916127501e-07}, {'f1_seqeval': 0.0, 'f1_micro': 0.4000000000000001, 'f1 macro': 0.14285714285714288, 'accuracy': 0.4, 'loss': -0.3999999165534973}, {'f1_seqeval': 0.0, 'f1_micro': 0.6, 'f1 macro': 0.24999999999999997, 'accuracy': 0.6, 'loss': -0.5999996066093445}, {'f1_seqeval': 0.0, 'f1_micro': 0.4000000000000001, 'f1 macro': 0.14285714285714288, 'accuracy': 0.4, 'loss': -0.3999999165534973}, {'f1_seqeval': 0.0, 'f1_micro': 0.20000000000000004, 'f1 macro': 0.06666666666666668, 'accuracy': 0.2, 'loss': -0.1999996155500412}, {'f1_seqeval': 0.0, 'f1_micro': 0.20000000000000004, 'f1 macro': 0.08333333333333334, 'accuracy': 0.2, 'loss': -0.19999998807907104}, {'f1_seqeval': 0.0, 'f1_micro': 0.4000000000000001, 'f1 macro': 0.14285714285714288, 'accuracy': 0.4, 'loss': -0.3999999761581421}, {'f1_seqeval': 0.0, 'f1_micro': 0.4000000000000001, 'f1 macro': 0.14285714285714288, 'accuracy': 0.4, 'loss': -0.3999999463558197}, {'f1_seqeval': 0.0, 'f1_micro': 0.8000000000000002, 'f1 macro': 0.4444444444444445, 'accuracy': 0.8, 'loss': -0.7999998927116394}, {'f1_seqeval': 0.0, 'f1_micro': 0.8000000000000002, 'f1 macro': 0.4444444444444445, 'accuracy': 0.8, 'loss': -0.7999998331069946}, {'f1_seqeval': 0.0, 'f1_micro': 0.6, 'f1 macro': 0.24999999999999997, 'accuracy': 0.6, 'loss': -0.5999997854232788}, {'f1_seqeval': 0.0, 'f1_micro': 0.4000000000000001, 'f1 macro': 0.28571428571428575, 'accuracy': 0.4, 'loss': -0.39999979734420776}, {'f1_seqeval': 0.0, 'f1_micro': 0.4000000000000001, 'f1 macro': 0.14285714285714288, 'accuracy': 0.4, 'loss': -0.4000000059604645}, {'f1_seqeval': 0.0, 'f1_micro': 0.6, 'f1 macro': 0.24999999999999997, 'accuracy': 0.6, 'loss': -0.5999999046325684}, {'f1_seqeval': 0.0, 'f1_micro': 0.4000000000000001, 'f1 macro': 0.14285714285714288, 'accuracy': 0.4, 'loss': -0.3999999761581421}, {'f1_seqeval': 0.0, 'f1_micro': 0.4000000000000001, 'f1 macro': 0.1904761904761905, 'accuracy': 0.4, 'loss': -0.3999999463558197}, {'f1_seqeval': 0.0, 'f1_micro': 0.4000000000000001, 'f1 macro': 0.1904761904761905, 'accuracy': 0.4, 'loss': -0.3999999463558197}, {'f1_seqeval': 0.0, 'f1_micro': 0.20000000000000004, 'f1 macro': 0.08333333333333334, 'accuracy': 0.2, 'loss': -0.20000004768371582}, {'f1_seqeval': 0.0, 'f1_micro': 0.8000000000000002, 'f1 macro': 0.4444444444444445, 'accuracy': 0.8, 'loss': -0.7999998927116394}, {'f1_seqeval': 0.0, 'f1_micro': 0.8000000000000002, 'f1 macro': 0.4444444444444445, 'accuracy': 0.8, 'loss': -0.7999995946884155}, {'f1_seqeval': 0.0, 'f1_micro': 0.6, 'f1 macro': 0.37499999999999994, 'accuracy': 0.6, 'loss': -0.5999999046325684}, {'f1_seqeval': 0.0, 'f1_micro': 0.4000000000000001, 'f1 macro': 0.1904761904761905, 'accuracy': 0.4, 'loss': -0.3999999761581421}, {'f1_seqeval': 0.0, 'f1_micro': 0.8000000000000002, 'f1 macro': 0.4444444444444445, 'accuracy': 0.8, 'loss': -0.7999989986419678}, {'f1_seqeval': 0.0, 'f1_micro': 0.4000000000000001, 'f1 macro': 0.1904761904761905, 'accuracy': 0.4, 'loss': -0.3999999165534973}, {'f1_seqeval': 0.0, 'f1_micro': 0.6, 'f1 macro': 0.37499999999999994, 'accuracy': 0.6, 'loss': -0.5999994277954102}, {'f1_seqeval': 0.0, 'f1_micro': 0.6, 'f1 macro': 0.37499999999999994, 'accuracy': 0.6, 'loss': -0.5999999046325684}, {'f1_seqeval': 0.0, 'f1_micro': 0.4000000000000001, 'f1 macro': 0.1904761904761905, 'accuracy': 0.4, 'loss': -0.3999999463558197}, {'f1_seqeval': 0.0, 'f1_micro': 0.6, 'f1 macro': 0.24999999999999997, 'accuracy': 0.6, 'loss': -0.5999998450279236}, {'f1_seqeval': 0.0, 'f1_micro': 0.8000000000000002, 'f1 macro': 0.4444444444444445, 'accuracy': 0.8, 'loss': -0.7999993562698364}, {'f1_seqeval': 0.0, 'f1_micro': 0.8000000000000002, 'f1 macro': 0.4444444444444445, 'accuracy': 0.8, 'loss': -0.7999997138977051}, {'f1_seqeval': 0.0, 'f1_micro': 0.20000000000000004, 'f1 macro': 0.08333333333333334, 'accuracy': 0.2, 'loss': -0.20000001788139343}, {'f1_seqeval': 0.0, 'f1_micro': 0.4000000000000001, 'f1 macro': 0.14285714285714288, 'accuracy': 0.4, 'loss': -0.3999999165534973}, {'f1_seqeval': 0.0, 'f1_micro': 0.8000000000000002, 'f1 macro': 0.4444444444444445, 'accuracy': 0.8, 'loss': -0.7999997138977051}, {'f1_seqeval': 0.0, 'f1_micro': 0.6, 'f1 macro': 0.24999999999999997, 'accuracy': 0.6, 'loss': -0.5999998450279236}, {'f1_seqeval': 0.0, 'f1_micro': 0.4000000000000001, 'f1 macro': 0.14285714285714288, 'accuracy': 0.4, 'loss': -0.3999999761581421}, {'f1_seqeval': 0.0, 'f1_micro': 0.20000000000000004, 'f1 macro': 0.08333333333333334, 'accuracy': 0.2, 'loss': -0.2000001221895218}, {'f1_seqeval': 0.0, 'f1_micro': 0.4000000000000001, 'f1 macro': 0.1904761904761905, 'accuracy': 0.4, 'loss': -0.3999999165534973}, {'f1_seqeval': 0.0, 'f1_micro': 0.4000000000000001, 'f1 macro': 0.14285714285714288, 'accuracy': 0.4, 'loss': -0.3999999463558197}, {'f1_seqeval': 0.0, 'f1_micro': 0.20000000000000004, 'f1 macro': 0.11111111111111112, 'accuracy': 0.2, 'loss': -0.20000000298023224}, {'f1_seqeval': 0.0, 'f1_micro': 0.6, 'f1 macro': 0.24999999999999997, 'accuracy': 0.6, 'loss': -0.5999999046325684}, {'f1_seqeval': 0.0, 'f1_micro': 0.0, 'f1 macro': 0.0, 'accuracy': 0.0, 'loss': -1.4163882156026375e-07}, {'f1_seqeval': 0.0, 'f1_micro': 0.4000000000000001, 'f1 macro': 0.1904761904761905, 'accuracy': 0.4, 'loss': -0.3999999761581421}, {'f1_seqeval': 0.0, 'f1_micro': 0.4000000000000001, 'f1 macro': 0.14285714285714288, 'accuracy': 0.4, 'loss': -0.3999999463558197}, {'f1_seqeval': 0.0, 'f1_micro': 0.20000000000000004, 'f1 macro': 0.08333333333333334, 'accuracy': 0.2, 'loss': -0.20000004768371582}, {'f1_seqeval': 0.0, 'f1_micro': 0.6, 'f1 macro': 0.24999999999999997, 'accuracy': 0.6, 'loss': -0.5999999046325684}, {'f1_seqeval': 0.0, 'f1_micro': 0.6, 'f1 macro': 0.24999999999999997, 'accuracy': 0.6, 'loss': -0.5999996066093445}, {'f1_seqeval': 0.0, 'f1_micro': 0.4000000000000001, 'f1 macro': 0.14285714285714288, 'accuracy': 0.4, 'loss': -0.39999985694885254}, {'f1_seqeval': 0.0, 'f1_micro': 0.4000000000000001, 'f1 macro': 0.14285714285714288, 'accuracy': 0.4, 'loss': -0.3999999463558197}, {'f1_seqeval': 0.0, 'f1_micro': 0.4000000000000001, 'f1 macro': 0.14285714285714288, 'accuracy': 0.4, 'loss': -0.3999999761581421}, {'f1_seqeval': 0.0, 'f1_micro': 0.20000000000000004, 'f1 macro': 0.08333333333333334, 'accuracy': 0.2, 'loss': -0.2000000774860382}, {'f1_seqeval': 0.0, 'f1_micro': 0.4000000000000001, 'f1 macro': 0.28571428571428575, 'accuracy': 0.4, 'loss': -0.3999996781349182}, {'f1_seqeval': 0.0, 'f1_micro': 0.20000000000000004, 'f1 macro': 0.11111111111111112, 'accuracy': 0.2, 'loss': -0.20000000298023224}, {'f1_seqeval': 0.0, 'f1_micro': 0.6, 'f1 macro': 0.37499999999999994, 'accuracy': 0.6, 'loss': -0.5999999046325684}, {'f1_seqeval': 0.0, 'f1_micro': 0.4000000000000001, 'f1 macro': 0.14285714285714288, 'accuracy': 0.4, 'loss': -0.3999999761581421}, {'f1_seqeval': 0.0, 'f1_micro': 0.4000000000000001, 'f1 macro': 0.1904761904761905, 'accuracy': 0.4, 'loss': -0.3999999463558197}, {'f1_seqeval': 0.0, 'f1_micro': 0.6, 'f1 macro': 0.37499999999999994, 'accuracy': 0.6, 'loss': -0.5999996066093445}, {'f1_seqeval': 0.0, 'f1_micro': 0.6, 'f1 macro': 0.37499999999999994, 'accuracy': 0.6, 'loss': -0.5999999642372131}, {'f1_seqeval': 0.0, 'f1_micro': 0.4000000000000001, 'f1 macro': 0.1904761904761905, 'accuracy': 0.4, 'loss': -0.3999999165534973}, {'f1_seqeval': 0.0, 'f1_micro': 0.20000000000000004, 'f1 macro': 0.08333333333333334, 'accuracy': 0.2, 'loss': -0.20000013709068298}, {'f1_seqeval': 0.0, 'f1_micro': 0.4000000000000001, 'f1 macro': 0.1904761904761905, 'accuracy': 0.4, 'loss': -0.3999999463558197}, {'f1_seqeval': 0.0, 'f1_micro': 0.4000000000000001, 'f1 macro': 0.1904761904761905, 'accuracy': 0.4, 'loss': -0.3999999761581421}, {'f1_seqeval': 0.0, 'f1_micro': 0.4000000000000001, 'f1 macro': 0.1904761904761905, 'accuracy': 0.4, 'loss': -0.3999999463558197}, {'f1_seqeval': 0.0, 'f1_micro': 0.4000000000000001, 'f1 macro': 0.1904761904761905, 'accuracy': 0.4, 'loss': -0.3999999165534973}, {'f1_seqeval': 0.0, 'f1_micro': 0.4000000000000001, 'f1 macro': 0.28571428571428575, 'accuracy': 0.4, 'loss': -0.3999999463558197}, {'f1_seqeval': 0.0, 'f1_micro': 0.6, 'f1 macro': 0.37499999999999994, 'accuracy': 0.6, 'loss': -0.5999998450279236}, {'f1_seqeval': 0.0, 'f1_micro': 0.4000000000000001, 'f1 macro': 0.1904761904761905, 'accuracy': 0.4, 'loss': -0.3999999761581421}]\n",
      "- Eval metrics : f1_seqeval: 0.020 ; f1_micro: 0.458 ; f1 macro: 0.237 ; accuracy: 0.458 ; loss: -0.458\n",
      "Epoch 6/10\n"
     ]
    },
    {
     "name": "stderr",
     "output_type": "stream",
     "text": [
      "100%|██████████| 990/990 [00:06<00:00, 161.46it/s, loss=-0.435]\n"
     ]
    },
    {
     "name": "stdout",
     "output_type": "stream",
     "text": [
      "- Train metrics: f1_seqeval: 0.020 ; f1_micro: 0.440 ; f1 macro: 0.224 ; accuracy: 0.440 ; loss: -0.440\n",
      "summ: [{'f1_seqeval': 0.0, 'f1_micro': 0.6, 'f1 macro': 0.24999999999999997, 'accuracy': 0.6, 'loss': -0.5999998450279236}, {'f1_seqeval': 0.0, 'f1_micro': 0.4000000000000001, 'f1 macro': 0.28571428571428575, 'accuracy': 0.4, 'loss': -0.4000000059604645}, {'f1_seqeval': 0.0, 'f1_micro': 0.20000000000000004, 'f1 macro': 0.11111111111111112, 'accuracy': 0.2, 'loss': -0.20000000298023224}, {'f1_seqeval': 0.0, 'f1_micro': 0.4000000000000001, 'f1 macro': 0.1904761904761905, 'accuracy': 0.4, 'loss': -0.4000000059604645}, {'f1_seqeval': 0.0, 'f1_micro': 0.20000000000000004, 'f1 macro': 0.11111111111111112, 'accuracy': 0.2, 'loss': -0.20000004768371582}, {'f1_seqeval': 0.0, 'f1_micro': 0.4000000000000001, 'f1 macro': 0.1904761904761905, 'accuracy': 0.4, 'loss': -0.3999999761581421}, {'f1_seqeval': 0.0, 'f1_micro': 0.8000000000000002, 'f1 macro': 0.4444444444444445, 'accuracy': 0.8, 'loss': -0.7999998927116394}, {'f1_seqeval': 0.0, 'f1_micro': 0.20000000000000004, 'f1 macro': 0.08333333333333334, 'accuracy': 0.2, 'loss': -0.20000000298023224}, {'f1_seqeval': 0.0, 'f1_micro': 0.4000000000000001, 'f1 macro': 0.1904761904761905, 'accuracy': 0.4, 'loss': -0.4000000059604645}, {'f1_seqeval': 0.0, 'f1_micro': 0.0, 'f1 macro': 0.0, 'accuracy': 0.0, 'loss': -5.3528179222439576e-08}, {'f1_seqeval': 0.0, 'f1_micro': 0.8000000000000002, 'f1 macro': 0.4444444444444445, 'accuracy': 0.8, 'loss': -0.7999998927116394}, {'f1_seqeval': 0.0, 'f1_micro': 0.6, 'f1 macro': 0.24999999999999997, 'accuracy': 0.6, 'loss': -0.5999999046325684}, {'f1_seqeval': 1.0, 'f1_micro': 1.0, 'f1 macro': 1.0, 'accuracy': 1.0, 'loss': -1.0}, {'f1_seqeval': 1.0, 'f1_micro': 1.0, 'f1 macro': 1.0, 'accuracy': 1.0, 'loss': -0.9999998807907104}, {'f1_seqeval': 0.0, 'f1_micro': 0.6, 'f1 macro': 0.24999999999999997, 'accuracy': 0.6, 'loss': -0.5999999046325684}, {'f1_seqeval': 0.0, 'f1_micro': 0.20000000000000004, 'f1 macro': 0.06666666666666668, 'accuracy': 0.2, 'loss': -0.20000000298023224}, {'f1_seqeval': 0.0, 'f1_micro': 0.6, 'f1 macro': 0.37499999999999994, 'accuracy': 0.6, 'loss': -0.5999999046325684}, {'f1_seqeval': 0.0, 'f1_micro': 0.20000000000000004, 'f1 macro': 0.08333333333333334, 'accuracy': 0.2, 'loss': -0.20000004768371582}, {'f1_seqeval': 0.0, 'f1_micro': 0.6, 'f1 macro': 0.24999999999999997, 'accuracy': 0.6, 'loss': -0.6000000238418579}, {'f1_seqeval': 0.0, 'f1_micro': 0.8000000000000002, 'f1 macro': 0.4444444444444445, 'accuracy': 0.8, 'loss': -0.7999998331069946}, {'f1_seqeval': 0.0, 'f1_micro': 0.6, 'f1 macro': 0.37499999999999994, 'accuracy': 0.6, 'loss': -0.5999999046325684}, {'f1_seqeval': 0.0, 'f1_micro': 0.6, 'f1 macro': 0.24999999999999997, 'accuracy': 0.6, 'loss': -0.6000000238418579}, {'f1_seqeval': 0.0, 'f1_micro': 0.20000000000000004, 'f1 macro': 0.08333333333333334, 'accuracy': 0.2, 'loss': -0.20000000298023224}, {'f1_seqeval': 0.0, 'f1_micro': 0.4000000000000001, 'f1 macro': 0.1904761904761905, 'accuracy': 0.4, 'loss': -0.4000000059604645}, {'f1_seqeval': 0.0, 'f1_micro': 0.20000000000000004, 'f1 macro': 0.08333333333333334, 'accuracy': 0.2, 'loss': -0.20000000298023224}, {'f1_seqeval': 0.0, 'f1_micro': 0.20000000000000004, 'f1 macro': 0.11111111111111112, 'accuracy': 0.2, 'loss': -0.19999997317790985}, {'f1_seqeval': 0.0, 'f1_micro': 0.20000000000000004, 'f1 macro': 0.11111111111111112, 'accuracy': 0.2, 'loss': -0.20000000298023224}, {'f1_seqeval': 0.0, 'f1_micro': 0.6, 'f1 macro': 0.37499999999999994, 'accuracy': 0.6, 'loss': -0.5999997854232788}, {'f1_seqeval': 0.0, 'f1_micro': 0.4000000000000001, 'f1 macro': 0.1904761904761905, 'accuracy': 0.4, 'loss': -0.3999999463558197}, {'f1_seqeval': 0.0, 'f1_micro': 0.8000000000000002, 'f1 macro': 0.4444444444444445, 'accuracy': 0.8, 'loss': -0.7999997735023499}, {'f1_seqeval': 0.0, 'f1_micro': 0.20000000000000004, 'f1 macro': 0.08333333333333334, 'accuracy': 0.2, 'loss': -0.20000001788139343}, {'f1_seqeval': 0.0, 'f1_micro': 0.6, 'f1 macro': 0.24999999999999997, 'accuracy': 0.6, 'loss': -0.5999999642372131}, {'f1_seqeval': 0.0, 'f1_micro': 0.20000000000000004, 'f1 macro': 0.08333333333333334, 'accuracy': 0.2, 'loss': -0.19999998807907104}, {'f1_seqeval': 0.0, 'f1_micro': 0.8000000000000002, 'f1 macro': 0.4444444444444445, 'accuracy': 0.8, 'loss': -0.800000011920929}, {'f1_seqeval': 0.0, 'f1_micro': 0.0, 'f1 macro': 0.0, 'accuracy': 0.0, 'loss': -1.992124509797577e-07}, {'f1_seqeval': 0.0, 'f1_micro': 0.4000000000000001, 'f1 macro': 0.14285714285714288, 'accuracy': 0.4, 'loss': -0.3999999463558197}, {'f1_seqeval': 0.0, 'f1_micro': 0.6, 'f1 macro': 0.24999999999999997, 'accuracy': 0.6, 'loss': -0.5999997854232788}, {'f1_seqeval': 0.0, 'f1_micro': 0.4000000000000001, 'f1 macro': 0.14285714285714288, 'accuracy': 0.4, 'loss': -0.3999999463558197}, {'f1_seqeval': 0.0, 'f1_micro': 0.20000000000000004, 'f1 macro': 0.06666666666666668, 'accuracy': 0.2, 'loss': -0.19999977946281433}, {'f1_seqeval': 0.0, 'f1_micro': 0.20000000000000004, 'f1 macro': 0.08333333333333334, 'accuracy': 0.2, 'loss': -0.20000000298023224}, {'f1_seqeval': 0.0, 'f1_micro': 0.4000000000000001, 'f1 macro': 0.14285714285714288, 'accuracy': 0.4, 'loss': -0.3999999761581421}, {'f1_seqeval': 0.0, 'f1_micro': 0.4000000000000001, 'f1 macro': 0.14285714285714288, 'accuracy': 0.4, 'loss': -0.4000000059604645}, {'f1_seqeval': 0.0, 'f1_micro': 0.8000000000000002, 'f1 macro': 0.4444444444444445, 'accuracy': 0.8, 'loss': -0.800000011920929}, {'f1_seqeval': 0.0, 'f1_micro': 0.8000000000000002, 'f1 macro': 0.4444444444444445, 'accuracy': 0.8, 'loss': -0.7999998927116394}, {'f1_seqeval': 0.0, 'f1_micro': 0.6, 'f1 macro': 0.24999999999999997, 'accuracy': 0.6, 'loss': -0.5999999046325684}, {'f1_seqeval': 0.0, 'f1_micro': 0.4000000000000001, 'f1 macro': 0.28571428571428575, 'accuracy': 0.4, 'loss': -0.3999999165534973}, {'f1_seqeval': 0.0, 'f1_micro': 0.4000000000000001, 'f1 macro': 0.14285714285714288, 'accuracy': 0.4, 'loss': -0.3999999463558197}, {'f1_seqeval': 0.0, 'f1_micro': 0.6, 'f1 macro': 0.24999999999999997, 'accuracy': 0.6, 'loss': -0.6000000238418579}, {'f1_seqeval': 0.0, 'f1_micro': 0.4000000000000001, 'f1 macro': 0.14285714285714288, 'accuracy': 0.4, 'loss': -0.4000000059604645}, {'f1_seqeval': 0.0, 'f1_micro': 0.4000000000000001, 'f1 macro': 0.1904761904761905, 'accuracy': 0.4, 'loss': -0.3999999463558197}, {'f1_seqeval': 0.0, 'f1_micro': 0.4000000000000001, 'f1 macro': 0.1904761904761905, 'accuracy': 0.4, 'loss': -0.3999999463558197}, {'f1_seqeval': 0.0, 'f1_micro': 0.20000000000000004, 'f1 macro': 0.08333333333333334, 'accuracy': 0.2, 'loss': -0.20000004768371582}, {'f1_seqeval': 0.0, 'f1_micro': 0.8000000000000002, 'f1 macro': 0.4444444444444445, 'accuracy': 0.8, 'loss': -0.7999998927116394}, {'f1_seqeval': 0.0, 'f1_micro': 0.8000000000000002, 'f1 macro': 0.4444444444444445, 'accuracy': 0.8, 'loss': -0.7999998331069946}, {'f1_seqeval': 0.0, 'f1_micro': 0.6, 'f1 macro': 0.37499999999999994, 'accuracy': 0.6, 'loss': -0.5999999642372131}, {'f1_seqeval': 0.0, 'f1_micro': 0.4000000000000001, 'f1 macro': 0.1904761904761905, 'accuracy': 0.4, 'loss': -0.3999999463558197}, {'f1_seqeval': 0.0, 'f1_micro': 0.8000000000000002, 'f1 macro': 0.4444444444444445, 'accuracy': 0.8, 'loss': -0.7999994158744812}, {'f1_seqeval': 0.0, 'f1_micro': 0.4000000000000001, 'f1 macro': 0.1904761904761905, 'accuracy': 0.4, 'loss': -0.3999999165534973}, {'f1_seqeval': 0.0, 'f1_micro': 0.6, 'f1 macro': 0.37499999999999994, 'accuracy': 0.6, 'loss': -0.5999996662139893}, {'f1_seqeval': 0.0, 'f1_micro': 0.6, 'f1 macro': 0.37499999999999994, 'accuracy': 0.6, 'loss': -0.5999999642372131}, {'f1_seqeval': 0.0, 'f1_micro': 0.4000000000000001, 'f1 macro': 0.1904761904761905, 'accuracy': 0.4, 'loss': -0.3999999463558197}, {'f1_seqeval': 0.0, 'f1_micro': 0.6, 'f1 macro': 0.24999999999999997, 'accuracy': 0.6, 'loss': -0.5999999046325684}, {'f1_seqeval': 0.0, 'f1_micro': 0.8000000000000002, 'f1 macro': 0.4444444444444445, 'accuracy': 0.8, 'loss': -0.7999997138977051}, {'f1_seqeval': 0.0, 'f1_micro': 0.8000000000000002, 'f1 macro': 0.4444444444444445, 'accuracy': 0.8, 'loss': -0.7999998331069946}, {'f1_seqeval': 0.0, 'f1_micro': 0.20000000000000004, 'f1 macro': 0.08333333333333334, 'accuracy': 0.2, 'loss': -0.20000000298023224}, {'f1_seqeval': 0.0, 'f1_micro': 0.4000000000000001, 'f1 macro': 0.14285714285714288, 'accuracy': 0.4, 'loss': -0.3999999463558197}, {'f1_seqeval': 0.0, 'f1_micro': 0.8000000000000002, 'f1 macro': 0.4444444444444445, 'accuracy': 0.8, 'loss': -0.7999998331069946}, {'f1_seqeval': 0.0, 'f1_micro': 0.6, 'f1 macro': 0.24999999999999997, 'accuracy': 0.6, 'loss': -0.5999999046325684}, {'f1_seqeval': 0.0, 'f1_micro': 0.4000000000000001, 'f1 macro': 0.14285714285714288, 'accuracy': 0.4, 'loss': -0.4000000059604645}, {'f1_seqeval': 0.0, 'f1_micro': 0.20000000000000004, 'f1 macro': 0.08333333333333334, 'accuracy': 0.2, 'loss': -0.20000004768371582}, {'f1_seqeval': 0.0, 'f1_micro': 0.4000000000000001, 'f1 macro': 0.1904761904761905, 'accuracy': 0.4, 'loss': -0.3999999463558197}, {'f1_seqeval': 0.0, 'f1_micro': 0.4000000000000001, 'f1 macro': 0.14285714285714288, 'accuracy': 0.4, 'loss': -0.3999999463558197}, {'f1_seqeval': 0.0, 'f1_micro': 0.20000000000000004, 'f1 macro': 0.11111111111111112, 'accuracy': 0.2, 'loss': -0.20000000298023224}, {'f1_seqeval': 0.0, 'f1_micro': 0.6, 'f1 macro': 0.24999999999999997, 'accuracy': 0.6, 'loss': -0.5999999046325684}, {'f1_seqeval': 0.0, 'f1_micro': 0.0, 'f1 macro': 0.0, 'accuracy': 0.0, 'loss': -7.902300325213218e-08}, {'f1_seqeval': 0.0, 'f1_micro': 0.4000000000000001, 'f1 macro': 0.1904761904761905, 'accuracy': 0.4, 'loss': -0.3999999463558197}, {'f1_seqeval': 0.0, 'f1_micro': 0.4000000000000001, 'f1 macro': 0.14285714285714288, 'accuracy': 0.4, 'loss': -0.3999999463558197}, {'f1_seqeval': 0.0, 'f1_micro': 0.20000000000000004, 'f1 macro': 0.08333333333333334, 'accuracy': 0.2, 'loss': -0.20000001788139343}, {'f1_seqeval': 0.0, 'f1_micro': 0.6, 'f1 macro': 0.24999999999999997, 'accuracy': 0.6, 'loss': -0.5999999046325684}, {'f1_seqeval': 0.0, 'f1_micro': 0.6, 'f1 macro': 0.24999999999999997, 'accuracy': 0.6, 'loss': -0.5999997854232788}, {'f1_seqeval': 0.0, 'f1_micro': 0.4000000000000001, 'f1 macro': 0.14285714285714288, 'accuracy': 0.4, 'loss': -0.3999999463558197}, {'f1_seqeval': 0.0, 'f1_micro': 0.4000000000000001, 'f1 macro': 0.14285714285714288, 'accuracy': 0.4, 'loss': -0.3999999761581421}, {'f1_seqeval': 0.0, 'f1_micro': 0.4000000000000001, 'f1 macro': 0.14285714285714288, 'accuracy': 0.4, 'loss': -0.4000000059604645}, {'f1_seqeval': 0.0, 'f1_micro': 0.20000000000000004, 'f1 macro': 0.08333333333333334, 'accuracy': 0.2, 'loss': -0.20000004768371582}, {'f1_seqeval': 0.0, 'f1_micro': 0.4000000000000001, 'f1 macro': 0.28571428571428575, 'accuracy': 0.4, 'loss': -0.39999982714653015}, {'f1_seqeval': 0.0, 'f1_micro': 0.20000000000000004, 'f1 macro': 0.11111111111111112, 'accuracy': 0.2, 'loss': -0.20000001788139343}, {'f1_seqeval': 0.0, 'f1_micro': 0.6, 'f1 macro': 0.37499999999999994, 'accuracy': 0.6, 'loss': -0.5999999642372131}, {'f1_seqeval': 0.0, 'f1_micro': 0.4000000000000001, 'f1 macro': 0.14285714285714288, 'accuracy': 0.4, 'loss': -0.4000000059604645}, {'f1_seqeval': 0.0, 'f1_micro': 0.4000000000000001, 'f1 macro': 0.1904761904761905, 'accuracy': 0.4, 'loss': -0.3999999761581421}, {'f1_seqeval': 0.0, 'f1_micro': 0.6, 'f1 macro': 0.37499999999999994, 'accuracy': 0.6, 'loss': -0.5999997854232788}, {'f1_seqeval': 0.0, 'f1_micro': 0.6, 'f1 macro': 0.37499999999999994, 'accuracy': 0.6, 'loss': -0.5999999046325684}, {'f1_seqeval': 0.0, 'f1_micro': 0.4000000000000001, 'f1 macro': 0.1904761904761905, 'accuracy': 0.4, 'loss': -0.3999999463558197}, {'f1_seqeval': 0.0, 'f1_micro': 0.20000000000000004, 'f1 macro': 0.08333333333333334, 'accuracy': 0.2, 'loss': -0.2000000923871994}, {'f1_seqeval': 0.0, 'f1_micro': 0.4000000000000001, 'f1 macro': 0.1904761904761905, 'accuracy': 0.4, 'loss': -0.4000000059604645}, {'f1_seqeval': 0.0, 'f1_micro': 0.4000000000000001, 'f1 macro': 0.1904761904761905, 'accuracy': 0.4, 'loss': -0.3999999761581421}, {'f1_seqeval': 0.0, 'f1_micro': 0.4000000000000001, 'f1 macro': 0.1904761904761905, 'accuracy': 0.4, 'loss': -0.3999999761581421}, {'f1_seqeval': 0.0, 'f1_micro': 0.4000000000000001, 'f1 macro': 0.1904761904761905, 'accuracy': 0.4, 'loss': -0.3999999165534973}, {'f1_seqeval': 0.0, 'f1_micro': 0.4000000000000001, 'f1 macro': 0.28571428571428575, 'accuracy': 0.4, 'loss': -0.3999999463558197}, {'f1_seqeval': 0.0, 'f1_micro': 0.6, 'f1 macro': 0.37499999999999994, 'accuracy': 0.6, 'loss': -0.5999999642372131}, {'f1_seqeval': 0.0, 'f1_micro': 0.4000000000000001, 'f1 macro': 0.1904761904761905, 'accuracy': 0.4, 'loss': -0.4000000059604645}]\n",
      "- Eval metrics : f1_seqeval: 0.020 ; f1_micro: 0.458 ; f1 macro: 0.237 ; accuracy: 0.458 ; loss: -0.458\n",
      "Epoch 7/10\n"
     ]
    },
    {
     "name": "stderr",
     "output_type": "stream",
     "text": [
      "100%|██████████| 990/990 [00:06<00:00, 161.53it/s, loss=-0.435]\n"
     ]
    },
    {
     "name": "stdout",
     "output_type": "stream",
     "text": [
      "- Train metrics: f1_seqeval: 0.020 ; f1_micro: 0.440 ; f1 macro: 0.224 ; accuracy: 0.440 ; loss: -0.440\n",
      "summ: [{'f1_seqeval': 0.0, 'f1_micro': 0.6, 'f1 macro': 0.24999999999999997, 'accuracy': 0.6, 'loss': -0.5999999046325684}, {'f1_seqeval': 0.0, 'f1_micro': 0.4000000000000001, 'f1 macro': 0.28571428571428575, 'accuracy': 0.4, 'loss': -0.4000000059604645}, {'f1_seqeval': 0.0, 'f1_micro': 0.20000000000000004, 'f1 macro': 0.11111111111111112, 'accuracy': 0.2, 'loss': -0.19999997317790985}, {'f1_seqeval': 0.0, 'f1_micro': 0.4000000000000001, 'f1 macro': 0.1904761904761905, 'accuracy': 0.4, 'loss': -0.4000000059604645}, {'f1_seqeval': 0.0, 'f1_micro': 0.20000000000000004, 'f1 macro': 0.11111111111111112, 'accuracy': 0.2, 'loss': -0.20000001788139343}, {'f1_seqeval': 0.0, 'f1_micro': 0.4000000000000001, 'f1 macro': 0.1904761904761905, 'accuracy': 0.4, 'loss': -0.3999999463558197}, {'f1_seqeval': 0.0, 'f1_micro': 0.8000000000000002, 'f1 macro': 0.4444444444444445, 'accuracy': 0.8, 'loss': -0.7999998927116394}, {'f1_seqeval': 0.0, 'f1_micro': 0.20000000000000004, 'f1 macro': 0.08333333333333334, 'accuracy': 0.2, 'loss': -0.20000000298023224}, {'f1_seqeval': 0.0, 'f1_micro': 0.4000000000000001, 'f1 macro': 0.1904761904761905, 'accuracy': 0.4, 'loss': -0.4000000059604645}, {'f1_seqeval': 0.0, 'f1_micro': 0.0, 'f1 macro': 0.0, 'accuracy': 0.0, 'loss': -3.081164123841518e-08}, {'f1_seqeval': 0.0, 'f1_micro': 0.8000000000000002, 'f1 macro': 0.4444444444444445, 'accuracy': 0.8, 'loss': -0.7999998927116394}, {'f1_seqeval': 0.0, 'f1_micro': 0.6, 'f1 macro': 0.24999999999999997, 'accuracy': 0.6, 'loss': -0.5999999046325684}, {'f1_seqeval': 1.0, 'f1_micro': 1.0, 'f1 macro': 1.0, 'accuracy': 1.0, 'loss': -1.0}, {'f1_seqeval': 1.0, 'f1_micro': 1.0, 'f1 macro': 1.0, 'accuracy': 1.0, 'loss': -1.0}, {'f1_seqeval': 0.0, 'f1_micro': 0.6, 'f1 macro': 0.24999999999999997, 'accuracy': 0.6, 'loss': -0.5999999046325684}, {'f1_seqeval': 0.0, 'f1_micro': 0.20000000000000004, 'f1 macro': 0.06666666666666668, 'accuracy': 0.2, 'loss': -0.20000000298023224}, {'f1_seqeval': 0.0, 'f1_micro': 0.6, 'f1 macro': 0.37499999999999994, 'accuracy': 0.6, 'loss': -0.5999999642372131}, {'f1_seqeval': 0.0, 'f1_micro': 0.20000000000000004, 'f1 macro': 0.08333333333333334, 'accuracy': 0.2, 'loss': -0.20000000298023224}, {'f1_seqeval': 0.0, 'f1_micro': 0.6, 'f1 macro': 0.24999999999999997, 'accuracy': 0.6, 'loss': -0.6000000238418579}, {'f1_seqeval': 0.0, 'f1_micro': 0.8000000000000002, 'f1 macro': 0.4444444444444445, 'accuracy': 0.8, 'loss': -0.7999998927116394}, {'f1_seqeval': 0.0, 'f1_micro': 0.6, 'f1 macro': 0.37499999999999994, 'accuracy': 0.6, 'loss': -0.6000000238418579}, {'f1_seqeval': 0.0, 'f1_micro': 0.6, 'f1 macro': 0.24999999999999997, 'accuracy': 0.6, 'loss': -0.6000000238418579}, {'f1_seqeval': 0.0, 'f1_micro': 0.20000000000000004, 'f1 macro': 0.08333333333333334, 'accuracy': 0.2, 'loss': -0.20000001788139343}, {'f1_seqeval': 0.0, 'f1_micro': 0.4000000000000001, 'f1 macro': 0.1904761904761905, 'accuracy': 0.4, 'loss': -0.4000000059604645}, {'f1_seqeval': 0.0, 'f1_micro': 0.20000000000000004, 'f1 macro': 0.08333333333333334, 'accuracy': 0.2, 'loss': -0.20000000298023224}, {'f1_seqeval': 0.0, 'f1_micro': 0.20000000000000004, 'f1 macro': 0.11111111111111112, 'accuracy': 0.2, 'loss': -0.19999998807907104}, {'f1_seqeval': 0.0, 'f1_micro': 0.20000000000000004, 'f1 macro': 0.11111111111111112, 'accuracy': 0.2, 'loss': -0.20000000298023224}, {'f1_seqeval': 0.0, 'f1_micro': 0.6, 'f1 macro': 0.37499999999999994, 'accuracy': 0.6, 'loss': -0.5999999046325684}, {'f1_seqeval': 0.0, 'f1_micro': 0.4000000000000001, 'f1 macro': 0.1904761904761905, 'accuracy': 0.4, 'loss': -0.4000000059604645}, {'f1_seqeval': 0.0, 'f1_micro': 0.8000000000000002, 'f1 macro': 0.4444444444444445, 'accuracy': 0.8, 'loss': -0.7999998927116394}, {'f1_seqeval': 0.0, 'f1_micro': 0.20000000000000004, 'f1 macro': 0.08333333333333334, 'accuracy': 0.2, 'loss': -0.20000000298023224}, {'f1_seqeval': 0.0, 'f1_micro': 0.6, 'f1 macro': 0.24999999999999997, 'accuracy': 0.6, 'loss': -0.5999999046325684}, {'f1_seqeval': 0.0, 'f1_micro': 0.20000000000000004, 'f1 macro': 0.08333333333333334, 'accuracy': 0.2, 'loss': -0.19999998807907104}, {'f1_seqeval': 0.0, 'f1_micro': 0.8000000000000002, 'f1 macro': 0.4444444444444445, 'accuracy': 0.8, 'loss': -0.800000011920929}, {'f1_seqeval': 0.0, 'f1_micro': 0.0, 'f1 macro': 0.0, 'accuracy': 0.0, 'loss': -1.1695599511085675e-07}, {'f1_seqeval': 0.0, 'f1_micro': 0.4000000000000001, 'f1 macro': 0.14285714285714288, 'accuracy': 0.4, 'loss': -0.3999999463558197}, {'f1_seqeval': 0.0, 'f1_micro': 0.6, 'f1 macro': 0.24999999999999997, 'accuracy': 0.6, 'loss': -0.5999998450279236}, {'f1_seqeval': 0.0, 'f1_micro': 0.4000000000000001, 'f1 macro': 0.14285714285714288, 'accuracy': 0.4, 'loss': -0.3999999761581421}, {'f1_seqeval': 0.0, 'f1_micro': 0.20000000000000004, 'f1 macro': 0.06666666666666668, 'accuracy': 0.2, 'loss': -0.1999998837709427}, {'f1_seqeval': 0.0, 'f1_micro': 0.20000000000000004, 'f1 macro': 0.08333333333333334, 'accuracy': 0.2, 'loss': -0.20000000298023224}, {'f1_seqeval': 0.0, 'f1_micro': 0.4000000000000001, 'f1 macro': 0.14285714285714288, 'accuracy': 0.4, 'loss': -0.4000000059604645}, {'f1_seqeval': 0.0, 'f1_micro': 0.4000000000000001, 'f1 macro': 0.14285714285714288, 'accuracy': 0.4, 'loss': -0.4000000059604645}, {'f1_seqeval': 0.0, 'f1_micro': 0.8000000000000002, 'f1 macro': 0.4444444444444445, 'accuracy': 0.8, 'loss': -0.800000011920929}, {'f1_seqeval': 0.0, 'f1_micro': 0.8000000000000002, 'f1 macro': 0.4444444444444445, 'accuracy': 0.8, 'loss': -0.7999998927116394}, {'f1_seqeval': 0.0, 'f1_micro': 0.6, 'f1 macro': 0.24999999999999997, 'accuracy': 0.6, 'loss': -0.5999999046325684}, {'f1_seqeval': 0.0, 'f1_micro': 0.4000000000000001, 'f1 macro': 0.28571428571428575, 'accuracy': 0.4, 'loss': -0.3999999463558197}, {'f1_seqeval': 0.0, 'f1_micro': 0.4000000000000001, 'f1 macro': 0.14285714285714288, 'accuracy': 0.4, 'loss': -0.3999999761581421}, {'f1_seqeval': 0.0, 'f1_micro': 0.6, 'f1 macro': 0.24999999999999997, 'accuracy': 0.6, 'loss': -0.6000000238418579}, {'f1_seqeval': 0.0, 'f1_micro': 0.4000000000000001, 'f1 macro': 0.14285714285714288, 'accuracy': 0.4, 'loss': -0.4000000059604645}, {'f1_seqeval': 0.0, 'f1_micro': 0.4000000000000001, 'f1 macro': 0.1904761904761905, 'accuracy': 0.4, 'loss': -0.3999999463558197}, {'f1_seqeval': 0.0, 'f1_micro': 0.4000000000000001, 'f1 macro': 0.1904761904761905, 'accuracy': 0.4, 'loss': -0.3999999761581421}, {'f1_seqeval': 0.0, 'f1_micro': 0.20000000000000004, 'f1 macro': 0.08333333333333334, 'accuracy': 0.2, 'loss': -0.20000000298023224}, {'f1_seqeval': 0.0, 'f1_micro': 0.8000000000000002, 'f1 macro': 0.4444444444444445, 'accuracy': 0.8, 'loss': -0.7999999523162842}, {'f1_seqeval': 0.0, 'f1_micro': 0.8000000000000002, 'f1 macro': 0.4444444444444445, 'accuracy': 0.8, 'loss': -0.7999998927116394}, {'f1_seqeval': 0.0, 'f1_micro': 0.6, 'f1 macro': 0.37499999999999994, 'accuracy': 0.6, 'loss': -0.6000000238418579}, {'f1_seqeval': 0.0, 'f1_micro': 0.4000000000000001, 'f1 macro': 0.1904761904761905, 'accuracy': 0.4, 'loss': -0.4000000059604645}, {'f1_seqeval': 0.0, 'f1_micro': 0.8000000000000002, 'f1 macro': 0.4444444444444445, 'accuracy': 0.8, 'loss': -0.7999995946884155}, {'f1_seqeval': 0.0, 'f1_micro': 0.4000000000000001, 'f1 macro': 0.1904761904761905, 'accuracy': 0.4, 'loss': -0.3999999463558197}, {'f1_seqeval': 0.0, 'f1_micro': 0.6, 'f1 macro': 0.37499999999999994, 'accuracy': 0.6, 'loss': -0.5999997854232788}, {'f1_seqeval': 0.0, 'f1_micro': 0.6, 'f1 macro': 0.37499999999999994, 'accuracy': 0.6, 'loss': -0.6000000238418579}, {'f1_seqeval': 0.0, 'f1_micro': 0.4000000000000001, 'f1 macro': 0.1904761904761905, 'accuracy': 0.4, 'loss': -0.4000000059604645}, {'f1_seqeval': 0.0, 'f1_micro': 0.6, 'f1 macro': 0.24999999999999997, 'accuracy': 0.6, 'loss': -0.5999999046325684}, {'f1_seqeval': 0.0, 'f1_micro': 0.8000000000000002, 'f1 macro': 0.4444444444444445, 'accuracy': 0.8, 'loss': -0.7999998331069946}, {'f1_seqeval': 0.0, 'f1_micro': 0.8000000000000002, 'f1 macro': 0.4444444444444445, 'accuracy': 0.8, 'loss': -0.7999998927116394}, {'f1_seqeval': 0.0, 'f1_micro': 0.20000000000000004, 'f1 macro': 0.08333333333333334, 'accuracy': 0.2, 'loss': -0.19999998807907104}, {'f1_seqeval': 0.0, 'f1_micro': 0.4000000000000001, 'f1 macro': 0.14285714285714288, 'accuracy': 0.4, 'loss': -0.3999999761581421}, {'f1_seqeval': 0.0, 'f1_micro': 0.8000000000000002, 'f1 macro': 0.4444444444444445, 'accuracy': 0.8, 'loss': -0.7999998927116394}, {'f1_seqeval': 0.0, 'f1_micro': 0.6, 'f1 macro': 0.24999999999999997, 'accuracy': 0.6, 'loss': -0.5999999046325684}, {'f1_seqeval': 0.0, 'f1_micro': 0.4000000000000001, 'f1 macro': 0.14285714285714288, 'accuracy': 0.4, 'loss': -0.4000000059604645}, {'f1_seqeval': 0.0, 'f1_micro': 0.20000000000000004, 'f1 macro': 0.08333333333333334, 'accuracy': 0.2, 'loss': -0.20000001788139343}, {'f1_seqeval': 0.0, 'f1_micro': 0.4000000000000001, 'f1 macro': 0.1904761904761905, 'accuracy': 0.4, 'loss': -0.3999999761581421}, {'f1_seqeval': 0.0, 'f1_micro': 0.4000000000000001, 'f1 macro': 0.14285714285714288, 'accuracy': 0.4, 'loss': -0.3999999463558197}, {'f1_seqeval': 0.0, 'f1_micro': 0.20000000000000004, 'f1 macro': 0.11111111111111112, 'accuracy': 0.2, 'loss': -0.20000000298023224}, {'f1_seqeval': 0.0, 'f1_micro': 0.6, 'f1 macro': 0.24999999999999997, 'accuracy': 0.6, 'loss': -0.6000000238418579}, {'f1_seqeval': 0.0, 'f1_micro': 0.0, 'f1 macro': 0.0, 'accuracy': 0.0, 'loss': -4.530703989757967e-08}, {'f1_seqeval': 0.0, 'f1_micro': 0.4000000000000001, 'f1 macro': 0.1904761904761905, 'accuracy': 0.4, 'loss': -0.4000000059604645}, {'f1_seqeval': 0.0, 'f1_micro': 0.4000000000000001, 'f1 macro': 0.14285714285714288, 'accuracy': 0.4, 'loss': -0.4000000059604645}, {'f1_seqeval': 0.0, 'f1_micro': 0.20000000000000004, 'f1 macro': 0.08333333333333334, 'accuracy': 0.2, 'loss': -0.20000001788139343}, {'f1_seqeval': 0.0, 'f1_micro': 0.6, 'f1 macro': 0.24999999999999997, 'accuracy': 0.6, 'loss': -0.6000000238418579}, {'f1_seqeval': 0.0, 'f1_micro': 0.6, 'f1 macro': 0.24999999999999997, 'accuracy': 0.6, 'loss': -0.5999997854232788}, {'f1_seqeval': 0.0, 'f1_micro': 0.4000000000000001, 'f1 macro': 0.14285714285714288, 'accuracy': 0.4, 'loss': -0.3999999463558197}, {'f1_seqeval': 0.0, 'f1_micro': 0.4000000000000001, 'f1 macro': 0.14285714285714288, 'accuracy': 0.4, 'loss': -0.4000000059604645}, {'f1_seqeval': 0.0, 'f1_micro': 0.4000000000000001, 'f1 macro': 0.14285714285714288, 'accuracy': 0.4, 'loss': -0.3999999761581421}, {'f1_seqeval': 0.0, 'f1_micro': 0.20000000000000004, 'f1 macro': 0.08333333333333334, 'accuracy': 0.2, 'loss': -0.20000001788139343}, {'f1_seqeval': 0.0, 'f1_micro': 0.4000000000000001, 'f1 macro': 0.28571428571428575, 'accuracy': 0.4, 'loss': -0.3999999165534973}, {'f1_seqeval': 0.0, 'f1_micro': 0.20000000000000004, 'f1 macro': 0.11111111111111112, 'accuracy': 0.2, 'loss': -0.20000000298023224}, {'f1_seqeval': 0.0, 'f1_micro': 0.6, 'f1 macro': 0.37499999999999994, 'accuracy': 0.6, 'loss': -0.6000000238418579}, {'f1_seqeval': 0.0, 'f1_micro': 0.4000000000000001, 'f1 macro': 0.14285714285714288, 'accuracy': 0.4, 'loss': -0.4000000059604645}, {'f1_seqeval': 0.0, 'f1_micro': 0.4000000000000001, 'f1 macro': 0.1904761904761905, 'accuracy': 0.4, 'loss': -0.3999999463558197}, {'f1_seqeval': 0.0, 'f1_micro': 0.6, 'f1 macro': 0.37499999999999994, 'accuracy': 0.6, 'loss': -0.5999998450279236}, {'f1_seqeval': 0.0, 'f1_micro': 0.6, 'f1 macro': 0.37499999999999994, 'accuracy': 0.6, 'loss': -0.6000000238418579}, {'f1_seqeval': 0.0, 'f1_micro': 0.4000000000000001, 'f1 macro': 0.1904761904761905, 'accuracy': 0.4, 'loss': -0.3999999463558197}, {'f1_seqeval': 0.0, 'f1_micro': 0.20000000000000004, 'f1 macro': 0.08333333333333334, 'accuracy': 0.2, 'loss': -0.20000004768371582}, {'f1_seqeval': 0.0, 'f1_micro': 0.4000000000000001, 'f1 macro': 0.1904761904761905, 'accuracy': 0.4, 'loss': -0.4000000059604645}, {'f1_seqeval': 0.0, 'f1_micro': 0.4000000000000001, 'f1 macro': 0.1904761904761905, 'accuracy': 0.4, 'loss': -0.3999999761581421}, {'f1_seqeval': 0.0, 'f1_micro': 0.4000000000000001, 'f1 macro': 0.1904761904761905, 'accuracy': 0.4, 'loss': -0.3999999463558197}, {'f1_seqeval': 0.0, 'f1_micro': 0.4000000000000001, 'f1 macro': 0.1904761904761905, 'accuracy': 0.4, 'loss': -0.3999999761581421}, {'f1_seqeval': 0.0, 'f1_micro': 0.4000000000000001, 'f1 macro': 0.28571428571428575, 'accuracy': 0.4, 'loss': -0.4000000059604645}, {'f1_seqeval': 0.0, 'f1_micro': 0.6, 'f1 macro': 0.37499999999999994, 'accuracy': 0.6, 'loss': -0.5999999046325684}, {'f1_seqeval': 0.0, 'f1_micro': 0.4000000000000001, 'f1 macro': 0.1904761904761905, 'accuracy': 0.4, 'loss': -0.4000000059604645}]\n",
      "- Eval metrics : f1_seqeval: 0.020 ; f1_micro: 0.458 ; f1 macro: 0.237 ; accuracy: 0.458 ; loss: -0.458\n",
      "Epoch 8/10\n"
     ]
    },
    {
     "name": "stderr",
     "output_type": "stream",
     "text": [
      "100%|██████████| 990/990 [00:06<00:00, 160.98it/s, loss=-0.435]\n"
     ]
    },
    {
     "name": "stdout",
     "output_type": "stream",
     "text": [
      "- Train metrics: f1_seqeval: 0.020 ; f1_micro: 0.440 ; f1 macro: 0.224 ; accuracy: 0.440 ; loss: -0.440\n",
      "summ: [{'f1_seqeval': 0.0, 'f1_micro': 0.6, 'f1 macro': 0.24999999999999997, 'accuracy': 0.6, 'loss': -0.5999999046325684}, {'f1_seqeval': 0.0, 'f1_micro': 0.4000000000000001, 'f1 macro': 0.28571428571428575, 'accuracy': 0.4, 'loss': -0.4000000059604645}, {'f1_seqeval': 0.0, 'f1_micro': 0.20000000000000004, 'f1 macro': 0.11111111111111112, 'accuracy': 0.2, 'loss': -0.20000000298023224}, {'f1_seqeval': 0.0, 'f1_micro': 0.4000000000000001, 'f1 macro': 0.1904761904761905, 'accuracy': 0.4, 'loss': -0.4000000059604645}, {'f1_seqeval': 0.0, 'f1_micro': 0.20000000000000004, 'f1 macro': 0.11111111111111112, 'accuracy': 0.2, 'loss': -0.20000000298023224}, {'f1_seqeval': 0.0, 'f1_micro': 0.4000000000000001, 'f1 macro': 0.1904761904761905, 'accuracy': 0.4, 'loss': -0.4000000059604645}, {'f1_seqeval': 0.0, 'f1_micro': 0.8000000000000002, 'f1 macro': 0.4444444444444445, 'accuracy': 0.8, 'loss': -0.800000011920929}, {'f1_seqeval': 0.0, 'f1_micro': 0.20000000000000004, 'f1 macro': 0.08333333333333334, 'accuracy': 0.2, 'loss': -0.19999998807907104}, {'f1_seqeval': 0.0, 'f1_micro': 0.4000000000000001, 'f1 macro': 0.1904761904761905, 'accuracy': 0.4, 'loss': -0.4000000059604645}, {'f1_seqeval': 0.0, 'f1_micro': 0.0, 'f1 macro': 0.0, 'accuracy': 0.0, 'loss': -1.848641417723229e-08}, {'f1_seqeval': 0.0, 'f1_micro': 0.8000000000000002, 'f1 macro': 0.4444444444444445, 'accuracy': 0.8, 'loss': -0.800000011920929}, {'f1_seqeval': 0.0, 'f1_micro': 0.6, 'f1 macro': 0.24999999999999997, 'accuracy': 0.6, 'loss': -0.5999999046325684}, {'f1_seqeval': 1.0, 'f1_micro': 1.0, 'f1 macro': 1.0, 'accuracy': 1.0, 'loss': -1.0}, {'f1_seqeval': 1.0, 'f1_micro': 1.0, 'f1 macro': 1.0, 'accuracy': 1.0, 'loss': -1.0}, {'f1_seqeval': 0.0, 'f1_micro': 0.6, 'f1 macro': 0.24999999999999997, 'accuracy': 0.6, 'loss': -0.5999999046325684}, {'f1_seqeval': 0.0, 'f1_micro': 0.20000000000000004, 'f1 macro': 0.06666666666666668, 'accuracy': 0.2, 'loss': -0.20000000298023224}, {'f1_seqeval': 0.0, 'f1_micro': 0.6, 'f1 macro': 0.37499999999999994, 'accuracy': 0.6, 'loss': -0.5999999046325684}, {'f1_seqeval': 0.0, 'f1_micro': 0.20000000000000004, 'f1 macro': 0.08333333333333334, 'accuracy': 0.2, 'loss': -0.20000000298023224}, {'f1_seqeval': 0.0, 'f1_micro': 0.6, 'f1 macro': 0.24999999999999997, 'accuracy': 0.6, 'loss': -0.6000000238418579}, {'f1_seqeval': 0.0, 'f1_micro': 0.8000000000000002, 'f1 macro': 0.4444444444444445, 'accuracy': 0.8, 'loss': -0.7999998927116394}, {'f1_seqeval': 0.0, 'f1_micro': 0.6, 'f1 macro': 0.37499999999999994, 'accuracy': 0.6, 'loss': -0.6000000238418579}, {'f1_seqeval': 0.0, 'f1_micro': 0.6, 'f1 macro': 0.24999999999999997, 'accuracy': 0.6, 'loss': -0.6000000238418579}, {'f1_seqeval': 0.0, 'f1_micro': 0.20000000000000004, 'f1 macro': 0.08333333333333334, 'accuracy': 0.2, 'loss': -0.20000000298023224}, {'f1_seqeval': 0.0, 'f1_micro': 0.4000000000000001, 'f1 macro': 0.1904761904761905, 'accuracy': 0.4, 'loss': -0.4000000059604645}, {'f1_seqeval': 0.0, 'f1_micro': 0.20000000000000004, 'f1 macro': 0.08333333333333334, 'accuracy': 0.2, 'loss': -0.20000000298023224}, {'f1_seqeval': 0.0, 'f1_micro': 0.20000000000000004, 'f1 macro': 0.11111111111111112, 'accuracy': 0.2, 'loss': -0.19999998807907104}, {'f1_seqeval': 0.0, 'f1_micro': 0.20000000000000004, 'f1 macro': 0.11111111111111112, 'accuracy': 0.2, 'loss': -0.20000000298023224}, {'f1_seqeval': 0.0, 'f1_micro': 0.6, 'f1 macro': 0.37499999999999994, 'accuracy': 0.6, 'loss': -0.5999999642372131}, {'f1_seqeval': 0.0, 'f1_micro': 0.4000000000000001, 'f1 macro': 0.1904761904761905, 'accuracy': 0.4, 'loss': -0.4000000059604645}, {'f1_seqeval': 0.0, 'f1_micro': 0.8000000000000002, 'f1 macro': 0.4444444444444445, 'accuracy': 0.8, 'loss': -0.7999998927116394}, {'f1_seqeval': 0.0, 'f1_micro': 0.20000000000000004, 'f1 macro': 0.08333333333333334, 'accuracy': 0.2, 'loss': -0.20000000298023224}, {'f1_seqeval': 0.0, 'f1_micro': 0.6, 'f1 macro': 0.24999999999999997, 'accuracy': 0.6, 'loss': -0.6000000238418579}, {'f1_seqeval': 0.0, 'f1_micro': 0.20000000000000004, 'f1 macro': 0.08333333333333334, 'accuracy': 0.2, 'loss': -0.19999997317790985}, {'f1_seqeval': 0.0, 'f1_micro': 0.8000000000000002, 'f1 macro': 0.4444444444444445, 'accuracy': 0.8, 'loss': -0.800000011920929}, {'f1_seqeval': 0.0, 'f1_micro': 0.0, 'f1 macro': 0.0, 'accuracy': 0.0, 'loss': -7.139281166246292e-08}, {'f1_seqeval': 0.0, 'f1_micro': 0.4000000000000001, 'f1 macro': 0.14285714285714288, 'accuracy': 0.4, 'loss': -0.3999999761581421}, {'f1_seqeval': 0.0, 'f1_micro': 0.6, 'f1 macro': 0.24999999999999997, 'accuracy': 0.6, 'loss': -0.5999999046325684}, {'f1_seqeval': 0.0, 'f1_micro': 0.4000000000000001, 'f1 macro': 0.14285714285714288, 'accuracy': 0.4, 'loss': -0.3999999463558197}, {'f1_seqeval': 0.0, 'f1_micro': 0.20000000000000004, 'f1 macro': 0.06666666666666668, 'accuracy': 0.2, 'loss': -0.19999991357326508}, {'f1_seqeval': 0.0, 'f1_micro': 0.20000000000000004, 'f1 macro': 0.08333333333333334, 'accuracy': 0.2, 'loss': -0.20000000298023224}, {'f1_seqeval': 0.0, 'f1_micro': 0.4000000000000001, 'f1 macro': 0.14285714285714288, 'accuracy': 0.4, 'loss': -0.3999999761581421}, {'f1_seqeval': 0.0, 'f1_micro': 0.4000000000000001, 'f1 macro': 0.14285714285714288, 'accuracy': 0.4, 'loss': -0.3999999761581421}, {'f1_seqeval': 0.0, 'f1_micro': 0.8000000000000002, 'f1 macro': 0.4444444444444445, 'accuracy': 0.8, 'loss': -0.800000011920929}, {'f1_seqeval': 0.0, 'f1_micro': 0.8000000000000002, 'f1 macro': 0.4444444444444445, 'accuracy': 0.8, 'loss': -0.800000011920929}, {'f1_seqeval': 0.0, 'f1_micro': 0.6, 'f1 macro': 0.24999999999999997, 'accuracy': 0.6, 'loss': -0.5999999046325684}, {'f1_seqeval': 0.0, 'f1_micro': 0.4000000000000001, 'f1 macro': 0.28571428571428575, 'accuracy': 0.4, 'loss': -0.3999999463558197}, {'f1_seqeval': 0.0, 'f1_micro': 0.4000000000000001, 'f1 macro': 0.14285714285714288, 'accuracy': 0.4, 'loss': -0.4000000059604645}, {'f1_seqeval': 0.0, 'f1_micro': 0.6, 'f1 macro': 0.24999999999999997, 'accuracy': 0.6, 'loss': -0.6000000238418579}, {'f1_seqeval': 0.0, 'f1_micro': 0.4000000000000001, 'f1 macro': 0.14285714285714288, 'accuracy': 0.4, 'loss': -0.4000000059604645}, {'f1_seqeval': 0.0, 'f1_micro': 0.4000000000000001, 'f1 macro': 0.1904761904761905, 'accuracy': 0.4, 'loss': -0.3999999761581421}, {'f1_seqeval': 0.0, 'f1_micro': 0.4000000000000001, 'f1 macro': 0.1904761904761905, 'accuracy': 0.4, 'loss': -0.4000000059604645}, {'f1_seqeval': 0.0, 'f1_micro': 0.20000000000000004, 'f1 macro': 0.08333333333333334, 'accuracy': 0.2, 'loss': -0.20000000298023224}, {'f1_seqeval': 0.0, 'f1_micro': 0.8000000000000002, 'f1 macro': 0.4444444444444445, 'accuracy': 0.8, 'loss': -0.800000011920929}, {'f1_seqeval': 0.0, 'f1_micro': 0.8000000000000002, 'f1 macro': 0.4444444444444445, 'accuracy': 0.8, 'loss': -0.7999998927116394}, {'f1_seqeval': 0.0, 'f1_micro': 0.6, 'f1 macro': 0.37499999999999994, 'accuracy': 0.6, 'loss': -0.6000000238418579}, {'f1_seqeval': 0.0, 'f1_micro': 0.4000000000000001, 'f1 macro': 0.1904761904761905, 'accuracy': 0.4, 'loss': -0.4000000059604645}, {'f1_seqeval': 0.0, 'f1_micro': 0.8000000000000002, 'f1 macro': 0.4444444444444445, 'accuracy': 0.8, 'loss': -0.7999997735023499}, {'f1_seqeval': 0.0, 'f1_micro': 0.4000000000000001, 'f1 macro': 0.1904761904761905, 'accuracy': 0.4, 'loss': -0.3999999463558197}, {'f1_seqeval': 0.0, 'f1_micro': 0.6, 'f1 macro': 0.37499999999999994, 'accuracy': 0.6, 'loss': -0.5999999046325684}, {'f1_seqeval': 0.0, 'f1_micro': 0.6, 'f1 macro': 0.37499999999999994, 'accuracy': 0.6, 'loss': -0.6000000238418579}, {'f1_seqeval': 0.0, 'f1_micro': 0.4000000000000001, 'f1 macro': 0.1904761904761905, 'accuracy': 0.4, 'loss': -0.4000000059604645}, {'f1_seqeval': 0.0, 'f1_micro': 0.6, 'f1 macro': 0.24999999999999997, 'accuracy': 0.6, 'loss': -0.5999999642372131}, {'f1_seqeval': 0.0, 'f1_micro': 0.8000000000000002, 'f1 macro': 0.4444444444444445, 'accuracy': 0.8, 'loss': -0.7999998331069946}, {'f1_seqeval': 0.0, 'f1_micro': 0.8000000000000002, 'f1 macro': 0.4444444444444445, 'accuracy': 0.8, 'loss': -0.7999998927116394}, {'f1_seqeval': 0.0, 'f1_micro': 0.20000000000000004, 'f1 macro': 0.08333333333333334, 'accuracy': 0.2, 'loss': -0.20000000298023224}, {'f1_seqeval': 0.0, 'f1_micro': 0.4000000000000001, 'f1 macro': 0.14285714285714288, 'accuracy': 0.4, 'loss': -0.3999999463558197}, {'f1_seqeval': 0.0, 'f1_micro': 0.8000000000000002, 'f1 macro': 0.4444444444444445, 'accuracy': 0.8, 'loss': -0.7999998927116394}, {'f1_seqeval': 0.0, 'f1_micro': 0.6, 'f1 macro': 0.24999999999999997, 'accuracy': 0.6, 'loss': -0.6000000238418579}, {'f1_seqeval': 0.0, 'f1_micro': 0.4000000000000001, 'f1 macro': 0.14285714285714288, 'accuracy': 0.4, 'loss': -0.4000000059604645}, {'f1_seqeval': 0.0, 'f1_micro': 0.20000000000000004, 'f1 macro': 0.08333333333333334, 'accuracy': 0.2, 'loss': -0.20000001788139343}, {'f1_seqeval': 0.0, 'f1_micro': 0.4000000000000001, 'f1 macro': 0.1904761904761905, 'accuracy': 0.4, 'loss': -0.3999999761581421}, {'f1_seqeval': 0.0, 'f1_micro': 0.4000000000000001, 'f1 macro': 0.14285714285714288, 'accuracy': 0.4, 'loss': -0.4000000059604645}, {'f1_seqeval': 0.0, 'f1_micro': 0.20000000000000004, 'f1 macro': 0.11111111111111112, 'accuracy': 0.2, 'loss': -0.20000000298023224}, {'f1_seqeval': 0.0, 'f1_micro': 0.6, 'f1 macro': 0.24999999999999997, 'accuracy': 0.6, 'loss': -0.6000000238418579}, {'f1_seqeval': 0.0, 'f1_micro': 0.0, 'f1 macro': 0.0, 'accuracy': 0.0, 'loss': -2.707874635632379e-08}, {'f1_seqeval': 0.0, 'f1_micro': 0.4000000000000001, 'f1 macro': 0.1904761904761905, 'accuracy': 0.4, 'loss': -0.4000000059604645}, {'f1_seqeval': 0.0, 'f1_micro': 0.4000000000000001, 'f1 macro': 0.14285714285714288, 'accuracy': 0.4, 'loss': -0.4000000059604645}, {'f1_seqeval': 0.0, 'f1_micro': 0.20000000000000004, 'f1 macro': 0.08333333333333334, 'accuracy': 0.2, 'loss': -0.20000001788139343}, {'f1_seqeval': 0.0, 'f1_micro': 0.6, 'f1 macro': 0.24999999999999997, 'accuracy': 0.6, 'loss': -0.6000000238418579}, {'f1_seqeval': 0.0, 'f1_micro': 0.6, 'f1 macro': 0.24999999999999997, 'accuracy': 0.6, 'loss': -0.5999999046325684}, {'f1_seqeval': 0.0, 'f1_micro': 0.4000000000000001, 'f1 macro': 0.14285714285714288, 'accuracy': 0.4, 'loss': -0.3999999463558197}, {'f1_seqeval': 0.0, 'f1_micro': 0.4000000000000001, 'f1 macro': 0.14285714285714288, 'accuracy': 0.4, 'loss': -0.4000000059604645}, {'f1_seqeval': 0.0, 'f1_micro': 0.4000000000000001, 'f1 macro': 0.14285714285714288, 'accuracy': 0.4, 'loss': -0.4000000059604645}, {'f1_seqeval': 0.0, 'f1_micro': 0.20000000000000004, 'f1 macro': 0.08333333333333334, 'accuracy': 0.2, 'loss': -0.20000000298023224}, {'f1_seqeval': 0.0, 'f1_micro': 0.4000000000000001, 'f1 macro': 0.28571428571428575, 'accuracy': 0.4, 'loss': -0.3999999463558197}, {'f1_seqeval': 0.0, 'f1_micro': 0.20000000000000004, 'f1 macro': 0.11111111111111112, 'accuracy': 0.2, 'loss': -0.20000000298023224}, {'f1_seqeval': 0.0, 'f1_micro': 0.6, 'f1 macro': 0.37499999999999994, 'accuracy': 0.6, 'loss': -0.6000000238418579}, {'f1_seqeval': 0.0, 'f1_micro': 0.4000000000000001, 'f1 macro': 0.14285714285714288, 'accuracy': 0.4, 'loss': -0.4000000059604645}, {'f1_seqeval': 0.0, 'f1_micro': 0.4000000000000001, 'f1 macro': 0.1904761904761905, 'accuracy': 0.4, 'loss': -0.4000000059604645}, {'f1_seqeval': 0.0, 'f1_micro': 0.6, 'f1 macro': 0.37499999999999994, 'accuracy': 0.6, 'loss': -0.5999999046325684}, {'f1_seqeval': 0.0, 'f1_micro': 0.6, 'f1 macro': 0.37499999999999994, 'accuracy': 0.6, 'loss': -0.6000000238418579}, {'f1_seqeval': 0.0, 'f1_micro': 0.4000000000000001, 'f1 macro': 0.1904761904761905, 'accuracy': 0.4, 'loss': -0.3999999761581421}, {'f1_seqeval': 0.0, 'f1_micro': 0.20000000000000004, 'f1 macro': 0.08333333333333334, 'accuracy': 0.2, 'loss': -0.20000000298023224}, {'f1_seqeval': 0.0, 'f1_micro': 0.4000000000000001, 'f1 macro': 0.1904761904761905, 'accuracy': 0.4, 'loss': -0.4000000059604645}, {'f1_seqeval': 0.0, 'f1_micro': 0.4000000000000001, 'f1 macro': 0.1904761904761905, 'accuracy': 0.4, 'loss': -0.4000000059604645}, {'f1_seqeval': 0.0, 'f1_micro': 0.4000000000000001, 'f1 macro': 0.1904761904761905, 'accuracy': 0.4, 'loss': -0.4000000059604645}, {'f1_seqeval': 0.0, 'f1_micro': 0.4000000000000001, 'f1 macro': 0.1904761904761905, 'accuracy': 0.4, 'loss': -0.3999999761581421}, {'f1_seqeval': 0.0, 'f1_micro': 0.4000000000000001, 'f1 macro': 0.28571428571428575, 'accuracy': 0.4, 'loss': -0.4000000059604645}, {'f1_seqeval': 0.0, 'f1_micro': 0.6, 'f1 macro': 0.37499999999999994, 'accuracy': 0.6, 'loss': -0.6000000238418579}, {'f1_seqeval': 0.0, 'f1_micro': 0.4000000000000001, 'f1 macro': 0.1904761904761905, 'accuracy': 0.4, 'loss': -0.4000000059604645}]\n",
      "- Eval metrics : f1_seqeval: 0.020 ; f1_micro: 0.458 ; f1 macro: 0.237 ; accuracy: 0.458 ; loss: -0.458\n",
      "Epoch 9/10\n"
     ]
    },
    {
     "name": "stderr",
     "output_type": "stream",
     "text": [
      "100%|██████████| 990/990 [00:06<00:00, 159.43it/s, loss=-0.435]\n"
     ]
    },
    {
     "name": "stdout",
     "output_type": "stream",
     "text": [
      "- Train metrics: f1_seqeval: 0.020 ; f1_micro: 0.440 ; f1 macro: 0.224 ; accuracy: 0.440 ; loss: -0.440\n",
      "summ: [{'f1_seqeval': 0.0, 'f1_micro': 0.6, 'f1 macro': 0.24999999999999997, 'accuracy': 0.6, 'loss': -0.6000000238418579}, {'f1_seqeval': 0.0, 'f1_micro': 0.4000000000000001, 'f1 macro': 0.28571428571428575, 'accuracy': 0.4, 'loss': -0.4000000059604645}, {'f1_seqeval': 0.0, 'f1_micro': 0.20000000000000004, 'f1 macro': 0.11111111111111112, 'accuracy': 0.2, 'loss': -0.20000000298023224}, {'f1_seqeval': 0.0, 'f1_micro': 0.4000000000000001, 'f1 macro': 0.1904761904761905, 'accuracy': 0.4, 'loss': -0.4000000059604645}, {'f1_seqeval': 0.0, 'f1_micro': 0.20000000000000004, 'f1 macro': 0.11111111111111112, 'accuracy': 0.2, 'loss': -0.20000000298023224}, {'f1_seqeval': 0.0, 'f1_micro': 0.4000000000000001, 'f1 macro': 0.1904761904761905, 'accuracy': 0.4, 'loss': -0.4000000059604645}, {'f1_seqeval': 0.0, 'f1_micro': 0.8000000000000002, 'f1 macro': 0.4444444444444445, 'accuracy': 0.8, 'loss': -0.800000011920929}, {'f1_seqeval': 0.0, 'f1_micro': 0.20000000000000004, 'f1 macro': 0.08333333333333334, 'accuracy': 0.2, 'loss': -0.20000000298023224}, {'f1_seqeval': 0.0, 'f1_micro': 0.4000000000000001, 'f1 macro': 0.1904761904761905, 'accuracy': 0.4, 'loss': -0.4000000059604645}, {'f1_seqeval': 0.0, 'f1_micro': 0.0, 'f1 macro': 0.0, 'accuracy': 0.0, 'loss': -1.1543312972150943e-08}, {'f1_seqeval': 0.0, 'f1_micro': 0.8000000000000002, 'f1 macro': 0.4444444444444445, 'accuracy': 0.8, 'loss': -0.800000011920929}, {'f1_seqeval': 0.0, 'f1_micro': 0.6, 'f1 macro': 0.24999999999999997, 'accuracy': 0.6, 'loss': -0.5999999642372131}, {'f1_seqeval': 1.0, 'f1_micro': 1.0, 'f1 macro': 1.0, 'accuracy': 1.0, 'loss': -1.0}, {'f1_seqeval': 1.0, 'f1_micro': 1.0, 'f1 macro': 1.0, 'accuracy': 1.0, 'loss': -1.0}, {'f1_seqeval': 0.0, 'f1_micro': 0.6, 'f1 macro': 0.24999999999999997, 'accuracy': 0.6, 'loss': -0.6000000238418579}, {'f1_seqeval': 0.0, 'f1_micro': 0.20000000000000004, 'f1 macro': 0.06666666666666668, 'accuracy': 0.2, 'loss': -0.20000000298023224}, {'f1_seqeval': 0.0, 'f1_micro': 0.6, 'f1 macro': 0.37499999999999994, 'accuracy': 0.6, 'loss': -0.6000000238418579}, {'f1_seqeval': 0.0, 'f1_micro': 0.20000000000000004, 'f1 macro': 0.08333333333333334, 'accuracy': 0.2, 'loss': -0.19999998807907104}, {'f1_seqeval': 0.0, 'f1_micro': 0.6, 'f1 macro': 0.24999999999999997, 'accuracy': 0.6, 'loss': -0.6000000238418579}, {'f1_seqeval': 0.0, 'f1_micro': 0.8000000000000002, 'f1 macro': 0.4444444444444445, 'accuracy': 0.8, 'loss': -0.7999999523162842}, {'f1_seqeval': 0.0, 'f1_micro': 0.6, 'f1 macro': 0.37499999999999994, 'accuracy': 0.6, 'loss': -0.6000000238418579}, {'f1_seqeval': 0.0, 'f1_micro': 0.6, 'f1 macro': 0.24999999999999997, 'accuracy': 0.6, 'loss': -0.6000000238418579}, {'f1_seqeval': 0.0, 'f1_micro': 0.20000000000000004, 'f1 macro': 0.08333333333333334, 'accuracy': 0.2, 'loss': -0.20000000298023224}, {'f1_seqeval': 0.0, 'f1_micro': 0.4000000000000001, 'f1 macro': 0.1904761904761905, 'accuracy': 0.4, 'loss': -0.4000000059604645}, {'f1_seqeval': 0.0, 'f1_micro': 0.20000000000000004, 'f1 macro': 0.08333333333333334, 'accuracy': 0.2, 'loss': -0.20000000298023224}, {'f1_seqeval': 0.0, 'f1_micro': 0.20000000000000004, 'f1 macro': 0.11111111111111112, 'accuracy': 0.2, 'loss': -0.20000000298023224}, {'f1_seqeval': 0.0, 'f1_micro': 0.20000000000000004, 'f1 macro': 0.11111111111111112, 'accuracy': 0.2, 'loss': -0.20000000298023224}, {'f1_seqeval': 0.0, 'f1_micro': 0.6, 'f1 macro': 0.37499999999999994, 'accuracy': 0.6, 'loss': -0.5999999046325684}, {'f1_seqeval': 0.0, 'f1_micro': 0.4000000000000001, 'f1 macro': 0.1904761904761905, 'accuracy': 0.4, 'loss': -0.4000000059604645}, {'f1_seqeval': 0.0, 'f1_micro': 0.8000000000000002, 'f1 macro': 0.4444444444444445, 'accuracy': 0.8, 'loss': -0.7999999523162842}, {'f1_seqeval': 0.0, 'f1_micro': 0.20000000000000004, 'f1 macro': 0.08333333333333334, 'accuracy': 0.2, 'loss': -0.20000000298023224}, {'f1_seqeval': 0.0, 'f1_micro': 0.6, 'f1 macro': 0.24999999999999997, 'accuracy': 0.6, 'loss': -0.6000000238418579}, {'f1_seqeval': 0.0, 'f1_micro': 0.20000000000000004, 'f1 macro': 0.08333333333333334, 'accuracy': 0.2, 'loss': -0.19999998807907104}, {'f1_seqeval': 0.0, 'f1_micro': 0.8000000000000002, 'f1 macro': 0.4444444444444445, 'accuracy': 0.8, 'loss': -0.800000011920929}, {'f1_seqeval': 0.0, 'f1_micro': 0.0, 'f1 macro': 0.0, 'accuracy': 0.0, 'loss': -4.529545805098678e-08}, {'f1_seqeval': 0.0, 'f1_micro': 0.4000000000000001, 'f1 macro': 0.14285714285714288, 'accuracy': 0.4, 'loss': -0.4000000059604645}, {'f1_seqeval': 0.0, 'f1_micro': 0.6, 'f1 macro': 0.24999999999999997, 'accuracy': 0.6, 'loss': -0.5999999642372131}, {'f1_seqeval': 0.0, 'f1_micro': 0.4000000000000001, 'f1 macro': 0.14285714285714288, 'accuracy': 0.4, 'loss': -0.3999999761581421}, {'f1_seqeval': 0.0, 'f1_micro': 0.20000000000000004, 'f1 macro': 0.06666666666666668, 'accuracy': 0.2, 'loss': -0.19999992847442627}, {'f1_seqeval': 0.0, 'f1_micro': 0.20000000000000004, 'f1 macro': 0.08333333333333334, 'accuracy': 0.2, 'loss': -0.20000000298023224}, {'f1_seqeval': 0.0, 'f1_micro': 0.4000000000000001, 'f1 macro': 0.14285714285714288, 'accuracy': 0.4, 'loss': -0.4000000059604645}, {'f1_seqeval': 0.0, 'f1_micro': 0.4000000000000001, 'f1 macro': 0.14285714285714288, 'accuracy': 0.4, 'loss': -0.3999999761581421}, {'f1_seqeval': 0.0, 'f1_micro': 0.8000000000000002, 'f1 macro': 0.4444444444444445, 'accuracy': 0.8, 'loss': -0.800000011920929}, {'f1_seqeval': 0.0, 'f1_micro': 0.8000000000000002, 'f1 macro': 0.4444444444444445, 'accuracy': 0.8, 'loss': -0.800000011920929}, {'f1_seqeval': 0.0, 'f1_micro': 0.6, 'f1 macro': 0.24999999999999997, 'accuracy': 0.6, 'loss': -0.6000000238418579}, {'f1_seqeval': 0.0, 'f1_micro': 0.4000000000000001, 'f1 macro': 0.28571428571428575, 'accuracy': 0.4, 'loss': -0.3999999463558197}, {'f1_seqeval': 0.0, 'f1_micro': 0.4000000000000001, 'f1 macro': 0.14285714285714288, 'accuracy': 0.4, 'loss': -0.4000000059604645}, {'f1_seqeval': 0.0, 'f1_micro': 0.6, 'f1 macro': 0.24999999999999997, 'accuracy': 0.6, 'loss': -0.6000000238418579}, {'f1_seqeval': 0.0, 'f1_micro': 0.4000000000000001, 'f1 macro': 0.14285714285714288, 'accuracy': 0.4, 'loss': -0.4000000059604645}, {'f1_seqeval': 0.0, 'f1_micro': 0.4000000000000001, 'f1 macro': 0.1904761904761905, 'accuracy': 0.4, 'loss': -0.4000000059604645}, {'f1_seqeval': 0.0, 'f1_micro': 0.4000000000000001, 'f1 macro': 0.1904761904761905, 'accuracy': 0.4, 'loss': -0.4000000059604645}, {'f1_seqeval': 0.0, 'f1_micro': 0.20000000000000004, 'f1 macro': 0.08333333333333334, 'accuracy': 0.2, 'loss': -0.20000000298023224}, {'f1_seqeval': 0.0, 'f1_micro': 0.8000000000000002, 'f1 macro': 0.4444444444444445, 'accuracy': 0.8, 'loss': -0.800000011920929}, {'f1_seqeval': 0.0, 'f1_micro': 0.8000000000000002, 'f1 macro': 0.4444444444444445, 'accuracy': 0.8, 'loss': -0.800000011920929}, {'f1_seqeval': 0.0, 'f1_micro': 0.6, 'f1 macro': 0.37499999999999994, 'accuracy': 0.6, 'loss': -0.6000000238418579}, {'f1_seqeval': 0.0, 'f1_micro': 0.4000000000000001, 'f1 macro': 0.1904761904761905, 'accuracy': 0.4, 'loss': -0.4000000059604645}, {'f1_seqeval': 0.0, 'f1_micro': 0.8000000000000002, 'f1 macro': 0.4444444444444445, 'accuracy': 0.8, 'loss': -0.7999998927116394}, {'f1_seqeval': 0.0, 'f1_micro': 0.4000000000000001, 'f1 macro': 0.1904761904761905, 'accuracy': 0.4, 'loss': -0.4000000059604645}, {'f1_seqeval': 0.0, 'f1_micro': 0.6, 'f1 macro': 0.37499999999999994, 'accuracy': 0.6, 'loss': -0.5999999046325684}, {'f1_seqeval': 0.0, 'f1_micro': 0.6, 'f1 macro': 0.37499999999999994, 'accuracy': 0.6, 'loss': -0.6000000238418579}, {'f1_seqeval': 0.0, 'f1_micro': 0.4000000000000001, 'f1 macro': 0.1904761904761905, 'accuracy': 0.4, 'loss': -0.4000000059604645}, {'f1_seqeval': 0.0, 'f1_micro': 0.6, 'f1 macro': 0.24999999999999997, 'accuracy': 0.6, 'loss': -0.6000000238418579}, {'f1_seqeval': 0.0, 'f1_micro': 0.8000000000000002, 'f1 macro': 0.4444444444444445, 'accuracy': 0.8, 'loss': -0.7999998927116394}, {'f1_seqeval': 0.0, 'f1_micro': 0.8000000000000002, 'f1 macro': 0.4444444444444445, 'accuracy': 0.8, 'loss': -0.800000011920929}, {'f1_seqeval': 0.0, 'f1_micro': 0.20000000000000004, 'f1 macro': 0.08333333333333334, 'accuracy': 0.2, 'loss': -0.20000000298023224}, {'f1_seqeval': 0.0, 'f1_micro': 0.4000000000000001, 'f1 macro': 0.14285714285714288, 'accuracy': 0.4, 'loss': -0.3999999463558197}, {'f1_seqeval': 0.0, 'f1_micro': 0.8000000000000002, 'f1 macro': 0.4444444444444445, 'accuracy': 0.8, 'loss': -0.800000011920929}, {'f1_seqeval': 0.0, 'f1_micro': 0.6, 'f1 macro': 0.24999999999999997, 'accuracy': 0.6, 'loss': -0.6000000238418579}, {'f1_seqeval': 0.0, 'f1_micro': 0.4000000000000001, 'f1 macro': 0.14285714285714288, 'accuracy': 0.4, 'loss': -0.4000000059604645}, {'f1_seqeval': 0.0, 'f1_micro': 0.20000000000000004, 'f1 macro': 0.08333333333333334, 'accuracy': 0.2, 'loss': -0.20000000298023224}, {'f1_seqeval': 0.0, 'f1_micro': 0.4000000000000001, 'f1 macro': 0.1904761904761905, 'accuracy': 0.4, 'loss': -0.4000000059604645}, {'f1_seqeval': 0.0, 'f1_micro': 0.4000000000000001, 'f1 macro': 0.14285714285714288, 'accuracy': 0.4, 'loss': -0.4000000059604645}, {'f1_seqeval': 0.0, 'f1_micro': 0.20000000000000004, 'f1 macro': 0.11111111111111112, 'accuracy': 0.2, 'loss': -0.20000000298023224}, {'f1_seqeval': 0.0, 'f1_micro': 0.6, 'f1 macro': 0.24999999999999997, 'accuracy': 0.6, 'loss': -0.6000000238418579}, {'f1_seqeval': 0.0, 'f1_micro': 0.0, 'f1 macro': 0.0, 'accuracy': 0.0, 'loss': -1.6848606065877902e-08}, {'f1_seqeval': 0.0, 'f1_micro': 0.4000000000000001, 'f1 macro': 0.1904761904761905, 'accuracy': 0.4, 'loss': -0.4000000059604645}, {'f1_seqeval': 0.0, 'f1_micro': 0.4000000000000001, 'f1 macro': 0.14285714285714288, 'accuracy': 0.4, 'loss': -0.4000000059604645}, {'f1_seqeval': 0.0, 'f1_micro': 0.20000000000000004, 'f1 macro': 0.08333333333333334, 'accuracy': 0.2, 'loss': -0.20000000298023224}, {'f1_seqeval': 0.0, 'f1_micro': 0.6, 'f1 macro': 0.24999999999999997, 'accuracy': 0.6, 'loss': -0.6000000238418579}, {'f1_seqeval': 0.0, 'f1_micro': 0.6, 'f1 macro': 0.24999999999999997, 'accuracy': 0.6, 'loss': -0.5999999046325684}, {'f1_seqeval': 0.0, 'f1_micro': 0.4000000000000001, 'f1 macro': 0.14285714285714288, 'accuracy': 0.4, 'loss': -0.3999999761581421}, {'f1_seqeval': 0.0, 'f1_micro': 0.4000000000000001, 'f1 macro': 0.14285714285714288, 'accuracy': 0.4, 'loss': -0.4000000059604645}, {'f1_seqeval': 0.0, 'f1_micro': 0.4000000000000001, 'f1 macro': 0.14285714285714288, 'accuracy': 0.4, 'loss': -0.4000000059604645}, {'f1_seqeval': 0.0, 'f1_micro': 0.20000000000000004, 'f1 macro': 0.08333333333333334, 'accuracy': 0.2, 'loss': -0.20000000298023224}, {'f1_seqeval': 0.0, 'f1_micro': 0.4000000000000001, 'f1 macro': 0.28571428571428575, 'accuracy': 0.4, 'loss': -0.3999999463558197}, {'f1_seqeval': 0.0, 'f1_micro': 0.20000000000000004, 'f1 macro': 0.11111111111111112, 'accuracy': 0.2, 'loss': -0.20000000298023224}, {'f1_seqeval': 0.0, 'f1_micro': 0.6, 'f1 macro': 0.37499999999999994, 'accuracy': 0.6, 'loss': -0.6000000238418579}, {'f1_seqeval': 0.0, 'f1_micro': 0.4000000000000001, 'f1 macro': 0.14285714285714288, 'accuracy': 0.4, 'loss': -0.4000000059604645}, {'f1_seqeval': 0.0, 'f1_micro': 0.4000000000000001, 'f1 macro': 0.1904761904761905, 'accuracy': 0.4, 'loss': -0.4000000059604645}, {'f1_seqeval': 0.0, 'f1_micro': 0.6, 'f1 macro': 0.37499999999999994, 'accuracy': 0.6, 'loss': -0.5999999046325684}, {'f1_seqeval': 0.0, 'f1_micro': 0.6, 'f1 macro': 0.37499999999999994, 'accuracy': 0.6, 'loss': -0.6000000238418579}, {'f1_seqeval': 0.0, 'f1_micro': 0.4000000000000001, 'f1 macro': 0.1904761904761905, 'accuracy': 0.4, 'loss': -0.3999999761581421}, {'f1_seqeval': 0.0, 'f1_micro': 0.20000000000000004, 'f1 macro': 0.08333333333333334, 'accuracy': 0.2, 'loss': -0.20000001788139343}, {'f1_seqeval': 0.0, 'f1_micro': 0.4000000000000001, 'f1 macro': 0.1904761904761905, 'accuracy': 0.4, 'loss': -0.4000000059604645}, {'f1_seqeval': 0.0, 'f1_micro': 0.4000000000000001, 'f1 macro': 0.1904761904761905, 'accuracy': 0.4, 'loss': -0.4000000059604645}, {'f1_seqeval': 0.0, 'f1_micro': 0.4000000000000001, 'f1 macro': 0.1904761904761905, 'accuracy': 0.4, 'loss': -0.4000000059604645}, {'f1_seqeval': 0.0, 'f1_micro': 0.4000000000000001, 'f1 macro': 0.1904761904761905, 'accuracy': 0.4, 'loss': -0.3999999761581421}, {'f1_seqeval': 0.0, 'f1_micro': 0.4000000000000001, 'f1 macro': 0.28571428571428575, 'accuracy': 0.4, 'loss': -0.4000000059604645}, {'f1_seqeval': 0.0, 'f1_micro': 0.6, 'f1 macro': 0.37499999999999994, 'accuracy': 0.6, 'loss': -0.6000000238418579}, {'f1_seqeval': 0.0, 'f1_micro': 0.4000000000000001, 'f1 macro': 0.1904761904761905, 'accuracy': 0.4, 'loss': -0.4000000059604645}]\n",
      "- Eval metrics : f1_seqeval: 0.020 ; f1_micro: 0.458 ; f1 macro: 0.237 ; accuracy: 0.458 ; loss: -0.458\n",
      "Epoch 10/10\n"
     ]
    },
    {
     "name": "stderr",
     "output_type": "stream",
     "text": [
      "100%|██████████| 990/990 [00:06<00:00, 161.08it/s, loss=-0.435]\n"
     ]
    },
    {
     "name": "stdout",
     "output_type": "stream",
     "text": [
      "- Train metrics: f1_seqeval: 0.020 ; f1_micro: 0.440 ; f1 macro: 0.224 ; accuracy: 0.440 ; loss: -0.440\n",
      "summ: [{'f1_seqeval': 0.0, 'f1_micro': 0.6, 'f1 macro': 0.24999999999999997, 'accuracy': 0.6, 'loss': -0.6000000238418579}, {'f1_seqeval': 0.0, 'f1_micro': 0.4000000000000001, 'f1 macro': 0.28571428571428575, 'accuracy': 0.4, 'loss': -0.4000000059604645}, {'f1_seqeval': 0.0, 'f1_micro': 0.20000000000000004, 'f1 macro': 0.11111111111111112, 'accuracy': 0.2, 'loss': -0.20000000298023224}, {'f1_seqeval': 0.0, 'f1_micro': 0.4000000000000001, 'f1 macro': 0.1904761904761905, 'accuracy': 0.4, 'loss': -0.4000000059604645}, {'f1_seqeval': 0.0, 'f1_micro': 0.20000000000000004, 'f1 macro': 0.11111111111111112, 'accuracy': 0.2, 'loss': -0.20000000298023224}, {'f1_seqeval': 0.0, 'f1_micro': 0.4000000000000001, 'f1 macro': 0.1904761904761905, 'accuracy': 0.4, 'loss': -0.4000000059604645}, {'f1_seqeval': 0.0, 'f1_micro': 0.8000000000000002, 'f1 macro': 0.4444444444444445, 'accuracy': 0.8, 'loss': -0.800000011920929}, {'f1_seqeval': 0.0, 'f1_micro': 0.20000000000000004, 'f1 macro': 0.08333333333333334, 'accuracy': 0.2, 'loss': -0.20000000298023224}, {'f1_seqeval': 0.0, 'f1_micro': 0.4000000000000001, 'f1 macro': 0.1904761904761905, 'accuracy': 0.4, 'loss': -0.4000000059604645}, {'f1_seqeval': 0.0, 'f1_micro': 0.0, 'f1 macro': 0.0, 'accuracy': 0.0, 'loss': -7.689512138142618e-09}, {'f1_seqeval': 0.0, 'f1_micro': 0.8000000000000002, 'f1 macro': 0.4444444444444445, 'accuracy': 0.8, 'loss': -0.800000011920929}, {'f1_seqeval': 0.0, 'f1_micro': 0.6, 'f1 macro': 0.24999999999999997, 'accuracy': 0.6, 'loss': -0.6000000238418579}, {'f1_seqeval': 1.0, 'f1_micro': 1.0, 'f1 macro': 1.0, 'accuracy': 1.0, 'loss': -1.0}, {'f1_seqeval': 1.0, 'f1_micro': 1.0, 'f1 macro': 1.0, 'accuracy': 1.0, 'loss': -1.0}, {'f1_seqeval': 0.0, 'f1_micro': 0.6, 'f1 macro': 0.24999999999999997, 'accuracy': 0.6, 'loss': -0.6000000238418579}, {'f1_seqeval': 0.0, 'f1_micro': 0.20000000000000004, 'f1 macro': 0.06666666666666668, 'accuracy': 0.2, 'loss': -0.20000000298023224}, {'f1_seqeval': 0.0, 'f1_micro': 0.6, 'f1 macro': 0.37499999999999994, 'accuracy': 0.6, 'loss': -0.6000000238418579}, {'f1_seqeval': 0.0, 'f1_micro': 0.20000000000000004, 'f1 macro': 0.08333333333333334, 'accuracy': 0.2, 'loss': -0.20000000298023224}, {'f1_seqeval': 0.0, 'f1_micro': 0.6, 'f1 macro': 0.24999999999999997, 'accuracy': 0.6, 'loss': -0.6000000238418579}, {'f1_seqeval': 0.0, 'f1_micro': 0.8000000000000002, 'f1 macro': 0.4444444444444445, 'accuracy': 0.8, 'loss': -0.800000011920929}, {'f1_seqeval': 0.0, 'f1_micro': 0.6, 'f1 macro': 0.37499999999999994, 'accuracy': 0.6, 'loss': -0.6000000238418579}, {'f1_seqeval': 0.0, 'f1_micro': 0.6, 'f1 macro': 0.24999999999999997, 'accuracy': 0.6, 'loss': -0.6000000238418579}, {'f1_seqeval': 0.0, 'f1_micro': 0.20000000000000004, 'f1 macro': 0.08333333333333334, 'accuracy': 0.2, 'loss': -0.20000000298023224}, {'f1_seqeval': 0.0, 'f1_micro': 0.4000000000000001, 'f1 macro': 0.1904761904761905, 'accuracy': 0.4, 'loss': -0.4000000059604645}, {'f1_seqeval': 0.0, 'f1_micro': 0.20000000000000004, 'f1 macro': 0.08333333333333334, 'accuracy': 0.2, 'loss': -0.20000000298023224}, {'f1_seqeval': 0.0, 'f1_micro': 0.20000000000000004, 'f1 macro': 0.11111111111111112, 'accuracy': 0.2, 'loss': -0.20000000298023224}, {'f1_seqeval': 0.0, 'f1_micro': 0.20000000000000004, 'f1 macro': 0.11111111111111112, 'accuracy': 0.2, 'loss': -0.20000000298023224}, {'f1_seqeval': 0.0, 'f1_micro': 0.6, 'f1 macro': 0.37499999999999994, 'accuracy': 0.6, 'loss': -0.5999999046325684}, {'f1_seqeval': 0.0, 'f1_micro': 0.4000000000000001, 'f1 macro': 0.1904761904761905, 'accuracy': 0.4, 'loss': -0.4000000059604645}, {'f1_seqeval': 0.0, 'f1_micro': 0.8000000000000002, 'f1 macro': 0.4444444444444445, 'accuracy': 0.8, 'loss': -0.800000011920929}, {'f1_seqeval': 0.0, 'f1_micro': 0.20000000000000004, 'f1 macro': 0.08333333333333334, 'accuracy': 0.2, 'loss': -0.20000001788139343}, {'f1_seqeval': 0.0, 'f1_micro': 0.6, 'f1 macro': 0.24999999999999997, 'accuracy': 0.6, 'loss': -0.6000000238418579}, {'f1_seqeval': 0.0, 'f1_micro': 0.20000000000000004, 'f1 macro': 0.08333333333333334, 'accuracy': 0.2, 'loss': -0.19999997317790985}, {'f1_seqeval': 0.0, 'f1_micro': 0.8000000000000002, 'f1 macro': 0.4444444444444445, 'accuracy': 0.8, 'loss': -0.800000011920929}, {'f1_seqeval': 0.0, 'f1_micro': 0.0, 'f1 macro': 0.0, 'accuracy': 0.0, 'loss': -3.058143960288362e-08}, {'f1_seqeval': 0.0, 'f1_micro': 0.4000000000000001, 'f1 macro': 0.14285714285714288, 'accuracy': 0.4, 'loss': -0.4000000059604645}, {'f1_seqeval': 0.0, 'f1_micro': 0.6, 'f1 macro': 0.24999999999999997, 'accuracy': 0.6, 'loss': -0.5999999642372131}, {'f1_seqeval': 0.0, 'f1_micro': 0.4000000000000001, 'f1 macro': 0.14285714285714288, 'accuracy': 0.4, 'loss': -0.4000000059604645}, {'f1_seqeval': 0.0, 'f1_micro': 0.20000000000000004, 'f1 macro': 0.06666666666666668, 'accuracy': 0.2, 'loss': -0.19999995827674866}, {'f1_seqeval': 0.0, 'f1_micro': 0.20000000000000004, 'f1 macro': 0.08333333333333334, 'accuracy': 0.2, 'loss': -0.20000000298023224}, {'f1_seqeval': 0.0, 'f1_micro': 0.4000000000000001, 'f1 macro': 0.14285714285714288, 'accuracy': 0.4, 'loss': -0.4000000059604645}, {'f1_seqeval': 0.0, 'f1_micro': 0.4000000000000001, 'f1 macro': 0.14285714285714288, 'accuracy': 0.4, 'loss': -0.4000000059604645}, {'f1_seqeval': 0.0, 'f1_micro': 0.8000000000000002, 'f1 macro': 0.4444444444444445, 'accuracy': 0.8, 'loss': -0.800000011920929}, {'f1_seqeval': 0.0, 'f1_micro': 0.8000000000000002, 'f1 macro': 0.4444444444444445, 'accuracy': 0.8, 'loss': -0.800000011920929}, {'f1_seqeval': 0.0, 'f1_micro': 0.6, 'f1 macro': 0.24999999999999997, 'accuracy': 0.6, 'loss': -0.6000000238418579}, {'f1_seqeval': 0.0, 'f1_micro': 0.4000000000000001, 'f1 macro': 0.28571428571428575, 'accuracy': 0.4, 'loss': -0.3999999761581421}, {'f1_seqeval': 0.0, 'f1_micro': 0.4000000000000001, 'f1 macro': 0.14285714285714288, 'accuracy': 0.4, 'loss': -0.4000000059604645}, {'f1_seqeval': 0.0, 'f1_micro': 0.6, 'f1 macro': 0.24999999999999997, 'accuracy': 0.6, 'loss': -0.6000000238418579}, {'f1_seqeval': 0.0, 'f1_micro': 0.4000000000000001, 'f1 macro': 0.14285714285714288, 'accuracy': 0.4, 'loss': -0.4000000059604645}, {'f1_seqeval': 0.0, 'f1_micro': 0.4000000000000001, 'f1 macro': 0.1904761904761905, 'accuracy': 0.4, 'loss': -0.4000000059604645}, {'f1_seqeval': 0.0, 'f1_micro': 0.4000000000000001, 'f1 macro': 0.1904761904761905, 'accuracy': 0.4, 'loss': -0.4000000059604645}, {'f1_seqeval': 0.0, 'f1_micro': 0.20000000000000004, 'f1 macro': 0.08333333333333334, 'accuracy': 0.2, 'loss': -0.20000000298023224}, {'f1_seqeval': 0.0, 'f1_micro': 0.8000000000000002, 'f1 macro': 0.4444444444444445, 'accuracy': 0.8, 'loss': -0.800000011920929}, {'f1_seqeval': 0.0, 'f1_micro': 0.8000000000000002, 'f1 macro': 0.4444444444444445, 'accuracy': 0.8, 'loss': -0.800000011920929}, {'f1_seqeval': 0.0, 'f1_micro': 0.6, 'f1 macro': 0.37499999999999994, 'accuracy': 0.6, 'loss': -0.6000000238418579}, {'f1_seqeval': 0.0, 'f1_micro': 0.4000000000000001, 'f1 macro': 0.1904761904761905, 'accuracy': 0.4, 'loss': -0.4000000059604645}, {'f1_seqeval': 0.0, 'f1_micro': 0.8000000000000002, 'f1 macro': 0.4444444444444445, 'accuracy': 0.8, 'loss': -0.7999998927116394}, {'f1_seqeval': 0.0, 'f1_micro': 0.4000000000000001, 'f1 macro': 0.1904761904761905, 'accuracy': 0.4, 'loss': -0.4000000059604645}, {'f1_seqeval': 0.0, 'f1_micro': 0.6, 'f1 macro': 0.37499999999999994, 'accuracy': 0.6, 'loss': -0.5999999046325684}, {'f1_seqeval': 0.0, 'f1_micro': 0.6, 'f1 macro': 0.37499999999999994, 'accuracy': 0.6, 'loss': -0.6000000238418579}, {'f1_seqeval': 0.0, 'f1_micro': 0.4000000000000001, 'f1 macro': 0.1904761904761905, 'accuracy': 0.4, 'loss': -0.4000000059604645}, {'f1_seqeval': 0.0, 'f1_micro': 0.6, 'f1 macro': 0.24999999999999997, 'accuracy': 0.6, 'loss': -0.6000000238418579}, {'f1_seqeval': 0.0, 'f1_micro': 0.8000000000000002, 'f1 macro': 0.4444444444444445, 'accuracy': 0.8, 'loss': -0.800000011920929}, {'f1_seqeval': 0.0, 'f1_micro': 0.8000000000000002, 'f1 macro': 0.4444444444444445, 'accuracy': 0.8, 'loss': -0.800000011920929}, {'f1_seqeval': 0.0, 'f1_micro': 0.20000000000000004, 'f1 macro': 0.08333333333333334, 'accuracy': 0.2, 'loss': -0.20000000298023224}, {'f1_seqeval': 0.0, 'f1_micro': 0.4000000000000001, 'f1 macro': 0.14285714285714288, 'accuracy': 0.4, 'loss': -0.4000000059604645}, {'f1_seqeval': 0.0, 'f1_micro': 0.8000000000000002, 'f1 macro': 0.4444444444444445, 'accuracy': 0.8, 'loss': -0.800000011920929}, {'f1_seqeval': 0.0, 'f1_micro': 0.6, 'f1 macro': 0.24999999999999997, 'accuracy': 0.6, 'loss': -0.6000000238418579}, {'f1_seqeval': 0.0, 'f1_micro': 0.4000000000000001, 'f1 macro': 0.14285714285714288, 'accuracy': 0.4, 'loss': -0.4000000059604645}, {'f1_seqeval': 0.0, 'f1_micro': 0.20000000000000004, 'f1 macro': 0.08333333333333334, 'accuracy': 0.2, 'loss': -0.20000000298023224}, {'f1_seqeval': 0.0, 'f1_micro': 0.4000000000000001, 'f1 macro': 0.1904761904761905, 'accuracy': 0.4, 'loss': -0.4000000059604645}, {'f1_seqeval': 0.0, 'f1_micro': 0.4000000000000001, 'f1 macro': 0.14285714285714288, 'accuracy': 0.4, 'loss': -0.4000000059604645}, {'f1_seqeval': 0.0, 'f1_micro': 0.20000000000000004, 'f1 macro': 0.11111111111111112, 'accuracy': 0.2, 'loss': -0.20000000298023224}, {'f1_seqeval': 0.0, 'f1_micro': 0.6, 'f1 macro': 0.24999999999999997, 'accuracy': 0.6, 'loss': -0.6000000238418579}, {'f1_seqeval': 0.0, 'f1_micro': 0.0, 'f1 macro': 0.0, 'accuracy': 0.0, 'loss': -1.116420644819982e-08}, {'f1_seqeval': 0.0, 'f1_micro': 0.4000000000000001, 'f1 macro': 0.1904761904761905, 'accuracy': 0.4, 'loss': -0.4000000059604645}, {'f1_seqeval': 0.0, 'f1_micro': 0.4000000000000001, 'f1 macro': 0.14285714285714288, 'accuracy': 0.4, 'loss': -0.4000000059604645}, {'f1_seqeval': 0.0, 'f1_micro': 0.20000000000000004, 'f1 macro': 0.08333333333333334, 'accuracy': 0.2, 'loss': -0.19999998807907104}, {'f1_seqeval': 0.0, 'f1_micro': 0.6, 'f1 macro': 0.24999999999999997, 'accuracy': 0.6, 'loss': -0.6000000238418579}, {'f1_seqeval': 0.0, 'f1_micro': 0.6, 'f1 macro': 0.24999999999999997, 'accuracy': 0.6, 'loss': -0.6000000238418579}, {'f1_seqeval': 0.0, 'f1_micro': 0.4000000000000001, 'f1 macro': 0.14285714285714288, 'accuracy': 0.4, 'loss': -0.4000000059604645}, {'f1_seqeval': 0.0, 'f1_micro': 0.4000000000000001, 'f1 macro': 0.14285714285714288, 'accuracy': 0.4, 'loss': -0.4000000059604645}, {'f1_seqeval': 0.0, 'f1_micro': 0.4000000000000001, 'f1 macro': 0.14285714285714288, 'accuracy': 0.4, 'loss': -0.4000000059604645}, {'f1_seqeval': 0.0, 'f1_micro': 0.20000000000000004, 'f1 macro': 0.08333333333333334, 'accuracy': 0.2, 'loss': -0.20000000298023224}, {'f1_seqeval': 0.0, 'f1_micro': 0.4000000000000001, 'f1 macro': 0.28571428571428575, 'accuracy': 0.4, 'loss': -0.3999999761581421}, {'f1_seqeval': 0.0, 'f1_micro': 0.20000000000000004, 'f1 macro': 0.11111111111111112, 'accuracy': 0.2, 'loss': -0.20000000298023224}, {'f1_seqeval': 0.0, 'f1_micro': 0.6, 'f1 macro': 0.37499999999999994, 'accuracy': 0.6, 'loss': -0.6000000238418579}, {'f1_seqeval': 0.0, 'f1_micro': 0.4000000000000001, 'f1 macro': 0.14285714285714288, 'accuracy': 0.4, 'loss': -0.4000000059604645}, {'f1_seqeval': 0.0, 'f1_micro': 0.4000000000000001, 'f1 macro': 0.1904761904761905, 'accuracy': 0.4, 'loss': -0.4000000059604645}, {'f1_seqeval': 0.0, 'f1_micro': 0.6, 'f1 macro': 0.37499999999999994, 'accuracy': 0.6, 'loss': -0.6000000238418579}, {'f1_seqeval': 0.0, 'f1_micro': 0.6, 'f1 macro': 0.37499999999999994, 'accuracy': 0.6, 'loss': -0.6000000238418579}, {'f1_seqeval': 0.0, 'f1_micro': 0.4000000000000001, 'f1 macro': 0.1904761904761905, 'accuracy': 0.4, 'loss': -0.4000000059604645}, {'f1_seqeval': 0.0, 'f1_micro': 0.20000000000000004, 'f1 macro': 0.08333333333333334, 'accuracy': 0.2, 'loss': -0.20000001788139343}, {'f1_seqeval': 0.0, 'f1_micro': 0.4000000000000001, 'f1 macro': 0.1904761904761905, 'accuracy': 0.4, 'loss': -0.4000000059604645}, {'f1_seqeval': 0.0, 'f1_micro': 0.4000000000000001, 'f1 macro': 0.1904761904761905, 'accuracy': 0.4, 'loss': -0.4000000059604645}, {'f1_seqeval': 0.0, 'f1_micro': 0.4000000000000001, 'f1 macro': 0.1904761904761905, 'accuracy': 0.4, 'loss': -0.4000000059604645}, {'f1_seqeval': 0.0, 'f1_micro': 0.4000000000000001, 'f1 macro': 0.1904761904761905, 'accuracy': 0.4, 'loss': -0.4000000059604645}, {'f1_seqeval': 0.0, 'f1_micro': 0.4000000000000001, 'f1 macro': 0.28571428571428575, 'accuracy': 0.4, 'loss': -0.4000000059604645}, {'f1_seqeval': 0.0, 'f1_micro': 0.6, 'f1 macro': 0.37499999999999994, 'accuracy': 0.6, 'loss': -0.6000000238418579}, {'f1_seqeval': 0.0, 'f1_micro': 0.4000000000000001, 'f1 macro': 0.1904761904761905, 'accuracy': 0.4, 'loss': -0.4000000059604645}]\n",
      "- Eval metrics : f1_seqeval: 0.020 ; f1_micro: 0.458 ; f1 macro: 0.237 ; accuracy: 0.458 ; loss: -0.458\n"
     ]
    }
   ],
   "source": [
    "# manually change vocab size (unique no. of words) and change label size (unique no. of labels) for now\n",
    "model = Net(embedding_weights, 300, 300, no_of_labels)\n",
    "optimizer = optim.Adam(model.parameters(), lr=0.001)\n",
    "\n",
    "if (os.path.isfile(\"model_weights.pth\")):\n",
    "    model.load_state_dict(torch.load('model_weights.pth'))\n",
    "else:\n",
    "    train_and_evaluate(model, X_train_tokenized_indexified , y_train_formatted , X_val_tokenized_indexified  , y_val_formatted , 10, 5, optimizer, loss_fn, metrics)\n",
    "    torch.save(model.state_dict(), 'model_weights.pth')"
   ]
  },
  {
   "cell_type": "code",
   "execution_count": 53,
   "id": "9be8268f",
   "metadata": {},
   "outputs": [
    {
     "name": "stdout",
     "output_type": "stream",
     "text": [
      "500\n"
     ]
    }
   ],
   "source": [
    "'''Test batch- tensor of n_sentences x max_len_sentence\n",
    "   Labels_batch- tensor of n_sentences x max_len_sentence\n",
    "   Test sentences- list of n_sentences x sentence_length(no padding)'''\n",
    "print(len(X_test_tokenized_indexified ))\n",
    "test_data_iterator = data_iterator(X_test_tokenized_indexified , y_test_formatted , len(X_test_tokenized_indexified), len(X_test_tokenized_indexified), shuffle=True)\n",
    "test_batch, labels_batch, test_sentences = next(test_data_iterator)\n"
   ]
  },
  {
   "cell_type": "code",
   "execution_count": 54,
   "id": "d330282b",
   "metadata": {},
   "outputs": [
    {
     "name": "stdout",
     "output_type": "stream",
     "text": [
      "type test: <class 'torch.Tensor'>\n",
      "len test: 500\n",
      "type label: <class 'torch.Tensor'>\n",
      "len label: 500\n"
     ]
    }
   ],
   "source": [
    "print(f\"type test: {type(test_batch)}\")\n",
    "print(f\"len test: {len(test_batch)}\")\n",
    "print(f\"type label: {type(labels_batch)}\")\n",
    "print(f\"len label: {len(labels_batch)}\")"
   ]
  },
  {
   "cell_type": "code",
   "execution_count": 55,
   "id": "d4353673",
   "metadata": {},
   "outputs": [],
   "source": [
    "model_output = model(test_batch)"
   ]
  },
  {
   "cell_type": "code",
   "execution_count": 56,
   "id": "17243532",
   "metadata": {},
   "outputs": [],
   "source": [
    "model_output_numpy = model_output.detach().numpy()\n",
    "labels_batch_numpy = labels_batch.detach().numpy()"
   ]
  },
  {
   "cell_type": "code",
   "execution_count": 57,
   "id": "f7c3f0d6",
   "metadata": {},
   "outputs": [],
   "source": [
    "f1_score_seqeval = calculate_multiclass_f1_score(model_output_numpy, labels_batch_numpy)\n",
    "f1_score_macro = calculate_multiclass_f1_score2(model_output_numpy, labels_batch_numpy)\n",
    "f1_score_micro = calculate_multiclass_f1_score3(model_output_numpy, labels_batch_numpy)"
   ]
  },
  {
   "cell_type": "code",
   "execution_count": 58,
   "id": "8ff483ab",
   "metadata": {},
   "outputs": [
    {
     "name": "stdout",
     "output_type": "stream",
     "text": [
      "f1_score_seqeval: 0.0\n",
      "f1_score_macro: 0.138205499276411\n",
      "f1_score_micro: 0.382\n"
     ]
    }
   ],
   "source": [
    "print(f\"f1_score_seqeval: {f1_score_seqeval}\")\n",
    "print(f\"f1_score_macro: {f1_score_macro}\")\n",
    "print(f\"f1_score_micro: {f1_score_micro}\")"
   ]
  },
  {
   "cell_type": "code",
   "execution_count": 59,
   "id": "d5f91d12",
   "metadata": {},
   "outputs": [
    {
     "name": "stdout",
     "output_type": "stream",
     "text": [
      "model_class_report: \n",
      "              precision    recall  f1-score   support\n",
      "\n",
      "         LOC       0.00      0.00      0.00       122\n",
      "        MISC       0.00      0.00      0.00       129\n",
      "         ORG       0.00      0.00      0.00        11\n",
      "\n",
      "   micro avg       0.00      0.00      0.00       262\n",
      "   macro avg       0.00      0.00      0.00       262\n",
      "weighted avg       0.00      0.00      0.00       262\n",
      "\n"
     ]
    }
   ],
   "source": [
    "model_class_report = classification_report_gen(model_output_numpy, labels_batch_numpy)\n",
    "print(f\"model_class_report: \\n{model_class_report}\")"
   ]
  },
  {
   "cell_type": "code",
   "execution_count": null,
   "id": "5bfd54c2",
   "metadata": {},
   "outputs": [],
   "source": []
  },
  {
   "cell_type": "code",
   "execution_count": 60,
   "id": "ff42671f",
   "metadata": {},
   "outputs": [
    {
     "name": "stdout",
     "output_type": "stream",
     "text": [
      "sentences_w_words \n",
      " 500\n",
      "predicted_labels \n",
      " 500\n"
     ]
    }
   ],
   "source": [
    "predicted_labels = np.argmax(model_output.detach().numpy(), axis=1)\n",
    "print(f\"sentences_w_words \\n {len(test_sentences)}\")\n",
    "print(f\"predicted_labels \\n {len(predicted_labels)}\")"
   ]
  },
  {
   "cell_type": "code",
   "execution_count": 61,
   "id": "3740d523",
   "metadata": {},
   "outputs": [
    {
     "data": {
      "text/plain": [
       "['who', 'discovered', 'UNK', 'UNK']"
      ]
     },
     "execution_count": 61,
     "metadata": {},
     "output_type": "execute_result"
    }
   ],
   "source": [
    "sample_output = model(test_batch[10].unsqueeze(0))\n",
    "id_to_words(test_sentences[10])"
   ]
  },
  {
   "cell_type": "code",
   "execution_count": 62,
   "id": "22872d24",
   "metadata": {},
   "outputs": [
    {
     "ename": "IndexError",
     "evalue": "index 1 is out of bounds for axis 0 with size 1",
     "output_type": "error",
     "traceback": [
      "\u001b[1;31m---------------------------------------------------------------------------\u001b[0m",
      "\u001b[1;31mIndexError\u001b[0m                                Traceback (most recent call last)",
      "\u001b[1;32md:\\Admin\\Learning\\UniProgrammingProjects\\SC4002_NLP\\Q2_model_average.ipynb Cell 27\u001b[0m line \u001b[0;36m2\n\u001b[0;32m      <a href='vscode-notebook-cell:/d%3A/Admin/Learning/UniProgrammingProjects/SC4002_NLP/Q2_model_average.ipynb#X43sZmlsZQ%3D%3D?line=0'>1</a>\u001b[0m sample_mask \u001b[39m=\u001b[39m (labels_batch[\u001b[39m10\u001b[39m] \u001b[39m>\u001b[39m\u001b[39m=\u001b[39m \u001b[39m0\u001b[39m)\n\u001b[1;32m----> <a href='vscode-notebook-cell:/d%3A/Admin/Learning/UniProgrammingProjects/SC4002_NLP/Q2_model_average.ipynb#X43sZmlsZQ%3D%3D?line=1'>2</a>\u001b[0m sample_label_predict \u001b[39m=\u001b[39m np\u001b[39m.\u001b[39;49margmax(sample_output\u001b[39m.\u001b[39;49mdetach()\u001b[39m.\u001b[39;49mnumpy(), axis\u001b[39m=\u001b[39;49m\u001b[39m1\u001b[39;49m)[sample_mask]\n\u001b[0;32m      <a href='vscode-notebook-cell:/d%3A/Admin/Learning/UniProgrammingProjects/SC4002_NLP/Q2_model_average.ipynb#X43sZmlsZQ%3D%3D?line=2'>3</a>\u001b[0m sample_label_true \u001b[39m=\u001b[39m labels_batch[\u001b[39m10\u001b[39m][sample_mask]\n",
      "\u001b[1;31mIndexError\u001b[0m: index 1 is out of bounds for axis 0 with size 1"
     ]
    }
   ],
   "source": [
    "sample_mask = (labels_batch[10] >= 0)\n",
    "sample_label_predict = np.argmax(sample_output.detach().numpy(), axis=1)[sample_mask]\n",
    "sample_label_true = labels_batch[10][sample_mask]"
   ]
  },
  {
   "cell_type": "code",
   "execution_count": null,
   "id": "8200bfe3",
   "metadata": {},
   "outputs": [],
   "source": [
    "print(f\"sample_label_predict: {id_to_labels(sample_label_predict)}\")\n",
    "print(f\"sample_label_true: {id_to_labels(sample_label_true.numpy())}\")"
   ]
  },
  {
   "cell_type": "code",
   "execution_count": null,
   "id": "958b1b4c",
   "metadata": {},
   "outputs": [],
   "source": []
  }
 ],
 "metadata": {
  "kernelspec": {
   "display_name": "Python 3",
   "language": "python",
   "name": "python3"
  },
  "language_info": {
   "codemirror_mode": {
    "name": "ipython",
    "version": 3
   },
   "file_extension": ".py",
   "mimetype": "text/x-python",
   "name": "python",
   "nbconvert_exporter": "python",
   "pygments_lexer": "ipython3",
   "version": "3.11.4"
  }
 },
 "nbformat": 4,
 "nbformat_minor": 5
}
