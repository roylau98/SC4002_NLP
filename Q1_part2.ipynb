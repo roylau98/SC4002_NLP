{
 "cells": [
  {
   "cell_type": "markdown",
   "source": [
    "# Question 1.2\n",
    "(a) Describe the size (number of sentences) of the training, development and test file for CoNLL2003.\n",
    "Specify the complete set of all possible word labels based on the tagging scheme (IO, BIO,\n",
    "etc.) you chose.\n",
    "\n",
    "(b) Choose an example sentence from the training set of CoNLL2003 that has at least two named\n",
    "entities with more than one word. Explain how to form complete named entities from the label\n",
    "for each word, and list all the named entities in this sentence."
   ],
   "metadata": {
    "collapsed": false,
    "pycharm": {
     "name": "#%% md\n"
    }
   }
  },
  {
   "cell_type": "markdown",
   "source": [
    "Import relevant libraries"
   ],
   "metadata": {
    "collapsed": false,
    "pycharm": {
     "name": "#%% md\n"
    }
   }
  },
  {
   "cell_type": "code",
   "execution_count": 12,
   "outputs": [],
   "source": [
    "from itertools import chain"
   ],
   "metadata": {
    "collapsed": false,
    "pycharm": {
     "name": "#%%\n"
    }
   }
  },
  {
   "cell_type": "markdown",
   "source": [
    "the code below reads and parses a CoNLL-formatted file, extracting sentences and their corresponding NER tags for further processing"
   ],
   "metadata": {
    "collapsed": false,
    "pycharm": {
     "name": "#%% md\n"
    }
   }
  },
  {
   "cell_type": "code",
   "execution_count": 13,
   "outputs": [],
   "source": [
    "def read_conll_file(file_path):\n",
    "    sentences = []\n",
    "    sentence = []\n",
    "    tags = []\n",
    "    tag = []\n",
    "\n",
    "    with open(file_path, 'r', encoding='utf-8') as file:\n",
    "        for line in file:\n",
    "            line = line.strip()  # Remove leading/trailing whitespace from the line\n",
    "            if len(line) == 0:  # Check if the line is empty, indicating the end of a sentence\n",
    "                if sentence:\n",
    "                    sentences.append(sentence)  # Append the collected sentence to the 'sentences' list\n",
    "                    tags.append(tag)  # Append the collected NER tags to the 'tags' list\n",
    "                sentence = []  # Reset the sentence buffer for the next sentence\n",
    "                tag = []  # Reset the NER tag buffer for the next sentence\n",
    "            else:\n",
    "                parts = line.split()  # Split the line into parts\n",
    "                word = parts[0]  # Extract the word from the line\n",
    "                if word == '-DOCSTART-':  # Check if the word is '-DOCSTART-', a marker often used in CoNLL data\n",
    "                    continue  # Skip this line and continue to the next line\n",
    "                ner_tag = parts[-1]  # Extract the NER tag from the last part of the line\n",
    "                sentence.append(word)  # Add the word to the current sentence\n",
    "                tag.append(ner_tag)  # Add the NER tag to the current tags\n",
    "        if sentence:\n",
    "            sentences.append(sentence)  # Append the last collected sentence\n",
    "            tags.append(tag)  # Append the last collected NER tags\n",
    "    return sentences, tags\n"
   ],
   "metadata": {
    "collapsed": false,
    "pycharm": {
     "name": "#%%\n"
    }
   }
  },
  {
   "cell_type": "markdown",
   "source": [
    "this code extracts and returns the unique tags found within the nested list structure of allTags."
   ],
   "metadata": {
    "collapsed": false,
    "pycharm": {
     "name": "#%% md\n"
    }
   }
  },
  {
   "cell_type": "code",
   "execution_count": 14,
   "outputs": [],
   "source": [
    "def get_unique_tags(allTags):\n",
    "    uniquetags = set()  # Initialize an empty set to store unique tags\n",
    "    flatten_sentences = list(chain(*allTags))  # Flatten the nested 'allTags' list into a single list\n",
    "    for i in flatten_sentences:  # Iterate through the elements of the flattened list\n",
    "        uniquetags.add(i)  # Add each element (tag) to the 'uniquetags' set\n",
    "    return uniquetags  # Return the set containing unique tags"
   ],
   "metadata": {
    "collapsed": false,
    "pycharm": {
     "name": "#%%\n"
    }
   }
  },
  {
   "cell_type": "code",
   "execution_count": 15,
   "outputs": [
    {
     "name": "stdout",
     "output_type": "stream",
     "text": [
      "The number of sentences in the training data is 14041.\n",
      "The number of sentences in the development data is 3250.\n",
      "The number of sentences in the test data is 3453.\n",
      "The set of NER tags are {'O', 'B-ORG', 'I-ORG', 'B-MISC', 'B-LOC', 'I-MISC', 'I-LOC', 'I-PER'}.\n"
     ]
    }
   ],
   "source": [
    "# reading the data from the files\n",
    "train_data, train_tags = read_conll_file('CoNLL2003_dataset/eng.train')\n",
    "val_data, val_tags = read_conll_file('CoNLL2003_dataset/eng.testa')\n",
    "test_data, test_tags = read_conll_file('CoNLL2003_dataset/eng.testb')\n",
    "\n",
    "# print the number of sentences in the training, development and test dataset\n",
    "print(f\"The number of sentences in the training data is {len(train_data)}.\")\n",
    "print(f\"The number of sentences in the development data is {len(val_data)}.\")\n",
    "print(f\"The number of sentences in the test data is {len(test_data)}.\")\n",
    "\n",
    "# getting all the unique tags in the dataset\n",
    "all_tags = set()\n",
    "all_tags.update(get_unique_tags(train_tags))\n",
    "all_tags.update(get_unique_tags(val_tags))\n",
    "all_tags.update(get_unique_tags(test_tags))\n",
    "\n",
    "# print all the tags\n",
    "print(f\"The set of NER tags are {all_tags}.\")"
   ],
   "metadata": {
    "collapsed": false,
    "ExecuteTime": {
     "end_time": "2023-10-23T14:56:11.597932700Z",
     "start_time": "2023-10-23T14:56:11.300143900Z"
    },
    "pycharm": {
     "name": "#%%\n"
    }
   },
   "id": "46ba8ede2d9ce778"
  }
 ],
 "metadata": {
  "kernelspec": {
   "display_name": "Python 3",
   "language": "python",
   "name": "python3"
  },
  "language_info": {
   "codemirror_mode": {
    "name": "ipython",
    "version": 2
   },
   "file_extension": ".py",
   "mimetype": "text/x-python",
   "name": "python",
   "nbconvert_exporter": "python",
   "pygments_lexer": "ipython2",
   "version": "2.7.6"
  }
 },
 "nbformat": 4,
 "nbformat_minor": 5
}