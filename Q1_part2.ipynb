{
 "cells": [
  {
   "cell_type": "code",
   "execution_count": 12,
   "outputs": [],
   "source": [
    "from itertools import chain"
   ],
   "metadata": {
    "collapsed": false,
    "ExecuteTime": {
     "end_time": "2023-10-23T14:56:11.337171200Z",
     "start_time": "2023-10-23T14:56:11.258476Z"
    }
   },
   "id": "ea6bc5346cfc3b6e"
  },
  {
   "cell_type": "code",
   "execution_count": 13,
   "outputs": [],
   "source": [
    "def read_conll_file(file_path):\n",
    "    sentences = []\n",
    "    sentence = []\n",
    "    tags = []\n",
    "    tag = []\n",
    "    with open(file_path, 'r', encoding='utf-8') as file:\n",
    "        for line in file:\n",
    "            line = line.strip()\n",
    "            if len(line) == 0:  # Empty line indicates the end of a sentence\n",
    "                if sentence:\n",
    "                    sentences.append(sentence)\n",
    "                    tags.append(tag)\n",
    "                sentence = []\n",
    "                tag = []\n",
    "            else:\n",
    "                parts = line.split()\n",
    "                word = parts[0]\n",
    "                if word == '-DOCSTART-':\n",
    "                    continue\n",
    "                ner_tag = parts[-1]\n",
    "                sentence.append(word)\n",
    "                tag.append(ner_tag)\n",
    "        if sentence:\n",
    "            sentences.append(sentence)\n",
    "            tags.append(tag)\n",
    "    return sentences, tags"
   ],
   "metadata": {
    "collapsed": false,
    "ExecuteTime": {
     "end_time": "2023-10-23T14:56:11.339143600Z",
     "start_time": "2023-10-23T14:56:11.281631200Z"
    }
   },
   "id": "initial_id"
  },
  {
   "cell_type": "code",
   "execution_count": 14,
   "outputs": [],
   "source": [
    "def get_unique_tags(allTags):\n",
    "    uniquetags = set()\n",
    "    flatten_sentences = list(chain(*allTags))\n",
    "    for i in flatten_sentences:\n",
    "        uniquetags.add(i)\n",
    "    return uniquetags"
   ],
   "metadata": {
    "collapsed": false,
    "ExecuteTime": {
     "end_time": "2023-10-23T14:56:11.339143600Z",
     "start_time": "2023-10-23T14:56:11.292788800Z"
    }
   },
   "id": "fa4547966fa6cf32"
  },
  {
   "cell_type": "code",
   "execution_count": 15,
   "outputs": [
    {
     "name": "stdout",
     "output_type": "stream",
     "text": [
      "The number of sentences in the training data is 14041.\n",
      "The number of sentences in the development data is 3250.\n",
      "The number of sentences in the test data is 3453.\n",
      "The set of NER tags are {'O', 'B-ORG', 'I-ORG', 'B-MISC', 'B-LOC', 'I-MISC', 'I-LOC', 'I-PER'}.\n"
     ]
    }
   ],
   "source": [
    "# reading the data from the files\n",
    "train_data, train_tags = read_conll_file('CoNLL2003_dataset/eng.train')\n",
    "val_data, val_tags = read_conll_file('CoNLL2003_dataset/eng.testa')\n",
    "test_data, test_tags = read_conll_file('CoNLL2003_dataset/eng.testb')\n",
    "\n",
    "# print the number of sentences in the training, development and test dataset\n",
    "print(f\"The number of sentences in the training data is {len(train_data)}.\")\n",
    "print(f\"The number of sentences in the development data is {len(val_data)}.\")\n",
    "print(f\"The number of sentences in the test data is {len(test_data)}.\")\n",
    "\n",
    "# getting all the unique tags in the dataset\n",
    "all_tags = set()\n",
    "all_tags.update(get_unique_tags(train_tags))\n",
    "all_tags.update(get_unique_tags(val_tags))\n",
    "all_tags.update(get_unique_tags(test_tags))\n",
    "\n",
    "# print all the tags\n",
    "print(f\"The set of NER tags are {all_tags}.\")"
   ],
   "metadata": {
    "collapsed": false,
    "ExecuteTime": {
     "end_time": "2023-10-23T14:56:11.597932700Z",
     "start_time": "2023-10-23T14:56:11.300143900Z"
    }
   },
   "id": "46ba8ede2d9ce778"
  }
 ],
 "metadata": {
  "kernelspec": {
   "display_name": "Python 3",
   "language": "python",
   "name": "python3"
  },
  "language_info": {
   "codemirror_mode": {
    "name": "ipython",
    "version": 2
   },
   "file_extension": ".py",
   "mimetype": "text/x-python",
   "name": "python",
   "nbconvert_exporter": "python",
   "pygments_lexer": "ipython2",
   "version": "2.7.6"
  }
 },
 "nbformat": 4,
 "nbformat_minor": 5
}
