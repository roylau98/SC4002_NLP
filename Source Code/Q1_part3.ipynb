{
 "cells": [
  {
   "cell_type": "markdown",
   "id": "f2a1e2800bec565",
   "metadata": {
    "collapsed": false,
    "pycharm": {
     "name": "#%% md\n"
    }
   },
   "source": [
    "# Question 1.3\n",
    "(a) Discuss how you deal with new words in the training set which are not found in the pretrained\n",
    "dictionary. Likewise, how do you deal with new words in the test set which are not found in\n",
    "either the pretrained dictionary or the training set? Show the corresponding code snippet.\n",
    "\n",
    "(b) Describe what neural network you used to produce the final vector representation of each\n",
    "word and what are the mathematical functions used for the forward computation (i.e., from\n",
    "the pretrained word vectors to the final label of each word). Give the detailed setting of the\n",
    "network including which parameters are being updated, what are their sizes, and what is the\n",
    "length of the final vector representation of each word to be fed to the softmax classifier.\n",
    "\n",
    "(c) Report how many epochs you used for training, as well as the running time.\n",
    "\n",
    "(d) Report the f1 score on the test set, as well as the f1 score on the development set for each\n",
    "epoch during training."
   ]
  },
  {
   "cell_type": "code",
   "execution_count": 46,
   "id": "792c2587301a7713",
   "metadata": {
    "collapsed": false,
    "pycharm": {
     "name": "#%%\n"
    }
   },
   "outputs": [],
   "source": [
    "import random\n",
    "import time\n",
    "from tqdm import trange\n",
    "\n",
    "import numpy as np\n",
    "import torch\n",
    "import torch.nn as nn\n",
    "import torch.nn.functional as F\n",
    "import torch.optim as optim\n",
    "from torch.autograd import Variable\n",
    "\n",
    "from seqeval.metrics import f1_score as f1_score_seqeval\n",
    "from seqeval.metrics import classification_report\n",
    "import pickle\n",
    "import os\n",
    "\n",
    "import gensim.downloader\n",
    "import matplotlib.pyplot as plt\n",
    "\n",
    "import warnings\n",
    "warnings.filterwarnings('ignore')"
   ]
  },
  {
   "cell_type": "code",
   "execution_count": 47,
   "id": "793ed4b1",
   "metadata": {
    "collapsed": false,
    "pycharm": {
     "name": "#%%\n"
    }
   },
   "outputs": [],
   "source": [
    "word2vec_goog1e_news: gensim.models.keyedvectors.KeyedVectors = gensim.downloader.load('word2vec-google-news-300')\n",
    "word2vec_goog1e_news.add_vector(\"<pad>\", np.zeros(300))\n",
    "pad_index = word2vec_goog1e_news.key_to_index[\"<pad>\"]\n",
    "embedding_weights = torch.FloatTensor(word2vec_goog1e_news.vectors)\n",
    "vocab = word2vec_goog1e_news.key_to_index"
   ]
  },
  {
   "cell_type": "markdown",
   "id": "7901dd99a9dc19fc",
   "metadata": {
    "collapsed": false,
    "pycharm": {
     "name": "#%% md\n"
    }
   },
   "source": [
    "the code below reads and parses a CoNLL-formatted file, extracting sentences and their corresponding NER tags for further processing"
   ]
  },
  {
   "cell_type": "code",
   "execution_count": 48,
   "id": "de6a19218c802f5a",
   "metadata": {
    "collapsed": false,
    "pycharm": {
     "name": "#%%\n"
    }
   },
   "outputs": [],
   "source": [
    "def read_conll_file(file_path):\n",
    "    sentences = []\n",
    "    sentence = []\n",
    "    tags = []\n",
    "    tag = []\n",
    "\n",
    "    with open(file_path, 'r', encoding='utf-8') as file:\n",
    "        for line in file:\n",
    "            line = line.strip()\n",
    "            if len(line) == 0:  # Empty line indicates the end of a sentence\n",
    "                if sentence:\n",
    "                    sentences.append(sentence)\n",
    "                    tags.append(tag)\n",
    "                sentence = []\n",
    "                tag = []\n",
    "            else:\n",
    "                parts = line.split()\n",
    "                word = parts[0]\n",
    "                if word == '-DOCSTART-':\n",
    "                    continue\n",
    "                ner_tag = parts[-1]\n",
    "                sentence.append(word)\n",
    "                tag.append(ner_tag)\n",
    "        if sentence:\n",
    "            sentences.append(sentence)\n",
    "            tags.append(tag)\n",
    "    return sentences, tags"
   ]
  },
  {
   "cell_type": "code",
   "execution_count": 49,
   "id": "e32fdf6c",
   "metadata": {
    "collapsed": false,
    "pycharm": {
     "name": "#%%\n"
    }
   },
   "outputs": [],
   "source": [
    "train_data, train_tags = read_conll_file('CoNLL2003_dataset/eng.train')\n",
    "val_data, val_tags = read_conll_file('CoNLL2003_dataset/eng.testa')\n",
    "test_data, test_tags = read_conll_file('CoNLL2003_dataset/eng.testb')"
   ]
  },
  {
   "cell_type": "markdown",
   "id": "a9d7024e1fa37c85",
   "metadata": {
    "collapsed": false,
    "pycharm": {
     "name": "#%% md\n"
    }
   },
   "source": [
    "The code below extract unique tags given a list of tags extracted from the csv file"
   ]
  },
  {
   "cell_type": "code",
   "execution_count": 50,
   "id": "6edd41267bbf65df",
   "metadata": {
    "collapsed": false,
    "pycharm": {
     "name": "#%%\n"
    }
   },
   "outputs": [],
   "source": [
    "from itertools import chain\n",
    "\n",
    "def get_unique_tags(allTags):\n",
    "    uniqueTags = []\n",
    "    flatten_sentences = list(chain(*allTags))\n",
    "    for i in flatten_sentences:\n",
    "        if not i in uniqueTags:\n",
    "            uniqueTags.append(i)\n",
    "    return uniqueTags"
   ]
  },
  {
   "cell_type": "code",
   "execution_count": 51,
   "id": "f8474de4",
   "metadata": {
    "collapsed": false,
    "pycharm": {
     "name": "#%%\n"
    }
   },
   "outputs": [],
   "source": [
    "unique_tags = get_unique_tags(train_tags+val_tags+test_tags)"
   ]
  },
  {
   "cell_type": "code",
   "execution_count": 52,
   "id": "38e14aa0",
   "metadata": {
    "collapsed": false,
    "pycharm": {
     "name": "#%%\n"
    }
   },
   "outputs": [
    {
     "data": {
      "text/plain": [
       "{'I-ORG': 0,\n",
       " 'O': 1,\n",
       " 'I-MISC': 2,\n",
       " 'I-PER': 3,\n",
       " 'I-LOC': 4,\n",
       " 'B-LOC': 5,\n",
       " 'B-MISC': 6,\n",
       " 'B-ORG': 7}"
      ]
     },
     "execution_count": 52,
     "metadata": {},
     "output_type": "execute_result"
    }
   ],
   "source": [
    "tag_map = {}\n",
    "for index, tag in enumerate(unique_tags):\n",
    "    tag_map[tag] = index\n",
    "tag_map"
   ]
  },
  {
   "cell_type": "markdown",
   "id": "cf8af74310bc5c56",
   "metadata": {
    "collapsed": false,
    "pycharm": {
     "name": "#%% md\n"
    }
   },
   "source": [
    "'Indexify' function takes data and tags as input and converts them into indexed sentences and labels using vocabularies"
   ]
  },
  {
   "cell_type": "code",
   "execution_count": 53,
   "id": "896551380fc0f3cf",
   "metadata": {
    "collapsed": false,
    "pycharm": {
     "name": "#%%\n"
    }
   },
   "outputs": [],
   "source": [
    "def indexify(data, tag):\n",
    "    sentences = []\n",
    "    labels = []\n",
    "    for sentence in data:\n",
    "        s = [vocab[token] if token in vocab\n",
    "            else vocab['UNK']\n",
    "            for token in sentence]\n",
    "        sentences.append(s)\n",
    "\n",
    "    for sentence in tag:\n",
    "        l = [tag_map[label] for label in sentence]\n",
    "        labels.append(l)\n",
    "\n",
    "    return sentences, labels\n",
    "\n",
    "train_sentences = []\n",
    "train_labels = []\n",
    "\n",
    "val_sentences = []\n",
    "val_labels = []\n",
    "\n",
    "test_sentences = []\n",
    "test_labels = []\n",
    "\n",
    "train_sentences, train_labels = indexify(train_data, train_tags)\n",
    "val_sentences, val_labels = indexify(val_data, val_tags)\n",
    "test_sentences, test_labels = indexify(test_data, test_tags)"
   ]
  },
  {
   "cell_type": "code",
   "execution_count": 54,
   "id": "08f5939b",
   "metadata": {
    "collapsed": false,
    "pycharm": {
     "name": "#%%\n"
    }
   },
   "outputs": [],
   "source": [
    "def data_iterator(sentences, labels, total_size: int, batch_size: int, shuffle: bool=False, cuda=True):\n",
    "    # make a list that decides the order in which we go over the data- this avoids explicit shuffling of data\n",
    "    order = list(range(total_size))\n",
    "    if shuffle:\n",
    "        random.seed(230)\n",
    "        random.shuffle(order)\n",
    "\n",
    "    # one pass over data\n",
    "    for i in range((total_size+1)//batch_size):\n",
    "        # fetch sentences and tags\n",
    "        batch_sentences = [sentences[idx] for idx in order[i*batch_size:(i+1)*batch_size]]\n",
    "        batch_tags = [labels[idx] for idx in order[i*batch_size:(i+1)*batch_size]]\n",
    "\n",
    "        # compute length of the longest sentence in the batch\n",
    "        batch_max_len = max([len(s) for s in batch_sentences])\n",
    "\n",
    "        # prepare a numpy array with the data, initialising the data with pad_ind and all labels with -1\n",
    "        # initialising labels to -1 differentiates tokens with tags from PADding tokens\n",
    "        batch_data = vocab['<pad>']*np.ones((len(batch_sentences), batch_max_len))\n",
    "        batch_labels = -1*np.ones((len(batch_sentences), batch_max_len))\n",
    "\n",
    "        # copy the data to the numpy array\n",
    "        for j in range(len(batch_sentences)):\n",
    "            cur_len = len(batch_sentences[j])\n",
    "            batch_data[j][:cur_len] = batch_sentences[j]\n",
    "            batch_labels[j][:cur_len] = batch_tags[j]\n",
    "\n",
    "        # since all data are indices, we convert them to torch LongTensors\n",
    "        batch_data, batch_labels = torch.LongTensor(batch_data), torch.LongTensor(batch_labels)\n",
    "\n",
    "        # shift tensors to GPU if available\n",
    "        if cuda:\n",
    "            batch_data, batch_labels = batch_data.cuda(), batch_labels.cuda()\n",
    "\n",
    "        # convert them to Variables to record operations in the computational graph\n",
    "        batch_data, batch_labels = Variable(batch_data), Variable(batch_labels)\n",
    "\n",
    "        yield batch_data, batch_labels, batch_sentences"
   ]
  },
  {
   "cell_type": "markdown",
   "id": "8545ceeb9f22c7db",
   "metadata": {
    "collapsed": false,
    "pycharm": {
     "name": "#%% md\n"
    }
   },
   "source": [
    "The neural network used below is an LSTM-based network that predicts named entity recognition (NER) tags for each\n",
    "token in a sentence. It consists of three main components:\n",
    "\n",
    "1. An embedding layer that maps each token to its embedding vector.\n",
    "2. An LSTM layer that processes the embedded tokens and produces LSTM outputs for each token.\n",
    "3. A fully connected layer (fc) that converts the LSTM output for each token to a distribution over NER tags.\n",
    "The forward computation involves the following steps:\n",
    "\n",
    "Embedding: Mapping tokens to their embedding vectors using the embedding layer.\n",
    "\n",
    "LSTM: Applying the LSTM on the embedded tokens, resulting in LSTM outputs for each token.\n",
    "\n",
    "Reshaping: Making the output contiguous in memory and reshaping it for further processing.\n",
    "\n",
    "Fully Connected Layer: Applying the fully connected layer to obtain the output for each token before the softmax.\n",
    "\n",
    "Log Softmax: Applying log softmax to the output for numerical stability.\n",
    "\n",
    "The final vector representation of each word is obtained from the LSTM output, and it is of size lstm_hidden_dim. This representation is then used to compute the distribution over NER tags."
   ]
  },
  {
   "cell_type": "code",
   "execution_count": 10,
   "id": "ab03416b",
   "metadata": {
    "collapsed": false,
    "pycharm": {
     "name": "#%%\n"
    }
   },
   "outputs": [],
   "source": [
    "class Net(nn.Module):\n",
    "    def __init__(self, embedding_weights, embedding_dim, lstm_hidden_dim, number_of_tags):\n",
    "        \"\"\"\n",
    "        We define a recurrent network that predicts the NER tags for each token in the sentence. The components\n",
    "        required are:\n",
    "\n",
    "        - an embedding layer: this layer maps each index in range(params.vocab_size) to a params.embedding_dim vector\n",
    "        - lstm: applying the LSTM on the sequential input returns an output for each token in the sentence\n",
    "        - fc: a fully connected layer that converts the LSTM output for each token to a distribution over NER tags\n",
    "\n",
    "        Args:\n",
    "            embedding_weights: pretrained embedding weights\n",
    "            embedding_dim: dimension of a single word embedding\n",
    "            lstm_hidden_dim: number of hidden dimensions in the LSTM\n",
    "            number_of_tags: distinct NER tags\n",
    "        \"\"\"\n",
    "        super(Net, self).__init__()\n",
    "\n",
    "        # the embedding takes as input the vocab_size and the embedding_dim\n",
    "        self.embedding = nn.Embedding.from_pretrained(embedding_weights, padding_idx=pad_index, freeze=True)\n",
    "\n",
    "        # the LSTM takes as input the size of its input (embedding_dim), its hidden size\n",
    "        # for more details on how to use it, check out the documentation\n",
    "        self.lstm = nn.LSTM(embedding_dim, lstm_hidden_dim, batch_first=True)\n",
    "\n",
    "        self.batch_norm1 = nn.BatchNorm1d(lstm_hidden_dim)\n",
    "        # the fully connected layer transforms the output to give the final output layer\n",
    "        self.fc = nn.Linear(lstm_hidden_dim, number_of_tags)\n",
    "\n",
    "    def forward(self, s):\n",
    "        \"\"\"\n",
    "        This function defines how we use the components of our network to operate on an input batch.\n",
    "\n",
    "        Args:\n",
    "            s: (Variable) contains a batch of sentences, of dimension batch_size x seq_len, where seq_len is\n",
    "               the length of the longest sentence in the batch. For sentences shorter than seq_len, the remaining\n",
    "               tokens are PADding tokens. Each row is a sentence with each element corresponding to the index of\n",
    "               the token in the vocab.\n",
    "\n",
    "        Returns:\n",
    "            out: (Variable) dimension batch_size*seq_len x num_tags with the log probabilities of tokens for each token\n",
    "                 of each sentence.\n",
    "\n",
    "        \"\"\"\n",
    "        # apply the embedding layer that maps each token to its embedding\n",
    "        # dim: batch_size x seq_len x embedding_dim\n",
    "        s = self.embedding(s)\n",
    "\n",
    "        # run the LSTM along the sentences of length seq_len\n",
    "        # dim: batch_size x seq_len x lstm_hidden_dim\n",
    "        s, _ = self.lstm(s)\n",
    "\n",
    "        # make the Variable contiguous in memory (a PyTorch artefact)\n",
    "        s = s.contiguous()\n",
    "\n",
    "        # reshape the Variable so that each row contains one token\n",
    "        # dim: batch_size*seq_len x lstm_hidden_dim\n",
    "        s = s.view(-1, s.shape[2])\n",
    "\n",
    "        s = self.batch_norm1(s)\n",
    "        \n",
    "        # apply the fully connected layer and obtain the output (before softmax) for each token\n",
    "        s = self.fc(s)                   # dim: batch_size*seq_len x num_tags\n",
    "\n",
    "        # apply log softmax on each token's output (this is recommended over applying softmax\n",
    "        # since it is numerically more stable)\n",
    "        return F.log_softmax(s, dim=1)   # dim: batch_size*seq_len x num_tags"
   ]
  },
  {
   "cell_type": "code",
   "execution_count": 11,
   "id": "4ecfde36",
   "metadata": {
    "collapsed": false,
    "pycharm": {
     "name": "#%%\n"
    }
   },
   "outputs": [],
   "source": [
    "def loss_fn(outputs, labels):\n",
    "    \"\"\"\n",
    "    Compute the cross entropy loss given outputs from the model and labels for all tokens. Exclude loss terms\n",
    "    for PADDING tokens.\n",
    "\n",
    "    Args:\n",
    "        outputs: (Variable) dimension batch_size*seq_len x num_tags - log softmax output of the model\n",
    "        labels: (Variable) dimension batch_size x seq_len where each element is either a label in [0, 1, ... num_tag-1],\n",
    "                or -1 in case it is a PADding token.\n",
    "\n",
    "    Returns:\n",
    "        loss: (Variable) cross entropy loss for all tokens in the batch\n",
    "    \"\"\"\n",
    "\n",
    "    # reshape labels to give a flat vector of length batch_size*seq_len\n",
    "    labels = labels.view(-1)\n",
    "\n",
    "    # since PADding tokens have label -1, we can generate a mask to exclude the loss from those terms\n",
    "    mask = (labels >= 0).float()\n",
    "\n",
    "    # indexing with negative values is not supported. Since PADded tokens have label -1, we convert them to a positive\n",
    "    # number. This does not affect training, since we ignore the PADded tokens with the mask.\n",
    "    labels = labels % outputs.shape[1]\n",
    "\n",
    "    num_tokens = int(torch.sum(mask))\n",
    "\n",
    "    # compute cross entropy loss for all tokens (except PADding tokens), by multiplying with mask.\n",
    "    return -torch.sum(outputs[range(outputs.shape[0]), labels]*mask)/num_tokens"
   ]
  },
  {
   "cell_type": "code",
   "execution_count": 12,
   "id": "f9378985",
   "metadata": {
    "collapsed": false,
    "pycharm": {
     "name": "#%%\n"
    }
   },
   "outputs": [],
   "source": [
    "class RunningAverage:\n",
    "    \"\"\"A simple class that maintains the running average of a quantity\n",
    "\n",
    "    Example:\n",
    "    ```\n",
    "    loss_avg = RunningAverage()\n",
    "    loss_avg.update(2)\n",
    "    loss_avg.update(4)\n",
    "    loss_avg() = 3\n",
    "    ```\n",
    "    \"\"\"\n",
    "\n",
    "    def __init__(self):\n",
    "        self.steps = 0\n",
    "        self.total = 0\n",
    "\n",
    "    def update(self, val):\n",
    "        self.total += val\n",
    "        self.steps += 1\n",
    "\n",
    "    def __call__(self):\n",
    "        return self.total / float(self.steps)"
   ]
  },
  {
   "cell_type": "code",
   "execution_count": 13,
   "id": "c42a94f6-a47b-433e-a76b-c4b2b1b05a48",
   "metadata": {},
   "outputs": [],
   "source": [
    "class EarlyStopper:\n",
    "    def __init__(self, patience=3, min_delta=0):\n",
    "        self.patience = patience\n",
    "        self.min_delta = min_delta\n",
    "        self.counter = 0\n",
    "        self.min_validation_loss = np.inf\n",
    "\n",
    "    def early_stop(self, validation_loss):\n",
    "        if validation_loss < self.min_validation_loss:\n",
    "            self.min_validation_loss = validation_loss\n",
    "            self.counter = 0\n",
    "        elif validation_loss > (self.min_validation_loss + self.min_delta):\n",
    "            self.counter += 1\n",
    "            if self.counter >= self.patience:\n",
    "                return True\n",
    "        return False"
   ]
  },
  {
   "cell_type": "markdown",
   "id": "a743d52fbe278ffd",
   "metadata": {
    "collapsed": false,
    "pycharm": {
     "name": "#%% md\n"
    }
   },
   "source": [
    "Training and Eval code:"
   ]
  },
  {
   "cell_type": "code",
   "execution_count": 14,
   "id": "1257b3e51121267c",
   "metadata": {
    "collapsed": false,
    "pycharm": {
     "name": "#%%\n"
    }
   },
   "outputs": [],
   "source": [
    "def train(model, optimizer, loss_fn, data_iterator, metrics, num_steps):\n",
    "    \"\"\"Train the model on `num_steps` batches\n",
    "\n",
    "    Args:\n",
    "        model: (torch.nn.Module) the neural network\n",
    "        optimizer: (torch.optim) optimizer for parameters of model\n",
    "        loss_fn: a function that takes batch_output and batch_labels and computes the loss for the batch\n",
    "        data_iterator: (generator) a generator that generates batches of data and labels\n",
    "        metrics: (dict) a dictionary of functions that compute a metric using the output and labels of each batch\n",
    "        num_steps: (int) number of batches to train on, each of size params.batch_size\n",
    "    \"\"\"\n",
    "\n",
    "    # set model to training mode\n",
    "    model.train()\n",
    "\n",
    "    # summary for current training loop and a running average object for loss\n",
    "    summ = []\n",
    "    loss_avg = RunningAverage()\n",
    "\n",
    "    # Use tqdm for progress bar\n",
    "    t = trange(num_steps)\n",
    "    for i in t:\n",
    "        # fetch the next training batch\n",
    "        train_batch, labels_batch, _ = next(data_iterator)\n",
    "\n",
    "        # compute model output and loss\n",
    "        output_batch = model(train_batch)\n",
    "        loss = loss_fn(output_batch, labels_batch)\n",
    "\n",
    "        # clear previous gradients, compute gradients of all variables wrt loss\n",
    "        optimizer.zero_grad()\n",
    "        loss.backward()\n",
    "\n",
    "        # performs updates using calculated gradients\n",
    "        optimizer.step()\n",
    "\n",
    "        # Evaluate summaries only once in a while\n",
    "        if i % 10 == 0:\n",
    "            # extract data from torch Variable, move to cpu, convert to numpy arrays\n",
    "            output_batch = output_batch.data.cpu().numpy()\n",
    "            labels_batch = labels_batch.data.cpu().numpy()\n",
    "                \n",
    "\n",
    "            # compute all metrics on this batch\n",
    "            summary_batch = {metric: metrics[metric](output_batch, labels_batch)\n",
    "                             for metric in metrics}\n",
    "            summary_batch['loss'] = loss.item()\n",
    "            summ.append(summary_batch)\n",
    "\n",
    "        # update the average loss\n",
    "        loss_avg.update(loss.item())\n",
    "        t.set_postfix(loss='{:05.3f}'.format(loss_avg()))\n",
    "\n",
    "    # compute mean of all metrics in summary\n",
    "    metrics_mean = {metric: np.mean([x[metric]\n",
    "                                     for x in summ]) for metric in summ[0]}\n",
    "    metrics_string = \" ; \".join(\"{}: {:05.3f}\".format(k, v)\n",
    "                                for k, v in metrics_mean.items())\n",
    "    print(\"- Training f1 score: \" + metrics_string)\n",
    "    return metrics_mean"
   ]
  },
  {
   "cell_type": "code",
   "execution_count": 15,
   "id": "5108a7c6bee7ac2d",
   "metadata": {
    "collapsed": false,
    "pycharm": {
     "name": "#%%\n"
    }
   },
   "outputs": [],
   "source": [
    "def evaluate(model, loss_fn, data_iterator, metrics, num_steps):\n",
    "    \"\"\"Evaluate the model on `num_steps` batches.\n",
    "\n",
    "    Args:\n",
    "        model: (torch.nn.Module) the neural network\n",
    "        loss_fn: a function that takes batch_output and batch_labels and computes the loss for the batch\n",
    "        data_iterator: (generator) a generator that generates batches of data and labels\n",
    "        metrics: (dict) a dictionary of functions that compute a metric using the output and labels of each batch\n",
    "        num_steps: (int) number of batches to train on, each of size params.batch_size\n",
    "    \"\"\"\n",
    "\n",
    "    # set model to evaluation mode\n",
    "    model.eval()\n",
    "\n",
    "    # summary for current eval loop\n",
    "    summ = []\n",
    "\n",
    "    # compute metrics over the dataset\n",
    "    for _ in range(num_steps):\n",
    "        # fetch the next evaluation batch\n",
    "        data_batch, labels_batch, _ = next(data_iterator)\n",
    "\n",
    "        # compute model output\n",
    "        output_batch = model(data_batch)\n",
    "        loss = loss_fn(output_batch, labels_batch)\n",
    "\n",
    "        # extract data from torch Variable, move to cpu, convert to numpy arrays\n",
    "        output_batch = output_batch.data.cpu().numpy()\n",
    "        labels_batch = labels_batch.data.cpu().numpy()\n",
    "\n",
    "        # compute all metrics on this batch\n",
    "        summary_batch = {metric: metrics[metric](output_batch, labels_batch)\n",
    "                         for metric in metrics}\n",
    "        summary_batch['loss'] = loss.item()\n",
    "        summ.append(summary_batch)\n",
    "\n",
    "    # compute mean of all metrics in summary\n",
    "    metrics_mean = {metric:np.mean([x[metric] for x in summ]) for metric in summ[0]}\n",
    "    metrics_string = \" ; \".join(\"{}: {:05.3f}\".format(k, v) for k, v in metrics_mean.items())\n",
    "    print(\"- Validation f1 score : \" + metrics_string)\n",
    "    return metrics_mean"
   ]
  },
  {
   "cell_type": "code",
   "execution_count": 16,
   "id": "8fc3fd180abcdac4",
   "metadata": {
    "collapsed": false,
    "editable": true,
    "pycharm": {
     "name": "#%%\n"
    },
    "slideshow": {
     "slide_type": ""
    },
    "tags": []
   },
   "outputs": [],
   "source": [
    "def train_and_evaluate(\n",
    "        model,\n",
    "        train_sentences,\n",
    "        train_labels,\n",
    "        val_sentences,\n",
    "        val_labels,\n",
    "        num_epochs: int,\n",
    "        batch_size: int,\n",
    "        optimizer,\n",
    "        loss_fn,\n",
    "        metrics\n",
    "):\n",
    "    early_stopper = EarlyStopper(patience=5, min_delta=0.1)\n",
    "    \n",
    "    model=model.to(device)\n",
    "    train_metrics_list = []\n",
    "    val_metrics_list = []\n",
    "    for epoch in range(num_epochs):\n",
    "        # Run one epoch\n",
    "        print(\"Epoch {}/{}\".format(epoch + 1, num_epochs))\n",
    "\n",
    "        # compute number of batches in one epoch (one full pass over the training set)\n",
    "        num_steps = (len(train_sentences) + 1) // batch_size\n",
    "        train_data_iterator = data_iterator(\n",
    "            train_sentences, train_labels, len(train_sentences), batch_size, shuffle=True, cuda=torch.cuda.is_available())\n",
    "        train_metrics = train(model, optimizer, loss_fn, train_data_iterator,\n",
    "              metrics, num_steps)\n",
    "\n",
    "        # Evaluate for one epoch on validation set\n",
    "        num_steps = (len(val_sentences) + 1) // batch_size\n",
    "        val_data_iterator = data_iterator(\n",
    "            val_sentences, val_labels, len(val_sentences), batch_size, shuffle=False, cuda=torch.cuda.is_available())\n",
    "        val_metrics = evaluate(\n",
    "            model, loss_fn, val_data_iterator, metrics, num_steps)\n",
    "\n",
    "        train_metrics_list.append(train_metrics)\n",
    "        val_metrics_list.append(val_metrics)\n",
    "\n",
    "        if early_stopper.early_stop(val_metrics[\"loss\"]):             \n",
    "            break\n",
    "\n",
    "    return train_metrics_list, val_metrics_list"
   ]
  },
  {
   "cell_type": "code",
   "execution_count": 17,
   "id": "15a16fc310ca129c",
   "metadata": {
    "collapsed": false,
    "pycharm": {
     "name": "#%%\n"
    }
   },
   "outputs": [],
   "source": [
    "inv_vocab = {v: k for k, v in vocab.items()}\n",
    "inv_tag_map = {v: k for k, v in tag_map.items()}\n",
    "\n",
    "def id_to_words(sentence):\n",
    "    new_sentence = [inv_vocab[i] for i in sentence]\n",
    "    return new_sentence\n",
    "\n",
    "def id_to_labels(labels):\n",
    "    new_sentence = [inv_tag_map[i] for i in labels]\n",
    "    return new_sentence"
   ]
  },
  {
   "cell_type": "markdown",
   "id": "bad6d35020ba4d82",
   "metadata": {
    "collapsed": false,
    "pycharm": {
     "name": "#%% md\n"
    }
   },
   "source": [
    "Various function to determine the accuracy/stats of the model:\n",
    "\n",
    "- accuracy(outputs, labels): Computes the accuracy of the model's predictions given the outputs and labels, excluding\n",
    "padding terms.\n",
    "- calculate_multiclass_f1_score(outputs, labels): Calculates the multiclass F1 score for the model's predictions, excluding padding terms. It converts class IDs to labels and returns the F1 score.\n",
    "- classification_report_gen(outputs, labels): Generates a classification report for the model's predictions, excluding padding terms. It converts class IDs to labels and returns the classification report."
   ]
  },
  {
   "cell_type": "code",
   "execution_count": 18,
   "id": "4d1c277eb4f0a2df",
   "metadata": {
    "collapsed": false,
    "pycharm": {
     "name": "#%%\n"
    }
   },
   "outputs": [],
   "source": [
    "def calculate_multiclass_f1_score(outputs, labels):\n",
    "    \n",
    "    labels = labels.ravel()\n",
    "    mask = (labels >= 0)  \n",
    "    outputs = np.argmax(outputs, axis=1)\n",
    "    outputs = outputs[mask]\n",
    "    labels = labels[mask]\n",
    "    outputs = id_to_labels(outputs)\n",
    "    labels = id_to_labels(labels)\n",
    "    outputs = np.expand_dims(outputs, axis=0)\n",
    "    labels = np.expand_dims(labels, axis=0)\n",
    "    outputs = outputs.tolist()\n",
    "    labels = labels.tolist()\n",
    "    f1= f1_score_seqeval(labels, outputs)\n",
    "    return f1\n",
    "\n",
    "def classification_report_gen(outputs, labels):\n",
    "    labels = labels.ravel()\n",
    "    mask = (labels >= 0)  \n",
    "    outputs = np.argmax(outputs, axis=1)\n",
    "    outputs = outputs[mask]\n",
    "    labels = labels[mask]\n",
    "    outputs = id_to_labels(outputs)\n",
    "    labels = id_to_labels(labels)\n",
    "    outputs = np.expand_dims(outputs, axis=0)\n",
    "    labels = np.expand_dims(labels, axis=0)\n",
    "    outputs = outputs.tolist()\n",
    "    labels = labels.tolist()\n",
    "    return classification_report(labels, outputs)\n",
    "\n",
    "metrics = {\n",
    "    'f1_seqeval': calculate_multiclass_f1_score\n",
    "}"
   ]
  },
  {
   "cell_type": "code",
   "execution_count": 19,
   "id": "dff023bab2ccc8c9",
   "metadata": {
    "collapsed": false,
    "pycharm": {
     "name": "#%%\n"
    }
   },
   "outputs": [
    {
     "name": "stdout",
     "output_type": "stream",
     "text": [
      "device: cuda:0\n"
     ]
    }
   ],
   "source": [
    "# Check if a GPU is available, and if so, use it\n",
    "device = torch.device(\"cuda:0\" if torch.cuda.is_available() else \"cpu\")\n",
    "print(\"device:\", device)"
   ]
  },
  {
   "cell_type": "markdown",
   "id": "d39c16af97b386e1",
   "metadata": {
    "collapsed": false,
    "pycharm": {
     "name": "#%% md\n"
    }
   },
   "source": [
    "Start the training process"
   ]
  },
  {
   "cell_type": "code",
   "execution_count": null,
   "id": "e27b04bc74c10bb1",
   "metadata": {},
   "outputs": [],
   "source": [
    "# manually change vocab size (unique no. of words) and change label size (unique no. of labels) for now\n",
    "model = Net(embedding_weights, 300, 300, len(tag_map))\n",
    "# Move the model to the GPU\n",
    "model.to(device)"
   ]
  },
  {
   "cell_type": "markdown",
   "id": "b41ad76eadcf6979",
   "metadata": {},
   "source": [
    "## Print out model parameters"
   ]
  },
  {
   "cell_type": "code",
   "execution_count": 95,
   "id": "d4a7e7e55d4d3ec0",
   "metadata": {},
   "outputs": [
    {
     "name": "stdout",
     "output_type": "stream",
     "text": [
      "lstm.weight_ih_l0 torch.Size([1200, 300])\n",
      "lstm.weight_hh_l0 torch.Size([1200, 300])\n",
      "lstm.bias_ih_l0 torch.Size([1200])\n",
      "lstm.bias_hh_l0 torch.Size([1200])\n",
      "batch_norm1.weight torch.Size([300])\n",
      "batch_norm1.bias torch.Size([300])\n",
      "fc.weight torch.Size([8, 300])\n",
      "fc.bias torch.Size([8])\n"
     ]
    }
   ],
   "source": [
    "for name, param in model.named_parameters():\n",
    "    if param.requires_grad:\n",
    "        print(name, param.data.shape)"
   ]
  },
  {
   "cell_type": "code",
   "execution_count": 20,
   "id": "ba1711517d90c788",
   "metadata": {
    "collapsed": false,
    "pycharm": {
     "name": "#%%\n"
    }
   },
   "outputs": [
    {
     "name": "stdout",
     "output_type": "stream",
     "text": [
      "len(tag_map): 8\n",
      "Epoch 1/100\n"
     ]
    },
    {
     "name": "stderr",
     "output_type": "stream",
     "text": [
      "100%|██████████| 2808/2808 [00:16<00:00, 173.49it/s, loss=0.164]\n"
     ]
    },
    {
     "name": "stdout",
     "output_type": "stream",
     "text": [
      "- Training f1 score: f1_seqeval: 0.733 ; loss: 0.163\n",
      "- Validation f1 score : f1_seqeval: 0.760 ; loss: 0.122\n",
      "Epoch 2/100\n"
     ]
    },
    {
     "name": "stderr",
     "output_type": "stream",
     "text": [
      "100%|██████████| 2808/2808 [00:14<00:00, 193.42it/s, loss=0.102]\n"
     ]
    },
    {
     "name": "stdout",
     "output_type": "stream",
     "text": [
      "- Training f1 score: f1_seqeval: 0.820 ; loss: 0.096\n",
      "- Validation f1 score : f1_seqeval: 0.773 ; loss: 0.107\n",
      "Epoch 3/100\n"
     ]
    },
    {
     "name": "stderr",
     "output_type": "stream",
     "text": [
      "100%|██████████| 2808/2808 [00:14<00:00, 191.58it/s, loss=0.075]\n"
     ]
    },
    {
     "name": "stdout",
     "output_type": "stream",
     "text": [
      "- Training f1 score: f1_seqeval: 0.862 ; loss: 0.071\n",
      "- Validation f1 score : f1_seqeval: 0.776 ; loss: 0.107\n",
      "Epoch 4/100\n"
     ]
    },
    {
     "name": "stderr",
     "output_type": "stream",
     "text": [
      "100%|██████████| 2808/2808 [00:16<00:00, 171.94it/s, loss=0.054]\n"
     ]
    },
    {
     "name": "stdout",
     "output_type": "stream",
     "text": [
      "- Training f1 score: f1_seqeval: 0.891 ; loss: 0.050\n",
      "- Validation f1 score : f1_seqeval: 0.788 ; loss: 0.118\n",
      "Epoch 5/100\n"
     ]
    },
    {
     "name": "stderr",
     "output_type": "stream",
     "text": [
      "100%|██████████| 2808/2808 [00:14<00:00, 191.47it/s, loss=0.038]\n"
     ]
    },
    {
     "name": "stdout",
     "output_type": "stream",
     "text": [
      "- Training f1 score: f1_seqeval: 0.928 ; loss: 0.036\n",
      "- Validation f1 score : f1_seqeval: 0.780 ; loss: 0.130\n",
      "Epoch 6/100\n"
     ]
    },
    {
     "name": "stderr",
     "output_type": "stream",
     "text": [
      "100%|██████████| 2808/2808 [00:14<00:00, 190.63it/s, loss=0.029]\n"
     ]
    },
    {
     "name": "stdout",
     "output_type": "stream",
     "text": [
      "- Training f1 score: f1_seqeval: 0.945 ; loss: 0.026\n",
      "- Validation f1 score : f1_seqeval: 0.777 ; loss: 0.146\n",
      "Epoch 7/100\n"
     ]
    },
    {
     "name": "stderr",
     "output_type": "stream",
     "text": [
      "100%|██████████| 2808/2808 [00:15<00:00, 177.81it/s, loss=0.023]\n"
     ]
    },
    {
     "name": "stdout",
     "output_type": "stream",
     "text": [
      "- Training f1 score: f1_seqeval: 0.959 ; loss: 0.020\n",
      "- Validation f1 score : f1_seqeval: 0.771 ; loss: 0.165\n",
      "Epoch 8/100\n"
     ]
    },
    {
     "name": "stderr",
     "output_type": "stream",
     "text": [
      "100%|██████████| 2808/2808 [00:14<00:00, 192.00it/s, loss=0.018]\n"
     ]
    },
    {
     "name": "stdout",
     "output_type": "stream",
     "text": [
      "- Training f1 score: f1_seqeval: 0.967 ; loss: 0.017\n",
      "- Validation f1 score : f1_seqeval: 0.780 ; loss: 0.166\n",
      "Epoch 9/100\n"
     ]
    },
    {
     "name": "stderr",
     "output_type": "stream",
     "text": [
      "100%|██████████| 2808/2808 [00:14<00:00, 187.38it/s, loss=0.015]\n"
     ]
    },
    {
     "name": "stdout",
     "output_type": "stream",
     "text": [
      "- Training f1 score: f1_seqeval: 0.973 ; loss: 0.014\n",
      "- Validation f1 score : f1_seqeval: 0.779 ; loss: 0.177\n",
      "Epoch 10/100\n"
     ]
    },
    {
     "name": "stderr",
     "output_type": "stream",
     "text": [
      "100%|██████████| 2808/2808 [00:14<00:00, 192.59it/s, loss=0.014]\n"
     ]
    },
    {
     "name": "stdout",
     "output_type": "stream",
     "text": [
      "- Training f1 score: f1_seqeval: 0.973 ; loss: 0.013\n",
      "- Validation f1 score : f1_seqeval: 0.783 ; loss: 0.186\n",
      "Epoch 11/100\n"
     ]
    },
    {
     "name": "stderr",
     "output_type": "stream",
     "text": [
      "100%|██████████| 2808/2808 [00:15<00:00, 184.66it/s, loss=0.012]\n"
     ]
    },
    {
     "name": "stdout",
     "output_type": "stream",
     "text": [
      "- Training f1 score: f1_seqeval: 0.971 ; loss: 0.011\n",
      "- Validation f1 score : f1_seqeval: 0.786 ; loss: 0.186\n",
      "Epoch 12/100\n"
     ]
    },
    {
     "name": "stderr",
     "output_type": "stream",
     "text": [
      "100%|██████████| 2808/2808 [00:14<00:00, 195.38it/s, loss=0.011]\n"
     ]
    },
    {
     "name": "stdout",
     "output_type": "stream",
     "text": [
      "- Training f1 score: f1_seqeval: 0.979 ; loss: 0.010\n",
      "- Validation f1 score : f1_seqeval: 0.788 ; loss: 0.201\n",
      "Epoch 13/100\n"
     ]
    },
    {
     "name": "stderr",
     "output_type": "stream",
     "text": [
      "100%|██████████| 2808/2808 [00:14<00:00, 195.34it/s, loss=0.010]\n"
     ]
    },
    {
     "name": "stdout",
     "output_type": "stream",
     "text": [
      "- Training f1 score: f1_seqeval: 0.980 ; loss: 0.009\n",
      "- Validation f1 score : f1_seqeval: 0.781 ; loss: 0.207\n",
      "Epoch 14/100\n"
     ]
    },
    {
     "name": "stderr",
     "output_type": "stream",
     "text": [
      "100%|██████████| 2808/2808 [00:14<00:00, 195.31it/s, loss=0.009]\n"
     ]
    },
    {
     "name": "stdout",
     "output_type": "stream",
     "text": [
      "- Training f1 score: f1_seqeval: 0.985 ; loss: 0.008\n",
      "- Validation f1 score : f1_seqeval: 0.795 ; loss: 0.206\n",
      "Epoch 15/100\n"
     ]
    },
    {
     "name": "stderr",
     "output_type": "stream",
     "text": [
      "100%|██████████| 2808/2808 [00:14<00:00, 198.07it/s, loss=0.008]\n"
     ]
    },
    {
     "name": "stdout",
     "output_type": "stream",
     "text": [
      "- Training f1 score: f1_seqeval: 0.981 ; loss: 0.010\n",
      "- Validation f1 score : f1_seqeval: 0.786 ; loss: 0.222\n",
      "Epoch 16/100\n"
     ]
    },
    {
     "name": "stderr",
     "output_type": "stream",
     "text": [
      "100%|██████████| 2808/2808 [00:14<00:00, 192.15it/s, loss=0.008]\n"
     ]
    },
    {
     "name": "stdout",
     "output_type": "stream",
     "text": [
      "- Training f1 score: f1_seqeval: 0.980 ; loss: 0.009\n",
      "- Validation f1 score : f1_seqeval: 0.803 ; loss: 0.208\n",
      "Epoch 17/100\n"
     ]
    },
    {
     "name": "stderr",
     "output_type": "stream",
     "text": [
      "100%|██████████| 2808/2808 [00:16<00:00, 169.75it/s, loss=0.007]\n"
     ]
    },
    {
     "name": "stdout",
     "output_type": "stream",
     "text": [
      "- Training f1 score: f1_seqeval: 0.988 ; loss: 0.007\n",
      "- Validation f1 score : f1_seqeval: 0.795 ; loss: 0.218\n",
      "Epoch 18/100\n"
     ]
    },
    {
     "name": "stderr",
     "output_type": "stream",
     "text": [
      "100%|██████████| 2808/2808 [00:17<00:00, 163.77it/s, loss=0.007]\n"
     ]
    },
    {
     "name": "stdout",
     "output_type": "stream",
     "text": [
      "- Training f1 score: f1_seqeval: 0.987 ; loss: 0.006\n",
      "- Validation f1 score : f1_seqeval: 0.796 ; loss: 0.227\n",
      "total training time taken: 296.8314278125763\n"
     ]
    }
   ],
   "source": [
    "# Q1.3b\n",
    "print(\"len(tag_map):\", len(tag_map))\n",
    "optimizer = optim.Adam(model.parameters(), lr=0.001)\n",
    "\n",
    "if os.path.isfile(\"model_weights_q1_part3.pth\"):\n",
    "    model.load_state_dict(torch.load('model_weights_q1_part3.pth'))\n",
    "    \n",
    "else:\n",
    "    start_time = time.time()\n",
    "    train_metrics_list, val_metrics_list = train_and_evaluate(model, train_sentences, train_labels, val_sentences,\n",
    "                                                            val_labels, 100, 5, optimizer, loss_fn, metrics)\n",
    "    end_time = time.time()\n",
    "    total_time = end_time - start_time\n",
    "    print(\"total training time taken:\", total_time)\n",
    "    torch.save(model.state_dict(), 'model_weights_q1_part3.pth')"
   ]
  },
  {
   "cell_type": "markdown",
   "id": "63745660c449d95a",
   "metadata": {
    "collapsed": false,
    "pycharm": {
     "name": "#%% md\n"
    }
   },
   "source": [
    "## Collate the data and plot f1 scores"
   ]
  },
  {
   "cell_type": "code",
   "execution_count": 21,
   "id": "e989c21e62a8c907",
   "metadata": {
    "collapsed": false,
    "pycharm": {
     "name": "#%%\n"
    }
   },
   "outputs": [],
   "source": [
    "# Process metrics for plot\n",
    "train_f1_list = []\n",
    "val_f1_list = []\n",
    "for i in train_metrics_list:\n",
    "    train_f1_list.append(i[\"f1_seqeval\"])\n",
    "for i in val_metrics_list:\n",
    "    val_f1_list.append(i[\"f1_seqeval\"])"
   ]
  },
  {
   "cell_type": "code",
   "execution_count": 22,
   "id": "9cffe9b7e7e2c27d",
   "metadata": {
    "collapsed": false,
    "pycharm": {
     "name": "#%%\n"
    }
   },
   "outputs": [
    {
     "name": "stdout",
     "output_type": "stream",
     "text": [
      "Epoch 1 - Training F1: 0.7326, Validation F1: 0.7601\n",
      "Epoch 2 - Training F1: 0.8197, Validation F1: 0.7731\n",
      "Epoch 3 - Training F1: 0.8617, Validation F1: 0.7762\n",
      "Epoch 4 - Training F1: 0.8913, Validation F1: 0.7877\n",
      "Epoch 5 - Training F1: 0.9276, Validation F1: 0.7800\n",
      "Epoch 6 - Training F1: 0.9447, Validation F1: 0.7770\n",
      "Epoch 7 - Training F1: 0.9590, Validation F1: 0.7708\n",
      "Epoch 8 - Training F1: 0.9666, Validation F1: 0.7799\n",
      "Epoch 9 - Training F1: 0.9728, Validation F1: 0.7789\n",
      "Epoch 10 - Training F1: 0.9734, Validation F1: 0.7829\n",
      "Epoch 11 - Training F1: 0.9713, Validation F1: 0.7861\n",
      "Epoch 12 - Training F1: 0.9793, Validation F1: 0.7875\n",
      "Epoch 13 - Training F1: 0.9796, Validation F1: 0.7808\n",
      "Epoch 14 - Training F1: 0.9848, Validation F1: 0.7947\n",
      "Epoch 15 - Training F1: 0.9812, Validation F1: 0.7864\n",
      "Epoch 16 - Training F1: 0.9797, Validation F1: 0.8033\n",
      "Epoch 17 - Training F1: 0.9880, Validation F1: 0.7949\n",
      "Epoch 18 - Training F1: 0.9867, Validation F1: 0.7956\n",
      "Best Training F1 Score: 0.9880 (Epoch 17)\n",
      "Best Validation F1 Score: 0.8033 (Epoch 16)\n"
     ]
    }
   ],
   "source": [
    "best_train_f1 = 0\n",
    "best_val_f1 = 0\n",
    "best_train_epoch = 0\n",
    "best_val_epoch = 0\n",
    "\n",
    "for epoch, (train_f1, val_f1) in enumerate(zip(train_f1_list, val_f1_list), start=1):\n",
    "    print(f\"Epoch {epoch} - Training F1: {train_f1:.4f}, Validation F1: {val_f1:.4f}\")\n",
    "\n",
    "    # Check for the best F1 score on both training and validation sets\n",
    "    if train_f1 > best_train_f1:\n",
    "        best_train_f1 = train_f1\n",
    "        best_train_epoch = epoch\n",
    "    if val_f1 > best_val_f1:\n",
    "        best_val_f1 = val_f1\n",
    "        best_val_epoch = epoch\n",
    "\n",
    "# Print the best F1 scores and corresponding epochs\n",
    "print(f\"Best Training F1 Score: {best_train_f1:.4f} (Epoch {best_train_epoch})\")\n",
    "print(f\"Best Validation F1 Score: {best_val_f1:.4f} (Epoch {best_val_epoch})\")"
   ]
  },
  {
   "cell_type": "code",
   "execution_count": 31,
   "id": "4cff3dfcc62afe41",
   "metadata": {
    "collapsed": false,
    "pycharm": {
     "name": "#%%\n"
    }
   },
   "outputs": [
    {
     "data": {
      "image/png": "[encoded data removed]",
      "text/plain": [
       "<Figure size 600x400 with 1 Axes>"
      ]
     },
     "metadata": {},
     "output_type": "display_data"
    }
   ],
   "source": [
    "fig = plt.figure(figsize=(6,4))\n",
    "plt.title(\"Training and Validation F1-score\")\n",
    "plt.plot(range(1,len(train_metrics_list)+1),train_f1_list, label='Training f1-score')\n",
    "plt.plot(range(1,len(val_metrics_list)+1),val_f1_list,label='Validation f1-score')\n",
    "plt.legend()\n",
    "plt.show()"
   ]
  },
  {
   "cell_type": "code",
   "execution_count": 24,
   "id": "b6a828ca18d1dc36",
   "metadata": {
    "collapsed": false,
    "pycharm": {
     "name": "#%%\n"
    }
   },
   "outputs": [],
   "source": [
    "#Get entire test data and labels through data iterator\n",
    "'''Test batch- tensor of n_sentences x max_len_sentence\n",
    "   Labels_batch- tensor of n_sentences x max_len_sentence\n",
    "   Test sentences- list of n_sentences x sentence_length(no padding)'''\n",
    "test_data_iterator = data_iterator(test_sentences, test_labels, len(test_sentences), len(test_sentences),\n",
    "                                   shuffle=True, cuda=torch.cuda.is_available())\n",
    "test_batch, labels_batch, test_sentences = next(test_data_iterator)"
   ]
  },
  {
   "cell_type": "code",
   "execution_count": 25,
   "id": "511985f95fadbf35",
   "metadata": {
    "collapsed": false,
    "pycharm": {
     "name": "#%%\n"
    }
   },
   "outputs": [],
   "source": [
    "model_output = model(test_batch)\n",
    "model_output_numpy = model_output.cpu().detach().numpy()\n",
    "labels_batch_numpy = labels_batch.cpu().detach().numpy()"
   ]
  },
  {
   "cell_type": "code",
   "execution_count": 26,
   "id": "d5b8219f7bfefe7c",
   "metadata": {},
   "outputs": [
    {
     "name": "stdout",
     "output_type": "stream",
     "text": [
      "Number of sentences: \n",
      " 3453\n",
      "Number of predicted word labels \n",
      " 428172\n"
     ]
    }
   ],
   "source": [
    "predicted_labels = np.argmax(model_output.cpu().detach().numpy(), axis=1)\n",
    "print(f\"Number of sentences: \\n {len(test_sentences)}\")\n",
    "print(f\"Number of predicted word labels \\n {len(predicted_labels)}\")"
   ]
  },
  {
   "cell_type": "code",
   "execution_count": 27,
   "id": "bdbe5300158625c5",
   "metadata": {},
   "outputs": [
    {
     "name": "stdout",
     "output_type": "stream",
     "text": [
      "sample question: ['Yevgeny', 'Kafelnikov', 'UNK', 'Russia', 'UNK', 'beat', 'Jim', 'Courier', 'UNK', 'U.S.', 'UNK', 'UNK', 'UNK', 'UNK']\n",
      "sample_label_predict: ['I-PER', 'I-PER', 'O', 'I-LOC', 'O', 'O', 'I-PER', 'I-PER', 'O', 'I-LOC', 'O', 'O', 'O', 'O']\n",
      "sample_label_true: ['I-PER', 'I-PER', 'O', 'I-LOC', 'O', 'O', 'I-PER', 'I-PER', 'O', 'I-LOC', 'O', 'O', 'O', 'O']\n"
     ]
    }
   ],
   "source": [
    "#Show model output on sample from test set\n",
    "sample_output = model(test_batch[10].unsqueeze(0)).cpu()\n",
    "sample_question = id_to_words(test_sentences[10])\n",
    "sample_mask = (labels_batch[10] >= 0).cpu()\n",
    "sample_label_predict = np.argmax(sample_output.detach().numpy(), axis=1)[sample_mask]\n",
    "sample_label_true = labels_batch[10][sample_mask]\n",
    "print(f\"sample question: {sample_question}\")\n",
    "print(f\"sample_label_predict: {id_to_labels(sample_label_predict)}\")\n",
    "print(f\"sample_label_true: {id_to_labels(sample_label_true.cpu().numpy())}\")"
   ]
  },
  {
   "cell_type": "code",
   "execution_count": 28,
   "id": "9aa6aeabc92700cb",
   "metadata": {
    "collapsed": false,
    "pycharm": {
     "name": "#%%\n"
    }
   },
   "outputs": [
    {
     "name": "stdout",
     "output_type": "stream",
     "text": [
      "Test set f1 score: 0.7427138285911962\n"
     ]
    }
   ],
   "source": [
    "#compute f1 score for test set\n",
    "f1_score_seqeval = calculate_multiclass_f1_score(model_output_numpy, labels_batch_numpy)\n",
    "print(f\"Test set f1 score: {f1_score_seqeval}\")"
   ]
  },
  {
   "cell_type": "code",
   "execution_count": 29,
   "id": "86138013e1a9730f",
   "metadata": {
    "collapsed": false,
    "pycharm": {
     "name": "#%%\n"
    }
   },
   "outputs": [
    {
     "name": "stdout",
     "output_type": "stream",
     "text": [
      "model_class_report: \n",
      "              precision    recall  f1-score   support\n",
      "\n",
      "         LOC       0.79      0.82      0.80      1661\n",
      "        MISC       0.60      0.66      0.63       702\n",
      "         ORG       0.62      0.70      0.66      1655\n",
      "         PER       0.83      0.82      0.82      1611\n",
      "\n",
      "   micro avg       0.72      0.76      0.74      5629\n",
      "   macro avg       0.71      0.75      0.73      5629\n",
      "weighted avg       0.73      0.76      0.74      5629\n"
     ]
    }
   ],
   "source": [
    "model_class_report = classification_report_gen(model_output_numpy, labels_batch_numpy)\n",
    "print(f\"model_class_report: \\n{model_class_report}\")"
   ]
  },
  {
   "cell_type": "code",
   "execution_count": null,
   "id": "8f4fe53f7ea7cba4",
   "metadata": {},
   "outputs": [],
   "source": []
  }
 ],
 "metadata": {
  "kernelspec": {
   "display_name": "Python 3 (ipykernel)",
   "language": "python",
   "name": "python3"
  },
  "language_info": {
   "codemirror_mode": {
    "name": "ipython",
    "version": 3
   },
   "file_extension": ".py",
   "mimetype": "text/x-python",
   "name": "python",
   "nbconvert_exporter": "python",
   "pygments_lexer": "ipython3",
   "version": "3.10.11"
  },
  "widgets": {
   "application/vnd.jupyter.widget-state+json": {
    "state": {},
    "version_major": 2,
    "version_minor": 0
   }
  }
 },
 "nbformat": 4,
 "nbformat_minor": 5
}
