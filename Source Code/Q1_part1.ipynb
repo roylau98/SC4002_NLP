{
 "cells": [
  {
   "cell_type": "markdown",
   "metadata": {
    "collapsed": false,
    "jupyter": {
     "outputs_hidden": false
    },
    "pycharm": {
     "name": "#%% md\n"
    }
   },
   "source": [
    "# Question 1.1\n",
    "Based on word2vec embeddings you have downloaded, use cosine similarity to find the most similar word to each of these words: (a) “student”; (b) “Apple”; (c) “apple”. Report the most similar word and its cosine similarity.\n"
   ]
  },
  {
   "cell_type": "markdown",
   "metadata": {
    "collapsed": false,
    "jupyter": {
     "outputs_hidden": false
    },
    "pycharm": {
     "name": "#%% md\n"
    }
   },
   "source": [
    "Import relevant libraries"
   ]
  },
  {
   "cell_type": "code",
   "execution_count": 1,
   "metadata": {
    "collapsed": false,
    "jupyter": {
     "outputs_hidden": false
    },
    "pycharm": {
     "name": "#%%\n"
    }
   },
   "outputs": [],
   "source": [
    "import gensim.downloader"
   ]
  },
  {
   "cell_type": "markdown",
   "metadata": {
    "collapsed": false,
    "jupyter": {
     "outputs_hidden": false
    },
    "pycharm": {
     "name": "#%% md\n"
    }
   },
   "source": [
    "Use word2vec_model.most_similar function to retrieve similar words via cosine similarity"
   ]
  },
  {
   "cell_type": "code",
   "execution_count": 2,
   "metadata": {
    "collapsed": false,
    "jupyter": {
     "outputs_hidden": false
    },
    "pycharm": {
     "name": "#%%\n"
    }
   },
   "outputs": [],
   "source": [
    "# Function to find most similar word and its cosine similarity\n",
    "def most_similar_word_and_similarity(word2vec_model, word):\n",
    "    if word in word2vec_model:\n",
    "        similar_words = word2vec_model.most_similar(word)\n",
    "        most_similar_word, cosine_similarity = similar_words[0]\n",
    "        return most_similar_word, cosine_similarity\n",
    "    else:\n",
    "        return \"Word not found in the vocabulary\", None"
   ]
  },
  {
   "cell_type": "code",
   "execution_count": 3,
   "metadata": {
    "collapsed": false,
    "jupyter": {
     "outputs_hidden": false
    },
    "pycharm": {
     "name": "#%%\n"
    }
   },
   "outputs": [
    {
     "name": "stdout",
     "output_type": "stream",
     "text": [
      "(a) Most similar word to 'student': students, Cosine Similarity: 0.7294867038726807\n",
      "(b) Most similar word to 'Apple': Apple_AAPL, Cosine Similarity: 0.7456986308097839\n",
      "(c) Most similar word to 'apple': apples, Cosine Similarity: 0.720359742641449\n"
     ]
    }
   ],
   "source": [
    "# Load the downloaded word2vec model if downloaded, else download\n",
    "word2vec_google_news = gensim.downloader.load('word2vec-google-news-300')\n",
    "\n",
    "# (a) Most similar word to \"student\"\n",
    "similar_word_a, cosine_distance_a = most_similar_word_and_similarity(word2vec_google_news, \"student\")\n",
    "\n",
    "# (b) Most similar word to \"Apple\"\n",
    "similar_word_b, cosine_distance_b = most_similar_word_and_similarity(word2vec_google_news, \"Apple\")\n",
    "\n",
    "# (c) Most similar word to \"apple\"\n",
    "similar_word_c, cosine_distance_c = most_similar_word_and_similarity(word2vec_google_news, \"apple\")\n",
    "\n",
    "# Print the results\n",
    "print(f\"(a) Most similar word to 'student': {similar_word_a}, Cosine Similarity: {cosine_distance_a}\")\n",
    "print(f\"(b) Most similar word to 'Apple': {similar_word_b}, Cosine Similarity: {cosine_distance_b}\")\n",
    "print(f\"(c) Most similar word to 'apple': {similar_word_c}, Cosine Similarity: {cosine_distance_c}\")"
   ]
  },
  {
   "cell_type": "markdown",
   "metadata": {
    "collapsed": false,
    "jupyter": {
     "outputs_hidden": false
    },
    "pycharm": {
     "name": "#%% md\n"
    }
   },
   "source": [
    "Additional verification. Cosine distance is inversed of cosine similarity"
   ]
  },
  {
   "cell_type": "code",
   "execution_count": 4,
   "metadata": {
    "collapsed": false,
    "jupyter": {
     "outputs_hidden": false
    },
    "pycharm": {
     "name": "#%%\n"
    }
   },
   "outputs": [
    {
     "name": "stdout",
     "output_type": "stream",
     "text": [
      "(cosine_distance_a): 0.27051329612731934\n",
      "(cosine_distance_b): 0.2543013095855713\n",
      "(cosine_distance_c): 0.27964019775390625\n",
      "(a): 0.5410265922546387\n",
      "(b): 0.5086026191711426\n",
      "(c): 0.5592803955078125\n"
     ]
    }
   ],
   "source": [
    "# for verification\n",
    "from scipy.spatial import distance\n",
    "cosine_distance_a = distance.cosine(word2vec_google_news['student'], word2vec_google_news['students'])\n",
    "cosine_distance_b = distance.cosine(word2vec_google_news['Apple'], word2vec_google_news['Apple_AAPL'])\n",
    "cosine_distance_c = distance.cosine(word2vec_google_news['apple'], word2vec_google_news['apples'])\n",
    "\n",
    "print(f\"(a): {cosine_distance_a}\")\n",
    "print(f\"(b): {cosine_distance_b}\")\n",
    "print(f\"(c): {cosine_distance_c}\")"
   ]
  }
 ],
 "metadata": {
  "kernelspec": {
   "display_name": "Python 3 (ipykernel)",
   "language": "python",
   "name": "python3"
  },
  "language_info": {
   "codemirror_mode": {
    "name": "ipython",
    "version": 3
   },
   "file_extension": ".py",
   "mimetype": "text/x-python",
   "name": "python",
   "nbconvert_exporter": "python",
   "pygments_lexer": "ipython3",
   "version": "3.11.5"
  }
 },
 "nbformat": 4,
 "nbformat_minor": 4
}
