{
 "cells": [
  {
   "cell_type": "code",
   "execution_count": null,
   "metadata": {
    "pycharm": {
     "name": "#%%\n"
    }
   },
   "outputs": [],
   "source": [
    "import gensim.downloader"
   ]
  },
  {
   "cell_type": "code",
   "execution_count": null,
   "metadata": {
    "pycharm": {
     "name": "#%%\n"
    }
   },
   "outputs": [],
   "source": [
    "word2vec_google_news = gensim.downloader.load('word2vec-google-news-300')"
   ]
  },
  {
   "cell_type": "code",
   "execution_count": null,
   "metadata": {
    "pycharm": {
     "name": "#%%\n"
    }
   },
   "outputs": [],
   "source": [
    "print(f\"Vector for student: {word2vec_google_news['student']}\", end=\"\\n\")\n",
    "print(f\"Vector for Apple: {word2vec_google_news['Apple']}\", end=\"\\n\")\n",
    "print(f\"Vector for apple: {word2vec_google_news['apple']}\", end=\"\\n\")"
   ]
  },
  {
   "cell_type": "code",
   "execution_count": null,
   "metadata": {
    "pycharm": {
     "name": "#%%\n"
    }
   },
   "outputs": [],
   "source": [
    "print(f\"word2vec_google_news data type: {type(word2vec_google_news)}\")"
   ]
  },
  {
   "cell_type": "code",
   "execution_count": 1,
   "metadata": {
    "pycharm": {
     "name": "#%%\n"
    }
   },
   "outputs": [
    {
     "ename": "NameError",
     "evalue": "name 'word2vec_google_news' is not defined",
     "output_type": "error",
     "traceback": [
      "\u001B[1;31m---------------------------------------------------------------------------\u001B[0m",
      "\u001B[1;31mNameError\u001B[0m                                 Traceback (most recent call last)",
      "Cell \u001B[1;32mIn[1], line 1\u001B[0m\n\u001B[1;32m----> 1\u001B[0m all_words \u001B[38;5;241m=\u001B[39m \u001B[43mword2vec_google_news\u001B[49m\u001B[38;5;241m.\u001B[39mindex_to_key\n\u001B[0;32m      2\u001B[0m \u001B[38;5;28mprint\u001B[39m(\u001B[38;5;124mf\u001B[39m\u001B[38;5;124m\"\u001B[39m\u001B[38;5;124mSize of Vocab: \u001B[39m\u001B[38;5;132;01m{\u001B[39;00m\u001B[38;5;28mlen\u001B[39m(all_words)\u001B[38;5;132;01m}\u001B[39;00m\u001B[38;5;124m\"\u001B[39m)\n\u001B[0;32m      3\u001B[0m \u001B[38;5;28mprint\u001B[39m(\u001B[38;5;124mf\u001B[39m\u001B[38;5;124m\"\u001B[39m\u001B[38;5;124mVocabulary of first 50:\u001B[39m\u001B[38;5;130;01m\\n\u001B[39;00m\u001B[38;5;132;01m{\u001B[39;00mall_words[:\u001B[38;5;241m50\u001B[39m]\u001B[38;5;132;01m}\u001B[39;00m\u001B[38;5;124m\"\u001B[39m)\n",
      "\u001B[1;31mNameError\u001B[0m: name 'word2vec_google_news' is not defined"
     ]
    }
   ],
   "source": [
    "all_words = word2vec_google_news.index_to_key\n",
    "print(f\"Size of Vocab: {len(all_words)}\")\n",
    "print(f\"Vocabulary of first 50:\\n{all_words[:50]}\")"
   ]
  },
  {
   "cell_type": "code",
   "execution_count": null,
   "outputs": [],
   "source": [
    "import nltk\n",
    "\n",
    "# Download the Punkt tokenizer models (if not already downloaded)\n",
    "nltk.download('punkt')\n",
    "\n",
    "# Read the content of the 'eng.testa' file\n",
    "with open('CoNLL2003_dataset/eng.testa', 'r', encoding='utf-8') as file:\n",
    "    content = file.read()\n",
    "\n",
    "# Tokenize the content into sentences\n",
    "sentences = nltk.sent_tokenize(content)\n",
    "\n",
    "# Find the maximum sentence length in terms of tokens\n",
    "max_length = max(len(nltk.word_tokenize(sentence)) for sentence in sentences)\n",
    "\n",
    "print(f\"The maximum sentence length in terms of tokens is: {max_length}\")\n"
   ],
   "metadata": {
    "collapsed": false,
    "pycharm": {
     "name": "#%%\n"
    }
   }
  }
 ],
 "metadata": {
  "kernelspec": {
   "display_name": "cz4045_group_assignment",
   "language": "python",
   "name": "python3"
  },
  "language_info": {
   "codemirror_mode": {
    "name": "ipython",
    "version": 3
   },
   "file_extension": ".py",
   "mimetype": "text/x-python",
   "name": "python",
   "nbconvert_exporter": "python",
   "pygments_lexer": "ipython3",
   "version": "3.11.4"
  }
 },
 "nbformat": 4,
 "nbformat_minor": 2
}