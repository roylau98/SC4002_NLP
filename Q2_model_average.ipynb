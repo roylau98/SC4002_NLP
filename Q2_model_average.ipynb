{
 "cells": [
  {
   "cell_type": "markdown",
   "id": "347520df11b3027e",
   "metadata": {
    "collapsed": false
   },
   "source": [
    "# Import libraries"
   ]
  },
  {
   "cell_type": "code",
   "execution_count": 1,
   "id": "16fcb8704f34334f",
   "metadata": {
    "ExecuteTime": {
     "end_time": "2023-10-16T14:37:13.923216Z",
     "start_time": "2023-10-16T14:37:13.814857Z"
    },
    "collapsed": false
   },
   "outputs": [],
   "source": [
    "import random\n",
    "import os\n",
    "import numpy as np\n",
    "import torch\n",
    "import torch.nn as nn\n",
    "import torch.nn.functional as F\n",
    "import torch.optim as optim\n",
    "from tqdm import trange\n",
    "from torch.autograd import Variable\n",
    "import numpy as np\n",
    "import pandas as pd\n",
    "from sklearn.model_selection import train_test_split\n",
    "from sklearn.metrics import f1_score\n",
    "from nltk.tokenize import word_tokenize\n",
    "import gensim.downloader\n",
    "\n",
    "from seqeval.metrics import f1_score as f1_score_seqeval\n",
    "from seqeval.metrics import classification_report\n",
    "from seqeval.scheme import IOB1"
   ]
  },
  {
   "cell_type": "code",
   "execution_count": 2,
   "id": "0e4d9acf",
   "metadata": {},
   "outputs": [
    {
     "name": "stderr",
     "output_type": "stream",
     "text": [
      "c:\\Users\\John\\envs\\cz4045_group_assignment\\Lib\\site-packages\\gensim\\models\\keyedvectors.py:551: UserWarning: Adding single vectors to a KeyedVectors which grows by one each time can be costly. Consider adding in batches or preallocating to the required size.\n",
      "  warnings.warn(\n"
     ]
    }
   ],
   "source": [
    "word2vec_goog1e_news: gensim.models.keyedvectors.KeyedVectors = gensim.downloader.load('word2vec-google-news-300')\n",
    "word2vec_goog1e_news.add_vector(\"<pad>\", np.zeros(300))\n",
    "pad_index = word2vec_goog1e_news.key_to_index[\"<pad>\"]\n",
    "embedding_weights = torch.FloatTensor(word2vec_goog1e_news.vectors)\n",
    "vocab = word2vec_goog1e_news.key_to_index"
   ]
  },
  {
   "cell_type": "code",
   "execution_count": 3,
   "metadata": {},
   "outputs": [
    {
     "name": "stdout",
     "output_type": "stream",
     "text": [
      "Using: cuda:0\n"
     ]
    }
   ],
   "source": [
    "device = torch.device(torch.cuda.current_device() if torch.cuda.is_available() else \"cpu\")\n",
    "print(f\"Using: {device}\")"
   ]
  },
  {
   "cell_type": "markdown",
   "metadata": {},
   "source": [
    "# Import Dataset"
   ]
  },
  {
   "cell_type": "code",
   "execution_count": 4,
   "metadata": {},
   "outputs": [],
   "source": [
    "def tokenize_pd_series_to_lsit(list_of_text):\n",
    "    tokenized = []\n",
    "    for sentence in list_of_text:\n",
    "        tokenized.append(word_tokenize(sentence.lower()))\n",
    "    return tokenized\n",
    "\n",
    "def format_label(label):\n",
    "    return torch.unsqueeze(torch.tensor(label.to_list()), axis=1).tolist()\n",
    "\n",
    "def indexify(data):\n",
    "    setences = []\n",
    "    for sentence in data:\n",
    "        s = [vocab[token] if token in vocab\n",
    "            else vocab['UNK']\n",
    "            for token in sentence]\n",
    "        setences.append(s)\n",
    "    return setences"
   ]
  },
  {
   "cell_type": "code",
   "execution_count": 5,
   "id": "9e894b3f",
   "metadata": {},
   "outputs": [],
   "source": [
    "training_data = pd.read_csv(filepath_or_buffer=\"TREC_dataset/modified_training_data.csv\", sep=\",\") \n",
    "test_data = pd.read_csv(filepath_or_buffer=\"TREC_dataset/modified_test_data.csv\", sep=\",\")\n",
    "\n",
    "X = training_data[\"text\"]\n",
    "y = training_data[\"label-coarse\"]\n",
    "X_train, X_val, y_train, y_val = train_test_split(X, y, test_size=500)\n",
    "\n",
    "X_test = test_data[\"text\"]\n",
    "y_test = test_data[\"label-coarse\"]\n",
    "\n",
    "X_train_lst = X_train.to_list()\n",
    "X_val_lst = X_val.to_list()\n",
    "X_test_lst = X_test.to_list()\n",
    "\n",
    "X_train_tokenized = tokenize_pd_series_to_lsit(X_train_lst)\n",
    "X_val_tokenized = tokenize_pd_series_to_lsit(X_val_lst)\n",
    "X_test_tokenized = tokenize_pd_series_to_lsit(X_test_lst)\n",
    "\n",
    "no_of_labels = max(y_train.to_list()) + 1"
   ]
  },
  {
   "cell_type": "code",
   "execution_count": 6,
   "metadata": {},
   "outputs": [],
   "source": [
    "X_train_tokenized_indexified = indexify(X_train_tokenized)\n",
    "X_val_tokenized_indexified = indexify(X_val_tokenized)\n",
    "X_test_tokenized_indexified = indexify(X_test_tokenized)\n",
    "\n",
    "y_train_formatted = format_label(y_train)\n",
    "y_val_formatted = format_label(y_val)\n",
    "y_test_formatted = format_label(y_test)"
   ]
  },
  {
   "cell_type": "code",
   "execution_count": 7,
   "id": "5800cc7f3fc93583",
   "metadata": {
    "ExecuteTime": {
     "end_time": "2023-10-16T14:37:14.011887Z",
     "start_time": "2023-10-16T14:37:13.882822Z"
    },
    "collapsed": false
   },
   "outputs": [],
   "source": [
    "def data_iterator(sentences, labels, total_size: int, batch_size: int, shuffle: bool=False):\n",
    "    # make a list that decides the order in which we go over the data- this avoids explicit shuffling of data\n",
    "    order = list(range(total_size))\n",
    "    if shuffle:\n",
    "        random.seed(230)\n",
    "        random.shuffle(order)\n",
    "\n",
    "    # one pass over data\n",
    "    for i in range((total_size+1)//batch_size):\n",
    "        # fetch sentences and tags\n",
    "        batch_sentences = [sentences[idx] for idx in order[i*batch_size:(i+1)*batch_size]]\n",
    "        batch_tags = [labels[idx] for idx in order[i*batch_size:(i+1)*batch_size]]\n",
    "\n",
    "        # compute length of longest sentence in batch\n",
    "        batch_max_len = max([len(s) for s in batch_sentences])\n",
    "\n",
    "        # prepare a numpy array with the data, initialising the data with pad_ind and all labels with -1\n",
    "        # initialising labels to -1 differentiates tokens with tags from PADding tokens\n",
    "        batch_data = vocab['<pad>']*np.ones((len(batch_sentences), batch_max_len))\n",
    "        # batch_labels = -1*np.ones((len(batch_sentences), batch_max_len))\n",
    "        # batch_labels = -1*np.ones(len(batch_sentences))\n",
    "        # batch_labels = batch_labels.reshape(-1, 1)\n",
    "        batch_labels = np.array(batch_tags).squeeze()\n",
    "        # print(f\"batch_data.shape = {batch_data.shape}\")\n",
    "        # print(f\"batch_labels.shape = {batch_labels.shape}\")\n",
    "\n",
    "        # copy the data to the numpy array\n",
    "        for j in range(len(batch_sentences)):\n",
    "            cur_len = len(batch_sentences[j])\n",
    "            batch_data[j][:cur_len] = batch_sentences[j]\n",
    "\n",
    "        # since all data are indices, we convert them to torch LongTensors\n",
    "        batch_data, batch_labels = torch.LongTensor(batch_data), torch.LongTensor(batch_labels)\n",
    "        # convert them to Variables to record operations in the computational graph\n",
    "        batch_data, batch_labels = Variable(batch_data), Variable(batch_labels)\n",
    "\n",
    "        yield batch_data, batch_labels, batch_sentences"
   ]
  },
  {
   "cell_type": "code",
   "execution_count": 8,
   "id": "d9aa7ca1ef91b423",
   "metadata": {
    "ExecuteTime": {
     "end_time": "2023-10-16T14:37:14.012307Z",
     "start_time": "2023-10-16T14:37:13.894126Z"
    },
    "collapsed": false
   },
   "outputs": [],
   "source": [
    "class Net(nn.Module):\n",
    "    \"\"\"\n",
    "    This is the standard way to define your own network in PyTorch. You typically choose the components\n",
    "    (e.g. LSTMs, linear layers etc.) of your network in the __init__ function. You then apply these layers\n",
    "    on the input step-by-step in the forward function. You can use torch.nn.functional to apply functions\n",
    "    such as F.relu, F.sigmoid, F.softmax. Be careful to ensure your dimensions are correct after each step.\n",
    "\n",
    "    You are encouraged to have a look at the network in pytorch/vision/model/net.py to get a better sense of how\n",
    "    you can go about defining your own network.\n",
    "\n",
    "    The documentation for all the various components available to you is here: http://pytorch.org/docs/master/nn.html\n",
    "    \"\"\"\n",
    "\n",
    "    def __init__(self, embedding_weights, embedding_dim, lstm_hidden_dim, number_of_tags):\n",
    "        \"\"\"\n",
    "        We define an recurrent network that predicts the NER tags for each token in the sentence. The components\n",
    "        required are:\n",
    "\n",
    "        - an embedding layer: this layer maps each index in range(params.vocab_size) to a params.embedding_dim vector\n",
    "        - lstm: applying the LSTM on the sequential input returns an output for each token in the sentence\n",
    "        - fc: a fully connected layer that converts the LSTM output for each token to a distribution over NER tags\n",
    "\n",
    "        Args:\n",
    "            params: (Params) contains vocab_size, embedding_dim, lstm_hidden_dim\n",
    "        \"\"\"\n",
    "        super(Net, self).__init__()\n",
    "\n",
    "        # the embedding takes as input the vocab_size and the embedding_dim\n",
    "        # self.embedding = nn.Embedding(vocab_size, embedding_dim)\n",
    "        self.embedding = nn.Embedding.from_pretrained(embedding_weights, padding_idx=pad_index)\n",
    "\n",
    "        # the LSTM takes as input the size of its input (embedding_dim), its hidden size\n",
    "        # for more details on how to use it, check out the documentation\n",
    "        self.lstm = nn.LSTM(embedding_dim,\n",
    "                            lstm_hidden_dim, batch_first=True)\n",
    "\n",
    "        # the fully connected layer transforms the output to give the final output layer\n",
    "        self.fc = nn.Linear(lstm_hidden_dim, number_of_tags)\n",
    "\n",
    "    def forward(self, s):\n",
    "        \"\"\"\n",
    "        This function defines how we use the components of our network to operate on an input batch.\n",
    "\n",
    "        Args:\n",
    "            s: (Variable) contains a batch of sentences, of dimension batch_size x seq_len, where seq_len is\n",
    "               the length of the longest sentence in the batch. For sentences shorter than seq_len, the remaining\n",
    "               tokens are PADding tokens. Each row is a sentence with each element corresponding to the index of\n",
    "               the token in the vocab.\n",
    "\n",
    "        Returns:\n",
    "            out: (Variable) dimension batch_size*seq_len x num_tags with the log probabilities of tokens for each token\n",
    "                 of each sentence.\n",
    "\n",
    "        Note: the dimensions after each step are provided\n",
    "        \"\"\"\n",
    "        #                                -> batch_size x seq_len\n",
    "        # apply the embedding layer that maps each token to its embedding\n",
    "        # dim: batch_size x seq_len x embedding_dim\n",
    "        s = self.embedding(s)\n",
    "\n",
    "        # run the LSTM along the sentences of length seq_len\n",
    "        # dim: batch_size x seq_len x lstm_hidden_dim\n",
    "        s, _ = self.lstm(s)\n",
    "        # make the Variable contiguous in memory (a PyTorch artefact)\n",
    "        # s = s.contiguous()\n",
    "        # reshape the Variable so that each row contains one token\n",
    "        # dim: batch_size*seq_len x lstm_hidden_dim\n",
    "        # s = s.view(-1, s.shape[2])\n",
    "\n",
    "        # Changed\n",
    "        s = torch.mean(s, dim=1)  # mean pooling\n",
    "        # s = s[:, -1, :]\n",
    "        \n",
    "        # apply the fully connected layer and obtain the output (before softmax) for each token\n",
    "        s = self.fc(s)                   # dim: batch_size*seq_len x num_tags\n",
    "\n",
    "        # apply log softmax on each token's output (this is recommended over applying softmax\n",
    "        # since it is numerically more stable)\n",
    "        # return F.log_softmax(s, dim=1)   # dim: batch_size*seq_len x num_tags\n",
    "        return F.softmax(s, dim=1)   # dim: batch_size*seq_len x num_tags"
   ]
  },
  {
   "cell_type": "code",
   "execution_count": 9,
   "id": "ba90bdc3ae13684a",
   "metadata": {
    "ExecuteTime": {
     "end_time": "2023-10-16T14:37:14.012907Z",
     "start_time": "2023-10-16T14:37:13.899592Z"
    },
    "collapsed": false
   },
   "outputs": [],
   "source": [
    "def accuracy(outputs, labels):\n",
    "    outputs = np.argmax(outputs.cpu().detach().numpy(), axis=1)\n",
    "    # compare outputs with labels\n",
    "    labels = labels.squeeze()\n",
    "    # For debugging\n",
    "    # print(f\"{outputs=}\")\n",
    "    # print(f\"{labels=}\")\n",
    "    return np.sum([1 if first == second else 0 for first, second in zip(labels, outputs)]) / float(len(labels))\n",
    "\n",
    "def loss_fn(outputs, labels):\n",
    "    \"\"\"\n",
    "    Compute the cross entropy loss given outputs from the model and labels for all tokens. Exclude loss terms\n",
    "    for PADding tokens.\n",
    "\n",
    "    Args:\n",
    "        outputs: (Variable) dimension batch_size*seq_len x num_tags - log softmax output of the model\n",
    "        labels: (Variable) dimension batch_size x seq_len where each element is either a label in [0, 1, ... num_tag-1],\n",
    "                or -1 in case it is a PADding token.\n",
    "\n",
    "    Returns:\n",
    "        loss: (Variable) cross entropy loss for all tokens in the batch\n",
    "\n",
    "    Note: you may use a standard loss function from http://pytorch.org/docs/master/nn.html#loss-functions. This example\n",
    "          demonstrates how you can easily define a custom loss function.\n",
    "    \"\"\"\n",
    "    # print(f\"labels = {labels}\")\n",
    "    # print(f\"labels.squeeze() = {labels.squeeze()}\")\n",
    "    loss = F.cross_entropy(outputs, labels.squeeze())\n",
    "    return loss\n",
    "\n",
    "# def loss_fn(outputs, labels):\n",
    "#     \"\"\"\n",
    "#     Compute the cross entropy loss given outputs from the model and labels for all tokens. Exclude loss terms\n",
    "#     for PADding tokens.\n",
    "\n",
    "#     Args:\n",
    "#         outputs: (Variable) dimension batch_size*seq_len x num_tags - log softmax output of the model\n",
    "#         labels: (Variable) dimension batch_size x seq_len where each element is either a label in [0, 1, ... num_tag-1],\n",
    "#                 or -1 in case it is a PADding token.\n",
    "\n",
    "#     Returns:\n",
    "#         loss: (Variable) cross entropy loss for all tokens in the batch\n",
    "\n",
    "#     Note: you may use a standard loss function from http://pytorch.org/docs/master/nn.html#loss-functions. This example\n",
    "#           demonstrates how you can easily define a custom loss function.\n",
    "#     \"\"\"\n",
    "\n",
    "#     # reshape labels to give a flat vector of length batch_size*seq_len\n",
    "#     print(f\"labels: {labels}\")\n",
    "#     labels = labels.view(-1)\n",
    "#     print(f\"labels.view(-1): {labels}\")\n",
    "\n",
    "\n",
    "#     # since PADding tokens have label -1, we can generate a mask to exclude the loss from those terms\n",
    "#     mask = (labels >= 0).float()\n",
    "\n",
    "#     # indexing with negative values is not supported. Since PADded tokens have label -1, we convert them to a positive\n",
    "#     # number. This does not affect training, since we ignore the PADded tokens with the mask.\n",
    "#     labels = labels % outputs.shape[1]\n",
    "#     num_tokens = int(torch.sum(mask))\n",
    "\n",
    "#     # compute cross entropy loss for all tokens (except PADding tokens), by multiplying with mask.\n",
    "    \n",
    "#     # return -torch.sum(outputs[range(outputs.shape[0]), labels]*mask)/ torch.sum(num_tokens)\n",
    "#     a = outputs[range(outputs.shape[0]), labels]*mask\n",
    "#     b = -torch.sum(a)\n",
    "#     c = num_tokens\n",
    "#     return b/c"
   ]
  },
  {
   "cell_type": "code",
   "execution_count": 10,
   "id": "e07330c216283eda",
   "metadata": {
    "ExecuteTime": {
     "end_time": "2023-10-16T14:37:14.013393Z",
     "start_time": "2023-10-16T14:37:13.913339Z"
    },
    "collapsed": false
   },
   "outputs": [],
   "source": [
    "class RunningAverage:\n",
    "    \"\"\"A simple class that maintains the running average of a quantity\n",
    "\n",
    "    Example:\n",
    "    ```\n",
    "    loss_avg = RunningAverage()\n",
    "    loss_avg.update(2)\n",
    "    loss_avg.update(4)\n",
    "    loss_avg() = 3\n",
    "    ```\n",
    "    \"\"\"\n",
    "\n",
    "    def __init__(self):\n",
    "        self.steps = 0\n",
    "        self.total = 0\n",
    "\n",
    "    def update(self, val):\n",
    "        self.total += val\n",
    "        self.steps += 1\n",
    "\n",
    "    def __call__(self):\n",
    "        return self.total / float(self.steps)"
   ]
  },
  {
   "cell_type": "code",
   "execution_count": 11,
   "id": "84b8f1d154a50053",
   "metadata": {
    "ExecuteTime": {
     "end_time": "2023-10-16T14:37:14.014581Z",
     "start_time": "2023-10-16T14:37:13.927378Z"
    },
    "collapsed": false
   },
   "outputs": [],
   "source": [
    "def train(model, optimizer, loss_fn, data_iterator, metrics, num_steps):\n",
    "    \"\"\"Train the model on `num_steps` batches\n",
    "\n",
    "    Args:\n",
    "        model: (torch.nn.Module) the neural network\n",
    "        optimizer: (torch.optim) optimizer for parameters of model\n",
    "        loss_fn: a function that takes batch_output and batch_labels and computes the loss for the batch\n",
    "        data_iterator: (generator) a generator that generates batches of data and labels\n",
    "        metrics: (dict) a dictionary of functions that compute a metric using the output and labels of each batch\n",
    "        params: (Params) hyperparameters\n",
    "        num_steps: (int) number of batches to train on, each of size params.batch_size\n",
    "    \"\"\"\n",
    "\n",
    "    # set model to training mode\n",
    "    model.train()\n",
    "\n",
    "    # summary for current training loop and a running average object for loss\n",
    "    summ = []\n",
    "    loss_avg = RunningAverage()\n",
    "\n",
    "    # Use tqdm for progress bar\n",
    "    t = trange(num_steps)\n",
    "    for i in t:\n",
    "        # fetch the next training batch\n",
    "        train_batch, labels_batch, _ = next(data_iterator)\n",
    "        train_batch = train_batch.to(device)\n",
    "        labels_batch = labels_batch.to(device)\n",
    "        \n",
    "        # compute model output and loss\n",
    "        output_batch = model(train_batch)\n",
    "        loss = loss_fn(output_batch, labels_batch)\n",
    "\n",
    "        # clear previous gradients, compute gradients of all variables wrt loss\n",
    "        optimizer.zero_grad()\n",
    "        loss.backward()\n",
    "\n",
    "        # performs updates using calculated gradients\n",
    "        optimizer.step()\n",
    "\n",
    "        # Evaluate summaries only once in a while\n",
    "        if i % 10 == 0:\n",
    "            # extract data from torch Variable, move to cpu, convert to numpy arrays\n",
    "            output_batch = output_batch.data.cpu().numpy()\n",
    "            labels_batch = labels_batch.data.cpu().numpy()\n",
    "\n",
    "            # compute all metrics on this batch\n",
    "            # summary_batch = {metric: metrics[metric](output_batch, labels_batch)\n",
    "            #                  for metric in metrics}\n",
    "            # summary_batch['loss'] = loss.item()\n",
    "            # summ.append(summary_batch)\n",
    "\n",
    "        # update the average loss\n",
    "        loss_avg.update(loss.item())\n",
    "        t.set_postfix(loss='{:05.3f}'.format(loss_avg()))\n",
    "        # print(f\"output_batch.shape= {output_batch.shape}\")\n",
    "        # print(f\"output_batch=\\n {output_batch}\")\n",
    "        # print(f\"labels_batch.shape= {labels_batch.shape}\")\n",
    "        # print(f\"labels_batch=\\n {labels_batch}\")\n",
    "        \n",
    "    # compute mean of all metrics in summary\n",
    "    # metrics_mean = {metric: np.mean([x[metric]\n",
    "    #                                  for x in summ]) for metric in summ[0]}\n",
    "    # metrics_string = \" ; \".join(\"{}: {:05.3f}\".format(k, v)\n",
    "    #                             for k, v in metrics_mean.items())\n",
    "    # print(\"- Train metrics: \" + metrics_string)\n",
    "\n",
    "def evaluate(model, loss_fn, data_iterator, metrics, num_steps):\n",
    "    \"\"\"Evaluate the model on `num_steps` batches.\n",
    "\n",
    "    Args:\n",
    "        model: (torch.nn.Module) the neural network\n",
    "        loss_fn: a function that takes batch_output and batch_labels and computes the loss for the batch\n",
    "        data_iterator: (generator) a generator that generates batches of data and labels\n",
    "        metrics: (dict) a dictionary of functions that compute a metric using the output and labels of each batch\n",
    "        params: (Params) hyperparameters\n",
    "        num_steps: (int) number of batches to train on, each of size params.batch_size\n",
    "    \"\"\"\n",
    "\n",
    "    # set model to evaluation mode\n",
    "    model.eval()\n",
    "\n",
    "    # summary for current eval loop\n",
    "    summ = []\n",
    "\n",
    "    # compute metrics over the dataset\n",
    "    for _ in range(num_steps):\n",
    "        # fetch the next evaluation batch\n",
    "        data_batch, labels_batch, _ = next(data_iterator)\n",
    "        data_batch = data_batch.to(device)\n",
    "        labels_batch = labels_batch.to(device)\n",
    "\n",
    "        # compute model output\n",
    "        output_batch = model(data_batch)\n",
    "        loss = loss_fn(output_batch, labels_batch)\n",
    "        accurary1 = accuracy(output_batch, labels_batch)\n",
    "        \n",
    "        # extract data from torch Variable, move to cpu, convert to numpy arrays\n",
    "        output_batch = output_batch.data.cpu().numpy()\n",
    "        labels_batch = labels_batch.data.cpu().numpy()\n",
    "\n",
    "        # compute all metrics on this batch\n",
    "        # summary_batch = {metric: metrics[metric](output_batch, labels_batch)\n",
    "        #                  for metric in metrics}\n",
    "        # summary_batch['loss'] = loss.item()\n",
    "        # summ.append(summary_batch)\n",
    "    print(f\"{accurary1=}\")\n",
    "    print(f\"{loss=}\")\n",
    "    # compute mean of all metrics in summary\n",
    "    # print(f\"summ: {summ}\")\n",
    "    # metrics_mean = {metric:np.mean([x[metric] for x in summ]) for metric in summ[0]}\n",
    "    # metrics_string = \" ; \".join(\"{}: {:05.3f}\".format(k, v) for k, v in metrics_mean.items())\n",
    "    # print(\"- Eval metrics : \" + metrics_string)\n",
    "    # return metrics_mean\n",
    "    \n",
    "def train_and_evaluate(\n",
    "        model,\n",
    "        train_sentences,\n",
    "        train_labels,\n",
    "        val_sentences,\n",
    "        val_labels,\n",
    "        num_epochs: int,\n",
    "        batch_size: int,\n",
    "        optimizer,\n",
    "        loss_fn,\n",
    "        metrics\n",
    "):\n",
    "    for epoch in range(num_epochs):\n",
    "        # Run one epoch\n",
    "        print(\"Epoch {}/{}\".format(epoch + 1, num_epochs))\n",
    "\n",
    "        # compute number of batches in one epoch (one full pass over the training set)\n",
    "        num_steps = (len(train_sentences) + 1) // batch_size\n",
    "        train_data_iterator = data_iterator(\n",
    "            train_sentences, train_labels, len(train_sentences), batch_size, shuffle=True)\n",
    "        train(model, optimizer, loss_fn, train_data_iterator,\n",
    "              metrics, num_steps)\n",
    "\n",
    "        # Evaluate for one epoch on validation set\n",
    "        num_steps = (len(val_sentences) + 1) // batch_size\n",
    "        val_data_iterator = data_iterator(\n",
    "            val_sentences, val_labels, len(val_sentences), batch_size, shuffle=False)\n",
    "        val_metrics = evaluate(\n",
    "            model, loss_fn, val_data_iterator, metrics, num_steps)\n",
    "   "
   ]
  },
  {
   "cell_type": "code",
   "execution_count": 12,
   "id": "1e885f54",
   "metadata": {},
   "outputs": [],
   "source": [
    "inv_vocab = {v: k for k, v in vocab.items()}\n",
    "\n",
    "def id_to_words(sentence):\n",
    "    new_sentence = [inv_vocab[i] for i in sentence]\n",
    "    return new_sentence"
   ]
  },
  {
   "cell_type": "code",
   "execution_count": 13,
   "id": "a981f205b1133b82",
   "metadata": {
    "ExecuteTime": {
     "end_time": "2023-10-16T14:37:14.015072Z",
     "start_time": "2023-10-16T14:37:13.960431Z"
    },
    "collapsed": false
   },
   "outputs": [],
   "source": [
    "# def accuracy(outputs, labels):\n",
    "#     \"\"\"\n",
    "#     Compute the accuracy, given the outputs and labels for all tokens. Exclude PADding terms.\n",
    "\n",
    "#     Args:\n",
    "#         outputs: (np.ndarray) dimension batch_size*seq_len x num_tags - log softmax output of the model\n",
    "#         labels: (np.ndarray) dimension batch_size x seq_len where each element is either a label in\n",
    "#                 [0, 1, ... num_tag-1], or -1 in case it is a PADding token.\n",
    "\n",
    "#     Returns: (float) accuracy in [0,1]\n",
    "#     \"\"\"\n",
    "\n",
    "#     # reshape labels to give a flat vector of length batch_size*seq_len\n",
    "#     labels = labels.ravel()\n",
    "\n",
    "#     # since PADding tokens have label -1, we can generate a mask to exclude the loss from those terms\n",
    "#     mask = (labels >= 0)\n",
    "\n",
    "#     # np.argmax gives us the class predicted for each token by the model\n",
    "#     outputs = np.argmax(outputs, axis=1)\n",
    "\n",
    "\n",
    "#     # compare outputs with labels and divide by number of tokens (excluding PADding tokens)\n",
    "#     return np.sum(outputs == labels)/float(np.sum(mask))\n",
    "\n",
    "\n",
    "def calculate_multiclass_f1_score(outputs, labels):\n",
    "    \n",
    "    labels = labels.ravel()\n",
    "    mask = (labels >= 0)  \n",
    "    outputs = np.argmax(outputs, axis=1)\n",
    "    outputs = outputs[mask]\n",
    "    labels = labels[mask]\n",
    "    outputs = outputs\n",
    "    labels = labels\n",
    "    outputs = np.expand_dims(outputs, axis=0)\n",
    "    labels = np.expand_dims(labels, axis=0)\n",
    "    outputs = outputs.tolist()\n",
    "    labels = labels.tolist()\n",
    "    f1= f1_score_seqeval(labels, outputs, mode='strict', scheme=IOB1)\n",
    "    return f1\n",
    "\n",
    "def classification_report_gen(outputs, labels):\n",
    "    labels = labels.ravel()\n",
    "    mask = (labels >= 0)  \n",
    "    outputs = np.argmax(outputs, axis=1)\n",
    "    outputs = outputs[mask]\n",
    "    labels = labels[mask]\n",
    "    outputs = outputs\n",
    "    labels = labels\n",
    "    outputs = np.expand_dims(outputs, axis=0)\n",
    "    labels = np.expand_dims(labels, axis=0)\n",
    "    outputs = outputs.tolist()\n",
    "    labels = labels.tolist()\n",
    "    return classification_report(labels, outputs, mode='strict', scheme=IOB1)\n",
    "    \n",
    "def calculate_multiclass_f1_score2(outputs, labels):\n",
    "    \n",
    "    labels = labels.ravel()\n",
    "    mask = (labels >= 0)  \n",
    "    outputs = np.argmax(outputs, axis=1)\n",
    "    outputs = outputs[mask]\n",
    "    labels = labels[mask]\n",
    "    f1= f1_score(labels, outputs, average='macro')\n",
    "    return f1\n",
    "\n",
    "def calculate_multiclass_f1_score3(outputs, labels):\n",
    "    \n",
    "    labels = labels.ravel()\n",
    "    mask = (labels >= 0)  \n",
    "    outputs = np.argmax(outputs, axis=1)\n",
    "    outputs = outputs[mask]\n",
    "    labels = labels[mask]\n",
    "    f1= f1_score(labels, outputs, average='micro')\n",
    "    return f1\n",
    "\n",
    "\n",
    "metrics = {\n",
    "    'f1_seqeval': calculate_multiclass_f1_score,\n",
    "    'f1_micro': calculate_multiclass_f1_score3,\n",
    "    'f1 macro': calculate_multiclass_f1_score2,\n",
    "    'accuracy': accuracy\n",
    "    # could add more metrics such as accuracy for each token type\n",
    "}"
   ]
  },
  {
   "cell_type": "code",
   "execution_count": 14,
   "id": "69f91f3b",
   "metadata": {},
   "outputs": [],
   "source": [
    "import warnings\n",
    "warnings.filterwarnings('ignore')"
   ]
  },
  {
   "cell_type": "code",
   "execution_count": 15,
   "id": "aca478d1db5c66ef",
   "metadata": {
    "ExecuteTime": {
     "end_time": "2023-10-16T14:37:14.520501Z",
     "start_time": "2023-10-16T14:37:13.975258Z"
    },
    "collapsed": false
   },
   "outputs": [
    {
     "name": "stdout",
     "output_type": "stream",
     "text": [
      "Epoch 1/30\n"
     ]
    },
    {
     "name": "stderr",
     "output_type": "stream",
     "text": [
      "100%|██████████| 309/309 [00:00<00:00, 339.36it/s, loss=1.476]\n"
     ]
    },
    {
     "name": "stdout",
     "output_type": "stream",
     "text": [
      "accurary1=0.5625\n",
      "loss=tensor(1.3503, device='cuda:0', grad_fn=<NllLossBackward0>)\n",
      "Epoch 2/30\n"
     ]
    },
    {
     "name": "stderr",
     "output_type": "stream",
     "text": [
      "100%|██████████| 309/309 [00:00<00:00, 451.76it/s, loss=1.408]\n"
     ]
    },
    {
     "name": "stdout",
     "output_type": "stream",
     "text": [
      "accurary1=0.5625\n",
      "loss=tensor(1.3318, device='cuda:0', grad_fn=<NllLossBackward0>)\n",
      "Epoch 3/30\n"
     ]
    },
    {
     "name": "stderr",
     "output_type": "stream",
     "text": [
      "100%|██████████| 309/309 [00:00<00:00, 458.09it/s, loss=1.244]\n"
     ]
    },
    {
     "name": "stdout",
     "output_type": "stream",
     "text": [
      "accurary1=0.625\n",
      "loss=tensor(1.2506, device='cuda:0', grad_fn=<NllLossBackward0>)\n",
      "Epoch 4/30\n"
     ]
    },
    {
     "name": "stderr",
     "output_type": "stream",
     "text": [
      "100%|██████████| 309/309 [00:00<00:00, 460.50it/s, loss=1.195]\n"
     ]
    },
    {
     "name": "stdout",
     "output_type": "stream",
     "text": [
      "accurary1=0.5\n",
      "loss=tensor(1.3797, device='cuda:0', grad_fn=<NllLossBackward0>)\n",
      "Epoch 5/30\n"
     ]
    },
    {
     "name": "stderr",
     "output_type": "stream",
     "text": [
      "100%|██████████| 309/309 [00:00<00:00, 455.41it/s, loss=1.205]\n"
     ]
    },
    {
     "name": "stdout",
     "output_type": "stream",
     "text": [
      "accurary1=0.6875\n",
      "loss=tensor(1.2166, device='cuda:0', grad_fn=<NllLossBackward0>)\n",
      "Epoch 6/30\n"
     ]
    },
    {
     "name": "stderr",
     "output_type": "stream",
     "text": [
      "100%|██████████| 309/309 [00:00<00:00, 433.48it/s, loss=1.155]\n"
     ]
    },
    {
     "name": "stdout",
     "output_type": "stream",
     "text": [
      "accurary1=0.5625\n",
      "loss=tensor(1.3413, device='cuda:0', grad_fn=<NllLossBackward0>)\n",
      "Epoch 7/30\n"
     ]
    },
    {
     "name": "stderr",
     "output_type": "stream",
     "text": [
      "100%|██████████| 309/309 [00:00<00:00, 399.77it/s, loss=1.233]\n"
     ]
    },
    {
     "name": "stdout",
     "output_type": "stream",
     "text": [
      "accurary1=0.5625\n",
      "loss=tensor(1.3424, device='cuda:0', grad_fn=<NllLossBackward0>)\n",
      "Epoch 8/30\n"
     ]
    },
    {
     "name": "stderr",
     "output_type": "stream",
     "text": [
      "100%|██████████| 309/309 [00:00<00:00, 389.17it/s, loss=1.216]\n"
     ]
    },
    {
     "name": "stdout",
     "output_type": "stream",
     "text": [
      "accurary1=0.6875\n",
      "loss=tensor(1.2127, device='cuda:0', grad_fn=<NllLossBackward0>)\n",
      "Epoch 9/30\n"
     ]
    },
    {
     "name": "stderr",
     "output_type": "stream",
     "text": [
      "100%|██████████| 309/309 [00:00<00:00, 413.73it/s, loss=1.193]\n"
     ]
    },
    {
     "name": "stdout",
     "output_type": "stream",
     "text": [
      "accurary1=0.6875\n",
      "loss=tensor(1.1989, device='cuda:0', grad_fn=<NllLossBackward0>)\n",
      "Epoch 10/30\n"
     ]
    },
    {
     "name": "stderr",
     "output_type": "stream",
     "text": [
      "100%|██████████| 309/309 [00:00<00:00, 379.28it/s, loss=1.128]\n"
     ]
    },
    {
     "name": "stdout",
     "output_type": "stream",
     "text": [
      "accurary1=0.5625\n",
      "loss=tensor(1.3420, device='cuda:0', grad_fn=<NllLossBackward0>)\n",
      "Epoch 11/30\n"
     ]
    },
    {
     "name": "stderr",
     "output_type": "stream",
     "text": [
      "100%|██████████| 309/309 [00:00<00:00, 405.15it/s, loss=1.119]\n"
     ]
    },
    {
     "name": "stdout",
     "output_type": "stream",
     "text": [
      "accurary1=0.6875\n",
      "loss=tensor(1.2176, device='cuda:0', grad_fn=<NllLossBackward0>)\n",
      "Epoch 12/30\n"
     ]
    },
    {
     "name": "stderr",
     "output_type": "stream",
     "text": [
      "100%|██████████| 309/309 [00:00<00:00, 399.15it/s, loss=1.147]\n"
     ]
    },
    {
     "name": "stdout",
     "output_type": "stream",
     "text": [
      "accurary1=0.6875\n",
      "loss=tensor(1.2174, device='cuda:0', grad_fn=<NllLossBackward0>)\n",
      "Epoch 13/30\n"
     ]
    },
    {
     "name": "stderr",
     "output_type": "stream",
     "text": [
      "100%|██████████| 309/309 [00:00<00:00, 382.10it/s, loss=1.118]\n"
     ]
    },
    {
     "name": "stdout",
     "output_type": "stream",
     "text": [
      "accurary1=0.625\n",
      "loss=tensor(1.2736, device='cuda:0', grad_fn=<NllLossBackward0>)\n",
      "Epoch 14/30\n"
     ]
    },
    {
     "name": "stderr",
     "output_type": "stream",
     "text": [
      "100%|██████████| 309/309 [00:00<00:00, 406.21it/s, loss=1.105]\n"
     ]
    },
    {
     "name": "stdout",
     "output_type": "stream",
     "text": [
      "accurary1=0.625\n",
      "loss=tensor(1.2793, device='cuda:0', grad_fn=<NllLossBackward0>)\n",
      "Epoch 15/30\n"
     ]
    },
    {
     "name": "stderr",
     "output_type": "stream",
     "text": [
      "100%|██████████| 309/309 [00:00<00:00, 392.01it/s, loss=1.114]\n"
     ]
    },
    {
     "name": "stdout",
     "output_type": "stream",
     "text": [
      "accurary1=0.6875\n",
      "loss=tensor(1.2171, device='cuda:0', grad_fn=<NllLossBackward0>)\n",
      "Epoch 16/30\n"
     ]
    },
    {
     "name": "stderr",
     "output_type": "stream",
     "text": [
      "100%|██████████| 309/309 [00:00<00:00, 387.11it/s, loss=1.127]\n"
     ]
    },
    {
     "name": "stdout",
     "output_type": "stream",
     "text": [
      "accurary1=0.625\n",
      "loss=tensor(1.2798, device='cuda:0', grad_fn=<NllLossBackward0>)\n",
      "Epoch 17/30\n"
     ]
    },
    {
     "name": "stderr",
     "output_type": "stream",
     "text": [
      "100%|██████████| 309/309 [00:00<00:00, 409.43it/s, loss=1.117]\n"
     ]
    },
    {
     "name": "stdout",
     "output_type": "stream",
     "text": [
      "accurary1=0.625\n",
      "loss=tensor(1.2773, device='cuda:0', grad_fn=<NllLossBackward0>)\n",
      "Epoch 18/30\n"
     ]
    },
    {
     "name": "stderr",
     "output_type": "stream",
     "text": [
      "100%|██████████| 309/309 [00:00<00:00, 384.81it/s, loss=1.132]\n"
     ]
    },
    {
     "name": "stdout",
     "output_type": "stream",
     "text": [
      "accurary1=0.625\n",
      "loss=tensor(1.2789, device='cuda:0', grad_fn=<NllLossBackward0>)\n",
      "Epoch 19/30\n"
     ]
    },
    {
     "name": "stderr",
     "output_type": "stream",
     "text": [
      "100%|██████████| 309/309 [00:00<00:00, 388.68it/s, loss=1.120]\n"
     ]
    },
    {
     "name": "stdout",
     "output_type": "stream",
     "text": [
      "accurary1=0.75\n",
      "loss=tensor(1.1548, device='cuda:0', grad_fn=<NllLossBackward0>)\n",
      "Epoch 20/30\n"
     ]
    },
    {
     "name": "stderr",
     "output_type": "stream",
     "text": [
      "100%|██████████| 309/309 [00:00<00:00, 404.59it/s, loss=1.140]\n"
     ]
    },
    {
     "name": "stdout",
     "output_type": "stream",
     "text": [
      "accurary1=0.75\n",
      "loss=tensor(1.1550, device='cuda:0', grad_fn=<NllLossBackward0>)\n",
      "Epoch 21/30\n"
     ]
    },
    {
     "name": "stderr",
     "output_type": "stream",
     "text": [
      "100%|██████████| 309/309 [00:00<00:00, 382.90it/s, loss=1.106]\n"
     ]
    },
    {
     "name": "stdout",
     "output_type": "stream",
     "text": [
      "accurary1=0.6875\n",
      "loss=tensor(1.2173, device='cuda:0', grad_fn=<NllLossBackward0>)\n",
      "Epoch 22/30\n"
     ]
    },
    {
     "name": "stderr",
     "output_type": "stream",
     "text": [
      "100%|██████████| 309/309 [00:00<00:00, 383.59it/s, loss=1.111]\n"
     ]
    },
    {
     "name": "stdout",
     "output_type": "stream",
     "text": [
      "accurary1=0.6875\n",
      "loss=tensor(1.2170, device='cuda:0', grad_fn=<NllLossBackward0>)\n",
      "Epoch 23/30\n"
     ]
    },
    {
     "name": "stderr",
     "output_type": "stream",
     "text": [
      "100%|██████████| 309/309 [00:00<00:00, 410.81it/s, loss=1.088]\n"
     ]
    },
    {
     "name": "stdout",
     "output_type": "stream",
     "text": [
      "accurary1=0.6875\n",
      "loss=tensor(1.2171, device='cuda:0', grad_fn=<NllLossBackward0>)\n",
      "Epoch 24/30\n"
     ]
    },
    {
     "name": "stderr",
     "output_type": "stream",
     "text": [
      "100%|██████████| 309/309 [00:00<00:00, 391.77it/s, loss=1.089]\n"
     ]
    },
    {
     "name": "stdout",
     "output_type": "stream",
     "text": [
      "accurary1=0.75\n",
      "loss=tensor(1.1532, device='cuda:0', grad_fn=<NllLossBackward0>)\n",
      "Epoch 25/30\n"
     ]
    },
    {
     "name": "stderr",
     "output_type": "stream",
     "text": [
      "100%|██████████| 309/309 [00:00<00:00, 388.72it/s, loss=1.086]\n"
     ]
    },
    {
     "name": "stdout",
     "output_type": "stream",
     "text": [
      "accurary1=0.625\n",
      "loss=tensor(1.2781, device='cuda:0', grad_fn=<NllLossBackward0>)\n",
      "Epoch 26/30\n"
     ]
    },
    {
     "name": "stderr",
     "output_type": "stream",
     "text": [
      "100%|██████████| 309/309 [00:00<00:00, 404.91it/s, loss=1.075]\n"
     ]
    },
    {
     "name": "stdout",
     "output_type": "stream",
     "text": [
      "accurary1=0.75\n",
      "loss=tensor(1.1513, device='cuda:0', grad_fn=<NllLossBackward0>)\n",
      "Epoch 27/30\n"
     ]
    },
    {
     "name": "stderr",
     "output_type": "stream",
     "text": [
      "100%|██████████| 309/309 [00:00<00:00, 375.00it/s, loss=1.100]\n"
     ]
    },
    {
     "name": "stdout",
     "output_type": "stream",
     "text": [
      "accurary1=0.6875\n",
      "loss=tensor(1.2077, device='cuda:0', grad_fn=<NllLossBackward0>)\n",
      "Epoch 28/30\n"
     ]
    },
    {
     "name": "stderr",
     "output_type": "stream",
     "text": [
      "100%|██████████| 309/309 [00:00<00:00, 384.47it/s, loss=1.091]\n"
     ]
    },
    {
     "name": "stdout",
     "output_type": "stream",
     "text": [
      "accurary1=0.625\n",
      "loss=tensor(1.2780, device='cuda:0', grad_fn=<NllLossBackward0>)\n",
      "Epoch 29/30\n"
     ]
    },
    {
     "name": "stderr",
     "output_type": "stream",
     "text": [
      "100%|██████████| 309/309 [00:00<00:00, 404.56it/s, loss=1.088]\n"
     ]
    },
    {
     "name": "stdout",
     "output_type": "stream",
     "text": [
      "accurary1=0.6875\n",
      "loss=tensor(1.2173, device='cuda:0', grad_fn=<NllLossBackward0>)\n",
      "Epoch 30/30\n"
     ]
    },
    {
     "name": "stderr",
     "output_type": "stream",
     "text": [
      "100%|██████████| 309/309 [00:00<00:00, 395.14it/s, loss=1.085]\n"
     ]
    },
    {
     "name": "stdout",
     "output_type": "stream",
     "text": [
      "accurary1=0.625\n",
      "loss=tensor(1.2459, device='cuda:0', grad_fn=<NllLossBackward0>)\n"
     ]
    }
   ],
   "source": [
    "# manually change vocab size (unique no. of words) and change label size (unique no. of labels) for now\n",
    "model = Net(embedding_weights, 300, 100, no_of_labels).to(device)\n",
    "optimizer = optim.Adam(model.parameters(), lr=0.001)\n",
    "\n",
    "# if (os.path.isfile(\"model_weights.pth\")):\n",
    "#     model.load_state_dict(torch.load('model_weights.pth'))\n",
    "# else:\n",
    "#     train_and_evaluate(model, X_train_tokenized_indexified , y_train_formatted , X_val_tokenized_indexified  , y_val_formatted , 10, 5, optimizer, loss_fn, metrics)\n",
    "#     torch.save(model.state_dict(), 'model_weights.pth')\n",
    "\n",
    "train_and_evaluate(model, X_train_tokenized_indexified , y_train_formatted , X_val_tokenized_indexified  , y_val_formatted , 30, 16, optimizer, loss_fn, metrics)"
   ]
  },
  {
   "cell_type": "code",
   "execution_count": 16,
   "id": "9be8268f",
   "metadata": {},
   "outputs": [],
   "source": [
    "'''Test batch- tensor of n_sentences x max_len_sentence\n",
    "   Labels_batch- tensor of n_sentences x max_len_sentence\n",
    "   Test sentences- list of n_sentences x sentence_length(no padding)'''\n",
    "# print(len(X_test_tokenized_indexified))\n",
    "test_data_iterator = data_iterator(X_test_tokenized_indexified , y_test_formatted , len(X_test_tokenized_indexified), len(X_test_tokenized_indexified), shuffle=True)\n",
    "test_batch, labels_batch, test_sentences = next(test_data_iterator)"
   ]
  },
  {
   "cell_type": "code",
   "execution_count": 17,
   "metadata": {},
   "outputs": [
    {
     "name": "stdout",
     "output_type": "stream",
     "text": [
      "tensor([[4.0711e-04, 1.4476e-06, 1.4991e-04, 1.3734e-06, 9.9944e-01],\n",
      "        [8.2074e-06, 3.0509e-07, 3.7224e-05, 9.9994e-01, 1.4843e-05],\n",
      "        [9.9997e-01, 6.0286e-09, 2.0020e-05, 1.0862e-06, 8.4625e-06],\n",
      "        ...,\n",
      "        [1.3370e-06, 1.7861e-08, 1.7571e-06, 3.6363e-09, 1.0000e+00],\n",
      "        [3.8105e-08, 8.3514e-10, 1.0137e-07, 9.2776e-11, 1.0000e+00],\n",
      "        [1.2078e-05, 7.1291e-08, 9.8623e-06, 3.2747e-08, 9.9998e-01]],\n",
      "       device='cuda:0', grad_fn=<SoftmaxBackward0>)\n",
      "torch.Size([500, 5])\n",
      "[4 3 0 4 4 4 4 4 3 2 4 3 0 3 2 4 3 0 4 4 3 2 2 4 4 2 4 4 4 4 4 2 4 3 0 4 4\n",
      " 4 4 4 2 3 4 4 4 2 4 4 0 2 3 4 3 2 4 3 2 4 4 4 3 3 2 2 4 4 4 3 4 4 4 4 3 3\n",
      " 4 4 3 4 3 2 2 4 2 4 4 4 4 2 4 4 4 2 4 0 4 2 4 2 4 4 2 3 4 4 4 4 4 4 3 4 2\n",
      " 4 3 2 2 4 4 2 4 2 4 4 4 0 4 0 4 2 4 4 3 4 4 4 4 2 3 4 2 4 4 4 3 4 4 4 4 4\n",
      " 0 2 4 3 2 2 3 4 4 4 4 4 3 3 0 4 4 0 4 4 2 2 0 3 2 2 4 4 4 2 3 4 2 0 4 4 3\n",
      " 3 4 4 4 3 4 4 4 0 4 2 4 4 0 4 2 3 4 2 0 4 4 2 4 3 4 3 4 4 4 3 4 4 2 2 4 3\n",
      " 4 4 0 2 2 4 4 3 0 4 3 3 0 3 0 3 4 4 4 2 3 0 0 3 0 4 0 4 4 2 0 4 3 4 0 4 2\n",
      " 2 4 3 4 4 2 2 3 4 2 4 2 4 4 4 4 4 4 4 4 4 4 2 2 4 4 4 2 3 4 3 4 2 4 3 3 2\n",
      " 4 4 4 3 4 3 2 2 3 2 3 4 4 4 3 4 4 0 3 3 4 4 3 4 4 2 4 3 4 2 3 2 4 4 4 4 4\n",
      " 4 4 4 4 4 4 4 3 0 4 4 3 4 3 4 0 4 4 4 2 0 4 4 4 4 4 4 4 0 4 4 4 4 2 0 2 4\n",
      " 4 3 4 0 3 4 4 0 2 4 4 4 4 4 3 2 3 4 4 3 4 3 4 4 4 4 0 4 3 4 4 2 4 2 4 0 3\n",
      " 4 4 3 4 0 4 4 3 2 2 3 4 3 0 4 3 4 4 4 4 4 4 3 4 2 4 4 3 2 2 4 3 0 4 2 4 2\n",
      " 4 4 0 4 4 4 2 3 4 4 4 0 4 4 0 4 3 4 3 4 4 4 2 2 4 2 3 2 2 2 2 4 0 4 4 3 4\n",
      " 4 0 3 0 4 4 4 4 0 4 4 4 2 4 4 4 4 4 4]\n",
      "(500,)\n",
      "tensor([2, 2, 4, 1, 4, 4, 2, 4, 2, 1, 2, 4, 4, 1, 2, 4, 4, 4, 1, 1, 4, 4, 4, 4,\n",
      "        4, 2, 2, 2, 2, 2, 1, 4, 4, 2, 1, 2, 2, 1, 2, 1, 4, 4, 1, 2, 2, 4, 4, 2,\n",
      "        4, 4, 4, 2, 2, 2, 4, 2, 2, 4, 2, 2, 2, 2, 2, 4, 2, 4, 4, 2, 4, 2, 2, 2,\n",
      "        4, 4, 0, 1, 1, 2, 2, 2, 1, 4, 2, 1, 4, 1, 2, 2, 2, 4, 2, 4, 2, 2, 4, 0,\n",
      "        2, 1, 2, 1, 2, 2, 2, 1, 2, 4, 1, 2, 4, 2, 4, 4, 4, 2, 2, 2, 2, 2, 2, 4,\n",
      "        4, 2, 2, 1, 2, 4, 2, 1, 2, 1, 4, 2, 4, 1, 2, 4, 2, 4, 4, 2, 1, 2, 4, 2,\n",
      "        1, 4, 2, 2, 4, 2, 4, 4, 4, 2, 4, 1, 2, 2, 4, 4, 4, 2, 1, 2, 2, 2, 4, 2,\n",
      "        2, 2, 2, 2, 1, 4, 2, 2, 4, 2, 2, 1, 0, 2, 1, 2, 2, 4, 4, 2, 4, 2, 4, 4,\n",
      "        2, 4, 2, 4, 1, 4, 4, 2, 2, 2, 2, 1, 1, 2, 2, 4, 4, 4, 2, 2, 4, 2, 2, 0,\n",
      "        2, 2, 4, 1, 4, 4, 1, 2, 4, 4, 4, 2, 2, 4, 4, 2, 4, 1, 4, 2, 1, 2, 2, 4,\n",
      "        4, 2, 4, 2, 4, 4, 1, 4, 2, 4, 1, 1, 2, 2, 4, 4, 2, 2, 4, 4, 0, 2, 0, 2,\n",
      "        0, 4, 4, 4, 4, 2, 4, 1, 2, 4, 4, 2, 4, 2, 4, 1, 1, 4, 0, 2, 4, 1, 4, 2,\n",
      "        4, 2, 2, 4, 2, 2, 1, 4, 1, 1, 2, 4, 2, 2, 2, 2, 4, 2, 2, 2, 2, 4, 4, 2,\n",
      "        4, 2, 1, 2, 2, 1, 4, 4, 4, 4, 4, 4, 2, 1, 4, 4, 4, 4, 2, 4, 2, 2, 4, 2,\n",
      "        2, 2, 4, 1, 4, 4, 1, 2, 4, 2, 4, 4, 2, 4, 1, 4, 2, 0, 2, 4, 2, 4, 4, 1,\n",
      "        2, 2, 2, 4, 1, 2, 4, 2, 1, 4, 1, 4, 2, 2, 1, 2, 0, 4, 2, 2, 4, 4, 2, 4,\n",
      "        1, 1, 2, 4, 2, 4, 1, 4, 2, 0, 2, 1, 2, 1, 4, 4, 2, 4, 2, 2, 2, 4, 4, 2,\n",
      "        2, 2, 4, 4, 2, 4, 2, 2, 4, 1, 4, 1, 1, 4, 2, 4, 4, 4, 4, 1, 4, 2, 2, 2,\n",
      "        4, 4, 1, 4, 4, 2, 4, 1, 2, 2, 4, 2, 4, 4, 4, 1, 2, 2, 2, 1, 2, 2, 2, 4,\n",
      "        4, 4, 4, 4, 1, 2, 2, 2, 1, 4, 2, 2, 2, 2, 1, 4, 2, 2, 4, 2, 2, 4, 2, 4,\n",
      "        2, 2, 2, 1, 4, 4, 2, 4, 4, 2, 2, 2, 2, 2, 4, 2, 2, 4, 2, 2])\n",
      "torch.Size([500])\n"
     ]
    },
    {
     "data": {
      "text/plain": [
       "0.264"
      ]
     },
     "execution_count": 17,
     "metadata": {},
     "output_type": "execute_result"
    }
   ],
   "source": [
    "print(model(test_batch.to(device)))\n",
    "print(model(test_batch.to(device)).shape)\n",
    "print(np.argmax(model(test_batch.to(device)).cpu().detach().numpy(), axis=1))\n",
    "print(np.argmax(model(test_batch.to(device)).cpu().detach().numpy(), axis=1).shape)\n",
    "print(labels_batch)\n",
    "print(labels_batch.shape)\n",
    "accuracy(model(test_batch.to(device)), labels_batch.to(device))"
   ]
  },
  {
   "cell_type": "code",
   "execution_count": 18,
   "id": "d330282b",
   "metadata": {},
   "outputs": [
    {
     "name": "stdout",
     "output_type": "stream",
     "text": [
      "type test: <class 'torch.Tensor'>\n",
      "len test: 500\n",
      "type label: <class 'torch.Tensor'>\n",
      "len label: 500\n"
     ]
    }
   ],
   "source": [
    "print(f\"type test: {type(test_batch)}\")\n",
    "print(f\"len test: {len(test_batch)}\")\n",
    "print(f\"type label: {type(labels_batch)}\")\n",
    "print(f\"len label: {len(labels_batch)}\")"
   ]
  },
  {
   "cell_type": "code",
   "execution_count": 19,
   "id": "d4353673",
   "metadata": {},
   "outputs": [
    {
     "ename": "RuntimeError",
     "evalue": "Expected all tensors to be on the same device, but found at least two devices, cuda:0 and cpu! (when checking argument for argument index in method wrapper_CUDA__index_select)",
     "output_type": "error",
     "traceback": [
      "\u001b[1;31m---------------------------------------------------------------------------\u001b[0m",
      "\u001b[1;31mRuntimeError\u001b[0m                              Traceback (most recent call last)",
      "\u001b[1;32md:\\Admin\\Learning\\UniProgrammingProjects\\SC4002_NLP\\Q2_model_average.ipynb Cell 21\u001b[0m line \u001b[0;36m1\n\u001b[1;32m----> <a href='vscode-notebook-cell:/d%3A/Admin/Learning/UniProgrammingProjects/SC4002_NLP/Q2_model_average.ipynb#X25sZmlsZQ%3D%3D?line=0'>1</a>\u001b[0m model_output \u001b[39m=\u001b[39m model(test_batch)\n",
      "File \u001b[1;32mc:\\Users\\John\\envs\\cz4045_group_assignment\\Lib\\site-packages\\torch\\nn\\modules\\module.py:1518\u001b[0m, in \u001b[0;36mModule._wrapped_call_impl\u001b[1;34m(self, *args, **kwargs)\u001b[0m\n\u001b[0;32m   1516\u001b[0m     \u001b[39mreturn\u001b[39;00m \u001b[39mself\u001b[39m\u001b[39m.\u001b[39m_compiled_call_impl(\u001b[39m*\u001b[39margs, \u001b[39m*\u001b[39m\u001b[39m*\u001b[39mkwargs)  \u001b[39m# type: ignore[misc]\u001b[39;00m\n\u001b[0;32m   1517\u001b[0m \u001b[39melse\u001b[39;00m:\n\u001b[1;32m-> 1518\u001b[0m     \u001b[39mreturn\u001b[39;00m \u001b[39mself\u001b[39;49m\u001b[39m.\u001b[39;49m_call_impl(\u001b[39m*\u001b[39;49margs, \u001b[39m*\u001b[39;49m\u001b[39m*\u001b[39;49mkwargs)\n",
      "File \u001b[1;32mc:\\Users\\John\\envs\\cz4045_group_assignment\\Lib\\site-packages\\torch\\nn\\modules\\module.py:1527\u001b[0m, in \u001b[0;36mModule._call_impl\u001b[1;34m(self, *args, **kwargs)\u001b[0m\n\u001b[0;32m   1522\u001b[0m \u001b[39m# If we don't have any hooks, we want to skip the rest of the logic in\u001b[39;00m\n\u001b[0;32m   1523\u001b[0m \u001b[39m# this function, and just call forward.\u001b[39;00m\n\u001b[0;32m   1524\u001b[0m \u001b[39mif\u001b[39;00m \u001b[39mnot\u001b[39;00m (\u001b[39mself\u001b[39m\u001b[39m.\u001b[39m_backward_hooks \u001b[39mor\u001b[39;00m \u001b[39mself\u001b[39m\u001b[39m.\u001b[39m_backward_pre_hooks \u001b[39mor\u001b[39;00m \u001b[39mself\u001b[39m\u001b[39m.\u001b[39m_forward_hooks \u001b[39mor\u001b[39;00m \u001b[39mself\u001b[39m\u001b[39m.\u001b[39m_forward_pre_hooks\n\u001b[0;32m   1525\u001b[0m         \u001b[39mor\u001b[39;00m _global_backward_pre_hooks \u001b[39mor\u001b[39;00m _global_backward_hooks\n\u001b[0;32m   1526\u001b[0m         \u001b[39mor\u001b[39;00m _global_forward_hooks \u001b[39mor\u001b[39;00m _global_forward_pre_hooks):\n\u001b[1;32m-> 1527\u001b[0m     \u001b[39mreturn\u001b[39;00m forward_call(\u001b[39m*\u001b[39;49margs, \u001b[39m*\u001b[39;49m\u001b[39m*\u001b[39;49mkwargs)\n\u001b[0;32m   1529\u001b[0m \u001b[39mtry\u001b[39;00m:\n\u001b[0;32m   1530\u001b[0m     result \u001b[39m=\u001b[39m \u001b[39mNone\u001b[39;00m\n",
      "\u001b[1;32md:\\Admin\\Learning\\UniProgrammingProjects\\SC4002_NLP\\Q2_model_average.ipynb Cell 21\u001b[0m line \u001b[0;36m5\n\u001b[0;32m     <a href='vscode-notebook-cell:/d%3A/Admin/Learning/UniProgrammingProjects/SC4002_NLP/Q2_model_average.ipynb#X25sZmlsZQ%3D%3D?line=40'>41</a>\u001b[0m \u001b[39m\u001b[39m\u001b[39m\"\"\"\u001b[39;00m\n\u001b[0;32m     <a href='vscode-notebook-cell:/d%3A/Admin/Learning/UniProgrammingProjects/SC4002_NLP/Q2_model_average.ipynb#X25sZmlsZQ%3D%3D?line=41'>42</a>\u001b[0m \u001b[39mThis function defines how we use the components of our network to operate on an input batch.\u001b[39;00m\n\u001b[0;32m     <a href='vscode-notebook-cell:/d%3A/Admin/Learning/UniProgrammingProjects/SC4002_NLP/Q2_model_average.ipynb#X25sZmlsZQ%3D%3D?line=42'>43</a>\u001b[0m \n\u001b[1;32m   (...)\u001b[0m\n\u001b[0;32m     <a href='vscode-notebook-cell:/d%3A/Admin/Learning/UniProgrammingProjects/SC4002_NLP/Q2_model_average.ipynb#X25sZmlsZQ%3D%3D?line=53'>54</a>\u001b[0m \u001b[39mNote: the dimensions after each step are provided\u001b[39;00m\n\u001b[0;32m     <a href='vscode-notebook-cell:/d%3A/Admin/Learning/UniProgrammingProjects/SC4002_NLP/Q2_model_average.ipynb#X25sZmlsZQ%3D%3D?line=54'>55</a>\u001b[0m \u001b[39m\"\"\"\u001b[39;00m\n\u001b[0;32m     <a href='vscode-notebook-cell:/d%3A/Admin/Learning/UniProgrammingProjects/SC4002_NLP/Q2_model_average.ipynb#X25sZmlsZQ%3D%3D?line=55'>56</a>\u001b[0m \u001b[39m#                                -> batch_size x seq_len\u001b[39;00m\n\u001b[0;32m     <a href='vscode-notebook-cell:/d%3A/Admin/Learning/UniProgrammingProjects/SC4002_NLP/Q2_model_average.ipynb#X25sZmlsZQ%3D%3D?line=56'>57</a>\u001b[0m \u001b[39m# apply the embedding layer that maps each token to its embedding\u001b[39;00m\n\u001b[0;32m     <a href='vscode-notebook-cell:/d%3A/Admin/Learning/UniProgrammingProjects/SC4002_NLP/Q2_model_average.ipynb#X25sZmlsZQ%3D%3D?line=57'>58</a>\u001b[0m \u001b[39m# dim: batch_size x seq_len x embedding_dim\u001b[39;00m\n\u001b[1;32m---> <a href='vscode-notebook-cell:/d%3A/Admin/Learning/UniProgrammingProjects/SC4002_NLP/Q2_model_average.ipynb#X25sZmlsZQ%3D%3D?line=58'>59</a>\u001b[0m s \u001b[39m=\u001b[39m \u001b[39mself\u001b[39;49m\u001b[39m.\u001b[39;49membedding(s)\n\u001b[0;32m     <a href='vscode-notebook-cell:/d%3A/Admin/Learning/UniProgrammingProjects/SC4002_NLP/Q2_model_average.ipynb#X25sZmlsZQ%3D%3D?line=60'>61</a>\u001b[0m \u001b[39m# run the LSTM along the sentences of length seq_len\u001b[39;00m\n\u001b[0;32m     <a href='vscode-notebook-cell:/d%3A/Admin/Learning/UniProgrammingProjects/SC4002_NLP/Q2_model_average.ipynb#X25sZmlsZQ%3D%3D?line=61'>62</a>\u001b[0m \u001b[39m# dim: batch_size x seq_len x lstm_hidden_dim\u001b[39;00m\n\u001b[0;32m     <a href='vscode-notebook-cell:/d%3A/Admin/Learning/UniProgrammingProjects/SC4002_NLP/Q2_model_average.ipynb#X25sZmlsZQ%3D%3D?line=62'>63</a>\u001b[0m s, _ \u001b[39m=\u001b[39m \u001b[39mself\u001b[39m\u001b[39m.\u001b[39mlstm(s)\n",
      "File \u001b[1;32mc:\\Users\\John\\envs\\cz4045_group_assignment\\Lib\\site-packages\\torch\\nn\\modules\\module.py:1518\u001b[0m, in \u001b[0;36mModule._wrapped_call_impl\u001b[1;34m(self, *args, **kwargs)\u001b[0m\n\u001b[0;32m   1516\u001b[0m     \u001b[39mreturn\u001b[39;00m \u001b[39mself\u001b[39m\u001b[39m.\u001b[39m_compiled_call_impl(\u001b[39m*\u001b[39margs, \u001b[39m*\u001b[39m\u001b[39m*\u001b[39mkwargs)  \u001b[39m# type: ignore[misc]\u001b[39;00m\n\u001b[0;32m   1517\u001b[0m \u001b[39melse\u001b[39;00m:\n\u001b[1;32m-> 1518\u001b[0m     \u001b[39mreturn\u001b[39;00m \u001b[39mself\u001b[39;49m\u001b[39m.\u001b[39;49m_call_impl(\u001b[39m*\u001b[39;49margs, \u001b[39m*\u001b[39;49m\u001b[39m*\u001b[39;49mkwargs)\n",
      "File \u001b[1;32mc:\\Users\\John\\envs\\cz4045_group_assignment\\Lib\\site-packages\\torch\\nn\\modules\\module.py:1527\u001b[0m, in \u001b[0;36mModule._call_impl\u001b[1;34m(self, *args, **kwargs)\u001b[0m\n\u001b[0;32m   1522\u001b[0m \u001b[39m# If we don't have any hooks, we want to skip the rest of the logic in\u001b[39;00m\n\u001b[0;32m   1523\u001b[0m \u001b[39m# this function, and just call forward.\u001b[39;00m\n\u001b[0;32m   1524\u001b[0m \u001b[39mif\u001b[39;00m \u001b[39mnot\u001b[39;00m (\u001b[39mself\u001b[39m\u001b[39m.\u001b[39m_backward_hooks \u001b[39mor\u001b[39;00m \u001b[39mself\u001b[39m\u001b[39m.\u001b[39m_backward_pre_hooks \u001b[39mor\u001b[39;00m \u001b[39mself\u001b[39m\u001b[39m.\u001b[39m_forward_hooks \u001b[39mor\u001b[39;00m \u001b[39mself\u001b[39m\u001b[39m.\u001b[39m_forward_pre_hooks\n\u001b[0;32m   1525\u001b[0m         \u001b[39mor\u001b[39;00m _global_backward_pre_hooks \u001b[39mor\u001b[39;00m _global_backward_hooks\n\u001b[0;32m   1526\u001b[0m         \u001b[39mor\u001b[39;00m _global_forward_hooks \u001b[39mor\u001b[39;00m _global_forward_pre_hooks):\n\u001b[1;32m-> 1527\u001b[0m     \u001b[39mreturn\u001b[39;00m forward_call(\u001b[39m*\u001b[39;49margs, \u001b[39m*\u001b[39;49m\u001b[39m*\u001b[39;49mkwargs)\n\u001b[0;32m   1529\u001b[0m \u001b[39mtry\u001b[39;00m:\n\u001b[0;32m   1530\u001b[0m     result \u001b[39m=\u001b[39m \u001b[39mNone\u001b[39;00m\n",
      "File \u001b[1;32mc:\\Users\\John\\envs\\cz4045_group_assignment\\Lib\\site-packages\\torch\\nn\\modules\\sparse.py:162\u001b[0m, in \u001b[0;36mEmbedding.forward\u001b[1;34m(self, input)\u001b[0m\n\u001b[0;32m    161\u001b[0m \u001b[39mdef\u001b[39;00m \u001b[39mforward\u001b[39m(\u001b[39mself\u001b[39m, \u001b[39minput\u001b[39m: Tensor) \u001b[39m-\u001b[39m\u001b[39m>\u001b[39m Tensor:\n\u001b[1;32m--> 162\u001b[0m     \u001b[39mreturn\u001b[39;00m F\u001b[39m.\u001b[39;49membedding(\n\u001b[0;32m    163\u001b[0m         \u001b[39minput\u001b[39;49m, \u001b[39mself\u001b[39;49m\u001b[39m.\u001b[39;49mweight, \u001b[39mself\u001b[39;49m\u001b[39m.\u001b[39;49mpadding_idx, \u001b[39mself\u001b[39;49m\u001b[39m.\u001b[39;49mmax_norm,\n\u001b[0;32m    164\u001b[0m         \u001b[39mself\u001b[39;49m\u001b[39m.\u001b[39;49mnorm_type, \u001b[39mself\u001b[39;49m\u001b[39m.\u001b[39;49mscale_grad_by_freq, \u001b[39mself\u001b[39;49m\u001b[39m.\u001b[39;49msparse)\n",
      "File \u001b[1;32mc:\\Users\\John\\envs\\cz4045_group_assignment\\Lib\\site-packages\\torch\\nn\\functional.py:2233\u001b[0m, in \u001b[0;36membedding\u001b[1;34m(input, weight, padding_idx, max_norm, norm_type, scale_grad_by_freq, sparse)\u001b[0m\n\u001b[0;32m   2227\u001b[0m     \u001b[39m# Note [embedding_renorm set_grad_enabled]\u001b[39;00m\n\u001b[0;32m   2228\u001b[0m     \u001b[39m# XXX: equivalent to\u001b[39;00m\n\u001b[0;32m   2229\u001b[0m     \u001b[39m# with torch.no_grad():\u001b[39;00m\n\u001b[0;32m   2230\u001b[0m     \u001b[39m#   torch.embedding_renorm_\u001b[39;00m\n\u001b[0;32m   2231\u001b[0m     \u001b[39m# remove once script supports set_grad_enabled\u001b[39;00m\n\u001b[0;32m   2232\u001b[0m     _no_grad_embedding_renorm_(weight, \u001b[39minput\u001b[39m, max_norm, norm_type)\n\u001b[1;32m-> 2233\u001b[0m \u001b[39mreturn\u001b[39;00m torch\u001b[39m.\u001b[39;49membedding(weight, \u001b[39minput\u001b[39;49m, padding_idx, scale_grad_by_freq, sparse)\n",
      "\u001b[1;31mRuntimeError\u001b[0m: Expected all tensors to be on the same device, but found at least two devices, cuda:0 and cpu! (when checking argument for argument index in method wrapper_CUDA__index_select)"
     ]
    }
   ],
   "source": [
    "model_output = model(test_batch)"
   ]
  },
  {
   "cell_type": "code",
   "execution_count": null,
   "id": "17243532",
   "metadata": {},
   "outputs": [],
   "source": [
    "model_output_numpy = model_output.detach().numpy()\n",
    "labels_batch_numpy = labels_batch.detach().numpy()"
   ]
  },
  {
   "cell_type": "code",
   "execution_count": null,
   "id": "f7c3f0d6",
   "metadata": {},
   "outputs": [],
   "source": [
    "f1_score_seqeval = calculate_multiclass_f1_score(model_output_numpy, labels_batch_numpy)\n",
    "f1_score_macro = calculate_multiclass_f1_score2(model_output_numpy, labels_batch_numpy)\n",
    "f1_score_micro = calculate_multiclass_f1_score3(model_output_numpy, labels_batch_numpy)"
   ]
  },
  {
   "cell_type": "code",
   "execution_count": null,
   "id": "8ff483ab",
   "metadata": {},
   "outputs": [],
   "source": [
    "print(f\"f1_score_seqeval: {f1_score_seqeval}\")\n",
    "print(f\"f1_score_macro: {f1_score_macro}\")\n",
    "print(f\"f1_score_micro: {f1_score_micro}\")"
   ]
  },
  {
   "cell_type": "code",
   "execution_count": null,
   "id": "d5f91d12",
   "metadata": {},
   "outputs": [],
   "source": [
    "model_class_report = classification_report_gen(model_output_numpy, labels_batch_numpy)\n",
    "print(f\"model_class_report: \\n{model_class_report}\")"
   ]
  },
  {
   "cell_type": "code",
   "execution_count": null,
   "id": "5bfd54c2",
   "metadata": {},
   "outputs": [],
   "source": []
  },
  {
   "cell_type": "code",
   "execution_count": null,
   "id": "ff42671f",
   "metadata": {},
   "outputs": [],
   "source": [
    "predicted_labels = np.argmax(model_output.detach().numpy(), axis=1)\n",
    "print(f\"sentences_w_words \\n {len(test_sentences)}\")\n",
    "print(f\"predicted_labels \\n {len(predicted_labels)}\")"
   ]
  },
  {
   "cell_type": "code",
   "execution_count": null,
   "id": "3740d523",
   "metadata": {},
   "outputs": [],
   "source": [
    "sample_output = model(test_batch[10].unsqueeze(0))\n",
    "id_to_words(test_sentences[10])"
   ]
  },
  {
   "cell_type": "code",
   "execution_count": null,
   "id": "22872d24",
   "metadata": {},
   "outputs": [],
   "source": [
    "sample_mask = (labels_batch[10] >= 0)\n",
    "sample_label_predict = np.argmax(sample_output.detach().numpy(), axis=1)[sample_mask]\n",
    "sample_label_true = labels_batch[10][sample_mask]"
   ]
  },
  {
   "cell_type": "code",
   "execution_count": null,
   "id": "8200bfe3",
   "metadata": {},
   "outputs": [],
   "source": [
    "print(f\"sample_label_predict: {sample_label_predict}\")\n",
    "print(f\"sample_label_true: {sample_label_true.numpy()}\")"
   ]
  },
  {
   "cell_type": "code",
   "execution_count": null,
   "id": "958b1b4c",
   "metadata": {},
   "outputs": [],
   "source": []
  }
 ],
 "metadata": {
  "kernelspec": {
   "display_name": "Python 3",
   "language": "python",
   "name": "python3"
  },
  "language_info": {
   "codemirror_mode": {
    "name": "ipython",
    "version": 3
   },
   "file_extension": ".py",
   "mimetype": "text/x-python",
   "name": "python",
   "nbconvert_exporter": "python",
   "pygments_lexer": "ipython3",
   "version": "3.11.4"
  }
 },
 "nbformat": 4,
 "nbformat_minor": 5
}
